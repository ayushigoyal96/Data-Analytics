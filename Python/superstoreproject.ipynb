{
 "cells": [
  {
   "cell_type": "code",
   "execution_count": 1,
   "id": "802ab18e",
   "metadata": {},
   "outputs": [],
   "source": [
    "import numpy as np\n",
    "import matplotlib.pyplot as plt\n",
    "import pandas as pd"
   ]
  },
  {
   "cell_type": "code",
   "execution_count": 20,
   "id": "d9a1536b",
   "metadata": {},
   "outputs": [
    {
     "data": {
      "text/html": [
       "<div>\n",
       "<style scoped>\n",
       "    .dataframe tbody tr th:only-of-type {\n",
       "        vertical-align: middle;\n",
       "    }\n",
       "\n",
       "    .dataframe tbody tr th {\n",
       "        vertical-align: top;\n",
       "    }\n",
       "\n",
       "    .dataframe thead th {\n",
       "        text-align: right;\n",
       "    }\n",
       "</style>\n",
       "<table border=\"1\" class=\"dataframe\">\n",
       "  <thead>\n",
       "    <tr style=\"text-align: right;\">\n",
       "      <th></th>\n",
       "      <th>Row ID</th>\n",
       "      <th>Order ID</th>\n",
       "      <th>Order Date</th>\n",
       "      <th>Ship Date</th>\n",
       "      <th>Ship Mode</th>\n",
       "      <th>Customer ID</th>\n",
       "      <th>Customer Name</th>\n",
       "      <th>Segment</th>\n",
       "      <th>Country</th>\n",
       "      <th>City</th>\n",
       "      <th>...</th>\n",
       "      <th>Postal Code</th>\n",
       "      <th>Region</th>\n",
       "      <th>Product ID</th>\n",
       "      <th>Category</th>\n",
       "      <th>Sub-Category</th>\n",
       "      <th>Product Name</th>\n",
       "      <th>Sales</th>\n",
       "      <th>Quantity</th>\n",
       "      <th>Discount</th>\n",
       "      <th>Profit</th>\n",
       "    </tr>\n",
       "  </thead>\n",
       "  <tbody>\n",
       "    <tr>\n",
       "      <th>0</th>\n",
       "      <td>114</td>\n",
       "      <td>CA-2015-115259</td>\n",
       "      <td>42241</td>\n",
       "      <td>42243</td>\n",
       "      <td>Second Class</td>\n",
       "      <td>RC-19960</td>\n",
       "      <td>Ryan Crowe</td>\n",
       "      <td>Consumer</td>\n",
       "      <td>United States</td>\n",
       "      <td>Columbus</td>\n",
       "      <td>...</td>\n",
       "      <td>43229.0</td>\n",
       "      <td>East</td>\n",
       "      <td>OFF-FA-10000621</td>\n",
       "      <td>Office Supplies</td>\n",
       "      <td>Fasteners</td>\n",
       "      <td>OIC Colored Binder Clips, Assorted Sizes</td>\n",
       "      <td>40.096</td>\n",
       "      <td>14</td>\n",
       "      <td>0.2</td>\n",
       "      <td>14.5348</td>\n",
       "    </tr>\n",
       "    <tr>\n",
       "      <th>1</th>\n",
       "      <td>140</td>\n",
       "      <td>CA-2017-145583</td>\n",
       "      <td>43021</td>\n",
       "      <td>43027</td>\n",
       "      <td>Standard Class</td>\n",
       "      <td>LC-16885</td>\n",
       "      <td>Lena Creighton</td>\n",
       "      <td>Consumer</td>\n",
       "      <td>United States</td>\n",
       "      <td>Roseville</td>\n",
       "      <td>...</td>\n",
       "      <td>95661.0</td>\n",
       "      <td>West</td>\n",
       "      <td>FUR-FU-10001706</td>\n",
       "      <td>Furniture</td>\n",
       "      <td>Furnishings</td>\n",
       "      <td>Longer-Life Soft White Bulbs</td>\n",
       "      <td>43.120</td>\n",
       "      <td>14</td>\n",
       "      <td>0.0</td>\n",
       "      <td>20.6976</td>\n",
       "    </tr>\n",
       "    <tr>\n",
       "      <th>2</th>\n",
       "      <td>576</td>\n",
       "      <td>CA-2016-149713</td>\n",
       "      <td>42631</td>\n",
       "      <td>42635</td>\n",
       "      <td>Second Class</td>\n",
       "      <td>TG-21640</td>\n",
       "      <td>Trudy Glocke</td>\n",
       "      <td>Consumer</td>\n",
       "      <td>United States</td>\n",
       "      <td>Long Beach</td>\n",
       "      <td>...</td>\n",
       "      <td>90805.0</td>\n",
       "      <td>West</td>\n",
       "      <td>OFF-PA-10004530</td>\n",
       "      <td>Office Supplies</td>\n",
       "      <td>Paper</td>\n",
       "      <td>Personal Creations Ink Jet Cards and Labels</td>\n",
       "      <td>160.720</td>\n",
       "      <td>14</td>\n",
       "      <td>0.0</td>\n",
       "      <td>78.7528</td>\n",
       "    </tr>\n",
       "    <tr>\n",
       "      <th>3</th>\n",
       "      <td>661</td>\n",
       "      <td>CA-2016-146563</td>\n",
       "      <td>42606</td>\n",
       "      <td>42610</td>\n",
       "      <td>Standard Class</td>\n",
       "      <td>CB-12025</td>\n",
       "      <td>Cassandra Brandow</td>\n",
       "      <td>Consumer</td>\n",
       "      <td>United States</td>\n",
       "      <td>Arlington</td>\n",
       "      <td>...</td>\n",
       "      <td>76017.0</td>\n",
       "      <td>Central</td>\n",
       "      <td>OFF-ST-10001511</td>\n",
       "      <td>Office Supplies</td>\n",
       "      <td>Storage</td>\n",
       "      <td>Space Solutions Commercial Steel Shelving</td>\n",
       "      <td>724.080</td>\n",
       "      <td>14</td>\n",
       "      <td>0.2</td>\n",
       "      <td>-135.7650</td>\n",
       "    </tr>\n",
       "    <tr>\n",
       "      <th>4</th>\n",
       "      <td>1046</td>\n",
       "      <td>CA-2018-152702</td>\n",
       "      <td>43385</td>\n",
       "      <td>43389</td>\n",
       "      <td>Standard Class</td>\n",
       "      <td>SN-20710</td>\n",
       "      <td>Steve Nguyen</td>\n",
       "      <td>Home Office</td>\n",
       "      <td>United States</td>\n",
       "      <td>Rockford</td>\n",
       "      <td>...</td>\n",
       "      <td>61107.0</td>\n",
       "      <td>Central</td>\n",
       "      <td>FUR-CH-10002304</td>\n",
       "      <td>Furniture</td>\n",
       "      <td>Chairs</td>\n",
       "      <td>Global Stack Chair without Arms, Black</td>\n",
       "      <td>254.604</td>\n",
       "      <td>14</td>\n",
       "      <td>0.3</td>\n",
       "      <td>-18.1860</td>\n",
       "    </tr>\n",
       "  </tbody>\n",
       "</table>\n",
       "<p>5 rows × 21 columns</p>\n",
       "</div>"
      ],
      "text/plain": [
       "   Row ID        Order ID  Order Date  Ship Date       Ship Mode Customer ID  \\\n",
       "0     114  CA-2015-115259       42241      42243    Second Class    RC-19960   \n",
       "1     140  CA-2017-145583       43021      43027  Standard Class    LC-16885   \n",
       "2     576  CA-2016-149713       42631      42635    Second Class    TG-21640   \n",
       "3     661  CA-2016-146563       42606      42610  Standard Class    CB-12025   \n",
       "4    1046  CA-2018-152702       43385      43389  Standard Class    SN-20710   \n",
       "\n",
       "       Customer Name      Segment        Country        City  ... Postal Code  \\\n",
       "0         Ryan Crowe     Consumer  United States    Columbus  ...     43229.0   \n",
       "1     Lena Creighton     Consumer  United States   Roseville  ...     95661.0   \n",
       "2       Trudy Glocke     Consumer  United States  Long Beach  ...     90805.0   \n",
       "3  Cassandra Brandow     Consumer  United States   Arlington  ...     76017.0   \n",
       "4       Steve Nguyen  Home Office  United States    Rockford  ...     61107.0   \n",
       "\n",
       "    Region       Product ID         Category Sub-Category  \\\n",
       "0     East  OFF-FA-10000621  Office Supplies    Fasteners   \n",
       "1     West  FUR-FU-10001706        Furniture  Furnishings   \n",
       "2     West  OFF-PA-10004530  Office Supplies        Paper   \n",
       "3  Central  OFF-ST-10001511  Office Supplies      Storage   \n",
       "4  Central  FUR-CH-10002304        Furniture       Chairs   \n",
       "\n",
       "                                  Product Name    Sales  Quantity  Discount  \\\n",
       "0     OIC Colored Binder Clips, Assorted Sizes   40.096        14       0.2   \n",
       "1                 Longer-Life Soft White Bulbs   43.120        14       0.0   \n",
       "2  Personal Creations Ink Jet Cards and Labels  160.720        14       0.0   \n",
       "3    Space Solutions Commercial Steel Shelving  724.080        14       0.2   \n",
       "4       Global Stack Chair without Arms, Black  254.604        14       0.3   \n",
       "\n",
       "     Profit  \n",
       "0   14.5348  \n",
       "1   20.6976  \n",
       "2   78.7528  \n",
       "3 -135.7650  \n",
       "4  -18.1860  \n",
       "\n",
       "[5 rows x 21 columns]"
      ]
     },
     "execution_count": 20,
     "metadata": {},
     "output_type": "execute_result"
    }
   ],
   "source": [
    "df=pd.read_excel(\"C:/Users/Lenovo/Desktop/dataset/superstore.xlsx\")\n",
    "a=df.head()\n",
    "a"
   ]
  },
  {
   "cell_type": "code",
   "execution_count": 35,
   "id": "b1019ed2",
   "metadata": {},
   "outputs": [
    {
     "data": {
      "text/plain": [
       "<BarContainer object of 5 artists>"
      ]
     },
     "execution_count": 35,
     "metadata": {},
     "output_type": "execute_result"
    },
    {
     "data": {
      "image/png": "[encoded data removed]",
      "text/plain": [
       "<Figure size 432x288 with 1 Axes>"
      ]
     },
     "metadata": {
      "needs_background": "light"
     },
     "output_type": "display_data"
    }
   ],
   "source": [
    "#bar\n",
    "x=a[\"Sub-Category\"]\n",
    "y=a[\"Sales\"]\n",
    "colors=[\"orange\",\"yellow\",\"green\",\"black\",\"blue\"]\n",
    "plt.bar(x,y,color=colors)"
   ]
  },
  {
   "cell_type": "code",
   "execution_count": 40,
   "id": "8fc1c169",
   "metadata": {},
   "outputs": [
    {
     "data": {
      "image/png": "[encoded data removed]",
      "text/plain": [
       "<Figure size 432x288 with 1 Axes>"
      ]
     },
     "metadata": {
      "needs_background": "light"
     },
     "output_type": "display_data"
    }
   ],
   "source": [
    "#scatter\n",
    "x=a[\"Sales\"]\n",
    "y=a[\"Profit\"]\n",
    "colors=[\"orange\",\"yellow\",\"green\",\"black\",\"blue\"]\n",
    "plt.scatter(x,y,c=colors)\n",
    "plt.show()"
   ]
  },
  {
   "cell_type": "code",
   "execution_count": 39,
   "id": "3ebc6cf2",
   "metadata": {},
   "outputs": [
    {
     "data": {
      "image/png": "[encoded data removed]",
      "text/plain": [
       "<Figure size 432x288 with 1 Axes>"
      ]
     },
     "metadata": {},
     "output_type": "display_data"
    }
   ],
   "source": [
    "#pie\n",
    "x=a[\"Sales\"]\n",
    "l=a[\"Sub-Category\"]\n",
    "my=[0.2,0,0,0,0]\n",
    "plt.pie(x,labels=l,explode=my)\n",
    "plt.show()"
   ]
  },
  {
   "cell_type": "code",
   "execution_count": 45,
   "id": "de427ad5",
   "metadata": {},
   "outputs": [
    {
     "data": {
      "image/png": "[encoded data removed]",
      "text/plain": [
       "<Figure size 432x288 with 1 Axes>"
      ]
     },
     "metadata": {
      "needs_background": "light"
     },
     "output_type": "display_data"
    }
   ],
   "source": [
    "x=a[\"Discount\"]\n",
    "plt.hist(x,color=\"red\")\n",
    "plt.show()"
   ]
  },
  {
   "cell_type": "code",
   "execution_count": 49,
   "id": "d7f9dd28",
   "metadata": {},
   "outputs": [
    {
     "data": {
      "image/png": "[encoded data removed]",
      "text/plain": [
       "<Figure size 432x288 with 1 Axes>"
      ]
     },
     "metadata": {
      "needs_background": "light"
     },
     "output_type": "display_data"
    }
   ],
   "source": [
    "#plot\n",
    "#grid\n",
    "x=a[\"Sales\"]\n",
    "y=a[\"Profit\"]\n",
    "plt.plot(x,y)\n",
    "plt.grid()\n",
    "plt.show()"
   ]
  },
  {
   "cell_type": "code",
   "execution_count": null,
   "id": "dd88a49e",
   "metadata": {},
   "outputs": [],
   "source": []
  }
 ],
 "metadata": {
  "kernelspec": {
   "display_name": "Python 3 (ipykernel)",
   "language": "python",
   "name": "python3"
  },
  "language_info": {
   "codemirror_mode": {
    "name": "ipython",
    "version": 3
   },
   "file_extension": ".py",
   "mimetype": "text/x-python",
   "name": "python",
   "nbconvert_exporter": "python",
   "pygments_lexer": "ipython3",
   "version": "3.9.7"
  }
 },
 "nbformat": 4,
 "nbformat_minor": 5
}
