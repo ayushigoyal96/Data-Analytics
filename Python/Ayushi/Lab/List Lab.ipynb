{
 "cells": [
  {
   "cell_type": "markdown",
   "id": "f67c9bfa",
   "metadata": {},
   "source": [
    "# List Lab questions"
   ]
  },
  {
   "cell_type": "markdown",
   "id": "92e14298",
   "metadata": {},
   "source": [
    "Ques : You have a non-empty list 'lst', and you have to execute or perform these 7 commands given in these lines. The command \n",
    "    is related to pop, insert, clear, count, index etc and write the outputs."
   ]
  },
  {
   "cell_type": "code",
   "execution_count": 3,
   "id": "28a4e953",
   "metadata": {},
   "outputs": [
    {
     "name": "stdout",
     "output_type": "stream",
     "text": [
      "[34, 1, 3, 46, 23, 56, 12, 98, 89, 67]\n"
     ]
    }
   ],
   "source": [
    "lst = [34,1,3,46,23,56,12,98,89,67]\n",
    "print(lst)"
   ]
  },
  {
   "cell_type": "code",
   "execution_count": 4,
   "id": "b63bc5ae",
   "metadata": {},
   "outputs": [
    {
     "data": {
      "text/plain": [
       "67"
      ]
     },
     "execution_count": 4,
     "metadata": {},
     "output_type": "execute_result"
    }
   ],
   "source": [
    "lst.pop()"
   ]
  },
  {
   "cell_type": "code",
   "execution_count": 5,
   "id": "155f5247",
   "metadata": {},
   "outputs": [
    {
     "data": {
      "text/plain": [
       "89"
      ]
     },
     "execution_count": 5,
     "metadata": {},
     "output_type": "execute_result"
    }
   ],
   "source": [
    "lst.pop()"
   ]
  },
  {
   "cell_type": "code",
   "execution_count": 6,
   "id": "9f9a796e",
   "metadata": {},
   "outputs": [
    {
     "name": "stdout",
     "output_type": "stream",
     "text": [
      "[34, 1, 3, 46, 23, 56, 12, 98]\n"
     ]
    }
   ],
   "source": [
    "print(lst)"
   ]
  },
  {
   "cell_type": "code",
   "execution_count": 9,
   "id": "58f7dc0e",
   "metadata": {},
   "outputs": [],
   "source": [
    "lst.insert(-1,44)"
   ]
  },
  {
   "cell_type": "code",
   "execution_count": 10,
   "id": "5d6d8673",
   "metadata": {},
   "outputs": [
    {
     "name": "stdout",
     "output_type": "stream",
     "text": [
      "[34, 1, 3, 46, 23, 56, 12, 44, 44, 98]\n"
     ]
    }
   ],
   "source": [
    "print(lst)"
   ]
  },
  {
   "cell_type": "code",
   "execution_count": 11,
   "id": "355a94ed",
   "metadata": {},
   "outputs": [],
   "source": [
    "lst.remove(34)"
   ]
  },
  {
   "cell_type": "code",
   "execution_count": 12,
   "id": "9d200d18",
   "metadata": {},
   "outputs": [
    {
     "name": "stdout",
     "output_type": "stream",
     "text": [
      "[1, 3, 46, 23, 56, 12, 44, 44, 98]\n"
     ]
    }
   ],
   "source": [
    "print(lst)"
   ]
  },
  {
   "cell_type": "code",
   "execution_count": 13,
   "id": "06b9b58c",
   "metadata": {},
   "outputs": [],
   "source": [
    "lst.clear()"
   ]
  },
  {
   "cell_type": "code",
   "execution_count": 14,
   "id": "36509f09",
   "metadata": {},
   "outputs": [
    {
     "name": "stdout",
     "output_type": "stream",
     "text": [
      "[]\n"
     ]
    }
   ],
   "source": [
    "print(lst)"
   ]
  },
  {
   "cell_type": "code",
   "execution_count": 18,
   "id": "b91b0b7e",
   "metadata": {},
   "outputs": [],
   "source": [
    "lst.extend([56,78,12,23])"
   ]
  },
  {
   "cell_type": "code",
   "execution_count": 20,
   "id": "69b89e51",
   "metadata": {},
   "outputs": [
    {
     "name": "stdout",
     "output_type": "stream",
     "text": [
      "[56, 78, 12, 23, 56, 78, 12, 23]\n"
     ]
    }
   ],
   "source": [
    "print(lst)"
   ]
  },
  {
   "cell_type": "code",
   "execution_count": 24,
   "id": "21599753",
   "metadata": {},
   "outputs": [
    {
     "data": {
      "text/plain": [
       "0"
      ]
     },
     "execution_count": 24,
     "metadata": {},
     "output_type": "execute_result"
    }
   ],
   "source": [
    "lst.count(-1)"
   ]
  },
  {
   "cell_type": "code",
   "execution_count": 25,
   "id": "f45add1f",
   "metadata": {},
   "outputs": [
    {
     "data": {
      "text/plain": [
       "0"
      ]
     },
     "execution_count": 25,
     "metadata": {},
     "output_type": "execute_result"
    }
   ],
   "source": [
    "lst.count(10)"
   ]
  },
  {
   "cell_type": "code",
   "execution_count": 26,
   "id": "66f8fa71",
   "metadata": {},
   "outputs": [
    {
     "data": {
      "text/plain": [
       "2"
      ]
     },
     "execution_count": 26,
     "metadata": {},
     "output_type": "execute_result"
    }
   ],
   "source": [
    "lst.index(12)"
   ]
  },
  {
   "cell_type": "markdown",
   "id": "759ac648",
   "metadata": {},
   "source": [
    "Ques : You have a List is given like in shown in the example. Your work to perfrom the slicing in this list.\n",
    "    Using slicing you need to print last 6 even index elements in the reversed Order.\n"
   ]
  },
  {
   "cell_type": "code",
   "execution_count": 27,
   "id": "c62dc6df",
   "metadata": {},
   "outputs": [
    {
     "name": "stdout",
     "output_type": "stream",
     "text": [
      "[34, 1, 3, 46, 23, 56, 12, 98, 89, 67, 56, 34, 12, 32, 68, 99]\n"
     ]
    }
   ],
   "source": [
    "lst = [34,1,3,46,23,56,12,98,89,67,56,34,12,32,68,99]\n",
    "print(lst)"
   ]
  },
  {
   "cell_type": "code",
   "execution_count": 29,
   "id": "2a850ffe",
   "metadata": {},
   "outputs": [
    {
     "data": {
      "text/plain": [
       "[99, 32, 34, 67, 98, 56, 46, 1]"
      ]
     },
     "execution_count": 29,
     "metadata": {},
     "output_type": "execute_result"
    }
   ],
   "source": [
    "lst[-1::-2]"
   ]
  },
  {
   "cell_type": "markdown",
   "id": "d67c4861",
   "metadata": {},
   "source": [
    "Ques : You have a empty List 'lst' is given. Your task is add all these elemnet : 1, 2, 3, 4, 5, 6, 7, 8.\n",
    "    And do right circulation rotation on two element in list. After the right circulation rotation the output list print.\n",
    "    "
   ]
  },
  {
   "cell_type": "code",
   "execution_count": 30,
   "id": "45dfe338",
   "metadata": {},
   "outputs": [
    {
     "name": "stdout",
     "output_type": "stream",
     "text": [
      "[]\n"
     ]
    }
   ],
   "source": [
    "list=[]\n",
    "print(list)"
   ]
  },
  {
   "cell_type": "code",
   "execution_count": 31,
   "id": "91f3389b",
   "metadata": {},
   "outputs": [
    {
     "name": "stdout",
     "output_type": "stream",
     "text": [
      "[1, 2, 3, 4, 5, 6, 7, 8]\n"
     ]
    }
   ],
   "source": [
    "list.extend([1,2,3,4,5,6,7,8])\n",
    "print(list)"
   ]
  },
  {
   "cell_type": "code",
   "execution_count": 32,
   "id": "6cc0f931",
   "metadata": {},
   "outputs": [
    {
     "name": "stdout",
     "output_type": "stream",
     "text": [
      "[7, 8, 1, 2, 3, 4, 5, 6]\n"
     ]
    }
   ],
   "source": [
    "print(list[6:]+list[:6])"
   ]
  },
  {
   "cell_type": "code",
   "execution_count": null,
   "id": "7942730a",
   "metadata": {},
   "outputs": [],
   "source": []
  }
 ],
 "metadata": {
  "kernelspec": {
   "display_name": "Python 3 (ipykernel)",
   "language": "python",
   "name": "python3"
  },
  "language_info": {
   "codemirror_mode": {
    "name": "ipython",
    "version": 3
   },
   "file_extension": ".py",
   "mimetype": "text/x-python",
   "name": "python",
   "nbconvert_exporter": "python",
   "pygments_lexer": "ipython3",
   "version": "3.9.7"
  }
 },
 "nbformat": 4,
 "nbformat_minor": 5
}
