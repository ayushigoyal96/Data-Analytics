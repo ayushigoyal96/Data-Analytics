{
 "cells": [
  {
   "cell_type": "markdown",
   "id": "a08d089c",
   "metadata": {},
   "source": [
    "# Tuple and dictionary Lab"
   ]
  },
  {
   "cell_type": "markdown",
   "id": "cd14aa3d",
   "metadata": {},
   "source": [
    "Quest : This question is related to accessing the element. You have give a tuple where you need to access the second \n",
    "    element which is list and inside the list you need to show second element of that list.  "
   ]
  },
  {
   "cell_type": "code",
   "execution_count": 4,
   "id": "3c6885e6",
   "metadata": {},
   "outputs": [
    {
     "name": "stdout",
     "output_type": "stream",
     "text": [
      "('Orange', [10, 20, 30], (5, 15, 25))\n"
     ]
    }
   ],
   "source": [
    " tuple = (\"Orange\", [10, 20, 30], (5, 15, 25))\n",
    "print(tuple)"
   ]
  },
  {
   "cell_type": "code",
   "execution_count": 5,
   "id": "2e078324",
   "metadata": {},
   "outputs": [
    {
     "name": "stdout",
     "output_type": "stream",
     "text": [
      "20\n"
     ]
    }
   ],
   "source": [
    "print(tuple[1][1])"
   ]
  },
  {
   "cell_type": "markdown",
   "id": "7f0962cb",
   "metadata": {},
   "source": [
    "Ques : In this question a dictionary is given. In this dictionary student data like name, marks are already given.\n",
    "    By mistake in 'Science' subject marks 78 is filled so we want correction this marks. You need to change the Science \n",
    "    subject marks 78 to 87."
   ]
  },
  {
   "cell_type": "code",
   "execution_count": 13,
   "id": "67281142",
   "metadata": {},
   "outputs": [
    {
     "name": "stdout",
     "output_type": "stream",
     "text": [
      "{'class': {'student': {'name': 'Mike', 'marks': {'physics': 70, 'history': 80, 'Math': 75, 'SST': 88, 'Science': 78}}}}\n"
     ]
    }
   ],
   "source": [
    "dictionary = {\"class\":{\"student\":{\"name\":\"Mike\",\"marks\":{\"physics\":70,\"history\":80,\"Math\":75,\"SST\":88,\"Science\":78}}}}\n",
    "print(dictionary)                                                 \n",
    "   "
   ]
  },
  {
   "cell_type": "code",
   "execution_count": 21,
   "id": "fbdbb9ce",
   "metadata": {},
   "outputs": [],
   "source": [
    "dictionary['Science']=87"
   ]
  },
  {
   "cell_type": "code",
   "execution_count": 22,
   "id": "24729808",
   "metadata": {},
   "outputs": [
    {
     "name": "stdout",
     "output_type": "stream",
     "text": [
      "{'class': {'student': {'name': 'Mike', 'marks': {'physics': 70, 'history': 80, 'Math': 75, 'SST': 88, 'Science': 78}}}, 'Science': 87}\n"
     ]
    }
   ],
   "source": [
    "print(dictionary)"
   ]
  },
  {
   "cell_type": "markdown",
   "id": "171fcfb9",
   "metadata": {},
   "source": [
    "Ques : Suppose you have given a person information like name of person, age, salary, city. In this information need a \n",
    "    correction the 'city' need to change in the 'location'. Your task to perfrom this correction with the help of \n",
    "    dictionary methods."
   ]
  },
  {
   "cell_type": "code",
   "execution_count": 43,
   "id": "9d9e325f",
   "metadata": {},
   "outputs": [
    {
     "name": "stdout",
     "output_type": "stream",
     "text": [
      "{'name': 'Kelly', 'age': 25, 'salary': 8000, 'city': 'New york'}\n"
     ]
    }
   ],
   "source": [
    "d = {\"name\": \"Kelly\",\"age\": 25,\"salary\": 8000,\"city\": \"New york\"}\n",
    "print(d)"
   ]
  },
  {
   "cell_type": "code",
   "execution_count": 44,
   "id": "4162e758",
   "metadata": {},
   "outputs": [
    {
     "name": "stdout",
     "output_type": "stream",
     "text": [
      "{'name': 'Kelly', 'age': 25, 'salary': 8000, 'location': 'New york'}\n"
     ]
    }
   ],
   "source": [
    "d['location'] = d.pop('city')\n",
    "print(d)"
   ]
  },
  {
   "cell_type": "markdown",
   "id": "3751c515",
   "metadata": {},
   "source": [
    "Ques : This is the weather API data from jaipur city. In this data we have many information is given like longitude and \n",
    "    latitude, weather condition at persent time, temperature, pressure, humidity and many more informations. Your task to \n",
    "    find the usefull information like 'City_name', 'maximum temperature' and 'minimum temperature', \"wind speed\" \n",
    "    information in m/s."
   ]
  },
  {
   "cell_type": "code",
   "execution_count": 45,
   "id": "80391835",
   "metadata": {},
   "outputs": [
    {
     "name": "stdout",
     "output_type": "stream",
     "text": [
      "{'coord': {'lon': 75.82, 'lat': 26.92}, 'weather': [{'id': 701, 'main': 'Mist', 'description': 'mist', 'icon': '50d'}], 'base': 'stations', 'main': {'temp': 303.15, 'pressure': 997, 'humidity': 74, 'temp_min': 303.15, 'temp_max': 303.15}, 'visibility': 3000, 'wind': {'speed': 4.1, 'deg': 120}, 'clouds': {'all': 40}, 'dt': 1565440871, 'sys': {'type': 1, 'id': 9170, 'message': 0.0068, 'country': 'IN', 'sunrise': 1565396728, 'sunset': 1565444338}, 'timezone': 19800, 'id': 1269515, 'name': 'Jaipur', 'cod': 200}\n"
     ]
    }
   ],
   "source": [
    "weather_info = {'coord': {'lon': 75.82, 'lat': 26.92}, \n",
    "                'weather': [{'id': 701, 'main': 'Mist', 'description': 'mist', 'icon': '50d'}],\n",
    "                'base': 'stations', 'main': {'temp': 303.15, 'pressure': 997, 'humidity': 74, \n",
    "                'temp_min': 303.15, 'temp_max': 303.15}, 'visibility': 3000,\n",
    "                'wind': {'speed': 4.1, 'deg': 120}, 'clouds': {'all': 40}, 'dt': 1565440871, \n",
    "                'sys': {'type': 1, 'id': 9170, 'message': 0.0068, 'country': 'IN', 'sunrise': 1565396728, \n",
    "                'sunset': 1565444338}, 'timezone': 19800, 'id': 1269515, 'name': 'Jaipur', 'cod': 200}\n",
    "print(weather_info)"
   ]
  },
  {
   "cell_type": "code",
   "execution_count": 57,
   "id": "4ebc6420",
   "metadata": {},
   "outputs": [
    {
     "data": {
      "text/plain": [
       "'IN'"
      ]
     },
     "execution_count": 57,
     "metadata": {},
     "output_type": "execute_result"
    }
   ],
   "source": [
    "weather_info['sys']['country']"
   ]
  },
  {
   "cell_type": "markdown",
   "id": "b09849c2",
   "metadata": {},
   "source": [
    "Ques: You have given some information related to students like student_id number , student name, and marks on three subject\n",
    "    math, Science and English. Your task is write a Python program to convert this information into the dictionary formate \n",
    "    and then claculate the percentage of each person. In this you need to learn the how the Nested Dictionary work for \n",
    "    storing student information.\n",
    "    \n",
    "student_id = ['S001', 'S002', 'S003', 'S004']\n",
    "student_name = ['Adina Park', 'Leyton Marsh', 'Duncan Boyle', 'Saim Richards']\n",
    "marks = Math : [85, 98, 89, 92], \n",
    "        Science : [78,98,88,90], \n",
    "        English : [89,93,67,77]"
   ]
  },
  {
   "cell_type": "code",
   "execution_count": 3,
   "id": "eb99a43b",
   "metadata": {},
   "outputs": [
    {
     "name": "stdout",
     "output_type": "stream",
     "text": [
      "{'student_id': ['S001', 'S002', 'S003', 'S004'], 'student_name': ['Adina Park', 'Leyton Marsh', 'Ducan Boyle', 'Saim Richards'], 'marks': {'Math': [85, 98, 89, 92], 'Science': [78, 98, 88, 90], 'English': [89, 93, 67, 77]}}\n"
     ]
    }
   ],
   "source": [
    "d={'student_id':['S001','S002','S003','S004'],'student_name':['Adina Park','Leyton Marsh','Ducan Boyle','Saim Richards'],'marks':{\n",
    "    'Math':[85,98,89,92],'Science':[78,98,88,90],'English':[89,93,67,77]}}\n",
    "print(d)"
   ]
  },
  {
   "cell_type": "code",
   "execution_count": 12,
   "id": "1efa0d64",
   "metadata": {},
   "outputs": [
    {
     "data": {
      "text/plain": [
       "dict_values([['S001', 'S002', 'S003', 'S004'], ['Adina Park', 'Leyton Marsh', 'Ducan Boyle', 'Saim Richards'], {'Math': [85, 98, 89, 92], 'Science': [78, 98, 88, 90], 'English': [89, 93, 67, 77]}])"
      ]
     },
     "execution_count": 12,
     "metadata": {},
     "output_type": "execute_result"
    }
   ],
   "source": [
    "d.values()"
   ]
  },
  {
   "cell_type": "code",
   "execution_count": 13,
   "id": "31dd7088",
   "metadata": {},
   "outputs": [
    {
     "data": {
      "text/plain": [
       "dict_keys(['student_id', 'student_name', 'marks'])"
      ]
     },
     "execution_count": 13,
     "metadata": {},
     "output_type": "execute_result"
    }
   ],
   "source": [
    "d.keys()"
   ]
  },
  {
   "cell_type": "code",
   "execution_count": 29,
   "id": "dfeae33f",
   "metadata": {},
   "outputs": [
    {
     "name": "stdout",
     "output_type": "stream",
     "text": [
      "student id--> ['S001', 'S002', 'S003', 'S004']\n",
      "student name--> ['Adina Park', 'Leyton Marsh', 'Ducan Boyle', 'Saim Richards']\n",
      "Percentage of Adina--->84.0\n",
      "Percentage of Leyton--->96.33333333333334\n",
      "Percentage of Ducan--->81.33333333333333\n",
      "Percentage of Saim--->86.33333333333333\n"
     ]
    }
   ],
   "source": [
    "print('student id-->',d['student_id'][:4])\n",
    "print('student name-->',d['student_name'][:4])\n",
    "Adina_per =(85+78+89)/300*100\n",
    "Leyton_per= (98+98+93)/300*100\n",
    "Ducan_per=(89+88+67)/300*100\n",
    "Saim_per=(92+90+77)/300*100\n",
    "print(f\"Percentage of Adina--->{Adina_per}\")\n",
    "print(f\"Percentage of Leyton--->{Leyton_per}\")\n",
    "print(f\"Percentage of Ducan--->{Ducan_per}\")\n",
    "print(f\"Percentage of Saim--->{Saim_per}\")\n",
    "\n",
    "\n",
    "\n",
    "\n",
    "\n"
   ]
  },
  {
   "cell_type": "code",
   "execution_count": null,
   "id": "a8f598fd",
   "metadata": {},
   "outputs": [],
   "source": []
  }
 ],
 "metadata": {
  "kernelspec": {
   "display_name": "Python 3 (ipykernel)",
   "language": "python",
   "name": "python3"
  },
  "language_info": {
   "codemirror_mode": {
    "name": "ipython",
    "version": 3
   },
   "file_extension": ".py",
   "mimetype": "text/x-python",
   "name": "python",
   "nbconvert_exporter": "python",
   "pygments_lexer": "ipython3",
   "version": "3.9.7"
  }
 },
 "nbformat": 4,
 "nbformat_minor": 5
}
