{
 "cells": [
  {
   "cell_type": "code",
   "execution_count": 1,
   "id": "b61710f8",
   "metadata": {},
   "outputs": [],
   "source": [
    "s=\"                     Hello        World                 \""
   ]
  },
  {
   "cell_type": "code",
   "execution_count": 2,
   "id": "825f5e13",
   "metadata": {},
   "outputs": [
    {
     "name": "stdout",
     "output_type": "stream",
     "text": [
      "                     Hello        World                 \n"
     ]
    }
   ],
   "source": [
    "print(s)"
   ]
  },
  {
   "cell_type": "code",
   "execution_count": 3,
   "id": "5ffd1956",
   "metadata": {},
   "outputs": [
    {
     "data": {
      "text/plain": [
       "'Hello        World                 '"
      ]
     },
     "execution_count": 3,
     "metadata": {},
     "output_type": "execute_result"
    }
   ],
   "source": [
    "s.lstrip()"
   ]
  },
  {
   "cell_type": "code",
   "execution_count": 4,
   "id": "886a8683",
   "metadata": {},
   "outputs": [
    {
     "data": {
      "text/plain": [
       "'                     Hello        World'"
      ]
     },
     "execution_count": 4,
     "metadata": {},
     "output_type": "execute_result"
    }
   ],
   "source": [
    "s.rstrip()"
   ]
  },
  {
   "cell_type": "code",
   "execution_count": 5,
   "id": "b768aedf",
   "metadata": {},
   "outputs": [
    {
     "data": {
      "text/plain": [
       "'                     Hello        World                 '"
      ]
     },
     "execution_count": 5,
     "metadata": {},
     "output_type": "execute_result"
    }
   ],
   "source": [
    "s.ljust(50)"
   ]
  },
  {
   "cell_type": "code",
   "execution_count": 6,
   "id": "c0567c0e",
   "metadata": {},
   "outputs": [
    {
     "data": {
      "text/plain": [
       "'Hello        World'"
      ]
     },
     "execution_count": 6,
     "metadata": {},
     "output_type": "execute_result"
    }
   ],
   "source": [
    "s.strip()"
   ]
  },
  {
   "cell_type": "code",
   "execution_count": 7,
   "id": "bf99074c",
   "metadata": {},
   "outputs": [],
   "source": [
    "y=s.split()"
   ]
  },
  {
   "cell_type": "code",
   "execution_count": 8,
   "id": "b039f889",
   "metadata": {},
   "outputs": [
    {
     "data": {
      "text/plain": [
       "'Hello World'"
      ]
     },
     "execution_count": 8,
     "metadata": {},
     "output_type": "execute_result"
    }
   ],
   "source": [
    "\" \".join(y)"
   ]
  },
  {
   "cell_type": "code",
   "execution_count": 9,
   "id": "9dafa61b",
   "metadata": {},
   "outputs": [
    {
     "name": "stdout",
     "output_type": "stream",
     "text": [
      "Hi     there       My name     is Python    and I am  Programming    Language \n"
     ]
    }
   ],
   "source": [
    "s='Hi     there       My name     is Python    and I am  Programming    Language '\n",
    "print(s)"
   ]
  },
  {
   "cell_type": "code",
   "execution_count": 10,
   "id": "b243ac7a",
   "metadata": {},
   "outputs": [],
   "source": [
    "x=s.split()"
   ]
  },
  {
   "cell_type": "code",
   "execution_count": 11,
   "id": "41d265d4",
   "metadata": {},
   "outputs": [
    {
     "data": {
      "text/plain": [
       "78"
      ]
     },
     "execution_count": 11,
     "metadata": {},
     "output_type": "execute_result"
    }
   ],
   "source": [
    "len(s)"
   ]
  },
  {
   "cell_type": "code",
   "execution_count": 12,
   "id": "b0761579",
   "metadata": {},
   "outputs": [
    {
     "name": "stdout",
     "output_type": "stream",
     "text": [
      "Hi     there       My name     is Python    and I am  Programming    Language \n"
     ]
    }
   ],
   "source": [
    "print(s)"
   ]
  },
  {
   "cell_type": "code",
   "execution_count": 13,
   "id": "05ba855b",
   "metadata": {},
   "outputs": [
    {
     "data": {
      "text/plain": [
       "78"
      ]
     },
     "execution_count": 13,
     "metadata": {},
     "output_type": "execute_result"
    }
   ],
   "source": [
    "len(s)"
   ]
  },
  {
   "cell_type": "code",
   "execution_count": 14,
   "id": "1797a3bb",
   "metadata": {},
   "outputs": [
    {
     "data": {
      "text/plain": [
       "0"
      ]
     },
     "execution_count": 14,
     "metadata": {},
     "output_type": "execute_result"
    }
   ],
   "source": [
    "s.count(\"HiHi\")"
   ]
  },
  {
   "cell_type": "code",
   "execution_count": 15,
   "id": "2702575d",
   "metadata": {},
   "outputs": [
    {
     "name": "stdout",
     "output_type": "stream",
     "text": [
      "['Hi', 'there', 'My', 'name', 'is', 'Python', 'and', 'I', 'am', 'Programming', 'Language']\n"
     ]
    }
   ],
   "source": [
    "print(x)"
   ]
  },
  {
   "cell_type": "code",
   "execution_count": 16,
   "id": "baf7f6bc",
   "metadata": {},
   "outputs": [
    {
     "name": "stdout",
     "output_type": "stream",
     "text": [
      "Hi     there       My name     is Python    and I am  Programming    Language \n"
     ]
    }
   ],
   "source": [
    "print(s)"
   ]
  },
  {
   "cell_type": "code",
   "execution_count": 17,
   "id": "e1cb2bad",
   "metadata": {},
   "outputs": [
    {
     "data": {
      "text/plain": [
       "4"
      ]
     },
     "execution_count": 17,
     "metadata": {},
     "output_type": "execute_result"
    }
   ],
   "source": [
    "s.count(\"m\")"
   ]
  },
  {
   "cell_type": "code",
   "execution_count": 18,
   "id": "4eab6163",
   "metadata": {},
   "outputs": [
    {
     "data": {
      "text/plain": [
       "32"
      ]
     },
     "execution_count": 18,
     "metadata": {},
     "output_type": "execute_result"
    }
   ],
   "source": [
    "s.count(\" \")"
   ]
  },
  {
   "cell_type": "code",
   "execution_count": 19,
   "id": "88b63476",
   "metadata": {},
   "outputs": [
    {
     "data": {
      "text/plain": [
       "78"
      ]
     },
     "execution_count": 19,
     "metadata": {},
     "output_type": "execute_result"
    }
   ],
   "source": [
    "len(s)"
   ]
  },
  {
   "cell_type": "code",
   "execution_count": 20,
   "id": "b5b84cbc",
   "metadata": {},
   "outputs": [
    {
     "data": {
      "text/plain": [
       "46"
      ]
     },
     "execution_count": 20,
     "metadata": {},
     "output_type": "execute_result"
    }
   ],
   "source": [
    "len(s)-s.count(\" \")"
   ]
  },
  {
   "cell_type": "code",
   "execution_count": 21,
   "id": "9b3f04a8",
   "metadata": {},
   "outputs": [
    {
     "data": {
      "text/plain": [
       "['Hi',\n",
       " 'there',\n",
       " 'My',\n",
       " 'name',\n",
       " 'is',\n",
       " 'Python',\n",
       " 'and',\n",
       " 'I',\n",
       " 'am',\n",
       " 'Programming',\n",
       " 'Language']"
      ]
     },
     "execution_count": 21,
     "metadata": {},
     "output_type": "execute_result"
    }
   ],
   "source": [
    "s.split()"
   ]
  },
  {
   "cell_type": "code",
   "execution_count": 22,
   "id": "437922f6",
   "metadata": {},
   "outputs": [
    {
     "data": {
      "text/plain": [
       "46"
      ]
     },
     "execution_count": 22,
     "metadata": {},
     "output_type": "execute_result"
    }
   ],
   "source": [
    "len(\"\".join(s.split()))\n"
   ]
  },
  {
   "cell_type": "code",
   "execution_count": 23,
   "id": "5115ec41",
   "metadata": {},
   "outputs": [
    {
     "name": "stdout",
     "output_type": "stream",
     "text": [
      "DataScience\n"
     ]
    }
   ],
   "source": [
    "String = 'DataScience'\n",
    "print(String)"
   ]
  },
  {
   "cell_type": "code",
   "execution_count": 24,
   "id": "95e78634",
   "metadata": {},
   "outputs": [
    {
     "data": {
      "text/plain": [
       "'DtSin'"
      ]
     },
     "execution_count": 24,
     "metadata": {},
     "output_type": "execute_result"
    }
   ],
   "source": [
    "String[0:10:2]"
   ]
  },
  {
   "cell_type": "code",
   "execution_count": 25,
   "id": "9b10faee",
   "metadata": {},
   "outputs": [
    {
     "data": {
      "text/plain": [
       "'niStD'"
      ]
     },
     "execution_count": 25,
     "metadata": {},
     "output_type": "execute_result"
    }
   ],
   "source": [
    "String[-3::-2]"
   ]
  },
  {
   "cell_type": "code",
   "execution_count": 26,
   "id": "99fef37c",
   "metadata": {},
   "outputs": [],
   "source": [
    "s='    Talk Is Cheap! Show me the code.      ' "
   ]
  },
  {
   "cell_type": "code",
   "execution_count": 27,
   "id": "d58db04e",
   "metadata": {},
   "outputs": [
    {
     "name": "stdout",
     "output_type": "stream",
     "text": [
      "    Talk Is Cheap! Show me the code.      \n"
     ]
    }
   ],
   "source": [
    "print(s)"
   ]
  },
  {
   "cell_type": "code",
   "execution_count": 28,
   "id": "b2bc5ac4",
   "metadata": {},
   "outputs": [
    {
     "data": {
      "text/plain": [
       "'    TALK IS CHEAP! SHOW ME THE CODE.      '"
      ]
     },
     "execution_count": 28,
     "metadata": {},
     "output_type": "execute_result"
    }
   ],
   "source": [
    "s.upper()"
   ]
  },
  {
   "cell_type": "code",
   "execution_count": 29,
   "id": "bea18620",
   "metadata": {},
   "outputs": [
    {
     "data": {
      "text/plain": [
       "'    Talk Is Cheap! Show Me The Code.      '"
      ]
     },
     "execution_count": 29,
     "metadata": {},
     "output_type": "execute_result"
    }
   ],
   "source": [
    "s.title()"
   ]
  },
  {
   "cell_type": "code",
   "execution_count": 30,
   "id": "7209cff8",
   "metadata": {},
   "outputs": [
    {
     "data": {
      "text/plain": [
       "'    talk is cheap! show me the code.      '"
      ]
     },
     "execution_count": 30,
     "metadata": {},
     "output_type": "execute_result"
    }
   ],
   "source": [
    "s.lower()"
   ]
  },
  {
   "cell_type": "code",
   "execution_count": 31,
   "id": "cc1443d5",
   "metadata": {},
   "outputs": [
    {
     "data": {
      "text/plain": [
       "'    talk is cheap! show me the code.      '"
      ]
     },
     "execution_count": 31,
     "metadata": {},
     "output_type": "execute_result"
    }
   ],
   "source": [
    "s.capitalize()"
   ]
  },
  {
   "cell_type": "code",
   "execution_count": 32,
   "id": "01690a98",
   "metadata": {},
   "outputs": [
    {
     "data": {
      "text/plain": [
       "'Talk Is Cheap! Show me the code.'"
      ]
     },
     "execution_count": 32,
     "metadata": {},
     "output_type": "execute_result"
    }
   ],
   "source": [
    "s.strip()"
   ]
  },
  {
   "cell_type": "code",
   "execution_count": 33,
   "id": "55aa8c57",
   "metadata": {},
   "outputs": [
    {
     "data": {
      "text/plain": [
       "'Talk Is Cheap! Show me the code.      '"
      ]
     },
     "execution_count": 33,
     "metadata": {},
     "output_type": "execute_result"
    }
   ],
   "source": [
    "s.lstrip()"
   ]
  },
  {
   "cell_type": "code",
   "execution_count": 34,
   "id": "0571b824",
   "metadata": {},
   "outputs": [
    {
     "data": {
      "text/plain": [
       "'    Talk Is Cheap! Show me the code.'"
      ]
     },
     "execution_count": 34,
     "metadata": {},
     "output_type": "execute_result"
    }
   ],
   "source": [
    "s.rstrip()"
   ]
  },
  {
   "cell_type": "code",
   "execution_count": 35,
   "id": "fd9df10a",
   "metadata": {},
   "outputs": [],
   "source": [
    "paragraph = \"\"\"    I have three visions for India. In 3000 years of our history people from all over the world have come and invaded\n",
    "    us, captured our lands, conquered our minds. From Alexander onwards the Greeks, the Turks, the Moguls, the Portuguese,the\n",
    "    British, the French, the Dutch, all of them came and looted us, took over what was ours. Yet we have not done this to any \n",
    "    other nation. We have not conquered anyone. We have not grabbed their land, their culture and their history and tried to \n",
    "    enforce our way of life on them. Why? Because we respect the freedom of others. That is why my FIRST VISION is that of \n",
    "    FREEDOM. I believe that India got its first vision of this in 1857, when we started the war of Independence. It is this \n",
    "    freedom that we must protect and nurture and build on. If we are not free, no one will respect us.\"\"\""
   ]
  },
  {
   "cell_type": "code",
   "execution_count": 36,
   "id": "dc76995d",
   "metadata": {},
   "outputs": [
    {
     "name": "stdout",
     "output_type": "stream",
     "text": [
      "    I have three visions for India. In 3000 years of our history people from all over the world have come and invaded\n",
      "    us, captured our lands, conquered our minds. From Alexander onwards the Greeks, the Turks, the Moguls, the Portuguese,the\n",
      "    British, the French, the Dutch, all of them came and looted us, took over what was ours. Yet we have not done this to any \n",
      "    other nation. We have not conquered anyone. We have not grabbed their land, their culture and their history and tried to \n",
      "    enforce our way of life on them. Why? Because we respect the freedom of others. That is why my FIRST VISION is that of \n",
      "    FREEDOM. I believe that India got its first vision of this in 1857, when we started the war of Independence. It is this \n",
      "    freedom that we must protect and nurture and build on. If we are not free, no one will respect us.\n"
     ]
    }
   ],
   "source": [
    "print(paragraph)"
   ]
  },
  {
   "cell_type": "code",
   "execution_count": 37,
   "id": "1638accf",
   "metadata": {},
   "outputs": [
    {
     "ename": "NameError",
     "evalue": "name 'paragragh' is not defined",
     "output_type": "error",
     "traceback": [
      "\u001b[1;31m---------------------------------------------------------------------------\u001b[0m",
      "\u001b[1;31mNameError\u001b[0m                                 Traceback (most recent call last)",
      "\u001b[1;32m~\\AppData\\Local\\Temp/ipykernel_14568/1139621964.py\u001b[0m in \u001b[0;36m<module>\u001b[1;34m\u001b[0m\n\u001b[1;32m----> 1\u001b[1;33m \u001b[0mparagragh\u001b[0m\u001b[1;33m.\u001b[0m\u001b[0mreplace\u001b[0m\u001b[1;33m(\u001b[0m\u001b[1;34m\".\"\u001b[0m\u001b[1;33m,\u001b[0m\u001b[1;34m\"\"\u001b[0m\u001b[1;33m)\u001b[0m\u001b[1;33m\u001b[0m\u001b[1;33m\u001b[0m\u001b[0m\n\u001b[0m",
      "\u001b[1;31mNameError\u001b[0m: name 'paragragh' is not defined"
     ]
    }
   ],
   "source": [
    "paragragh.replace(\".\",\"\")"
   ]
  },
  {
   "cell_type": "code",
   "execution_count": null,
   "id": "aad2f407",
   "metadata": {},
   "outputs": [],
   "source": [
    "lst=[34,1,3,46,23,56,12,98,89,67]"
   ]
  },
  {
   "cell_type": "code",
   "execution_count": null,
   "id": "f49a2a41",
   "metadata": {},
   "outputs": [],
   "source": [
    "print(lst)"
   ]
  },
  {
   "cell_type": "code",
   "execution_count": null,
   "id": "f14600d8",
   "metadata": {},
   "outputs": [],
   "source": [
    "print(lst)"
   ]
  },
  {
   "cell_type": "code",
   "execution_count": null,
   "id": "063f010a",
   "metadata": {},
   "outputs": [],
   "source": []
  },
  {
   "cell_type": "code",
   "execution_count": null,
   "id": "af0bbbdc",
   "metadata": {},
   "outputs": [],
   "source": [
    "lst=[34,1,3,46,23,56,12,98,89,67]"
   ]
  },
  {
   "cell_type": "code",
   "execution_count": null,
   "id": "63427e18",
   "metadata": {},
   "outputs": [],
   "source": [
    "print(lst)"
   ]
  },
  {
   "cell_type": "code",
   "execution_count": null,
   "id": "7e547f32",
   "metadata": {},
   "outputs": [],
   "source": [
    "lst.pop()"
   ]
  },
  {
   "cell_type": "code",
   "execution_count": null,
   "id": "95b1376f",
   "metadata": {},
   "outputs": [],
   "source": [
    "print(lst)"
   ]
  },
  {
   "cell_type": "code",
   "execution_count": null,
   "id": "71628953",
   "metadata": {},
   "outputs": [],
   "source": [
    "lst.pop(1)"
   ]
  },
  {
   "cell_type": "code",
   "execution_count": null,
   "id": "5544235e",
   "metadata": {},
   "outputs": [],
   "source": [
    "print(lst)"
   ]
  },
  {
   "cell_type": "code",
   "execution_count": null,
   "id": "52e7db1e",
   "metadata": {},
   "outputs": [],
   "source": [
    "lst.pop()"
   ]
  },
  {
   "cell_type": "code",
   "execution_count": null,
   "id": "40dce62c",
   "metadata": {},
   "outputs": [],
   "source": [
    "print(lst)"
   ]
  },
  {
   "cell_type": "code",
   "execution_count": null,
   "id": "59332380",
   "metadata": {},
   "outputs": [],
   "source": [
    "lst.insert(1,1)"
   ]
  },
  {
   "cell_type": "code",
   "execution_count": null,
   "id": "74a2016f",
   "metadata": {},
   "outputs": [],
   "source": [
    "print(lst)"
   ]
  },
  {
   "cell_type": "code",
   "execution_count": null,
   "id": "ede5fafb",
   "metadata": {},
   "outputs": [],
   "source": [
    "lst.insert(-1,44)"
   ]
  },
  {
   "cell_type": "code",
   "execution_count": null,
   "id": "ba3828b2",
   "metadata": {},
   "outputs": [],
   "source": [
    "print(lst)"
   ]
  },
  {
   "cell_type": "code",
   "execution_count": null,
   "id": "060bd255",
   "metadata": {},
   "outputs": [],
   "source": [
    "lst.insert(2,33)"
   ]
  },
  {
   "cell_type": "code",
   "execution_count": null,
   "id": "1f7742f0",
   "metadata": {},
   "outputs": [],
   "source": [
    "print(lst)"
   ]
  },
  {
   "cell_type": "code",
   "execution_count": null,
   "id": "2c07c149",
   "metadata": {},
   "outputs": [],
   "source": [
    "lst.insert(-2,90)"
   ]
  },
  {
   "cell_type": "code",
   "execution_count": null,
   "id": "d3f9d0ff",
   "metadata": {},
   "outputs": [],
   "source": [
    "print(lst)"
   ]
  },
  {
   "cell_type": "code",
   "execution_count": null,
   "id": "7cf44d49",
   "metadata": {},
   "outputs": [],
   "source": [
    "lst.remove(34)"
   ]
  },
  {
   "cell_type": "code",
   "execution_count": null,
   "id": "09384b0c",
   "metadata": {},
   "outputs": [],
   "source": [
    "print(lst)"
   ]
  },
  {
   "cell_type": "code",
   "execution_count": null,
   "id": "c0c857a2",
   "metadata": {},
   "outputs": [],
   "source": [
    "lst.remove(1)"
   ]
  },
  {
   "cell_type": "code",
   "execution_count": null,
   "id": "fe262f3d",
   "metadata": {},
   "outputs": [],
   "source": [
    "print(lst)"
   ]
  },
  {
   "cell_type": "code",
   "execution_count": null,
   "id": "eda03087",
   "metadata": {},
   "outputs": [],
   "source": [
    "lst.insert(0,1)"
   ]
  },
  {
   "cell_type": "code",
   "execution_count": null,
   "id": "e4262a3d",
   "metadata": {},
   "outputs": [],
   "source": [
    "print(lst)"
   ]
  },
  {
   "cell_type": "code",
   "execution_count": null,
   "id": "56038aac",
   "metadata": {},
   "outputs": [],
   "source": [
    "lst.count(33)"
   ]
  },
  {
   "cell_type": "code",
   "execution_count": null,
   "id": "cf763557",
   "metadata": {},
   "outputs": [],
   "source": [
    "print(lst)"
   ]
  },
  {
   "cell_type": "code",
   "execution_count": null,
   "id": "74b70289",
   "metadata": {},
   "outputs": [],
   "source": [
    "lst.extend([56,78,12,23],'p')"
   ]
  },
  {
   "cell_type": "code",
   "execution_count": null,
   "id": "da10b3d9",
   "metadata": {},
   "outputs": [],
   "source": [
    "print(lst)"
   ]
  },
  {
   "cell_type": "code",
   "execution_count": null,
   "id": "828755f1",
   "metadata": {},
   "outputs": [],
   "source": [
    "lst.count(12)"
   ]
  },
  {
   "cell_type": "code",
   "execution_count": null,
   "id": "8fc2d483",
   "metadata": {},
   "outputs": [],
   "source": [
    "lst.remove(23)"
   ]
  },
  {
   "cell_type": "code",
   "execution_count": null,
   "id": "d3a39611",
   "metadata": {},
   "outputs": [],
   "source": [
    "print(lst)"
   ]
  },
  {
   "cell_type": "code",
   "execution_count": null,
   "id": "c6e061a3",
   "metadata": {},
   "outputs": [],
   "source": [
    "lst.index(12)"
   ]
  },
  {
   "cell_type": "code",
   "execution_count": null,
   "id": "dbca005b",
   "metadata": {},
   "outputs": [],
   "source": [
    "lst = [34,1,3,46,23,56,12,98,89,67,56,34,12,32,68,99]"
   ]
  },
  {
   "cell_type": "code",
   "execution_count": null,
   "id": "af7574a8",
   "metadata": {},
   "outputs": [],
   "source": [
    "print(lst)"
   ]
  },
  {
   "cell_type": "code",
   "execution_count": null,
   "id": "0eb43cff",
   "metadata": {},
   "outputs": [],
   "source": [
    "lst[-1::-2]"
   ]
  },
  {
   "cell_type": "code",
   "execution_count": null,
   "id": "935643af",
   "metadata": {},
   "outputs": [],
   "source": [
    "Tuple = (\"Orange\", [10, 20, 30], (5, 15, 25))"
   ]
  },
  {
   "cell_type": "code",
   "execution_count": null,
   "id": "f562bbbc",
   "metadata": {},
   "outputs": [],
   "source": [
    "Tuple[1][1]"
   ]
  },
  {
   "cell_type": "markdown",
   "id": "a00acdee",
   "metadata": {},
   "source": [
    "## Dictionary\n"
   ]
  },
  {
   "cell_type": "code",
   "execution_count": null,
   "id": "649086cd",
   "metadata": {},
   "outputs": [],
   "source": [
    "d={}\n",
    "print(type(d),d)"
   ]
  },
  {
   "cell_type": "code",
   "execution_count": null,
   "id": "15d06c42",
   "metadata": {},
   "outputs": [],
   "source": [
    "print(dir(d))"
   ]
  },
  {
   "cell_type": "code",
   "execution_count": null,
   "id": "f2111ef8",
   "metadata": {},
   "outputs": [],
   "source": [
    "l=dir(d)"
   ]
  },
  {
   "cell_type": "code",
   "execution_count": null,
   "id": "23f2e60b",
   "metadata": {},
   "outputs": [],
   "source": [
    "print(l)"
   ]
  },
  {
   "cell_type": "code",
   "execution_count": null,
   "id": "8f1f7e7b",
   "metadata": {},
   "outputs": [],
   "source": [
    "l[34::]"
   ]
  },
  {
   "cell_type": "markdown",
   "id": "1833e76c",
   "metadata": {},
   "source": [
    "String Lab Questions\n"
   ]
  },
  {
   "cell_type": "code",
   "execution_count": null,
   "id": "c0db9a1c",
   "metadata": {},
   "outputs": [],
   "source": [
    "for var in range(50):\n",
    "     print(f\"{var:10}{var:10b}{var:10o}{var:10x}\")"
   ]
  },
  {
   "cell_type": "code",
   "execution_count": null,
   "id": "fc06ed4f",
   "metadata": {},
   "outputs": [],
   "source": [
    "var=10\n",
    "print(f\"{var}{var}{var}{var}\")"
   ]
  },
  {
   "cell_type": "code",
   "execution_count": null,
   "id": "3e0fce9d",
   "metadata": {},
   "outputs": [],
   "source": [
    "paragraph= \"\"\"  I have three visions for India. In 3000 years of our history people from all over the world have come and invaded\n",
    "    us, captured our lands, conquered our minds. From Alexander onwards the Greeks, the Turks, the Moguls, the Portuguese,the\n",
    "    British, the French, the Dutch, all of them came and looted us, took over what was ours. Yet we have not done this to any \n",
    "    other nation. We have not conquered anyone. We have not grabbed their land, their culture and their history and tried to \n",
    "    enforce our way of life on them. Why? Because we respect the freedom of others. That is why my FIRST VISION is that of \n",
    "    FREEDOM. I believe that India got its first vision of this in 1857, when we started the war of Independence. It is this \n",
    "    freedom that we must protect and nurture and build on. If we are not free, no one will respect us.\"\"\""
   ]
  },
  {
   "cell_type": "code",
   "execution_count": null,
   "id": "0b744a99",
   "metadata": {},
   "outputs": [],
   "source": [
    "print(paragraph)"
   ]
  },
  {
   "cell_type": "code",
   "execution_count": null,
   "id": "413649e8",
   "metadata": {},
   "outputs": [],
   "source": [
    "paragraph.replace(\" the \",\" \")"
   ]
  },
  {
   "cell_type": "code",
   "execution_count": null,
   "id": "0d4de8f7",
   "metadata": {},
   "outputs": [],
   "source": [
    "print(paragraph)"
   ]
  },
  {
   "cell_type": "markdown",
   "id": "f0e8b30b",
   "metadata": {},
   "source": [
    "List lab questions\n"
   ]
  },
  {
   "cell_type": "code",
   "execution_count": null,
   "id": "b750fc50",
   "metadata": {},
   "outputs": [],
   "source": [
    "lst= [34,1,3,46,23,56,12,98,89,67]\n",
    "print(type(lst))"
   ]
  },
  {
   "cell_type": "code",
   "execution_count": null,
   "id": "8b59615e",
   "metadata": {},
   "outputs": [],
   "source": [
    "lst.pop()"
   ]
  },
  {
   "cell_type": "code",
   "execution_count": null,
   "id": "e375f95a",
   "metadata": {},
   "outputs": [],
   "source": [
    "lst.pop()"
   ]
  },
  {
   "cell_type": "code",
   "execution_count": null,
   "id": "b5bdbe36",
   "metadata": {},
   "outputs": [],
   "source": [
    "lst.insert(6,44)"
   ]
  },
  {
   "cell_type": "code",
   "execution_count": null,
   "id": "7c85658c",
   "metadata": {},
   "outputs": [],
   "source": [
    "print(lst)"
   ]
  },
  {
   "cell_type": "code",
   "execution_count": null,
   "id": "e1c3edab",
   "metadata": {},
   "outputs": [],
   "source": [
    "lst.clear()"
   ]
  },
  {
   "cell_type": "code",
   "execution_count": null,
   "id": "44ddfd08",
   "metadata": {},
   "outputs": [],
   "source": [
    "print(lst)"
   ]
  },
  {
   "cell_type": "code",
   "execution_count": null,
   "id": "559d91c1",
   "metadata": {},
   "outputs": [],
   "source": [
    "lst.extend([56,78,12,23,56,44])"
   ]
  },
  {
   "cell_type": "code",
   "execution_count": null,
   "id": "61344378",
   "metadata": {},
   "outputs": [],
   "source": [
    "print(lst)"
   ]
  },
  {
   "cell_type": "code",
   "execution_count": null,
   "id": "4a44a8c9",
   "metadata": {},
   "outputs": [],
   "source": [
    "a=lst.count(lst)\n",
    "print(a)"
   ]
  },
  {
   "cell_type": "code",
   "execution_count": null,
   "id": "4328ef21",
   "metadata": {},
   "outputs": [],
   "source": [
    "lst.index(12)"
   ]
  },
  {
   "cell_type": "code",
   "execution_count": null,
   "id": "441bc013",
   "metadata": {},
   "outputs": [],
   "source": [
    "len(lst)"
   ]
  },
  {
   "cell_type": "code",
   "execution_count": null,
   "id": "5bd61fbd",
   "metadata": {},
   "outputs": [],
   "source": [
    "sum(lst)"
   ]
  },
  {
   "cell_type": "code",
   "execution_count": null,
   "id": "2c99bdbc",
   "metadata": {},
   "outputs": [],
   "source": [
    "lst = [34,1,3,46,23,56,12,98,89,67,56,34,12,32,68,99]\n",
    "print(lst)"
   ]
  },
  {
   "cell_type": "code",
   "execution_count": null,
   "id": "e4cf1c42",
   "metadata": {},
   "outputs": [],
   "source": [
    "print(lst[-1::-2])\n",
    "lst.sort(reverse=True)"
   ]
  },
  {
   "cell_type": "code",
   "execution_count": null,
   "id": "483edbbd",
   "metadata": {},
   "outputs": [],
   "source": [
    "lst.sort(reverse=True)"
   ]
  },
  {
   "cell_type": "code",
   "execution_count": null,
   "id": "2d53db4a",
   "metadata": {},
   "outputs": [],
   "source": [
    "print(lst)"
   ]
  },
  {
   "cell_type": "code",
   "execution_count": null,
   "id": "512cd646",
   "metadata": {},
   "outputs": [],
   "source": [
    "lst.sort()"
   ]
  },
  {
   "cell_type": "code",
   "execution_count": null,
   "id": "f4e72015",
   "metadata": {},
   "outputs": [],
   "source": [
    "print(lst)"
   ]
  },
  {
   "cell_type": "code",
   "execution_count": null,
   "id": "8672fe4e",
   "metadata": {},
   "outputs": [],
   "source": [
    "print('I have eaten '  + 99+ ' burritos.' )"
   ]
  },
  {
   "cell_type": "code",
   "execution_count": null,
   "id": "2ec53f8c",
   "metadata": {},
   "outputs": [],
   "source": [
    "print(100 + 99 )"
   ]
  },
  {
   "cell_type": "code",
   "execution_count": null,
   "id": "89f59302",
   "metadata": {},
   "outputs": [],
   "source": [
    "spam=[2,4,6,8,10]"
   ]
  },
  {
   "cell_type": "code",
   "execution_count": null,
   "id": "355c23ca",
   "metadata": {},
   "outputs": [],
   "source": [
    "print(spam)"
   ]
  },
  {
   "cell_type": "code",
   "execution_count": null,
   "id": "41922c8b",
   "metadata": {},
   "outputs": [],
   "source": [
    "spam.append(\"hello\")"
   ]
  },
  {
   "cell_type": "code",
   "execution_count": null,
   "id": "0aa7cae6",
   "metadata": {},
   "outputs": [],
   "source": [
    "print(spam)"
   ]
  },
  {
   "cell_type": "code",
   "execution_count": null,
   "id": "a37d2e95",
   "metadata": {},
   "outputs": [],
   "source": [
    "spam.insert(1,'hello')\n",
    "print(spam)"
   ]
  },
  {
   "cell_type": "code",
   "execution_count": null,
   "id": "39cd930b",
   "metadata": {},
   "outputs": [],
   "source": [
    "spam=['a','b','c','d']"
   ]
  },
  {
   "cell_type": "code",
   "execution_count": null,
   "id": "840ab382",
   "metadata": {},
   "outputs": [],
   "source": [
    "print(spam)"
   ]
  },
  {
   "cell_type": "code",
   "execution_count": null,
   "id": "74759e2d",
   "metadata": {},
   "outputs": [],
   "source": [
    "spam = [int(int('3' * 2) // 11)] "
   ]
  },
  {
   "cell_type": "code",
   "execution_count": null,
   "id": "bf60cab1",
   "metadata": {},
   "outputs": [],
   "source": [
    "print(spam)"
   ]
  },
  {
   "cell_type": "code",
   "execution_count": null,
   "id": "819d2455",
   "metadata": {},
   "outputs": [],
   "source": [
    "spam=['a','b','c','d']\n",
    "print(spam)"
   ]
  },
  {
   "cell_type": "code",
   "execution_count": 1,
   "id": "a9e6b49b",
   "metadata": {},
   "outputs": [
    {
     "ename": "NameError",
     "evalue": "name 'spam' is not defined",
     "output_type": "error",
     "traceback": [
      "\u001b[1;31m---------------------------------------------------------------------------\u001b[0m",
      "\u001b[1;31mNameError\u001b[0m                                 Traceback (most recent call last)",
      "\u001b[1;32m~\\AppData\\Local\\Temp/ipykernel_13792/1321283739.py\u001b[0m in \u001b[0;36m<module>\u001b[1;34m\u001b[0m\n\u001b[1;32m----> 1\u001b[1;33m \u001b[0mspam\u001b[0m\u001b[1;33m[\u001b[0m\u001b[1;33m-\u001b[0m\u001b[1;36m1\u001b[0m\u001b[1;33m]\u001b[0m\u001b[1;33m\u001b[0m\u001b[1;33m\u001b[0m\u001b[0m\n\u001b[0m",
      "\u001b[1;31mNameError\u001b[0m: name 'spam' is not defined"
     ]
    }
   ],
   "source": [
    "spam[-1]"
   ]
  },
  {
   "cell_type": "code",
   "execution_count": null,
   "id": "6a36f77d",
   "metadata": {},
   "outputs": [],
   "source": [
    "spam[:2]"
   ]
  },
  {
   "cell_type": "code",
   "execution_count": null,
   "id": "49756ebe",
   "metadata": {},
   "outputs": [],
   "source": [
    "bacon=[3.14, 'cat', 11, 'cat', True]\n",
    "print(bacon)"
   ]
  },
  {
   "cell_type": "code",
   "execution_count": null,
   "id": "ce488191",
   "metadata": {},
   "outputs": [],
   "source": [
    "bacon.index(\"cat\")"
   ]
  },
  {
   "cell_type": "code",
   "execution_count": null,
   "id": "0f98380f",
   "metadata": {},
   "outputs": [],
   "source": [
    "bacon.append(99)"
   ]
  },
  {
   "cell_type": "code",
   "execution_count": null,
   "id": "f6f10273",
   "metadata": {},
   "outputs": [],
   "source": [
    "print(bacon)"
   ]
  },
  {
   "cell_type": "code",
   "execution_count": null,
   "id": "5a859edb",
   "metadata": {},
   "outputs": [],
   "source": [
    "bacon.remove('cat')"
   ]
  },
  {
   "cell_type": "code",
   "execution_count": null,
   "id": "45f75280",
   "metadata": {},
   "outputs": [],
   "source": [
    "print(bacon)"
   ]
  },
  {
   "cell_type": "code",
   "execution_count": null,
   "id": "be884cee",
   "metadata": {},
   "outputs": [],
   "source": [
    "'Hello world!'[1] "
   ]
  },
  {
   "cell_type": "code",
   "execution_count": null,
   "id": "5c3666d4",
   "metadata": {},
   "outputs": [],
   "source": [
    "'Hello world!'[0:5] "
   ]
  },
  {
   "cell_type": "code",
   "execution_count": null,
   "id": "bf47aa08",
   "metadata": {},
   "outputs": [],
   "source": [
    "'Hello world!'[:5] "
   ]
  },
  {
   "cell_type": "code",
   "execution_count": null,
   "id": "e14956b4",
   "metadata": {},
   "outputs": [],
   "source": [
    "'Hello world!'[3:] "
   ]
  },
  {
   "cell_type": "code",
   "execution_count": null,
   "id": "57f5e75e",
   "metadata": {},
   "outputs": [],
   "source": [
    "'Hello'.upper()"
   ]
  },
  {
   "cell_type": "code",
   "execution_count": null,
   "id": "36551d7f",
   "metadata": {},
   "outputs": [],
   "source": [
    "'Hello'.upper().isupper() "
   ]
  },
  {
   "cell_type": "code",
   "execution_count": null,
   "id": "7ff540bf",
   "metadata": {},
   "outputs": [],
   "source": [
    "'Hello'.upper().lower() "
   ]
  },
  {
   "cell_type": "code",
   "execution_count": null,
   "id": "9839e7d2",
   "metadata": {},
   "outputs": [],
   "source": [
    "'Remember, remember, the fifth of November.'.split() "
   ]
  },
  {
   "cell_type": "code",
   "execution_count": null,
   "id": "a355ceca",
   "metadata": {},
   "outputs": [],
   "source": [
    "'-'.join('There can be only one.'.split()) "
   ]
  },
  {
   "cell_type": "code",
   "execution_count": null,
   "id": "d72bf2eb",
   "metadata": {},
   "outputs": [],
   "source": [
    "'There can be only one.'.split() "
   ]
  },
  {
   "cell_type": "code",
   "execution_count": null,
   "id": "df2b54ac",
   "metadata": {},
   "outputs": [],
   "source": [
    "l=[44,66,33,99,54,34,23,78,56,34]\n",
    "print(l)"
   ]
  },
  {
   "cell_type": "code",
   "execution_count": null,
   "id": "18f08b37",
   "metadata": {},
   "outputs": [],
   "source": [
    "team1=l[::2]"
   ]
  },
  {
   "cell_type": "code",
   "execution_count": null,
   "id": "66d4f78f",
   "metadata": {},
   "outputs": [],
   "source": [
    "print(team1)"
   ]
  },
  {
   "cell_type": "code",
   "execution_count": null,
   "id": "bb1d380b",
   "metadata": {},
   "outputs": [],
   "source": [
    "team2=l[1::2]\n",
    "print(team2)"
   ]
  },
  {
   "cell_type": "code",
   "execution_count": null,
   "id": "7725ef78",
   "metadata": {},
   "outputs": [],
   "source": [
    "x=sum(team1)"
   ]
  },
  {
   "cell_type": "code",
   "execution_count": null,
   "id": "d653fc74",
   "metadata": {},
   "outputs": [],
   "source": [
    "y=sum(team2)"
   ]
  },
  {
   "cell_type": "code",
   "execution_count": null,
   "id": "8c4935c5",
   "metadata": {},
   "outputs": [],
   "source": [
    "print(5&15)"
   ]
  },
  {
   "cell_type": "code",
   "execution_count": null,
   "id": "1bcec83e",
   "metadata": {},
   "outputs": [],
   "source": [
    "l=['Jan','Feb','Mar','Apr','May','Jun','Jul','Aug','Sep','Oct','Nov','Dec']\n",
    "month= int (input(\"Enter the month number (1-12)---->\"))\n",
    "print(\"Current Month--->\",l[month-1])\n",
    "print(\"Before Month----->\",*l[:month-1])\n",
    "print(\"After Month---->\",*l[month:])"
   ]
  },
  {
   "cell_type": "markdown",
   "id": "35831c2d",
   "metadata": {},
   "source": [
    "# Bitwise Operators\n"
   ]
  },
  {
   "cell_type": "code",
   "execution_count": null,
   "id": "f4849d68",
   "metadata": {},
   "outputs": [],
   "source": [
    "print(6&15)"
   ]
  },
  {
   "cell_type": "code",
   "execution_count": null,
   "id": "2ae1f867",
   "metadata": {},
   "outputs": [],
   "source": [
    "print(7&15)"
   ]
  },
  {
   "cell_type": "code",
   "execution_count": null,
   "id": "0b0b7167",
   "metadata": {},
   "outputs": [],
   "source": [
    "print(8&16)"
   ]
  },
  {
   "cell_type": "code",
   "execution_count": null,
   "id": "d5e3e0ad",
   "metadata": {},
   "outputs": [],
   "source": [
    "print(19&21)"
   ]
  },
  {
   "cell_type": "code",
   "execution_count": null,
   "id": "de14244f",
   "metadata": {},
   "outputs": [],
   "source": [
    "print(8^17)"
   ]
  },
  {
   "cell_type": "code",
   "execution_count": null,
   "id": "eff41ad6",
   "metadata": {},
   "outputs": [],
   "source": [
    "print(19|21)"
   ]
  },
  {
   "cell_type": "markdown",
   "id": "3c641717",
   "metadata": {},
   "source": [
    "### conditional statements---> If-else,elif and nested if"
   ]
  },
  {
   "cell_type": "code",
   "execution_count": null,
   "id": "af30bb6f",
   "metadata": {},
   "outputs": [],
   "source": [
    "# WAP to add two numbers"
   ]
  },
  {
   "cell_type": "code",
   "execution_count": null,
   "id": "f9985c47",
   "metadata": {},
   "outputs": [],
   "source": [
    "a=int(input(\"enter value of a  \"))\n",
    "b=int(input(\"enter value of b  \"))\n",
    "print(f\"{a}+{b}={a+b}\")"
   ]
  },
  {
   "cell_type": "code",
   "execution_count": null,
   "id": "3ead8f10",
   "metadata": {},
   "outputs": [],
   "source": [
    "# WAP to find gearter among two numbers."
   ]
  },
  {
   "cell_type": "code",
   "execution_count": null,
   "id": "001b6c1f",
   "metadata": {},
   "outputs": [],
   "source": [
    "a=int(input(\"enter value of a  \"))\n",
    "b=int(input(\"enter value of b  \"))\n",
    "if(a>b):\n",
    "    print(f\"{a} is greater\")\n",
    "else:\n",
    "    print(f\"{b} is greater\")\n"
   ]
  },
  {
   "cell_type": "code",
   "execution_count": null,
   "id": "24d9fd20",
   "metadata": {},
   "outputs": [],
   "source": [
    "# WAP to check whether a given number is even or odd"
   ]
  },
  {
   "cell_type": "code",
   "execution_count": null,
   "id": "1940f523",
   "metadata": {},
   "outputs": [],
   "source": [
    "num=int(input())\n",
    "if(num%2==0):\n",
    "    print(f\"{num} is even\")\n",
    "else:\n",
    "    print(f\"{num} is odd\")"
   ]
  },
  {
   "cell_type": "code",
   "execution_count": null,
   "id": "669d3868",
   "metadata": {},
   "outputs": [],
   "source": [
    "# WAP to find greatest among three numbers."
   ]
  },
  {
   "cell_type": "code",
   "execution_count": null,
   "id": "19bb444f",
   "metadata": {},
   "outputs": [],
   "source": [
    "a=int(input(\"enter value of a  \"))\n",
    "b=int(input(\"enter value of b  \"))\n",
    "c=int(input(\"enter value of c  \"))\n",
    "if(a>b and a>c):\n",
    "    print(f\"{a} is greater\")\n",
    "elif(b>c):\n",
    "    print(f\"{b} is greater\")\n",
    "else:\n",
    "    print(f\"{c} is greater\")"
   ]
  },
  {
   "cell_type": "code",
   "execution_count": null,
   "id": "3b8f4117",
   "metadata": {},
   "outputs": [],
   "source": [
    "i=10\n",
    "if (i>15):\n",
    "    print(\"correct\")\n",
    "print(\"wrong\")"
   ]
  },
  {
   "cell_type": "code",
   "execution_count": null,
   "id": "fbbb8510",
   "metadata": {},
   "outputs": [],
   "source": [
    "# WAP to check whether given year is leap year or not."
   ]
  },
  {
   "cell_type": "code",
   "execution_count": null,
   "id": "121c7be7",
   "metadata": {},
   "outputs": [],
   "source": [
    "x=int(input(\"Enter a year-->\"))\n",
    "if (x%100!=0 and x%4==0):\n",
    "    print(\"It is a leap year\")\n",
    "elif (x%400==0):\n",
    "    print(\"It is not a leap year \")\n",
    "else:\n",
    "    print(\"It is a common year\")"
   ]
  },
  {
   "cell_type": "code",
   "execution_count": null,
   "id": "c4fe8465",
   "metadata": {},
   "outputs": [],
   "source": [
    "# WAP to find out greatest number among 3 numbers by using if-else statement."
   ]
  },
  {
   "cell_type": "code",
   "execution_count": null,
   "id": "c8f466ec",
   "metadata": {},
   "outputs": [],
   "source": [
    "a=int(input(\"enter value of a  \"))\n",
    "b=int(input(\"enter value of b  \"))\n",
    "c=int(input(\"enter value of c  \"))\n",
    "if(a>b):\n",
    "    if(a>c):\n",
    "        print(f\"{a} is greater\")\n",
    "    else:\n",
    "        print(f\"{c} is greater\")\n",
    "\n",
    "else:\n",
    "    if(b>c):\n",
    "        print(f\"{b} is greater\")\n",
    "    else:\n",
    "        print(f\"{c} is greater\")\n",
    "\n",
    "     \n",
    "\n",
    "\n",
    "   \n",
    "    "
   ]
  },
  {
   "cell_type": "code",
   "execution_count": null,
   "id": "c3a9ee74",
   "metadata": {},
   "outputs": [],
   "source": [
    "# CALCULATOR\n",
    "num1 = int(input(\"Enter 1st number--->\"))\n",
    "op = input(\"Enter the operator-->\")\n",
    "num2 = int(input(\"Enter 2nd number-->\"))\n",
    "if op==\"+\":\n",
    "    print(f\"{num1} + {num2} = {num1+num2}\")\n",
    "elif op==\"-\":\n",
    "    print(f\"{num1} - {num2} = {num1-num2}\")\n",
    "elif op==\"*\":\n",
    "    print(f\"{num1} * {num2} = {num1*num2}\")\n",
    "elif op==\"/\" or op==\"//\" or op==\"%\":\n",
    "    if num2==0:\n",
    "        print(\"Can't divide a number by 0\")\n",
    "    elif op==\"/\": \n",
    "        print(f\"{num1} / {num2} = {num1/num2}\")\n",
    "    elif op==\"//\":\n",
    "        print(f\"{num1} // {num2} = {num1//num2}\")\n",
    "    elif op==\"%\":\n",
    "        print(f\"{num1} % {num2} = {num1%num2}\")\n",
    "else:\n",
    "    print(\"Invalid Operator??\")\n"
   ]
  },
  {
   "cell_type": "code",
   "execution_count": null,
   "id": "1816c45f",
   "metadata": {},
   "outputs": [],
   "source": [
    "# WAP to "
   ]
  },
  {
   "cell_type": "code",
   "execution_count": null,
   "id": "d40e10c1",
   "metadata": {},
   "outputs": [],
   "source": [
    "Marks1 = int(input(\"Science marks--->\"))\n",
    "Marks2 = int(input(\"Maths marks--->\"))\n",
    "Marks3 = int(input(\"Enlish marks--->\"))\n",
    "Marks4 = int(input(\"Hindi marks--->\"))\n",
    "Marks5 = int(input(\"GK marks--->\"))\n",
    "Marks6 = int(input(\"Sst marks--->\"))\n",
    "per = (Marks1+Marks2+Marks3+Marks4+Marks5+Marks6)/600*100\n",
    "print(f\"{per} is percentage--->\")\n",
    "if (per>90):\n",
    "    print(\"Grade A \")\n",
    "elif (per>75 and  per<90):\n",
    "    print(\"Grade B \")\n",
    "elif (per>65 and per<75):\n",
    "    print(\"Grade C\")\n",
    "elif (per>45 and per<65):\n",
    "    print(\"Grade D\")\n",
    "elif (per>35 and per<45):\n",
    "    print(\"Grade E\")\n",
    "elif (per<35):\n",
    "    print(\"Grade F\")\n",
    "else:\n",
    "    \n",
    "    print(\"Fail\")\n",
    "    \n",
    "\n",
    "\n"
   ]
  },
  {
   "cell_type": "code",
   "execution_count": null,
   "id": "48d181bd",
   "metadata": {},
   "outputs": [],
   "source": [
    "#WAP to check whether given number is positive or not?"
   ]
  },
  {
   "cell_type": "code",
   "execution_count": null,
   "id": "edaf4c9b",
   "metadata": {},
   "outputs": [],
   "source": [
    "num = int(input(\"Enter a number--->\"))\n",
    "if(num>0):\n",
    "    print(\"number is positive\")\n",
    "elif(num<0):\n",
    "    print(\"number is negative\")\n",
    "else:\n",
    "    if (num==0):\n",
    "        print(\"number is whole\")"
   ]
  },
  {
   "cell_type": "code",
   "execution_count": null,
   "id": "52756039",
   "metadata": {},
   "outputs": [],
   "source": [
    "Question--\n",
    "Given an integer, n, perform the following conditional actions:\n",
    "If n is odd, print Weird\n",
    "If n is even and in the inclusive range of 2 to 5, print Not Weird\n",
    "If n is even and in the inclusive range of 6 to 20, print Weird\n",
    "If n is even and greater than 20, print Not Weird\n"
   ]
  },
  {
   "cell_type": "code",
   "execution_count": null,
   "id": "9398b7c0",
   "metadata": {},
   "outputs": [],
   "source": [
    "n=int(input())\n",
    "if (n%2==0 and (2<=n<=5)):\n",
    "    print(\"Not Weird\")\n",
    "elif (n%2==0 and (6<=n<=20)):\n",
    "    print(\"Weird\")\n",
    "elif (n%2==0 and n>20):\n",
    "    print(\"Not Weird\")\n",
    "else:\n",
    "    if (n%2!=0):\n",
    "        print(\"Weird\")"
   ]
  },
  {
   "cell_type": "code",
   "execution_count": null,
   "id": "a72af39a",
   "metadata": {},
   "outputs": [],
   "source": [
    "Write a program to display \"Hello\" if a number entered by user is a multiple of five , \n",
    "otherwise print \"Bye\"."
   ]
  },
  {
   "cell_type": "code",
   "execution_count": 39,
   "id": "4b2dce8d",
   "metadata": {},
   "outputs": [
    {
     "name": "stdout",
     "output_type": "stream",
     "text": [
      "Enter a number--->23\n",
      "not multiple of 5\n"
     ]
    }
   ],
   "source": [
    "num=int(input(\"Enter a number--->\"))\n",
    "if(num%5==0):\n",
    "    print(\"number is multiple of 5\")\n",
    "else:\n",
    "    print(\"not multiple of 5\")"
   ]
  },
  {
   "cell_type": "markdown",
   "id": "aca6763c",
   "metadata": {},
   "source": [
    "Write a program to display the last digit of a number."
   ]
  },
  {
   "cell_type": "code",
   "execution_count": 45,
   "id": "f867a99c",
   "metadata": {},
   "outputs": [
    {
     "name": "stdout",
     "output_type": "stream",
     "text": [
      "Enter your number--->456342341789\n",
      "Last digit of number are--> 9\n"
     ]
    }
   ],
   "source": [
    "number=int(input(\"Enter your number--->\"))\n",
    "print(\"Last digit of number are-->\",number%10)"
   ]
  },
  {
   "cell_type": "code",
   "execution_count": 5,
   "id": "7342598d",
   "metadata": {},
   "outputs": [
    {
     "name": "stdout",
     "output_type": "stream",
     "text": [
      "Enter your name--->Bond\n",
      "Welcome on board007\n"
     ]
    }
   ],
   "source": [
    "Name=input(\"Enter your name--->\")\n",
    "if Name==\"Bond\":\n",
    "    print(\"Welcome on board007\")\n",
    "else:\n",
    "    print(\"Good Morning \"+ Name)"
   ]
  },
  {
   "cell_type": "code",
   "execution_count": 6,
   "id": "0ec6369b",
   "metadata": {},
   "outputs": [
    {
     "name": "stdout",
     "output_type": "stream",
     "text": [
      "Enter your name--->bond\n",
      "Welcome on board007\n"
     ]
    }
   ],
   "source": [
    "Name=input(\"Enter your name--->\")\n",
    "if Name.lower()==\"bond\":\n",
    "    print(\"Welcome on board007\")\n",
    "else:\n",
    "    print(\"Good Morning \"+ Name)"
   ]
  },
  {
   "cell_type": "code",
   "execution_count": null,
   "id": "85383458",
   "metadata": {},
   "outputs": [],
   "source": []
  }
 ],
 "metadata": {
  "kernelspec": {
   "display_name": "Python 3 (ipykernel)",
   "language": "python",
   "name": "python3"
  },
  "language_info": {
   "codemirror_mode": {
    "name": "ipython",
    "version": 3
   },
   "file_extension": ".py",
   "mimetype": "text/x-python",
   "name": "python",
   "nbconvert_exporter": "python",
   "pygments_lexer": "ipython3",
   "version": "3.9.7"
  }
 },
 "nbformat": 4,
 "nbformat_minor": 5
}
