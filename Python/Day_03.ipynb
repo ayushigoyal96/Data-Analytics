{
 "cells": [
  {
   "cell_type": "markdown",
   "id": "ef194f9e",
   "metadata": {},
   "source": [
    "## Format method of String"
   ]
  },
  {
   "cell_type": "code",
   "execution_count": 18,
   "id": "479e6730",
   "metadata": {},
   "outputs": [
    {
     "name": "stdout",
     "output_type": "stream",
     "text": [
      "Enter Your name---->bhkjbjkhk\n",
      "Enter your Roll----->bhjjbjbj\n",
      "Enter your Class---->bhjbjb\n",
      "English= 67\n",
      "Maths= 55\n",
      "Hindi= 78\n",
      "Science= 88\n",
      "Sst= 68\n",
      "Percentage= 55.60000000000001\n"
     ]
    }
   ],
   "source": [
    "Name = input('Enter Your name---->')\n",
    "Roll = input('Enter your Roll----->')\n",
    "Class = input('Enter your Class---->')\n",
    "English=67\n",
    "Maths=55\n",
    "Hindi=78\n",
    "Science=88\n",
    "Sst=68\n",
    "Per=(English+Maths+Science+Sst)/500*100\n",
    "print(\"English=\",English)\n",
    "print(\"Maths=\",Maths)\n",
    "print(\"Hindi=\",Hindi)\n",
    "print(\"Science=\",Science)\n",
    "print(\"Sst=\",Sst)\n",
    "print(\"Percentage=\",Per)"
   ]
  },
  {
   "cell_type": "code",
   "execution_count": 2,
   "id": "16bf16da",
   "metadata": {},
   "outputs": [
    {
     "name": "stdout",
     "output_type": "stream",
     "text": [
      "Enter Your name---->Ayushi Goyal\n",
      "Enter your Roll----->123\n",
      "Enter your Class---->5th\n",
      "English=67,Maths=55,Hindi=78,Science=88,Sst=68\n",
      "Percentage=55.60000000000001\n"
     ]
    }
   ],
   "source": [
    "Name = input('Enter Your name---->')\n",
    "Roll = input('Enter your Roll----->')\n",
    "Class = input('Enter your Class---->')\n",
    "English=67\n",
    "Maths=55\n",
    "Hindi=78\n",
    "Science=88\n",
    "Sst=68\n",
    "Per=(English+Maths+Science+Sst)/500*100\n",
    "print(\"English={},Maths={},Hindi={},Science={},Sst={}\".format(English,Maths,Hindi,Science,Sst))\n",
    "print('Percentage={}'.format(Per))"
   ]
  },
  {
   "cell_type": "code",
   "execution_count": 11,
   "id": "4d31c1c8",
   "metadata": {},
   "outputs": [
    {
     "name": "stdout",
     "output_type": "stream",
     "text": [
      "5\n"
     ]
    }
   ],
   "source": [
    "a=5\n",
    "print(a)"
   ]
  },
  {
   "cell_type": "code",
   "execution_count": 12,
   "id": "c478b6c5",
   "metadata": {},
   "outputs": [
    {
     "data": {
      "text/plain": [
       "int"
      ]
     },
     "execution_count": 12,
     "metadata": {},
     "output_type": "execute_result"
    }
   ],
   "source": [
    "type(a)"
   ]
  },
  {
   "cell_type": "code",
   "execution_count": 3,
   "id": "5e1ed500",
   "metadata": {},
   "outputs": [
    {
     "data": {
      "text/plain": [
       "2015612332464"
      ]
     },
     "execution_count": 3,
     "metadata": {},
     "output_type": "execute_result"
    }
   ],
   "source": [
    "id(a)"
   ]
  },
  {
   "cell_type": "code",
   "execution_count": 4,
   "id": "0cb0e85b",
   "metadata": {},
   "outputs": [],
   "source": [
    "a='5'"
   ]
  },
  {
   "cell_type": "code",
   "execution_count": 5,
   "id": "6c2b0b67",
   "metadata": {},
   "outputs": [
    {
     "name": "stdout",
     "output_type": "stream",
     "text": [
      "5\n"
     ]
    }
   ],
   "source": [
    "print(a)"
   ]
  },
  {
   "cell_type": "code",
   "execution_count": 6,
   "id": "09d78d9c",
   "metadata": {},
   "outputs": [
    {
     "data": {
      "text/plain": [
       "str"
      ]
     },
     "execution_count": 6,
     "metadata": {},
     "output_type": "execute_result"
    }
   ],
   "source": [
    "type(a)"
   ]
  },
  {
   "cell_type": "code",
   "execution_count": 7,
   "id": "e1447ab4",
   "metadata": {},
   "outputs": [
    {
     "data": {
      "text/plain": [
       "2015613257264"
      ]
     },
     "execution_count": 7,
     "metadata": {},
     "output_type": "execute_result"
    }
   ],
   "source": [
    "id(a)"
   ]
  },
  {
   "cell_type": "code",
   "execution_count": 14,
   "id": "07629140",
   "metadata": {},
   "outputs": [
    {
     "name": "stdout",
     "output_type": "stream",
     "text": [
      "<class 'int'>\n",
      "<class 'float'>\n",
      "<class 'complex'>\n"
     ]
    }
   ],
   "source": [
    "n1=23\n",
    "n2=23.4\n",
    "n3=-3+5j\n",
    "print(type(n1))\n",
    "print(type(n2))\n",
    "print(type(n3))"
   ]
  },
  {
   "cell_type": "code",
   "execution_count": 15,
   "id": "9dd5ce64",
   "metadata": {},
   "outputs": [
    {
     "data": {
      "text/plain": [
       "['__repr__',\n",
       " '__hash__',\n",
       " '__getattribute__',\n",
       " '__lt__',\n",
       " '__le__',\n",
       " '__eq__',\n",
       " '__ne__',\n",
       " '__gt__',\n",
       " '__ge__',\n",
       " '__add__',\n",
       " '__radd__',\n",
       " '__sub__',\n",
       " '__rsub__',\n",
       " '__mul__',\n",
       " '__rmul__',\n",
       " '__mod__',\n",
       " '__rmod__',\n",
       " '__divmod__',\n",
       " '__rdivmod__',\n",
       " '__pow__',\n",
       " '__rpow__',\n",
       " '__neg__',\n",
       " '__pos__',\n",
       " '__abs__',\n",
       " '__bool__',\n",
       " '__invert__',\n",
       " '__lshift__',\n",
       " '__rlshift__',\n",
       " '__rshift__',\n",
       " '__rrshift__',\n",
       " '__and__',\n",
       " '__rand__',\n",
       " '__xor__',\n",
       " '__rxor__',\n",
       " '__or__',\n",
       " '__ror__',\n",
       " '__int__',\n",
       " '__float__',\n",
       " '__floordiv__',\n",
       " '__rfloordiv__',\n",
       " '__truediv__',\n",
       " '__rtruediv__',\n",
       " '__index__',\n",
       " '__new__',\n",
       " 'conjugate',\n",
       " 'bit_length',\n",
       " 'to_bytes',\n",
       " 'from_bytes',\n",
       " 'as_integer_ratio',\n",
       " '__trunc__',\n",
       " '__floor__',\n",
       " '__ceil__',\n",
       " '__round__',\n",
       " '__getnewargs__',\n",
       " '__format__',\n",
       " '__sizeof__',\n",
       " 'real',\n",
       " 'imag',\n",
       " 'numerator',\n",
       " 'denominator',\n",
       " '__doc__',\n",
       " '__str__',\n",
       " '__setattr__',\n",
       " '__delattr__',\n",
       " '__init__',\n",
       " '__reduce_ex__',\n",
       " '__reduce__',\n",
       " '__subclasshook__',\n",
       " '__init_subclass__',\n",
       " '__dir__',\n",
       " '__class__']"
      ]
     },
     "execution_count": 15,
     "metadata": {},
     "output_type": "execute_result"
    }
   ],
   "source": [
    "n1.__dir__() # showing all directories of integers\n"
   ]
  },
  {
   "cell_type": "code",
   "execution_count": 5,
   "id": "65972231",
   "metadata": {},
   "outputs": [
    {
     "name": "stdout",
     "output_type": "stream",
     "text": [
      "Enter Your name---->Ayushi Goyal\n",
      "Enter your Roll----->1234\n",
      "Enter your Class---->5th\n",
      "English=67,Maths=55\n"
     ]
    }
   ],
   "source": [
    "Name = input('Enter Your name---->')\n",
    "Roll = input('Enter your Roll----->')\n",
    "Class = input('Enter your Class---->')\n",
    "English=67\n",
    "Maths=55\n",
    "Hindi=78\n",
    "Science=88\n",
    "Sst=68\n",
    "Per=(English+Maths+Science+Sst)/500*100\n",
    "print(f\"English={English},Maths={Maths}\")"
   ]
  },
  {
   "cell_type": "code",
   "execution_count": 37,
   "id": "5b7e4638",
   "metadata": {},
   "outputs": [
    {
     "name": "stdout",
     "output_type": "stream",
     "text": [
      "||       how         Are         You!  ||\n"
     ]
    }
   ],
   "source": [
    "\n",
    "string1=\"|| {:^16}{:>5}{:>12}!  ||\".format(\"how\",\"Are\",\"You\")\n",
    "print(string1)"
   ]
  },
  {
   "cell_type": "code",
   "execution_count": 49,
   "id": "b565c431",
   "metadata": {},
   "outputs": [
    {
     "name": "stdout",
     "output_type": "stream",
     "text": [
      "dataScience, most demanded, course now!\n"
     ]
    }
   ],
   "source": [
    "s=\"dataScience, most demanded, course now!\"\n",
    "print(s)"
   ]
  },
  {
   "cell_type": "code",
   "execution_count": 51,
   "id": "a52b0527",
   "metadata": {},
   "outputs": [
    {
     "name": "stdout",
     "output_type": "stream",
     "text": [
      "['dataScience', ' most demanded', ' course now!']\n"
     ]
    }
   ],
   "source": [
    "x=s.split(\",\")\n",
    "print(x)"
   ]
  },
  {
   "cell_type": "code",
   "execution_count": 52,
   "id": "7542c86e",
   "metadata": {},
   "outputs": [
    {
     "name": "stdout",
     "output_type": "stream",
     "text": [
      "dataScience most demanded  course now!\n"
     ]
    }
   ],
   "source": [
    "s=\"dataScience most demanded  course now!\"\n",
    "print(s)"
   ]
  },
  {
   "cell_type": "code",
   "execution_count": 55,
   "id": "1ec9d9e4",
   "metadata": {},
   "outputs": [
    {
     "data": {
      "text/plain": [
       "'d*a*t*a*S*c*i*e*n*c*e* *m*o*s*t* *d*e*m*a*n*d*e*d* * *c*o*u*r*s*e* *n*o*w*!'"
      ]
     },
     "execution_count": 55,
     "metadata": {},
     "output_type": "execute_result"
    }
   ],
   "source": [
    "\"*\".join(s)"
   ]
  },
  {
   "cell_type": "code",
   "execution_count": 56,
   "id": "2a50e97c",
   "metadata": {},
   "outputs": [],
   "source": [
    "string1=\"DataScience\""
   ]
  },
  {
   "cell_type": "code",
   "execution_count": 57,
   "id": "792745fa",
   "metadata": {},
   "outputs": [
    {
     "name": "stdout",
     "output_type": "stream",
     "text": [
      "DataScience\n"
     ]
    }
   ],
   "source": [
    "print(string1)"
   ]
  },
  {
   "cell_type": "code",
   "execution_count": 58,
   "id": "4f0b254a",
   "metadata": {},
   "outputs": [
    {
     "data": {
      "text/plain": [
       "'Data'"
      ]
     },
     "execution_count": 58,
     "metadata": {},
     "output_type": "execute_result"
    }
   ],
   "source": [
    "string1[:4]"
   ]
  },
  {
   "cell_type": "code",
   "execution_count": 59,
   "id": "c8e6fd15",
   "metadata": {},
   "outputs": [
    {
     "data": {
      "text/plain": [
       "'DataScience'"
      ]
     },
     "execution_count": 59,
     "metadata": {},
     "output_type": "execute_result"
    }
   ],
   "source": [
    "string1[::]"
   ]
  },
  {
   "cell_type": "code",
   "execution_count": 67,
   "id": "c6e8c0e8",
   "metadata": {},
   "outputs": [
    {
     "data": {
      "text/plain": [
       "'ataD'"
      ]
     },
     "execution_count": 67,
     "metadata": {},
     "output_type": "execute_result"
    }
   ],
   "source": [
    "string1[-8:-12:-1]"
   ]
  },
  {
   "cell_type": "code",
   "execution_count": 68,
   "id": "2ebf5372",
   "metadata": {},
   "outputs": [
    {
     "data": {
      "text/plain": [
       "'ecneicS'"
      ]
     },
     "execution_count": 68,
     "metadata": {},
     "output_type": "execute_result"
    }
   ],
   "source": [
    "string1[-1:-8:-1]"
   ]
  },
  {
   "cell_type": "code",
   "execution_count": 73,
   "id": "1980b1cb",
   "metadata": {},
   "outputs": [
    {
     "data": {
      "text/plain": [
       "'Science'"
      ]
     },
     "execution_count": 73,
     "metadata": {},
     "output_type": "execute_result"
    }
   ],
   "source": [
    "string1[4:]"
   ]
  },
  {
   "cell_type": "code",
   "execution_count": 75,
   "id": "893c0b14",
   "metadata": {},
   "outputs": [
    {
     "data": {
      "text/plain": [
       "'dATAsCIENCE'"
      ]
     },
     "execution_count": 75,
     "metadata": {},
     "output_type": "execute_result"
    }
   ],
   "source": [
    "string1.swapcase()"
   ]
  },
  {
   "cell_type": "code",
   "execution_count": 76,
   "id": "329f58d0",
   "metadata": {},
   "outputs": [
    {
     "name": "stdout",
     "output_type": "stream",
     "text": [
      "DataScience\n"
     ]
    }
   ],
   "source": [
    "print(string1)"
   ]
  },
  {
   "cell_type": "code",
   "execution_count": 77,
   "id": "79deec5e",
   "metadata": {},
   "outputs": [
    {
     "data": {
      "text/plain": [
       "'datascience'"
      ]
     },
     "execution_count": 77,
     "metadata": {},
     "output_type": "execute_result"
    }
   ],
   "source": [
    "string1.casefold()"
   ]
  },
  {
   "cell_type": "code",
   "execution_count": 78,
   "id": "f65e4a86",
   "metadata": {},
   "outputs": [
    {
     "data": {
      "text/plain": [
       "'DATASCIENCE'"
      ]
     },
     "execution_count": 78,
     "metadata": {},
     "output_type": "execute_result"
    }
   ],
   "source": [
    "string1.upper()"
   ]
  },
  {
   "cell_type": "code",
   "execution_count": 80,
   "id": "06b2edd3",
   "metadata": {},
   "outputs": [
    {
     "data": {
      "text/plain": [
       "'datascience'"
      ]
     },
     "execution_count": 80,
     "metadata": {},
     "output_type": "execute_result"
    }
   ],
   "source": [
    "string1.lower()"
   ]
  },
  {
   "cell_type": "code",
   "execution_count": 81,
   "id": "b9ebd936",
   "metadata": {},
   "outputs": [
    {
     "data": {
      "text/plain": [
       "'Datascience'"
      ]
     },
     "execution_count": 81,
     "metadata": {},
     "output_type": "execute_result"
    }
   ],
   "source": [
    "string1.title()"
   ]
  },
  {
   "cell_type": "code",
   "execution_count": 83,
   "id": "08c6bd66",
   "metadata": {},
   "outputs": [
    {
     "data": {
      "text/plain": [
       "'NataScience'"
      ]
     },
     "execution_count": 83,
     "metadata": {},
     "output_type": "execute_result"
    }
   ],
   "source": [
    "string1.replace('D','N')"
   ]
  },
  {
   "cell_type": "code",
   "execution_count": 84,
   "id": "1594af1e",
   "metadata": {},
   "outputs": [
    {
     "name": "stdout",
     "output_type": "stream",
     "text": [
      "DataScience\n"
     ]
    }
   ],
   "source": [
    "print(string1)"
   ]
  },
  {
   "cell_type": "code",
   "execution_count": 96,
   "id": "1f5c0c17",
   "metadata": {},
   "outputs": [
    {
     "data": {
      "text/plain": [
       "'DtSin'"
      ]
     },
     "execution_count": 96,
     "metadata": {},
     "output_type": "execute_result"
    }
   ],
   "source": [
    "string1[0:10:2]"
   ]
  },
  {
   "cell_type": "code",
   "execution_count": 124,
   "id": "68a7a8ee",
   "metadata": {},
   "outputs": [
    {
     "data": {
      "text/plain": [
       "'ec'"
      ]
     },
     "execution_count": 124,
     "metadata": {},
     "output_type": "execute_result"
    }
   ],
   "source": [
    "string1[-1:-11:-5]"
   ]
  },
  {
   "cell_type": "code",
   "execution_count": 125,
   "id": "1250c814",
   "metadata": {},
   "outputs": [
    {
     "name": "stdout",
     "output_type": "stream",
     "text": [
      "    Talk Is Cheap! Show me the code.      \n"
     ]
    }
   ],
   "source": [
    "string2='    Talk Is Cheap! Show me the code.      '\n",
    "print(string2)"
   ]
  },
  {
   "cell_type": "code",
   "execution_count": 126,
   "id": "ecfea217",
   "metadata": {},
   "outputs": [
    {
     "data": {
      "text/plain": [
       "'    talk is cheap! show me the code.      '"
      ]
     },
     "execution_count": 126,
     "metadata": {},
     "output_type": "execute_result"
    }
   ],
   "source": [
    "string2.capitalize()"
   ]
  },
  {
   "cell_type": "code",
   "execution_count": 127,
   "id": "8394231a",
   "metadata": {},
   "outputs": [
    {
     "data": {
      "text/plain": [
       "'    TALK IS CHEAP! SHOW ME THE CODE.      '"
      ]
     },
     "execution_count": 127,
     "metadata": {},
     "output_type": "execute_result"
    }
   ],
   "source": [
    "string2.upper()"
   ]
  },
  {
   "cell_type": "code",
   "execution_count": 128,
   "id": "fb9e1a32",
   "metadata": {},
   "outputs": [
    {
     "data": {
      "text/plain": [
       "'    Talk Is Cheap! Show Me The Code.      '"
      ]
     },
     "execution_count": 128,
     "metadata": {},
     "output_type": "execute_result"
    }
   ],
   "source": [
    "string2.title()"
   ]
  },
  {
   "cell_type": "code",
   "execution_count": 132,
   "id": "09bff0fe",
   "metadata": {},
   "outputs": [
    {
     "data": {
      "text/plain": [
       "'    talk is cheap! show me the code.      '"
      ]
     },
     "execution_count": 132,
     "metadata": {},
     "output_type": "execute_result"
    }
   ],
   "source": [
    "string2.lower()"
   ]
  },
  {
   "cell_type": "code",
   "execution_count": 130,
   "id": "93f19d18",
   "metadata": {},
   "outputs": [
    {
     "data": {
      "text/plain": [
       "'    tALK iS cHEAP! sHOW ME THE CODE.      '"
      ]
     },
     "execution_count": 130,
     "metadata": {},
     "output_type": "execute_result"
    }
   ],
   "source": [
    "string2.swapcase()"
   ]
  },
  {
   "cell_type": "code",
   "execution_count": 131,
   "id": "f4f25a6b",
   "metadata": {},
   "outputs": [
    {
     "data": {
      "text/plain": [
       "'    talk is cheap! show me the code.      '"
      ]
     },
     "execution_count": 131,
     "metadata": {},
     "output_type": "execute_result"
    }
   ],
   "source": [
    "string2.casefold()"
   ]
  },
  {
   "cell_type": "code",
   "execution_count": 133,
   "id": "83e73eea",
   "metadata": {},
   "outputs": [
    {
     "data": {
      "text/plain": [
       "'Talk Is Cheap! Show me the code.'"
      ]
     },
     "execution_count": 133,
     "metadata": {},
     "output_type": "execute_result"
    }
   ],
   "source": [
    "string2.strip()"
   ]
  },
  {
   "cell_type": "code",
   "execution_count": 134,
   "id": "fd5be79d",
   "metadata": {},
   "outputs": [
    {
     "data": {
      "text/plain": [
       "'Talk Is Cheap! Show me the code.      '"
      ]
     },
     "execution_count": 134,
     "metadata": {},
     "output_type": "execute_result"
    }
   ],
   "source": [
    "string2.lstrip()"
   ]
  },
  {
   "cell_type": "code",
   "execution_count": 135,
   "id": "4c501c46",
   "metadata": {},
   "outputs": [
    {
     "data": {
      "text/plain": [
       "'    Talk Is Cheap! Show me the code.'"
      ]
     },
     "execution_count": 135,
     "metadata": {},
     "output_type": "execute_result"
    }
   ],
   "source": [
    "string2.rstrip()"
   ]
  },
  {
   "cell_type": "code",
   "execution_count": 143,
   "id": "1cefb72c",
   "metadata": {},
   "outputs": [
    {
     "data": {
      "text/plain": [
       "'************************    TALK IS CHEAP! SHOW ME THE CODE.      ************************'"
      ]
     },
     "execution_count": 143,
     "metadata": {},
     "output_type": "execute_result"
    }
   ],
   "source": [
    "string2.upper().center(90,'*')"
   ]
  },
  {
   "cell_type": "code",
   "execution_count": 146,
   "id": "2f3ad1fb",
   "metadata": {},
   "outputs": [
    {
     "name": "stdout",
     "output_type": "stream",
     "text": [
      "    I have three visions for India. In 3000 years of our history people from all over the world have come and invaded\n",
      "    us, captured our lands, conquered our minds. From Alexander onwards the Greeks, the Turks, the Moguls, the Portuguese,the\n",
      "    British, the French, the Dutch, all of them came and looted us, took over what was ours. Yet we have not done this to any \n",
      "    other nation. We have not conquered anyone. We have not grabbed their land, their culture and their history and tried to \n",
      "    enforce our way of life on them. Why? Because we respect the freedom of others. That is why my FIRST VISION is that of \n",
      "    FREEDOM. I believe that India got its first vision of this in 1857, when we started the war of Independence. It is this \n",
      "    freedom that we must protect and nurture and build on. If we are not free, no one will respect us.\n"
     ]
    }
   ],
   "source": [
    "paragraph = \"\"\"    I have three visions for India. In 3000 years of our history people from all over the world have come and invaded\n",
    "    us, captured our lands, conquered our minds. From Alexander onwards the Greeks, the Turks, the Moguls, the Portuguese,the\n",
    "    British, the French, the Dutch, all of them came and looted us, took over what was ours. Yet we have not done this to any \n",
    "    other nation. We have not conquered anyone. We have not grabbed their land, their culture and their history and tried to \n",
    "    enforce our way of life on them. Why? Because we respect the freedom of others. That is why my FIRST VISION is that of \n",
    "    FREEDOM. I believe that India got its first vision of this in 1857, when we started the war of Independence. It is this \n",
    "    freedom that we must protect and nurture and build on. If we are not free, no one will respect us.\"\"\"\n",
    "print(paragraph)"
   ]
  },
  {
   "cell_type": "code",
   "execution_count": 1,
   "id": "14f4018a",
   "metadata": {},
   "outputs": [
    {
     "ename": "NameError",
     "evalue": "name 'paragraph' is not defined",
     "output_type": "error",
     "traceback": [
      "\u001b[1;31m---------------------------------------------------------------------------\u001b[0m",
      "\u001b[1;31mNameError\u001b[0m                                 Traceback (most recent call last)",
      "\u001b[1;32m~\\AppData\\Local\\Temp/ipykernel_2620/951682200.py\u001b[0m in \u001b[0;36m<module>\u001b[1;34m\u001b[0m\n\u001b[1;32m----> 1\u001b[1;33m \u001b[0mparagraph\u001b[0m\u001b[1;33m.\u001b[0m\u001b[0mreplace\u001b[0m\u001b[1;33m(\u001b[0m\u001b[1;34m','\u001b[0m\u001b[1;33m,\u001b[0m\u001b[1;34m''\u001b[0m\u001b[1;33m)\u001b[0m\u001b[1;33m\u001b[0m\u001b[1;33m\u001b[0m\u001b[0m\n\u001b[0m\u001b[0;32m      2\u001b[0m \u001b[0mprint\u001b[0m\u001b[1;33m(\u001b[0m\u001b[0mparagraph\u001b[0m\u001b[1;33m)\u001b[0m\u001b[1;33m\u001b[0m\u001b[1;33m\u001b[0m\u001b[0m\n",
      "\u001b[1;31mNameError\u001b[0m: name 'paragraph' is not defined"
     ]
    }
   ],
   "source": [
    "paragraph.replace(',','')\n",
    "print(paragraph)"
   ]
  },
  {
   "cell_type": "code",
   "execution_count": 3,
   "id": "ce75bb47",
   "metadata": {},
   "outputs": [
    {
     "ename": "NameError",
     "evalue": "name 'paragraph' is not defined",
     "output_type": "error",
     "traceback": [
      "\u001b[1;31m---------------------------------------------------------------------------\u001b[0m",
      "\u001b[1;31mNameError\u001b[0m                                 Traceback (most recent call last)",
      "\u001b[1;32m~\\AppData\\Local\\Temp/ipykernel_11964/500725788.py\u001b[0m in \u001b[0;36m<module>\u001b[1;34m\u001b[0m\n\u001b[1;32m----> 1\u001b[1;33m \u001b[0ms\u001b[0m\u001b[1;33m=\u001b[0m\u001b[0mparagraph\u001b[0m\u001b[1;33m.\u001b[0m\u001b[0mreplace\u001b[0m\u001b[1;33m(\u001b[0m\u001b[1;34m'.'\u001b[0m\u001b[1;33m,\u001b[0m\u001b[1;34m''\u001b[0m\u001b[1;33m)\u001b[0m\u001b[1;33m\u001b[0m\u001b[1;33m\u001b[0m\u001b[0m\n\u001b[0m\u001b[0;32m      2\u001b[0m \u001b[0mprint\u001b[0m\u001b[1;33m(\u001b[0m\u001b[0ms\u001b[0m\u001b[1;33m)\u001b[0m\u001b[1;33m\u001b[0m\u001b[1;33m\u001b[0m\u001b[0m\n",
      "\u001b[1;31mNameError\u001b[0m: name 'paragraph' is not defined"
     ]
    }
   ],
   "source": [
    "s=paragraph.replace('.','')\n",
    "print(s)"
   ]
  },
  {
   "cell_type": "code",
   "execution_count": 157,
   "id": "50b7a5fd",
   "metadata": {
    "scrolled": true
   },
   "outputs": [
    {
     "data": {
      "text/plain": [
       "'    I have three visions for India. In 3000 years of our history people from all over the world have come  invaded\\n    us, captured our ls, conquered our minds. From Alexer onwards the Greeks, the Turks, the Moguls, the Portuguese,the\\n    British, the French, the Dutch, all of them came  looted us, took over what was ours. Yet we have not done this to any \\n    other nation. We have not conquered anyone. We have not grabbed their l, their culture  their history  tried to \\n    enforce our way of life on them. Why? Because we respect the freedom of others. That is why my FIRST VISION is that of \\n    FREEDOM. I believe that India got its first vision of this in 1857, when we started the war of Independence. It is this \\n    freedom that we must protect  nurture  build on. If we are not free, no one will respect us.'"
      ]
     },
     "execution_count": 157,
     "metadata": {},
     "output_type": "execute_result"
    }
   ],
   "source": [
    "paragraph.replace('and','')"
   ]
  },
  {
   "cell_type": "code",
   "execution_count": 158,
   "id": "097e8402",
   "metadata": {},
   "outputs": [
    {
     "data": {
      "text/plain": [
       "'    I hve three visions for Indi. In 3000 yers of our history people from ll over the world hve come nd invded\\n    us, cptured our lnds, conquered our minds. From Alexnder onwrds the Greeks, the Turks, the Moguls, the Portuguese,the\\n    British, the French, the Dutch, ll of them cme nd looted us, took over wht ws ours. Yet we hve not done this to ny \\n    other ntion. We hve not conquered nyone. We hve not grbbed their lnd, their culture nd their history nd tried to \\n    enforce our wy of life on them. Why? Becuse we respect the freedom of others. Tht is why my FIRST VISION is tht of \\n    FREEDOM. I believe tht Indi got its first vision of this in 1857, when we strted the wr of Independence. It is this \\n    freedom tht we must protect nd nurture nd build on. If we re not free, no one will respect us.'"
      ]
     },
     "execution_count": 158,
     "metadata": {},
     "output_type": "execute_result"
    }
   ],
   "source": [
    "paragraph.replace('a','')"
   ]
  },
  {
   "cell_type": "code",
   "execution_count": 159,
   "id": "0f851480",
   "metadata": {},
   "outputs": [
    {
     "data": {
      "text/plain": [
       "'    I have three visions for India. In 3000 years  our history people from all over the world have come and invaded\\n    us, captured our lands, conquered our minds. From Alexander onwards the Greeks, the Turks, the Moguls, the Portuguese,the\\n    British, the French, the Dutch, all  them came and looted us, took over what was ours. Yet we have not done this to any \\n    other nation. We have not conquered anyone. We have not grabbed their land, their culture and their history and tried to \\n    enforce our way  life on them. Why? Because we respect the freedom  others. That is why my FIRST VISION is that  \\n    FREEDOM. I believe that India got its first vision  this in 1857, when we started the war  Independence. It is this \\n    freedom that we must protect and nurture and build on. If we are not free, no one will respect us.'"
      ]
     },
     "execution_count": 159,
     "metadata": {},
     "output_type": "execute_result"
    }
   ],
   "source": [
    "paragraph.replace('of','')"
   ]
  },
  {
   "cell_type": "code",
   "execution_count": 160,
   "id": "7a3426b3",
   "metadata": {},
   "outputs": [
    {
     "data": {
      "text/plain": [
       "'    I have three visions for India. In 3000 years of our history people from all over the world have come and vaded\\n    us, captured our lands, conquered our mds. From Alexander onwards the Greeks, the Turks, the Moguls, the Portuguese,the\\n    British, the French, the Dutch, all of them came and looted us, took over what was ours. Yet we have not done this to any \\n    other nation. We have not conquered anyone. We have not grabbed their land, their culture and their history and tried to \\n    enforce our way of life on them. Why? Because we respect the freedom of others. That is why my FIRST VISION is that of \\n    FREEDOM. I believe that India got its first vision of this  1857, when we started the war of Independence. It is this \\n    freedom that we must protect and nurture and build on. If we are not free, no one will respect us.'"
      ]
     },
     "execution_count": 160,
     "metadata": {},
     "output_type": "execute_result"
    }
   ],
   "source": [
    "paragraph.replace('in','')"
   ]
  },
  {
   "cell_type": "code",
   "execution_count": 161,
   "id": "667f4f20",
   "metadata": {},
   "outputs": [
    {
     "data": {
      "text/plain": [
       "'    I have three vions for India. In 3000 years of our htory people from all over the world have come and invaded\\n    us, captured our lands, conquered our minds. From Alexander onwards the Greeks, the Turks, the Moguls, the Portuguese,the\\n    Brith, the French, the Dutch, all of them came and looted us, took over what was ours. Yet we have not done th to any \\n    other nation. We have not conquered anyone. We have not grabbed their land, their culture and their htory and tried to \\n    enforce our way of life on them. Why? Because we respect the freedom of others. That  why my FIRST VISION  that of \\n    FREEDOM. I believe that India got its first vion of th in 1857, when we started the war of Independence. It  th \\n    freedom that we must protect and nurture and build on. If we are not free, no one will respect us.'"
      ]
     },
     "execution_count": 161,
     "metadata": {},
     "output_type": "execute_result"
    }
   ],
   "source": [
    "paragraph.replace('is','')"
   ]
  },
  {
   "cell_type": "code",
   "execution_count": 162,
   "id": "8c6e10bc",
   "metadata": {},
   "outputs": [
    {
     "name": "stdout",
     "output_type": "stream",
     "text": [
      "enter integer---->45\n",
      "45\n"
     ]
    }
   ],
   "source": [
    "N=input(\"enter integer---->\")\n",
    "print(N)"
   ]
  },
  {
   "cell_type": "markdown",
   "id": "64b66607",
   "metadata": {},
   "source": [
    "#Integers such as Binary, hexadecimal, etc., and floats can be rounded or displayed in the exponent form with the use of format specifiers. "
   ]
  },
  {
   "cell_type": "code",
   "execution_count": 3,
   "id": "2743a56a",
   "metadata": {},
   "outputs": [],
   "source": [
    "l=[4,32,4,32,4,3,2,2,1]"
   ]
  },
  {
   "cell_type": "code",
   "execution_count": 4,
   "id": "4d64d000",
   "metadata": {},
   "outputs": [
    {
     "name": "stdout",
     "output_type": "stream",
     "text": [
      "[4, 4]\n"
     ]
    }
   ],
   "source": [
    "print(l[2::-2])"
   ]
  },
  {
   "cell_type": "code",
   "execution_count": 5,
   "id": "a2c73792",
   "metadata": {},
   "outputs": [],
   "source": [
    "l=[1,2,2,3,4,32,4,32,4]"
   ]
  },
  {
   "cell_type": "code",
   "execution_count": 6,
   "id": "013c7d28",
   "metadata": {},
   "outputs": [
    {
     "name": "stdout",
     "output_type": "stream",
     "text": [
      "[1, 2, 2, 3, 4, 32, 4, 32, 4]\n"
     ]
    }
   ],
   "source": [
    "print(l)"
   ]
  },
  {
   "cell_type": "code",
   "execution_count": 7,
   "id": "d2c5962e",
   "metadata": {},
   "outputs": [
    {
     "name": "stdout",
     "output_type": "stream",
     "text": [
      "[2, 1]\n"
     ]
    }
   ],
   "source": [
    "print(l[2::-2])"
   ]
  },
  {
   "cell_type": "code",
   "execution_count": 8,
   "id": "eab60bf9",
   "metadata": {},
   "outputs": [
    {
     "data": {
      "text/plain": [
       "[]"
      ]
     },
     "execution_count": 8,
     "metadata": {},
     "output_type": "execute_result"
    }
   ],
   "source": [
    "l[2:-2:-2]"
   ]
  },
  {
   "cell_type": "code",
   "execution_count": 8,
   "id": "4a52af6f",
   "metadata": {},
   "outputs": [
    {
     "name": "stdout",
     "output_type": "stream",
     "text": [
      "<class 'set'>\n"
     ]
    }
   ],
   "source": [
    "a = {(2, 4, 5, 9)}\n",
    "b = {(2, 4, 11, 12)}\n",
    "print(type(a))"
   ]
  },
  {
   "cell_type": "code",
   "execution_count": 10,
   "id": "963d4079",
   "metadata": {},
   "outputs": [
    {
     "data": {
      "text/plain": [
       "{(2, 4, 5, 9), (2, 4, 11, 12)}"
      ]
     },
     "execution_count": 10,
     "metadata": {},
     "output_type": "execute_result"
    }
   ],
   "source": [
    "a.union(b)"
   ]
  },
  {
   "cell_type": "code",
   "execution_count": 11,
   "id": "2f76817e",
   "metadata": {},
   "outputs": [
    {
     "name": "stdout",
     "output_type": "stream",
     "text": [
      "Enter a number-->12 12\n",
      "Enter first number---> 12\n",
      "Enter second nymber--> 12\n"
     ]
    }
   ],
   "source": [
    "num1,num2=input(\"Enter a number-->\").split()\n",
    "print(\"Enter first number--->\",num1)\n",
    "print(\"Enter second nymber-->\",num2)"
   ]
  },
  {
   "cell_type": "code",
   "execution_count": 12,
   "id": "2f45bbfe",
   "metadata": {},
   "outputs": [
    {
     "ename": "NameError",
     "evalue": "name 'builtins' is not defined",
     "output_type": "error",
     "traceback": [
      "\u001b[1;31m---------------------------------------------------------------------------\u001b[0m",
      "\u001b[1;31mNameError\u001b[0m                                 Traceback (most recent call last)",
      "\u001b[1;32m~\\AppData\\Local\\Temp/ipykernel_30912/2856506638.py\u001b[0m in \u001b[0;36m<module>\u001b[1;34m\u001b[0m\n\u001b[1;32m----> 1\u001b[1;33m \u001b[0mprint\u001b[0m\u001b[1;33m(\u001b[0m\u001b[0mdir\u001b[0m\u001b[1;33m(\u001b[0m\u001b[0mbuiltins\u001b[0m\u001b[1;33m)\u001b[0m\u001b[1;33m)\u001b[0m\u001b[1;33m\u001b[0m\u001b[1;33m\u001b[0m\u001b[0m\n\u001b[0m",
      "\u001b[1;31mNameError\u001b[0m: name 'builtins' is not defined"
     ]
    }
   ],
   "source": [
    "print(dir(builtins))"
   ]
  },
  {
   "cell_type": "code",
   "execution_count": null,
   "id": "c2cf7c22",
   "metadata": {},
   "outputs": [],
   "source": []
  }
 ],
 "metadata": {
  "kernelspec": {
   "display_name": "Python 3 (ipykernel)",
   "language": "python",
   "name": "python3"
  },
  "language_info": {
   "codemirror_mode": {
    "name": "ipython",
    "version": 3
   },
   "file_extension": ".py",
   "mimetype": "text/x-python",
   "name": "python",
   "nbconvert_exporter": "python",
   "pygments_lexer": "ipython3",
   "version": "3.9.7"
  }
 },
 "nbformat": 4,
 "nbformat_minor": 5
}
