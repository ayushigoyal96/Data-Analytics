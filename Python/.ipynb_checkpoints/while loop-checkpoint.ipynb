{
 "cells": [
  {
   "cell_type": "markdown",
   "id": "f5f731cd",
   "metadata": {},
   "source": [
    "# Introduction to loops"
   ]
  },
  {
   "cell_type": "code",
   "execution_count": 1,
   "id": "e9583524",
   "metadata": {},
   "outputs": [
    {
     "name": "stdout",
     "output_type": "stream",
     "text": [
      "1\t2\t3\t4\t5\t6\t7\t8\t9\t10\t11\t12\t13\t14\t15\t16\t17\t18\t19\t20\t21\t22\t23\t24\t25\t26\t27\t28\t29\t30\t31\t32\t33\t34\t35\t36\t37\t38\t39\t40\t41\t42\t43\t44\t45\t46\t47\t48\t49\t50\t51\t52\t53\t54\t55\t56\t57\t58\t59\t60\t61\t62\t63\t64\t65\t66\t67\t68\t69\t70\t71\t72\t73\t74\t75\t76\t77\t78\t79\t80\t81\t82\t83\t84\t85\t86\t87\t88\t89\t90\t91\t92\t93\t94\t95\t96\t97\t98\t99\t100\t"
     ]
    }
   ],
   "source": [
    "i=1\n",
    "while i<=100:\n",
    "    print(i,end=\"\\t\")\n",
    "    i=i+1"
   ]
  },
  {
   "cell_type": "code",
   "execution_count": 2,
   "id": "e3bfcd35",
   "metadata": {},
   "outputs": [
    {
     "name": "stdout",
     "output_type": "stream",
     "text": [
      "100\t99\t98\t97\t96\t95\t94\t93\t92\t91\t90\t89\t88\t87\t86\t85\t84\t83\t82\t81\t80\t79\t78\t77\t76\t75\t74\t73\t72\t71\t70\t69\t68\t67\t66\t65\t64\t63\t62\t61\t60\t59\t58\t57\t56\t55\t54\t53\t52\t51\t50\t49\t48\t47\t46\t45\t44\t43\t42\t41\t40\t39\t38\t37\t36\t35\t34\t33\t32\t31\t30\t29\t28\t27\t26\t25\t24\t23\t22\t21\t20\t19\t18\t17\t16\t15\t14\t13\t12\t11\t10\t9\t8\t7\t6\t5\t4\t3\t2\t1\t0\t"
     ]
    }
   ],
   "source": [
    "i=100\n",
    "while i>=0:\n",
    "    print(i,end=\"\\t\")\n",
    "    i=i-1"
   ]
  },
  {
   "cell_type": "code",
   "execution_count": 3,
   "id": "8c765d8a",
   "metadata": {},
   "outputs": [],
   "source": [
    "#WAP to print a table of given number??"
   ]
  },
  {
   "cell_type": "code",
   "execution_count": 4,
   "id": "1c6c61de",
   "metadata": {},
   "outputs": [
    {
     "name": "stdout",
     "output_type": "stream",
     "text": [
      "Enter a number--->2\n",
      "2 X 1 = 2\n",
      "2 X 2 = 4\n",
      "2 X 3 = 6\n",
      "2 X 4 = 8\n",
      "2 X 5 = 10\n",
      "2 X 6 = 12\n",
      "2 X 7 = 14\n",
      "2 X 8 = 16\n",
      "2 X 9 = 18\n",
      "2 X 10 = 20\n"
     ]
    }
   ],
   "source": [
    "num = int(input(\"Enter a number--->\"))\n",
    "i=1\n",
    "while i<=10:\n",
    "    print(f\"{num} X {i} = {num*i}\")\n",
    "    i+=1"
   ]
  },
  {
   "cell_type": "code",
   "execution_count": 5,
   "id": "7e1e9290",
   "metadata": {},
   "outputs": [
    {
     "name": "stdout",
     "output_type": "stream",
     "text": [
      "[5, 10, 15, 20, 25, 30, 35, 40, 45]\n"
     ]
    }
   ],
   "source": [
    "l=[1,2,3,4,5,6,7,8,9]\n",
    "l1=[]\n",
    "i=0\n",
    "while i<len(l):\n",
    "    l1.append(l[i]*5)\n",
    "    i+=1\n",
    "print(l1)"
   ]
  },
  {
   "cell_type": "code",
   "execution_count": 6,
   "id": "462f1ab0",
   "metadata": {},
   "outputs": [],
   "source": [
    "#WAP to reverse a string using while loop???"
   ]
  },
  {
   "cell_type": "code",
   "execution_count": 7,
   "id": "458c063d",
   "metadata": {},
   "outputs": [
    {
     "name": "stdout",
     "output_type": "stream",
     "text": [
      "i,h,s,u,y,A,"
     ]
    }
   ],
   "source": [
    "s=\"Ayushi\"\n",
    "i=len(s)-1\n",
    "while i>=0:\n",
    "    print(s[i],end=\",\")\n",
    "    i-=1"
   ]
  },
  {
   "cell_type": "code",
   "execution_count": 8,
   "id": "373f511d",
   "metadata": {},
   "outputs": [
    {
     "data": {
      "text/plain": [
       "6"
      ]
     },
     "execution_count": 8,
     "metadata": {},
     "output_type": "execute_result"
    }
   ],
   "source": [
    "len(s)"
   ]
  },
  {
   "cell_type": "code",
   "execution_count": 9,
   "id": "1e46ec05",
   "metadata": {},
   "outputs": [
    {
     "name": "stdout",
     "output_type": "stream",
     "text": [
      "[10, 6, 4, 4, 4, 3, 2, 6, 9, 11]\n"
     ]
    }
   ],
   "source": [
    "l1=[5,2,1,3,2,2,1,3,4,5]\n",
    "l2=[5,4,3,1,2,1,1,3,5,6]\n",
    "l3=[]\n",
    "i=0\n",
    "while i<len(l1):\n",
    "    l3.append(l1[i]+l2[i])\n",
    "    i+=1\n",
    "print(l3)   \n"
   ]
  },
  {
   "cell_type": "code",
   "execution_count": 10,
   "id": "22a43fd5",
   "metadata": {},
   "outputs": [
    {
     "name": "stdout",
     "output_type": "stream",
     "text": [
      "name\n"
     ]
    }
   ],
   "source": [
    "s=\"Hello My name is Ayushi goyal\"\n",
    "l=s.split()\n",
    "i=0\n",
    "while i<len(l):\n",
    "    if len(l[i])==4:\n",
    "        print(l[i])\n",
    "    i+=1\n",
    "    "
   ]
  },
  {
   "cell_type": "code",
   "execution_count": 11,
   "id": "1fd6a213",
   "metadata": {},
   "outputs": [],
   "source": [
    "#WAP to add all the natural numbers upto 100"
   ]
  },
  {
   "cell_type": "code",
   "execution_count": 12,
   "id": "56abc3a5",
   "metadata": {},
   "outputs": [
    {
     "name": "stdout",
     "output_type": "stream",
     "text": [
      "5050\n"
     ]
    }
   ],
   "source": [
    "total=0\n",
    "i=0\n",
    "while i<=100:\n",
    "    total=total+i\n",
    "    i+=1\n",
    "print(total)"
   ]
  },
  {
   "cell_type": "markdown",
   "id": "40c36e46",
   "metadata": {},
   "source": [
    "#Using while loop, if statement and str() function; iterate through the list and if there is a 100, print it with its index number. i.e.: \"There is a 100 at index no: 5\""
   ]
  },
  {
   "cell_type": "code",
   "execution_count": 13,
   "id": "0a98b68d",
   "metadata": {},
   "outputs": [
    {
     "name": "stdout",
     "output_type": "stream",
     "text": [
      "There is a 100 at index no. 12\n"
     ]
    }
   ],
   "source": [
    "lst=[10, 99, 98, 85, 45, 59, 65, 66, 76, 12, 35, 13, 100, 80, 95]\n",
    "i=0\n",
    "while i<len(lst):\n",
    "    if lst[i]==100:\n",
    "        print(\"There is a 100 at index no.\",i)\n",
    "    i+=1"
   ]
  },
  {
   "cell_type": "code",
   "execution_count": 14,
   "id": "0046d2ae",
   "metadata": {},
   "outputs": [],
   "source": [
    "x = [(1, 2, 3, 4, 5, 6, 7, 8, 9)] \n",
    "i=0\n",
    "while i<len(x):\n",
    "    if len(x[i])%2==0:\n",
    "        print(\"number is even\",x[i])\n",
    "    i+=1"
   ]
  },
  {
   "cell_type": "code",
   "execution_count": 15,
   "id": "5c91b290",
   "metadata": {},
   "outputs": [],
   "source": [
    "#Write a Python program to find those numbers which are divisible by 7 and multiple of 5, between 1500 and 2700 (both included)."
   ]
  },
  {
   "cell_type": "code",
   "execution_count": 16,
   "id": "875ac6e3",
   "metadata": {},
   "outputs": [
    {
     "name": "stdout",
     "output_type": "stream",
     "text": [
      "[1505, 1540, 1575, 1610, 1645, 1680, 1715, 1750, 1785, 1820, 1855, 1890, 1925, 1960, 1995, 2030, 2065, 2100, 2135, 2170, 2205, 2240, 2275, 2310, 2345, 2380, 2415, 2450, 2485, 2520, 2555, 2590, 2625, 2660, 2695]\n"
     ]
    }
   ],
   "source": [
    "l=[]\n",
    "i=1500\n",
    "while i<=2700:\n",
    "    if (i%7==0) and (i%5==0):\n",
    "        l.append(i)\n",
    "    i+=1\n",
    "print(l)\n",
    "        "
   ]
  },
  {
   "cell_type": "markdown",
   "id": "a52c9ae2",
   "metadata": {},
   "source": [
    "#Write a Python program to guess a number between 1 to 9. Go to the editor\n",
    " Note : User is prompted to enter a guess. If the user guesses wrong then the prompt appears again until the guess is correct, on successful guess, user will get a \"Well guessed!\" message, and the program will exit."
   ]
  },
  {
   "cell_type": "code",
   "execution_count": 1,
   "id": "c13de04a",
   "metadata": {},
   "outputs": [
    {
     "name": "stdout",
     "output_type": "stream",
     "text": [
      "Guess a number--->3\n",
      "Again\n"
     ]
    }
   ],
   "source": [
    "number=int(input(\"Guess a number--->\"))\n",
    "if number==9:\n",
    "        print(\"well guessed:\")\n",
    "else:\n",
    "        print(\"Again\")\n",
    "    "
   ]
  },
  {
   "cell_type": "markdown",
   "id": "a2f6fef8",
   "metadata": {},
   "source": [
    "Write a Python program that prints each item and its corresponding type from the following list."
   ]
  },
  {
   "cell_type": "code",
   "execution_count": null,
   "id": "fd6f8e43",
   "metadata": {},
   "outputs": [],
   "source": [
    "list = [[1452, 11.23, 1+2j], True, 'w3resource', (0, -1), [5, 12], {\"class\":'V', \"section\":'A'}]\n"
   ]
  },
  {
   "cell_type": "code",
   "execution_count": null,
   "id": "ac904cc5",
   "metadata": {},
   "outputs": [],
   "source": [
    "len(list)"
   ]
  },
  {
   "cell_type": "code",
   "execution_count": null,
   "id": "0c4da050",
   "metadata": {},
   "outputs": [],
   "source": [
    "list[0]"
   ]
  },
  {
   "cell_type": "code",
   "execution_count": 1,
   "id": "96f878c0",
   "metadata": {
    "scrolled": true
   },
   "outputs": [
    {
     "name": "stdout",
     "output_type": "stream",
     "text": [
      "[1452, 11.23, (1+2j)] <class 'list'>\n",
      "True <class 'bool'>\n",
      "w3resource <class 'str'>\n",
      "(0, -1) <class 'tuple'>\n",
      "[5, 12] <class 'list'>\n",
      "{'class': 'V', 'section': 'A'} <class 'dict'>\n"
     ]
    }
   ],
   "source": [
    "list = [[1452, 11.23, 1+2j], True, 'w3resource', (0, -1), [5, 12], {\"class\":'V', \"section\":'A'}]\n",
    "i=0\n",
    "while i<len(list):\n",
    "    print(list[i],type(list[i]))\n",
    "    i+=1"
   ]
  },
  {
   "cell_type": "code",
   "execution_count": 2,
   "id": "98a0bcee",
   "metadata": {},
   "outputs": [
    {
     "name": "stdout",
     "output_type": "stream",
     "text": [
      "{'class': 'V', 'section': 'A'}\n",
      "[5, 12]\n",
      "(0, -1)\n",
      "w3resource\n",
      "True\n",
      "[1452, 11.23, (1+2j)]\n"
     ]
    }
   ],
   "source": [
    "list = [[1452, 11.23, 1+2j], True, 'w3resource', (0, -1), [5, 12], {\"class\":'V', \"section\":'A'}]\n",
    "i=len(list)-1\n",
    "while i>=0:\n",
    "    print(list[i])\n",
    "    i-=1"
   ]
  },
  {
   "cell_type": "markdown",
   "id": "78cc030b",
   "metadata": {},
   "source": [
    "Write a Python program that accepts a string and calculate the number of digits and letters."
   ]
  },
  {
   "cell_type": "code",
   "execution_count": 4,
   "id": "d3ee4ca6",
   "metadata": {},
   "outputs": [
    {
     "name": "stdout",
     "output_type": "stream",
     "text": [
      "Enter a string--->ayushi\n",
      "6\n"
     ]
    }
   ],
   "source": [
    "s=input(\"Enter a string--->\")\n",
    "i=0\n",
    "while i<=0:\n",
    "    print(len(s))\n",
    "    i+=1\n",
    "    \n"
   ]
  },
  {
   "cell_type": "code",
   "execution_count": null,
   "id": "8186e830",
   "metadata": {},
   "outputs": [],
   "source": [
    "#WAP "
   ]
  },
  {
   "cell_type": "code",
   "execution_count": 3,
   "id": "a1cac0c1",
   "metadata": {},
   "outputs": [
    {
     "name": "stdout",
     "output_type": "stream",
     "text": [
      "how\n",
      "how\n"
     ]
    }
   ],
   "source": [
    "s=\"Hi how are you , and how is your mother?\"\n",
    "s=s.split()\n",
    "i=0\n",
    "while i<len(s):\n",
    "    #print(s[i])\n",
    "    if s[i].swapcase().startswith(\"H\"):\n",
    "        print(s[i])\n",
    "    i+=1"
   ]
  },
  {
   "cell_type": "code",
   "execution_count": null,
   "id": "107d5a4d",
   "metadata": {},
   "outputs": [],
   "source": [
    "s=\"hello\"\n",
    "dir(s)"
   ]
  },
  {
   "cell_type": "code",
   "execution_count": null,
   "id": "22800402",
   "metadata": {},
   "outputs": [],
   "source": [
    "s=\"Hi how are you , and how is your mother?\"\n",
    "s.swapcase()\n",
    "#print(s)\n",
    "s=s.split()\n",
    "i=0\n",
    "while i<len(s):\n",
    "    #print(s[i])\n",
    "    if s[i].startswith(\"h\"):\n",
    "        print(s[i])\n",
    "    i+=1"
   ]
  },
  {
   "cell_type": "code",
   "execution_count": null,
   "id": "f9a4ca66",
   "metadata": {},
   "outputs": [],
   "source": [
    "#WAP to check whether vowel or consonants???"
   ]
  },
  {
   "cell_type": "code",
   "execution_count": null,
   "id": "75cfbc54",
   "metadata": {},
   "outputs": [],
   "source": [
    "s1=input(\"Enter a letter--->\")\n",
    "s=['a','e','i','o','u']\n",
    "if s1.casefold().strip(\" \") in s:\n",
    "    print(\"vowel\")\n",
    "else:\n",
    "    print(\"consonant\")"
   ]
  },
  {
   "cell_type": "code",
   "execution_count": null,
   "id": "e6b4d66a",
   "metadata": {},
   "outputs": [],
   "source": [
    "#WAP to print reverse of a given number."
   ]
  },
  {
   "cell_type": "code",
   "execution_count": null,
   "id": "d3afb840",
   "metadata": {},
   "outputs": [],
   "source": [
    "num=int(input(\"Enter a number-->\"))\n",
    "res=0\n",
    "while num!=0:\n",
    "    rem=num%10\n",
    "    res=res*10+rem\n",
    "    num=num//10\n",
    "    print(res)"
   ]
  },
  {
   "cell_type": "code",
   "execution_count": null,
   "id": "1a3e5b07",
   "metadata": {},
   "outputs": [],
   "source": [
    "#WAP to check num is palindrome or not??"
   ]
  },
  {
   "cell_type": "code",
   "execution_count": 6,
   "id": "af03be19",
   "metadata": {},
   "outputs": [
    {
     "name": "stdout",
     "output_type": "stream",
     "text": [
      "Enter a number-->121\n",
      "1\n",
      "12\n",
      "121\n",
      "number is palindrome\n"
     ]
    }
   ],
   "source": [
    "num=int(input(\"Enter a number-->\"))\n",
    "a=num\n",
    "res=0\n",
    "while num!=0:\n",
    "    rem=num%10\n",
    "    res=res*10+rem\n",
    "    num=num//10\n",
    "    print(res)\n",
    "if a == res:\n",
    "        print(\"number is palindrome\")\n",
    "else:\n",
    "        print(\"number is not palindrome\")\n",
    "    "
   ]
  },
  {
   "cell_type": "code",
   "execution_count": null,
   "id": "8f0459c4",
   "metadata": {},
   "outputs": [],
   "source": [
    "#WAP to print the number of digits of a given number."
   ]
  },
  {
   "cell_type": "code",
   "execution_count": 4,
   "id": "ef107f73",
   "metadata": {},
   "outputs": [
    {
     "name": "stdout",
     "output_type": "stream",
     "text": [
      "Enter a number-->12345\n",
      "The number of digits---> 5\n"
     ]
    }
   ],
   "source": [
    "num=int(input(\"Enter a number-->\"))\n",
    "count=0\n",
    "while num!=0:\n",
    "    num=num//10\n",
    "    count+=1\n",
    "    #print(res)\n",
    "print(\"The number of digits--->\",count)\n",
    "    "
   ]
  },
  {
   "cell_type": "code",
   "execution_count": null,
   "id": "e121360e",
   "metadata": {},
   "outputs": [],
   "source": [
    "#WAP to check number is armstrong or not???"
   ]
  },
  {
   "cell_type": "code",
   "execution_count": 7,
   "id": "d05669a5",
   "metadata": {},
   "outputs": [
    {
     "name": "stdout",
     "output_type": "stream",
     "text": [
      "Enter a number-->123\n",
      "Number is not armstrong\n"
     ]
    }
   ],
   "source": [
    "num=int(input(\"Enter a number-->\"))\n",
    "res=0\n",
    "a=num\n",
    "while num!=0:\n",
    "    rem=num%10\n",
    "    res+=rem**3\n",
    "    num=num//10\n",
    "if res==a:\n",
    "    print(\"Armstrong number\")\n",
    "else:\n",
    "    print(\"Number is not armstrong\")\n",
    "    "
   ]
  },
  {
   "cell_type": "code",
   "execution_count": null,
   "id": "dde2cdd7",
   "metadata": {},
   "outputs": [],
   "source": [
    "num=int(input(\"Enter a number-->\"))\n",
    "res=0\n",
    "a=num\n",
    "order=len(str(num))\n",
    "while num!=0:\n",
    "    rem=num%10\n",
    "    res+=rem**order\n",
    "    num=num//10\n",
    "if res==a:\n",
    "    print(\"Armstrong number\")\n",
    "else:\n",
    "    print(\"Number is not armstrong\")"
   ]
  },
  {
   "cell_type": "code",
   "execution_count": null,
   "id": "3bc24223",
   "metadata": {},
   "outputs": [],
   "source": [
    "#WAP to print sum of even numbers from 1 to 20"
   ]
  },
  {
   "cell_type": "code",
   "execution_count": 4,
   "id": "5a1d991f",
   "metadata": {},
   "outputs": [
    {
     "name": "stdout",
     "output_type": "stream",
     "text": [
      "110\n"
     ]
    }
   ],
   "source": [
    "sum=0\n",
    "i=0\n",
    "while i<=20:\n",
    "    if i%2==0:\n",
    "        sum=sum+i\n",
    "    i+=1\n",
    "print(sum)"
   ]
  },
  {
   "cell_type": "code",
   "execution_count": 8,
   "id": "81910c6c",
   "metadata": {},
   "outputs": [],
   "source": [
    "#WAP to print first letter from the given string??"
   ]
  },
  {
   "cell_type": "code",
   "execution_count": 29,
   "id": "49e193a5",
   "metadata": {},
   "outputs": [
    {
     "name": "stdout",
     "output_type": "stream",
     "text": [
      "H\n",
      "M\n",
      "n\n",
      "i\n",
      "A\n",
      "G\n"
     ]
    }
   ],
   "source": [
    "s=\"Hello My name is Ayushi Goyal\"\n",
    "s=s.split()\n",
    "i=0\n",
    "while i<len(s):\n",
    "    print(s[i][0])\n",
    "    i+=1"
   ]
  },
  {
   "cell_type": "code",
   "execution_count": null,
   "id": "eb209385",
   "metadata": {},
   "outputs": [],
   "source": [
    "#WAP to print count each charater present in the string???"
   ]
  },
  {
   "cell_type": "code",
   "execution_count": 53,
   "id": "0972c760",
   "metadata": {},
   "outputs": [
    {
     "name": "stdout",
     "output_type": "stream",
     "text": [
      "t --> 2,h --> 2,e --> 3,  --> 8,q --> 1,u --> 2,i --> 1,c --> 1,k --> 1,  --> 8,b --> 1,r --> 2,o --> 4,w --> 1,n --> 1,  --> 8,f --> 1,o --> 4,x --> 1,  --> 8,j --> 1,u --> 2,m --> 1,p --> 1,s --> 1,  --> 8,o --> 4,v --> 1,e --> 3,r --> 2,  --> 8,t --> 2,h --> 2,e --> 3,  --> 8,l --> 1,a --> 1,z --> 1,y --> 1,  --> 8,d --> 1,o --> 4,g --> 1,"
     ]
    }
   ],
   "source": [
    "s = \"The quick brown fox jumps over the lazy dog\".lower()\n",
    "i=0\n",
    "while i<len(s):\n",
    "    print(s[i],\"-->\",s.count(s[i]),end=\",\")\n",
    "    if s[i]==1:\n",
    "        print(\"The non-repeating character is---->\",s[i])\n",
    "        break\n",
    "    i+=1"
   ]
  },
  {
   "cell_type": "code",
   "execution_count": 3,
   "id": "01fcc48e",
   "metadata": {},
   "outputs": [
    {
     "name": "stdout",
     "output_type": "stream",
     "text": [
      "The first non repeating character is -->  q\n",
      "{'t': 2, 'h': 2, 'e': 3, ' ': 8, 'q': 1, 'u': 2, 'i': 1, 'c': 1, 'k': 1, 'b': 1, 'r': 2, 'o': 4, 'w': 1, 'n': 1, 'f': 1, 'x': 1, 'j': 1, 'm': 1, 'p': 1, 's': 1, 'v': 1, 'l': 1, 'a': 1, 'z': 1, 'y': 1, 'd': 1, 'g': 1}\n"
     ]
    }
   ],
   "source": [
    "s = \"The quick brown fox jumps over the lazy dog\".lower()\n",
    "d = {}.fromkeys(s,0)\n",
    "i= 0 \n",
    "while i<len(s):\n",
    "    if s[i] in d:\n",
    "        d[s[i]]+=1\n",
    "    i+=1\n",
    "v = list(d.values())\n",
    "k = list(d.keys())\n",
    "i = 0\n",
    "while i<len(k):\n",
    "    if v[i] == 1:\n",
    "        print(\"The first non repeating character is --> \",k[i])\n",
    "        break\n",
    "    i+=1\n",
    "print(d)"
   ]
  },
  {
   "cell_type": "code",
   "execution_count": null,
   "id": "fbf56380",
   "metadata": {},
   "outputs": [],
   "source": [
    "# To print fabonacci series???"
   ]
  },
  {
   "cell_type": "code",
   "execution_count": 60,
   "id": "db957b56",
   "metadata": {},
   "outputs": [
    {
     "name": "stdout",
     "output_type": "stream",
     "text": [
      "Enter number of terms --> 6\n",
      "0 1 1 2 3 5 "
     ]
    }
   ],
   "source": [
    "n = int(input(\"Enter number of terms --> \"))\n",
    "i = 1\n",
    "a = 0\n",
    "b = 1\n",
    "while i<=n:\n",
    "    s = a+b\n",
    "    print(a,end=\" \")\n",
    "    a = b\n",
    "    b = s\n",
    "    i+=1"
   ]
  },
  {
   "cell_type": "code",
   "execution_count": 61,
   "id": "b0c53d5f",
   "metadata": {},
   "outputs": [],
   "source": [
    "#WAP to check whether given number is prime or not???"
   ]
  },
  {
   "cell_type": "code",
   "execution_count": 64,
   "id": "8a25a3bf",
   "metadata": {},
   "outputs": [
    {
     "name": "stdout",
     "output_type": "stream",
     "text": [
      "Enter a number-->4\n",
      "4 is not prime\n"
     ]
    }
   ],
   "source": [
    "num=int(input(\"Enter a number-->\"))\n",
    "i=1\n",
    "count=0\n",
    "while i<=num:\n",
    "    if num%i==0:\n",
    "        count+=1\n",
    "    i+=1\n",
    "if count==2:\n",
    "    print(f\"{num} is prime\")\n",
    "else:\n",
    "    print(f\"{num} is not prime\")\n",
    "    "
   ]
  },
  {
   "cell_type": "code",
   "execution_count": 2,
   "id": "3a1c9351",
   "metadata": {},
   "outputs": [],
   "source": [
    "#Pattern making---->"
   ]
  },
  {
   "cell_type": "code",
   "execution_count": 67,
   "id": "93159c5a",
   "metadata": {},
   "outputs": [
    {
     "name": "stdout",
     "output_type": "stream",
     "text": [
      "Enter a number of lines--->7\n",
      "* \n",
      "* * \n",
      "* * * \n",
      "* * * * \n",
      "* * * * * \n",
      "* * * * * * \n",
      "* * * * * * * \n"
     ]
    }
   ],
   "source": [
    "n=int(input(\"Enter a number of lines--->\"))\n",
    "i = 0\n",
    "while i<n:\n",
    "    j=0\n",
    "    while j<=i:\n",
    "        print(\"*\",end=\" \")\n",
    "        j+=1\n",
    "    print()\n",
    "    i+=1"
   ]
  },
  {
   "cell_type": "code",
   "execution_count": 80,
   "id": "9efe2a3f",
   "metadata": {},
   "outputs": [
    {
     "name": "stdout",
     "output_type": "stream",
     "text": [
      "Enter a number of lines--->6\n",
      "* * * * * * \n",
      "* * * * * \n",
      "* * * * \n",
      "* * * \n",
      "* * \n",
      "* \n"
     ]
    }
   ],
   "source": [
    "n=int(input(\"Enter a number of lines--->\"))\n",
    "i = 0\n",
    "while i<n:\n",
    "    j=n\n",
    "    while j>i:\n",
    "        print(\"*\",end=\" \")\n",
    "        j-=1\n",
    "    print()\n",
    "    i+=1"
   ]
  },
  {
   "cell_type": "code",
   "execution_count": 2,
   "id": "3f0bedf2",
   "metadata": {},
   "outputs": [
    {
     "name": "stdout",
     "output_type": "stream",
     "text": [
      "Enter a number of lines--->5\n",
      "                                                                                                  * \n",
      "                                                                                                  *                                                                                                   * \n",
      "                                                                                                  *                                                                                                   *                                                                                                   * \n",
      "                                                                                                  *                                                                                                   *                                                                                                   *                                                                                                   * \n",
      "                                                                                                  *                                                                                                   *                                                                                                   *                                                                                                   *                                                                                                   * \n"
     ]
    }
   ],
   "source": [
    "n=int(input(\"Enter a number of lines--->\"))\n",
    "i = 0\n",
    "while i<n:\n",
    "    j=0\n",
    "    while j<=i:\n",
    "        print(\"*\".(99),end=\" \")\n",
    "        j+=1\n",
    "    print()\n",
    "    i+=1"
   ]
  },
  {
   "cell_type": "code",
   "execution_count": 44,
   "id": "b5c91a5d",
   "metadata": {},
   "outputs": [
    {
     "name": "stdout",
     "output_type": "stream",
     "text": [
      "('ABC', 'BCD', 'CDC', 'DCD', 'CDC')\n"
     ]
    }
   ],
   "source": [
    "s=\"ABCDCDC\"\n",
    "s1=\"CDC\"\n",
    "s2=s[:3],s[1:4],s[2:5],s[3:6],s[4:7]\n",
    "print(s2)\n"
   ]
  },
  {
   "cell_type": "code",
   "execution_count": null,
   "id": "8ec8f1f9",
   "metadata": {},
   "outputs": [],
   "source": []
  },
  {
   "cell_type": "code",
   "execution_count": null,
   "id": "1836fc28",
   "metadata": {},
   "outputs": [],
   "source": []
  }
 ],
 "metadata": {
  "kernelspec": {
   "display_name": "Python 3 (ipykernel)",
   "language": "python",
   "name": "python3"
  },
  "language_info": {
   "codemirror_mode": {
    "name": "ipython",
    "version": 3
   },
   "file_extension": ".py",
   "mimetype": "text/x-python",
   "name": "python",
   "nbconvert_exporter": "python",
   "pygments_lexer": "ipython3",
   "version": "3.9.7"
  }
 },
 "nbformat": 4,
 "nbformat_minor": 5
}
