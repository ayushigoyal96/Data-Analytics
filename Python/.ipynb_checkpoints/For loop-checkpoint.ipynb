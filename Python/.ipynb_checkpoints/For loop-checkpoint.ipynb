{
 "cells": [
  {
   "cell_type": "markdown",
   "id": "29455d73",
   "metadata": {},
   "source": [
    "# For loop::"
   ]
  },
  {
   "cell_type": "code",
   "execution_count": 1,
   "id": "58e1e691",
   "metadata": {},
   "outputs": [
    {
     "name": "stdout",
     "output_type": "stream",
     "text": [
      "1\n",
      "0\n"
     ]
    }
   ],
   "source": [
    "n=int(input())\n",
    "print(1-n)\n"
   ]
  },
  {
   "cell_type": "code",
   "execution_count": 2,
   "id": "4c0f21e1",
   "metadata": {},
   "outputs": [
    {
     "name": "stdout",
     "output_type": "stream",
     "text": [
      "P\n",
      "y\n",
      "h\n",
      "t\n",
      "h\n",
      "o\n",
      "n\n"
     ]
    }
   ],
   "source": [
    "for i in \"Pyhthon\":\n",
    "    print(i)"
   ]
  },
  {
   "cell_type": "code",
   "execution_count": 3,
   "id": "66528803",
   "metadata": {},
   "outputs": [
    {
     "name": "stdout",
     "output_type": "stream",
     "text": [
      "PP\n",
      "yy\n",
      "tt\n",
      "hh\n",
      "oo\n",
      "nn\n"
     ]
    }
   ],
   "source": [
    "for i in \"Python\":\n",
    "    print(i*2)"
   ]
  },
  {
   "cell_type": "code",
   "execution_count": 4,
   "id": "685b8bd8",
   "metadata": {},
   "outputs": [
    {
     "name": "stdout",
     "output_type": "stream",
     "text": [
      "2\n",
      "4\n",
      "6\n",
      "8\n",
      "10\n"
     ]
    }
   ],
   "source": [
    "# for even number--?\n",
    "\n",
    "l=[1,2,3,4,5,6,7,8,9,10]\n",
    "for i in l:\n",
    "    if i%2==0:\n",
    "        print(i)"
   ]
  },
  {
   "cell_type": "code",
   "execution_count": 5,
   "id": "e9c5b435",
   "metadata": {},
   "outputs": [
    {
     "name": "stdout",
     "output_type": "stream",
     "text": [
      "Enter a number--->2\n",
      "2X1=2\n",
      "2X2=4\n",
      "2X3=6\n",
      "2X4=8\n",
      "2X5=10\n",
      "2X6=12\n",
      "2X7=14\n",
      "2X8=16\n",
      "2X9=18\n",
      "2X10=20\n"
     ]
    }
   ],
   "source": [
    "# For multiplication table--->\n",
    "\n",
    "n= int(input(\"Enter a number--->\"))\n",
    "for i in range(1,11):\n",
    "    print(f\"{n}X{i}={n*i}\")"
   ]
  },
  {
   "cell_type": "code",
   "execution_count": 6,
   "id": "848535d5",
   "metadata": {},
   "outputs": [
    {
     "name": "stdout",
     "output_type": "stream",
     "text": [
      "Enter a number--->6\n",
      "0 1 1 2 3 "
     ]
    }
   ],
   "source": [
    "#Fabonacci series--->\n",
    "\n",
    "n=int(input(\"Enter a number--->\"))\n",
    "a=0\n",
    "b=1\n",
    "for i in range(1,n):\n",
    "    s=a+b\n",
    "    print(a,end=\" \")\n",
    "    a=b\n",
    "    b=s\n",
    "    "
   ]
  },
  {
   "cell_type": "code",
   "execution_count": 7,
   "id": "019335b8",
   "metadata": {},
   "outputs": [
    {
     "name": "stdout",
     "output_type": "stream",
     "text": [
      "['the', 'quick', 'brown', 'fox', 'jumps', 'over', 'the', 'lazy', 'dog']\n"
     ]
    },
    {
     "ename": "TypeError",
     "evalue": "list.count() takes no keyword arguments",
     "output_type": "error",
     "traceback": [
      "\u001b[1;31m---------------------------------------------------------------------------\u001b[0m",
      "\u001b[1;31mTypeError\u001b[0m                                 Traceback (most recent call last)",
      "\u001b[1;32m~\\AppData\\Local\\Temp/ipykernel_14224/1764597617.py\u001b[0m in \u001b[0;36m<module>\u001b[1;34m\u001b[0m\n\u001b[0;32m      3\u001b[0m \u001b[0mprint\u001b[0m\u001b[1;33m(\u001b[0m\u001b[0ms1\u001b[0m\u001b[1;33m)\u001b[0m\u001b[1;33m\u001b[0m\u001b[1;33m\u001b[0m\u001b[0m\n\u001b[0;32m      4\u001b[0m \u001b[1;32mfor\u001b[0m \u001b[0mi\u001b[0m \u001b[1;32min\u001b[0m \u001b[0ms1\u001b[0m\u001b[1;33m:\u001b[0m\u001b[1;33m\u001b[0m\u001b[1;33m\u001b[0m\u001b[0m\n\u001b[1;32m----> 5\u001b[1;33m     \u001b[0mprint\u001b[0m\u001b[1;33m(\u001b[0m\u001b[0ms1\u001b[0m\u001b[1;33m.\u001b[0m\u001b[0mcount\u001b[0m\u001b[1;33m(\u001b[0m\u001b[0mi\u001b[0m\u001b[1;33m[\u001b[0m\u001b[1;36m0\u001b[0m\u001b[1;33m]\u001b[0m\u001b[1;33m,\u001b[0m\u001b[0mend\u001b[0m\u001b[1;33m=\u001b[0m\u001b[1;34m\",\"\u001b[0m\u001b[1;33m)\u001b[0m\u001b[1;33m)\u001b[0m\u001b[1;33m\u001b[0m\u001b[1;33m\u001b[0m\u001b[0m\n\u001b[0m",
      "\u001b[1;31mTypeError\u001b[0m: list.count() takes no keyword arguments"
     ]
    }
   ],
   "source": [
    "s = \"The quick brown fox jumps over the lazy dog\".lower()\n",
    "s1=s.split()\n",
    "print(s1)\n",
    "for i in s1:\n",
    "    print(s1.count(i[0],end=\",\"))"
   ]
  },
  {
   "cell_type": "code",
   "execution_count": 8,
   "id": "33aa4a65",
   "metadata": {},
   "outputs": [
    {
     "name": "stdout",
     "output_type": "stream",
     "text": [
      "['Hello', 'My', 'name', 'is', 'Ayushi', 'Goyal']\n",
      "H\n",
      "M\n",
      "n\n",
      "i\n",
      "A\n",
      "G\n"
     ]
    }
   ],
   "source": [
    "s=\"Hello My name is Ayushi Goyal\"\n",
    "s1=s.split()\n",
    "print(s1)\n",
    "for i in s1:\n",
    "    print(i[0])"
   ]
  },
  {
   "cell_type": "code",
   "execution_count": 9,
   "id": "34722155",
   "metadata": {},
   "outputs": [
    {
     "name": "stdout",
     "output_type": "stream",
     "text": [
      "Enter a letter--->a\n",
      "vowel\n",
      "vowel\n",
      "vowel\n",
      "vowel\n",
      "vowel\n"
     ]
    }
   ],
   "source": [
    "a=input(\"Enter a letter--->\")\n",
    "s='a','e','i','o','u'\n",
    "for var in s:\n",
    "    if a.casefold().strip() in s:\n",
    "        print(\"vowel\")\n",
    "    else:\n",
    "        print(\"consonant\")"
   ]
  },
  {
   "cell_type": "code",
   "execution_count": 10,
   "id": "bbb099cc",
   "metadata": {},
   "outputs": [
    {
     "name": "stdout",
     "output_type": "stream",
     "text": [
      "Enter a number-->5\n",
      "number is prime\n"
     ]
    }
   ],
   "source": [
    "# To check number is prime or not???\n",
    "num=int(input(\"Enter a number-->\"))\n",
    "count=0\n",
    "for i in range(1,num+1):\n",
    "    if num%i==0:\n",
    "        count+=1\n",
    "if count==2:\n",
    "    print(\"number is prime\")\n",
    "else:\n",
    "    print(\"number is not prime\")"
   ]
  },
  {
   "cell_type": "code",
   "execution_count": 11,
   "id": "5d54694b",
   "metadata": {},
   "outputs": [
    {
     "name": "stdout",
     "output_type": "stream",
     "text": [
      "Enter a number-->5\n",
      "120\n"
     ]
    }
   ],
   "source": [
    "# To find a factorial of a given number???\n",
    "num=int(input(\"Enter a number-->\"))\n",
    "fact=1\n",
    "for i in range(1,num+1):\n",
    "    fact=fact*i\n",
    "print(fact)"
   ]
  },
  {
   "cell_type": "code",
   "execution_count": 12,
   "id": "87325baa",
   "metadata": {},
   "outputs": [
    {
     "name": "stdout",
     "output_type": "stream",
     "text": [
      "[5, 9, 13, 17, 21, 25, 29]\n"
     ]
    }
   ],
   "source": [
    "l1=[2,4,6,8,10,12,14]\n",
    "l2=[3,5,7,9,11,13,15]\n",
    "l3=[]\n",
    "for i in range(len(l1)):\n",
    "    l3.append(l1[i]+l2[i])\n",
    "print(l3)\n"
   ]
  },
  {
   "cell_type": "code",
   "execution_count": null,
   "id": "a93c83ef",
   "metadata": {},
   "outputs": [],
   "source": [
    "# Pattern programs---"
   ]
  },
  {
   "cell_type": "code",
   "execution_count": 13,
   "id": "2a0a9510",
   "metadata": {},
   "outputs": [
    {
     "name": "stdout",
     "output_type": "stream",
     "text": [
      "Enter number of lines-->5\n",
      "* * * * * \n",
      "* * * * * \n",
      "* * * * * \n",
      "* * * * * \n",
      "* * * * * \n"
     ]
    }
   ],
   "source": [
    "n=int(input(\"Enter number of lines-->\"))\n",
    "for i in range(n):\n",
    "    for j in range (n):\n",
    "        print(\"*\",end=\" \")\n",
    "    print()"
   ]
  },
  {
   "cell_type": "code",
   "execution_count": 14,
   "id": "c718f02f",
   "metadata": {},
   "outputs": [
    {
     "name": "stdout",
     "output_type": "stream",
     "text": [
      "Enter number of lines-->5\n",
      "* * * \n",
      "* * * \n",
      "* * \n",
      "* * \n",
      "* * \n"
     ]
    }
   ],
   "source": [
    "n=int(input(\"Enter number of lines-->\"))\n",
    "for i in range(n):\n",
    "    print(\"*\",end=\" \")\n",
    "    for j in range(j<i,n-3):\n",
    "        print(\"*\",end=\" \")\n",
    "    print()"
   ]
  },
  {
   "cell_type": "code",
   "execution_count": 15,
   "id": "7dea887e",
   "metadata": {},
   "outputs": [
    {
     "name": "stdout",
     "output_type": "stream",
     "text": [
      "My name is kelly\n"
     ]
    }
   ],
   "source": [
    "l=['M','na','i','ke']\n",
    "l1=['y','me','s','lly']\n",
    "l3=[]\n",
    "for i in range(len(l)):\n",
    "    l3.append(l[i]+l1[i])\n",
    "print(*l3)"
   ]
  },
  {
   "cell_type": "code",
   "execution_count": 19,
   "id": "fcfad251",
   "metadata": {},
   "outputs": [
    {
     "name": "stdout",
     "output_type": "stream",
     "text": [
      "My name is kelly <class 'list'>\n"
     ]
    }
   ],
   "source": [
    "l3=[l[i]+l1[i] for i in range(len(l))]\n",
    "print(*l3,type(l3))"
   ]
  },
  {
   "cell_type": "code",
   "execution_count": 18,
   "id": "ce0b8495",
   "metadata": {},
   "outputs": [
    {
     "name": "stdout",
     "output_type": "stream",
     "text": [
      "My name is kelly <class 'str'>\n"
     ]
    }
   ],
   "source": [
    "s=\" \".join(l3)\n",
    "print(s,type(s))"
   ]
  },
  {
   "cell_type": "code",
   "execution_count": 22,
   "id": "b007af05",
   "metadata": {},
   "outputs": [
    {
     "name": "stdout",
     "output_type": "stream",
     "text": [
      "0\t1\t2\t3\t4\t5\t6\t7\t8\t9\t10\t11\t"
     ]
    }
   ],
   "source": [
    "l = [4,53,4,76,45,7,33,65,435,324,23,4]\n",
    "for i in range(len(l)):\n",
    "    print(i,end=\"\\t\")"
   ]
  },
  {
   "cell_type": "code",
   "execution_count": 21,
   "id": "1ee3b6cb",
   "metadata": {},
   "outputs": [
    {
     "name": "stdout",
     "output_type": "stream",
     "text": [
      "4\t53\t4\t76\t45\t7\t33\t65\t435\t324\t23\t4\t"
     ]
    }
   ],
   "source": [
    "l = [4,53,4,76,45,7,33,65,435,324,23,4]\n",
    "for i in l:\n",
    "    print(i,end=\"\\t\")"
   ]
  },
  {
   "cell_type": "code",
   "execution_count": 23,
   "id": "56601e2b",
   "metadata": {},
   "outputs": [
    {
     "name": "stdout",
     "output_type": "stream",
     "text": [
      "Enter a number-->5\n",
      "5\t4\t3\t2\t1\t"
     ]
    }
   ],
   "source": [
    "num=int(input(\"Enter a number-->\"))\n",
    "for i in range(num,0,-1):\n",
    "    print(i,end=\"\\t\")"
   ]
  },
  {
   "cell_type": "code",
   "execution_count": 24,
   "id": "0e83b9be",
   "metadata": {},
   "outputs": [
    {
     "name": "stdout",
     "output_type": "stream",
     "text": [
      "0\n",
      "1\n",
      "2\n",
      "3\n",
      "4\n",
      "5\n",
      "6\n",
      "7\n",
      "8\n",
      "9\n",
      "10\n"
     ]
    }
   ],
   "source": [
    "for i in range(11):\n",
    "    print(i)"
   ]
  },
  {
   "cell_type": "code",
   "execution_count": 25,
   "id": "c8c256e7",
   "metadata": {},
   "outputs": [
    {
     "name": "stdout",
     "output_type": "stream",
     "text": [
      "0\n",
      "1\n",
      "2\n",
      "3\n",
      "4\n",
      "5\n",
      "6\n",
      "7\n",
      "8\n",
      "9\n",
      "10\n",
      "11\n"
     ]
    }
   ],
   "source": [
    "l = [4,53,4,76,45,7,33,65,435,324,23,4]\n",
    "for i in range(len(l)):\n",
    "    print(i)"
   ]
  },
  {
   "cell_type": "code",
   "execution_count": 26,
   "id": "b033965b",
   "metadata": {},
   "outputs": [
    {
     "name": "stdout",
     "output_type": "stream",
     "text": [
      "1     1          1          1     \n",
      "2     10         2          2     \n",
      "3     11         3          3     \n",
      "4    100         4          4     \n",
      "5    101         5          5     \n",
      "6    110         6          6     \n",
      "7    111         7          7     \n",
      "8    1000        10         8     \n",
      "9    1001        11         9     \n",
      "10    1010        12         A     \n",
      "11    1011        13         B     \n",
      "12    1100        14         C     \n",
      "13    1101        15         D     \n",
      "14    1110        16         E     \n",
      "15    1111        17         F     \n",
      "16   10000        20         10    \n",
      "17   10001        21         11    \n",
      "18   10010        22         12    \n",
      "19   10011        23         13    \n",
      "20   10100        24         14    \n",
      "21   10101        25         15    \n",
      "22   10110        26         16    \n",
      "23   10111        27         17    \n",
      "24   11000        30         18    \n",
      "25   11001        31         19    \n",
      "26   11010        32         1A    \n",
      "27   11011        33         1B    \n",
      "28   11100        34         1C    \n",
      "29   11101        35         1D    \n",
      "30   11110        36         1E    \n",
      "31   11111        37         1F    \n",
      "32   100000       40         20    \n",
      "33   100001       41         21    \n",
      "34   100010       42         22    \n",
      "35   100011       43         23    \n",
      "36   100100       44         24    \n",
      "37   100101       45         25    \n",
      "38   100110       46         26    \n",
      "39   100111       47         27    \n",
      "40   101000       50         28    \n",
      "41   101001       51         29    \n",
      "42   101010       52         2A    \n",
      "43   101011       53         2B    \n",
      "44   101100       54         2C    \n",
      "45   101101       55         2D    \n",
      "46   101110       56         2E    \n",
      "47   101111       57         2F    \n",
      "48   110000       60         30    \n",
      "49   110001       61         31    \n",
      "50   110010       62         32    \n"
     ]
    }
   ],
   "source": [
    "for i in range(1,51):\n",
    "    print(f\"{i} {i:^10b} {i:^10o} {i:^10X}\")"
   ]
  },
  {
   "cell_type": "code",
   "execution_count": 28,
   "id": "073c677c",
   "metadata": {},
   "outputs": [],
   "source": [
    "l=[1,2,3,4,5,6,7,8,9,10]\n",
    "for i in range(1,len(l),-1):\n",
    "    print(i)"
   ]
  },
  {
   "cell_type": "code",
   "execution_count": 30,
   "id": "9504b248",
   "metadata": {},
   "outputs": [
    {
     "name": "stdout",
     "output_type": "stream",
     "text": [
      "H\n",
      "e\n",
      "l\n",
      "l\n",
      "o\n",
      " \n",
      "M\n",
      "y\n",
      " \n",
      "n\n",
      "a\n",
      "m\n",
      "e\n",
      " \n",
      "i\n",
      "s\n",
      " \n",
      "A\n",
      "y\n",
      "u\n",
      "s\n",
      "h\n",
      "i\n",
      " \n",
      "G\n",
      "o\n",
      "y\n",
      "a\n",
      "l\n"
     ]
    }
   ],
   "source": [
    "s=\"Hello My name is Ayushi Goyal\"\n",
    "for i in s:\n",
    "    print(i)"
   ]
  },
  {
   "cell_type": "code",
   "execution_count": 51,
   "id": "5e18fc54",
   "metadata": {},
   "outputs": [
    {
     "name": "stdout",
     "output_type": "stream",
     "text": [
      "29\n",
      "l\n",
      "a\n",
      "y\n",
      "o\n",
      "G\n",
      " \n",
      "i\n",
      "h\n",
      "s\n",
      "u\n",
      "y\n",
      "A\n",
      " \n",
      "s\n",
      "i\n",
      " \n",
      "e\n",
      "m\n",
      "a\n",
      "n\n",
      " \n",
      "y\n",
      "M\n",
      " \n",
      "o\n",
      "l\n",
      "l\n",
      "e\n",
      "H\n"
     ]
    }
   ],
   "source": [
    "s=\"Hello My name is Ayushi Goyal\"\n",
    "print(len(s))\n",
    "for i in range(len(s)-1,-1,-1):\n",
    "    print(s[i])"
   ]
  },
  {
   "cell_type": "code",
   "execution_count": 33,
   "id": "617e3045",
   "metadata": {},
   "outputs": [
    {
     "name": "stdout",
     "output_type": "stream",
     "text": [
      "[35, 35, 35, 35]\n"
     ]
    }
   ],
   "source": [
    "x=10\n",
    "y=12\n",
    "z=13\n",
    "s=[x+y+z for i in range(4)]\n",
    "print(s)"
   ]
  },
  {
   "cell_type": "code",
   "execution_count": 34,
   "id": "0eeff2d9",
   "metadata": {},
   "outputs": [
    {
     "name": "stdout",
     "output_type": "stream",
     "text": [
      "124\n",
      "6\n",
      "4\n",
      "32\n",
      "6786\n",
      "654\n"
     ]
    }
   ],
   "source": [
    "l = [124,23,5,6,67,75,65,23,4,32,5,6786,654,543,25,675,7,785,643]\n",
    "for i in l:\n",
    "    if i%2==0:\n",
    "        print(i)"
   ]
  },
  {
   "cell_type": "code",
   "execution_count": 1,
   "id": "e214b733",
   "metadata": {},
   "outputs": [
    {
     "ename": "SyntaxError",
     "evalue": "invalid syntax (Temp/ipykernel_20904/1598106205.py, line 3)",
     "output_type": "error",
     "traceback": [
      "\u001b[1;36m  File \u001b[1;32m\"C:\\Users\\ayush\\AppData\\Local\\Temp/ipykernel_20904/1598106205.py\"\u001b[1;36m, line \u001b[1;32m3\u001b[0m\n\u001b[1;33m    print([\"prime\" if num%i==0 count+=1 else \"not prime\" for i in range(1,num+1)])\u001b[0m\n\u001b[1;37m                               ^\u001b[0m\n\u001b[1;31mSyntaxError\u001b[0m\u001b[1;31m:\u001b[0m invalid syntax\n"
     ]
    }
   ],
   "source": [
    "num=int(input(\"Enter a number-->\"))\n",
    "count=0\n",
    "print([\"prime\" if num%i==0 count+=1 else \"not prime\" for i in range(1,num+1)])"
   ]
  },
  {
   "cell_type": "code",
   "execution_count": null,
   "id": "bdc1f215",
   "metadata": {},
   "outputs": [],
   "source": [
    "#WAP to check whether a number is perfect or not??"
   ]
  },
  {
   "cell_type": "code",
   "execution_count": 40,
   "id": "657c815e",
   "metadata": {},
   "outputs": [
    {
     "name": "stdout",
     "output_type": "stream",
     "text": [
      "Enter a number-->28\n",
      "1\n",
      "2\n",
      "4\n",
      "7\n",
      "14\n",
      "number is perfect\n"
     ]
    }
   ],
   "source": [
    "num=int(input(\"Enter a number-->\"))\n",
    "sum=0\n",
    "for i in range(1,num):\n",
    "    if num%i==0:\n",
    "        print(i)\n",
    "        sum=sum+i\n",
    "        \n",
    "if num==sum:\n",
    "    print(\"number is perfect\")\n",
    "else:\n",
    "    print(\"not perfect\")\n",
    "    "
   ]
  },
  {
   "cell_type": "code",
   "execution_count": 15,
   "id": "33481246",
   "metadata": {},
   "outputs": [],
   "source": [
    "#WAP to check whether number is armstrong or not???"
   ]
  },
  {
   "cell_type": "code",
   "execution_count": 31,
   "id": "c03ba53f",
   "metadata": {},
   "outputs": [
    {
     "name": "stdout",
     "output_type": "stream",
     "text": [
      "enter a number--->153\n",
      "number is armstrong\n"
     ]
    }
   ],
   "source": [
    "num=int(input(\"enter a number--->\"))\n",
    "res=0\n",
    "a=num\n",
    "while num!=0:\n",
    "    rem=num%10\n",
    "    res+=rem**3\n",
    "    num=num//10\n",
    "if a==res:\n",
    "    print(\"number is armstrong\")\n",
    "else:\n",
    "    print(\"not armstrong\")\n",
    "    \n",
    "\n",
    "    \n",
    "    "
   ]
  },
  {
   "cell_type": "code",
   "execution_count": 80,
   "id": "e112c251",
   "metadata": {},
   "outputs": [
    {
     "name": "stdout",
     "output_type": "stream",
     "text": [
      "i h s u y A "
     ]
    }
   ],
   "source": [
    "s=\"Ayushi\"\n",
    "for i in range(len(s)-1,-1,-1):\n",
    "    print(s[i],end=\" \")"
   ]
  },
  {
   "cell_type": "code",
   "execution_count": 67,
   "id": "2e27a9d5",
   "metadata": {},
   "outputs": [],
   "source": [
    "#WAP to add all natural numbers upto 100???"
   ]
  },
  {
   "cell_type": "code",
   "execution_count": 78,
   "id": "3a9d376a",
   "metadata": {},
   "outputs": [
    {
     "name": "stdout",
     "output_type": "stream",
     "text": [
      "0\t1\t3\t6\t10\t15\t21\t28\t36\t45\t55\t66\t78\t91\t105\t120\t136\t153\t171\t190\t210\t231\t253\t276\t300\t325\t351\t378\t406\t435\t465\t496\t528\t561\t595\t630\t666\t703\t741\t780\t820\t861\t903\t946\t990\t1035\t1081\t1128\t1176\t1225\t1275\t1326\t1378\t1431\t1485\t1540\t1596\t1653\t1711\t1770\t1830\t1891\t1953\t2016\t2080\t2145\t2211\t2278\t2346\t2415\t2485\t2556\t2628\t2701\t2775\t2850\t2926\t3003\t3081\t3160\t3240\t3321\t3403\t3486\t3570\t3655\t3741\t3828\t3916\t4005\t4095\t4186\t4278\t4371\t4465\t4560\t4656\t4753\t4851\t4950\t5050\t5050\n"
     ]
    }
   ],
   "source": [
    "sum=0\n",
    "for i in range(101):\n",
    "    sum=sum+i\n",
    "    print(sum,end=\"\\t\")\n",
    "print(sum)"
   ]
  },
  {
   "cell_type": "code",
   "execution_count": 84,
   "id": "9d87c76b",
   "metadata": {},
   "outputs": [
    {
     "name": "stdout",
     "output_type": "stream",
     "text": [
      "1\t3\t3\t7\t7\t7\t14\t14\t14\t14\t14\t14\t14\t28\t28\t28\t28\t28\t28\t28\t28\t28\t28\t28\t28\t28\t28\t56\t56\t56\t56\t56\t56\t56\t56\t56\t56\t56\t56\t56\t56\t56\t56\t56\t56\t56\t56\t56\t56\t56\t56\t56\t56\t56\t56\t56\t56\t56\t56\t56\t56\t56\t56\t56\t56\t56\t56\t56\t56\t56\t56\t56\t56\t56\t56\t56\t56\t56\t56\t56\t56\t56\t56\t56\t56\t56\t56\t56\t56\t56\t56\t56\t56\t56\t56\t56\t56\t56\t56\t56\t"
     ]
    }
   ],
   "source": [
    "sum=0\n",
    "for i in range(1,101):\n",
    "    if num%i==0:\n",
    "        sum=sum+i\n",
    "    print(sum,end=\"\\t\")\n"
   ]
  },
  {
   "cell_type": "code",
   "execution_count": 85,
   "id": "0adb79eb",
   "metadata": {},
   "outputs": [
    {
     "name": "stdout",
     "output_type": "stream",
     "text": [
      "60\n",
      "50\n",
      "40\n",
      "30\n",
      "20\n",
      "10\n"
     ]
    }
   ],
   "source": [
    "l=[10,20,30,40,50,60]\n",
    "for i in reversed(l):\n",
    "    print(i)"
   ]
  },
  {
   "cell_type": "code",
   "execution_count": 86,
   "id": "0fdf547f",
   "metadata": {},
   "outputs": [
    {
     "name": "stdout",
     "output_type": "stream",
     "text": [
      "k\n",
      "n\n",
      "a\n",
      "y\n",
      "a\n",
      "M\n"
     ]
    }
   ],
   "source": [
    "s=\"Mayank\"\n",
    "for i in reversed(s):\n",
    "    print(i)"
   ]
  },
  {
   "cell_type": "code",
   "execution_count": 89,
   "id": "153b506b",
   "metadata": {},
   "outputs": [
    {
     "name": "stdout",
     "output_type": "stream",
     "text": [
      "k\n",
      "n\n",
      "a\n",
      "y\n",
      "a\n",
      "M\n"
     ]
    }
   ],
   "source": [
    "s=\"Mayank\"\n",
    "for i in s[::-1]:\n",
    "    print(i)"
   ]
  },
  {
   "cell_type": "code",
   "execution_count": null,
   "id": "6ba70daf",
   "metadata": {},
   "outputs": [],
   "source": [
    "#WAP to print sum and average of given list???"
   ]
  },
  {
   "cell_type": "code",
   "execution_count": 107,
   "id": "6c5eda57",
   "metadata": {},
   "outputs": [
    {
     "name": "stdout",
     "output_type": "stream",
     "text": [
      "152\n",
      "25.333333333333332\n"
     ]
    }
   ],
   "source": [
    "l=[12,23,10,17,34,56]\n",
    "sum=0\n",
    "for i in l:\n",
    "    sum=sum+i\n",
    "    average=sum/len(l)\n",
    "print(sum)\n",
    "print(average)"
   ]
  },
  {
   "cell_type": "code",
   "execution_count": 98,
   "id": "539f1605",
   "metadata": {},
   "outputs": [
    {
     "name": "stdout",
     "output_type": "stream",
     "text": [
      "1\n",
      "2\n",
      "3\n",
      "4\n",
      "5\n",
      "6\n",
      "7\n",
      "8\n",
      "9\n",
      "10\n"
     ]
    }
   ],
   "source": [
    "for i in range(1,11):\n",
    "    print(i)"
   ]
  },
  {
   "cell_type": "code",
   "execution_count": 127,
   "id": "449053f3",
   "metadata": {},
   "outputs": [
    {
     "name": "stdout",
     "output_type": "stream",
     "text": [
      "75\n",
      "150\n",
      "180\n",
      "145\n",
      "525\n",
      "50\n"
     ]
    }
   ],
   "source": [
    "l = [12, 75, 150, 180, 145, 525, 50]\n",
    "for i in range(len(l)):\n",
    "    if l[i]%5==0:\n",
    "        print(l[i])\n",
    "    elif l[i]>150:\n",
    "        continue\n",
    "    elif l[i]>500:\n",
    "        break"
   ]
  },
  {
   "cell_type": "code",
   "execution_count": 2,
   "id": "925f9db2",
   "metadata": {},
   "outputs": [
    {
     "name": "stdout",
     "output_type": "stream",
     "text": [
      "[2, 4, 6, 8, 10, 12, 14, 16, 18, 20, 22, 24, 26, 28, 30, 32, 34, 36, 38, 40, 42, 44, 46, 48, 50, 52, 54, 56, 58, 60, 62, 64, 66, 68, 70, 72, 74, 76, 78, 80, 82, 84, 86, 88, 90, 92, 94, 96, 98, 100]\n"
     ]
    }
   ],
   "source": [
    "#by using for loop\n",
    "l=[]\n",
    "for i in range(1,101):\n",
    "    if i%2==0:\n",
    "        l.append(i)\n",
    "print(l)"
   ]
  },
  {
   "cell_type": "code",
   "execution_count": 3,
   "id": "8b86796f",
   "metadata": {},
   "outputs": [
    {
     "name": "stdout",
     "output_type": "stream",
     "text": [
      "[0, 1, 2, 3, 4, 5, 6, 7, 8, 9, 10, 11, 12, 13, 14, 15, 16, 17, 18, 19, 20, 21, 22, 23, 24, 25, 26, 27, 28, 29, 30, 31, 32, 33, 34, 35, 36, 37, 38, 39, 40, 41, 42, 43, 44, 45, 46, 47, 48, 49, 50, 51, 52, 53, 54, 55, 56, 57, 58, 59, 60, 61, 62, 63, 64, 65, 66, 67, 68, 69, 70, 71, 72, 73, 74, 75, 76, 77, 78, 79, 80, 81, 82, 83, 84, 85, 86, 87, 88, 89, 90, 91, 92, 93, 94, 95, 96, 97, 98, 99]\n"
     ]
    }
   ],
   "source": [
    "# by using list comprehension---\n",
    "list=[i for i in range(100)]\n",
    "print(list)"
   ]
  },
  {
   "cell_type": "code",
   "execution_count": 4,
   "id": "e0182624",
   "metadata": {},
   "outputs": [
    {
     "name": "stdout",
     "output_type": "stream",
     "text": [
      "[0, 3, 6, 9, 12, 15, 18, 21, 24, 27, 30, 33, 36, 39, 42, 45, 48, 51, 54, 57, 60, 63, 66, 69, 72, 75, 78, 81, 84, 87, 90, 93, 96, 99]\n"
     ]
    }
   ],
   "source": [
    "# by using list comprehension---\n",
    "list=[i for i in range(100) if i%3==0]\n",
    "print(list)"
   ]
  },
  {
   "cell_type": "code",
   "execution_count": 5,
   "id": "0187fda9",
   "metadata": {},
   "outputs": [],
   "source": [
    "#dictionary comprehension---"
   ]
  },
  {
   "cell_type": "code",
   "execution_count": 17,
   "id": "313815f9",
   "metadata": {},
   "outputs": [
    {
     "name": "stdout",
     "output_type": "stream",
     "text": [
      "{1: 'item 1', 2: 'item 2', 3: 'item 3', 4: 'item 4', 5: 'item 5', 6: 'item 6', 7: 'item 7', 8: 'item 8', 9: 'item 9', 10: 'item 10'}\n"
     ]
    }
   ],
   "source": [
    "d={i:f\"item {i}\" for i in range(1,11)}\n",
    "print(d)"
   ]
  },
  {
   "cell_type": "code",
   "execution_count": 18,
   "id": "07c824a2",
   "metadata": {},
   "outputs": [],
   "source": [
    "# To reverse a dictionary by using dictionary comprehension----"
   ]
  },
  {
   "cell_type": "code",
   "execution_count": 25,
   "id": "b89f1ddf",
   "metadata": {},
   "outputs": [
    {
     "name": "stdout",
     "output_type": "stream",
     "text": [
      "{0: 'item 0', 1: 'item 1', 2: 'item 2', 3: 'item 3', 4: 'item 4', 5: 'item 5', 6: 'item 6', 7: 'item 7', 8: 'item 8', 9: 'item 9'}\n",
      "{'item 0': 0, 'item 1': 1, 'item 2': 2, 'item 3': 3, 'item 4': 4, 'item 5': 5, 'item 6': 6, 'item 7': 7, 'item 8': 8, 'item 9': 9}\n"
     ]
    }
   ],
   "source": [
    "dict1={i:f\"item {i}\" for i in range(10)}\n",
    "print(dict1)\n",
    "dict2={value:key for key,value in dict1.items()}\n",
    "print(dict2)"
   ]
  },
  {
   "cell_type": "code",
   "execution_count": 24,
   "id": "6f07d4f2",
   "metadata": {},
   "outputs": [
    {
     "data": {
      "text/plain": [
       "dict_items([(0, 'item 0'), (1, 'item 1'), (2, 'item 2'), (3, 'item 3'), (4, 'item 4'), (5, 'item 5'), (6, 'item 6'), (7, 'item 7'), (8, 'item 8'), (9, 'item 9')])"
      ]
     },
     "execution_count": 24,
     "metadata": {},
     "output_type": "execute_result"
    }
   ],
   "source": [
    "dict1.items()"
   ]
  },
  {
   "cell_type": "code",
   "execution_count": 26,
   "id": "d66d1220",
   "metadata": {},
   "outputs": [
    {
     "name": "stdout",
     "output_type": "stream",
     "text": [
      "[0, 1, 4, 9, 16]\n"
     ]
    }
   ],
   "source": [
    "a=[]\n",
    "for i in range(5):\n",
    "    a.append(i*i)\n",
    "print(a)"
   ]
  },
  {
   "cell_type": "code",
   "execution_count": 29,
   "id": "a5c8bf93",
   "metadata": {},
   "outputs": [
    {
     "name": "stdout",
     "output_type": "stream",
     "text": [
      "[0, 4, 16]\n"
     ]
    }
   ],
   "source": [
    "l=[i*i for i in range(5) if i%2==0] # by using list comprehension.\n",
    "print(l)"
   ]
  },
  {
   "cell_type": "code",
   "execution_count": 33,
   "id": "2ffb133c",
   "metadata": {},
   "outputs": [
    {
     "ename": "IndexError",
     "evalue": "list index out of range",
     "output_type": "error",
     "traceback": [
      "\u001b[1;31m---------------------------------------------------------------------------\u001b[0m",
      "\u001b[1;31mIndexError\u001b[0m                                Traceback (most recent call last)",
      "\u001b[1;32m~\\AppData\\Local\\Temp/ipykernel_20904/2428141038.py\u001b[0m in \u001b[0;36m<module>\u001b[1;34m\u001b[0m\n\u001b[0;32m      1\u001b[0m \u001b[0ma\u001b[0m\u001b[1;33m=\u001b[0m\u001b[1;33m[\u001b[0m\u001b[1;33m]\u001b[0m\u001b[1;33m\u001b[0m\u001b[1;33m\u001b[0m\u001b[0m\n\u001b[0;32m      2\u001b[0m \u001b[1;32mfor\u001b[0m \u001b[0mi\u001b[0m \u001b[1;32min\u001b[0m \u001b[0mrange\u001b[0m\u001b[1;33m(\u001b[0m\u001b[1;36m5\u001b[0m\u001b[1;33m)\u001b[0m\u001b[1;33m:\u001b[0m\u001b[1;33m\u001b[0m\u001b[1;33m\u001b[0m\u001b[0m\n\u001b[1;32m----> 3\u001b[1;33m     \u001b[0mprint\u001b[0m\u001b[1;33m(\u001b[0m\u001b[0ma\u001b[0m\u001b[1;33m[\u001b[0m\u001b[0mi\u001b[0m\u001b[1;33m]\u001b[0m\u001b[1;33m==\u001b[0m\u001b[0mi\u001b[0m\u001b[1;33m*\u001b[0m\u001b[0mi\u001b[0m\u001b[1;33m)\u001b[0m\u001b[1;33m\u001b[0m\u001b[1;33m\u001b[0m\u001b[0m\n\u001b[0m",
      "\u001b[1;31mIndexError\u001b[0m: list index out of range"
     ]
    }
   ],
   "source": [
    "a=[]\n",
    "for i in range(5):\n",
    "    a[i]=i*i"
   ]
  },
  {
   "cell_type": "code",
   "execution_count": 39,
   "id": "398330ba",
   "metadata": {},
   "outputs": [
    {
     "name": "stdout",
     "output_type": "stream",
     "text": [
      "Enter a number-->2\n",
      "[2, 4, 6, 8, 10, 12, 14, 16, 18, 20]\n"
     ]
    }
   ],
   "source": [
    "n=int(input(\"Enter a number-->\"))\n",
    "l=[]\n",
    "for i in range(1,11):\n",
    "    l.append(i*n)\n",
    "print(l)"
   ]
  },
  {
   "cell_type": "code",
   "execution_count": 40,
   "id": "dd209eb5",
   "metadata": {},
   "outputs": [
    {
     "ename": "SyntaxError",
     "evalue": "invalid syntax (Temp/ipykernel_20904/3079395057.py, line 1)",
     "output_type": "error",
     "traceback": [
      "\u001b[1;36m  File \u001b[1;32m\"C:\\Users\\ayush\\AppData\\Local\\Temp/ipykernel_20904/3079395057.py\"\u001b[1;36m, line \u001b[1;32m1\u001b[0m\n\u001b[1;33m    l=[n=int(input(\"Enter a number-->\")) i*n for i in range(1,11)] #by using list comprehension.\u001b[0m\n\u001b[1;37m        ^\u001b[0m\n\u001b[1;31mSyntaxError\u001b[0m\u001b[1;31m:\u001b[0m invalid syntax\n"
     ]
    }
   ],
   "source": [
    "l=[n=int(input(\"Enter a number-->\")) i*n for i in range(1,11)] #by using list comprehension.\n",
    "print(l)"
   ]
  },
  {
   "cell_type": "code",
   "execution_count": 43,
   "id": "a48bdd75",
   "metadata": {},
   "outputs": [
    {
     "name": "stdout",
     "output_type": "stream",
     "text": [
      "[2, 3, 4, 10, 12, 14, 16, 18, 20]\n"
     ]
    }
   ],
   "source": [
    "l=[i if i<5 else i*2 for i in range(2,11)]\n",
    "print(l)"
   ]
  },
  {
   "cell_type": "code",
   "execution_count": 46,
   "id": "aa7302bb",
   "metadata": {},
   "outputs": [
    {
     "name": "stdout",
     "output_type": "stream",
     "text": [
      "15\n",
      "12\n",
      "39\n",
      "21\n"
     ]
    }
   ],
   "source": [
    "vals=[31,15,52,12,5,39,21,61,25]\n",
    "for i in vals:\n",
    "    if i%3==0:\n",
    "        print(i)"
   ]
  },
  {
   "cell_type": "code",
   "execution_count": 52,
   "id": "f52230f7",
   "metadata": {},
   "outputs": [
    {
     "name": "stdout",
     "output_type": "stream",
     "text": [
      "15\n",
      "12\n",
      "39\n",
      "21\n"
     ]
    }
   ],
   "source": [
    "l=[31,15,52,12,5,39,21,61,25]\n",
    "for i in range(len(l)):\n",
    "    if l[i]%3==0:\n",
    "        print(l[i])"
   ]
  },
  {
   "cell_type": "code",
   "execution_count": 50,
   "id": "1491b293",
   "metadata": {},
   "outputs": [
    {
     "name": "stdout",
     "output_type": "stream",
     "text": [
      "[15, 12, 39, 21]\n"
     ]
    }
   ],
   "source": [
    "l=[31,15,52,12,5,39,21,61,25]\n",
    "a=[i for i in l if i%3==0 ]\n",
    "print(a)"
   ]
  },
  {
   "cell_type": "code",
   "execution_count": 3,
   "id": "0f29330b",
   "metadata": {},
   "outputs": [
    {
     "name": "stdout",
     "output_type": "stream",
     "text": [
      "[100, 64, 36]\n"
     ]
    }
   ],
   "source": [
    "a=[]\n",
    "for i in range (10,5,-2):\n",
    "    for j in range (2,5,4):\n",
    "        a.append(i**j)\n",
    "print(a)"
   ]
  },
  {
   "cell_type": "code",
   "execution_count": 1,
   "id": "d2a9c7e5",
   "metadata": {},
   "outputs": [
    {
     "name": "stdout",
     "output_type": "stream",
     "text": [
      "[100, 64, 36]\n"
     ]
    }
   ],
   "source": [
    "l=[x**y for x in range(10,5,-2) for y in range(2,3,4)]\n",
    "print(l)"
   ]
  },
  {
   "cell_type": "code",
   "execution_count": null,
   "id": "cc78646f",
   "metadata": {},
   "outputs": [],
   "source": []
  }
 ],
 "metadata": {
  "kernelspec": {
   "display_name": "Python 3 (ipykernel)",
   "language": "python",
   "name": "python3"
  },
  "language_info": {
   "codemirror_mode": {
    "name": "ipython",
    "version": 3
   },
   "file_extension": ".py",
   "mimetype": "text/x-python",
   "name": "python",
   "nbconvert_exporter": "python",
   "pygments_lexer": "ipython3",
   "version": "3.9.7"
  }
 },
 "nbformat": 4,
 "nbformat_minor": 5
}
