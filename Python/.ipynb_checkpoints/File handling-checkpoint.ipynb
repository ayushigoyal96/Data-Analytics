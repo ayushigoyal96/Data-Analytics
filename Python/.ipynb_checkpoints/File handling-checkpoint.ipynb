{
 "cells": [
  {
   "cell_type": "markdown",
   "id": "ef4a50d2",
   "metadata": {},
   "source": [
    "# File Handling"
   ]
  },
  {
   "cell_type": "code",
   "execution_count": 3,
   "id": "095fb904",
   "metadata": {},
   "outputs": [
    {
     "ename": "SyntaxError",
     "evalue": "(unicode error) 'unicodeescape' codec can't decode bytes in position 2-3: truncated \\UXXXXXXXX escape (Temp/ipykernel_34808/3348499164.py, line 1)",
     "output_type": "error",
     "traceback": [
      "\u001b[1;36m  File \u001b[1;32m\"C:\\Users\\ayush\\AppData\\Local\\Temp/ipykernel_34808/3348499164.py\"\u001b[1;36m, line \u001b[1;32m1\u001b[0m\n\u001b[1;33m    f=open(\"C:\\Users\\ayush\\OneDrive\\Documents\\pivot table.xlsx\")\u001b[0m\n\u001b[1;37m                                                               ^\u001b[0m\n\u001b[1;31mSyntaxError\u001b[0m\u001b[1;31m:\u001b[0m (unicode error) 'unicodeescape' codec can't decode bytes in position 2-3: truncated \\UXXXXXXXX escape\n"
     ]
    }
   ],
   "source": [
    "f=open(\"C:\\Users\\ayush\\OneDrive\\Documents\\pivot table.xlsx\")\n",
    "data=f.read()\n",
    "print(data)"
   ]
  },
  {
   "cell_type": "code",
   "execution_count": 5,
   "id": "0a081014",
   "metadata": {},
   "outputs": [
    {
     "ename": "SyntaxError",
     "evalue": "(unicode error) 'unicodeescape' codec can't decode bytes in position 2-3: truncated \\UXXXXXXXX escape (Temp/ipykernel_34808/2171997183.py, line 1)",
     "output_type": "error",
     "traceback": [
      "\u001b[1;36m  File \u001b[1;32m\"C:\\Users\\ayush\\AppData\\Local\\Temp/ipykernel_34808/2171997183.py\"\u001b[1;36m, line \u001b[1;32m1\u001b[0m\n\u001b[1;33m    f=open(\"C:\\Users\\ayush\\OneDrive\\Documents\\vlookup exact.xlsx\")\u001b[0m\n\u001b[1;37m                                                                 ^\u001b[0m\n\u001b[1;31mSyntaxError\u001b[0m\u001b[1;31m:\u001b[0m (unicode error) 'unicodeescape' codec can't decode bytes in position 2-3: truncated \\UXXXXXXXX escape\n"
     ]
    }
   ],
   "source": [
    "f=open(\"C:\\Users\\ayush\\OneDrive\\Documents\\vlookup exact.xlsx\")\n",
    "data=f.read()\n",
    "print(data)"
   ]
  },
  {
   "cell_type": "code",
   "execution_count": 6,
   "id": "c426e944",
   "metadata": {},
   "outputs": [],
   "source": [
    "# f is a file pointer"
   ]
  },
  {
   "cell_type": "code",
   "execution_count": 10,
   "id": "dbdcff0a",
   "metadata": {},
   "outputs": [
    {
     "ename": "NameError",
     "evalue": "name 'f' is not defined",
     "output_type": "error",
     "traceback": [
      "\u001b[1;31m---------------------------------------------------------------------------\u001b[0m",
      "\u001b[1;31mNameError\u001b[0m                                 Traceback (most recent call last)",
      "\u001b[1;32m~\\AppData\\Local\\Temp/ipykernel_34808/3169080460.py\u001b[0m in \u001b[0;36m<module>\u001b[1;34m\u001b[0m\n\u001b[1;32m----> 1\u001b[1;33m \u001b[0mprint\u001b[0m\u001b[1;33m(\u001b[0m\u001b[0mf\u001b[0m\u001b[1;33m)\u001b[0m\u001b[1;33m\u001b[0m\u001b[1;33m\u001b[0m\u001b[0m\n\u001b[0m",
      "\u001b[1;31mNameError\u001b[0m: name 'f' is not defined"
     ]
    }
   ],
   "source": [
    "print(f)"
   ]
  },
  {
   "cell_type": "code",
   "execution_count": 14,
   "id": "59101e18",
   "metadata": {},
   "outputs": [
    {
     "name": "stdout",
     "output_type": "stream",
     "text": [
      "Enter no of students-->4\n",
      "enter the name of student no 1-->Ayushi\n",
      "Enter the roll no of student no 1-->101\n",
      "Enter the age of student no 1-->24\n",
      "Enter the eng marks of student no 1-->66\n",
      "Enter the hindi marks of student no 1-->67\n",
      "Enter the science marks of student no 1-->78\n",
      "Enter the computer marks of student no 1-->78\n",
      "enter the name of student no 2-->Naman\n",
      "Enter the roll no of student no 2-->102\n",
      "Enter the age of student no 2-->22\n",
      "Enter the eng marks of student no 2-->67\n",
      "Enter the hindi marks of student no 2-->67\n",
      "Enter the science marks of student no 2-->66\n",
      "Enter the computer marks of student no 2-->67\n",
      "enter the name of student no 3-->Anshul\n",
      "Enter the roll no of student no 3-->103\n",
      "Enter the age of student no 3-->24\n",
      "Enter the eng marks of student no 3-->78\n",
      "Enter the hindi marks of student no 3-->67\n",
      "Enter the science marks of student no 3-->76\n",
      "Enter the computer marks of student no 3-->78\n",
      "enter the name of student no 4-->Kartik\n",
      "Enter the roll no of student no 4-->24\n",
      "Enter the age of student no 4-->24\n",
      "Enter the eng marks of student no 4-->56\n",
      "Enter the hindi marks of student no 4-->67\n",
      "Enter the science marks of student no 4-->78\n",
      "Enter the computer marks of student no 4-->87\n",
      "Marks is successfully Updated\n"
     ]
    }
   ],
   "source": [
    "n=int(input(\"Enter no of students-->\"))\n",
    "f=open(\"c:/Users/ayush/abc.csv\",\"wt\")\n",
    "f.write(\"Name,Roll,Age,English,Hindi,Science,Computer Science,Total\")\n",
    "for var in range(1,n+1):\n",
    "    name=input(f\"enter the name of student no {var}-->\")\n",
    "    roll=int(input(f\"Enter the roll no of student no {var}-->\"))\n",
    "    age=int(input(f\"Enter the age of student no {var}-->\"))\n",
    "    eng=int(input(f\"Enter the eng marks of student no {var}-->\"))\n",
    "    hindi=int(input(f\"Enter the hindi marks of student no {var}-->\"))\n",
    "    science=int(input(f\"Enter the science marks of student no {var}-->\"))\n",
    "    computer=int(input(f\"Enter the computer marks of student no {var}-->\"))\n",
    "    total=eng+hindi+science+computer\n",
    "    f.write(f\"{name},{roll},{age},{eng},{hindi},{science},{computer},{total}\")\n",
    "print(\"Marks is successfully Updated\")\n",
    "f.close()"
   ]
  },
  {
   "cell_type": "code",
   "execution_count": null,
   "id": "c0ed398f",
   "metadata": {},
   "outputs": [],
   "source": []
  }
 ],
 "metadata": {
  "kernelspec": {
   "display_name": "Python 3 (ipykernel)",
   "language": "python",
   "name": "python3"
  },
  "language_info": {
   "codemirror_mode": {
    "name": "ipython",
    "version": 3
   },
   "file_extension": ".py",
   "mimetype": "text/x-python",
   "name": "python",
   "nbconvert_exporter": "python",
   "pygments_lexer": "ipython3",
   "version": "3.9.7"
  }
 },
 "nbformat": 4,
 "nbformat_minor": 5
}
