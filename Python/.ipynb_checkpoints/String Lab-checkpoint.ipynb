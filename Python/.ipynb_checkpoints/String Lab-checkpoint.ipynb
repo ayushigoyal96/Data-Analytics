{
 "cells": [
  {
   "cell_type": "markdown",
   "id": "c06fe206",
   "metadata": {},
   "source": [
    "# String Related Questions\n",
    "## Lab 1"
   ]
  },
  {
   "cell_type": "markdown",
   "id": "c1fc5bd8",
   "metadata": {},
   "source": [
    "Ques: You have a non-empty string is given. In ths string we have mutiple function and methods are given.Use those method and \n",
    "    do the task, Your task is find starting 5 even index character.Then also find the Last odd 5 even index character in the \n",
    "    reverse order."
   ]
  },
  {
   "cell_type": "code",
   "execution_count": 13,
   "id": "f77ad219",
   "metadata": {},
   "outputs": [
    {
     "name": "stdout",
     "output_type": "stream",
     "text": [
      "DataScience\n"
     ]
    }
   ],
   "source": [
    "String = 'DataScience'\n",
    "print(String)"
   ]
  },
  {
   "cell_type": "code",
   "execution_count": 16,
   "id": "81a2f347",
   "metadata": {},
   "outputs": [
    {
     "data": {
      "text/plain": [
       "'DtSin'"
      ]
     },
     "execution_count": 16,
     "metadata": {},
     "output_type": "execute_result"
    }
   ],
   "source": [
    "String[:9:2]"
   ]
  },
  {
   "cell_type": "code",
   "execution_count": 18,
   "id": "c0bb593f",
   "metadata": {},
   "outputs": [
    {
     "data": {
      "text/plain": [
       "'niStD'"
      ]
     },
     "execution_count": 18,
     "metadata": {},
     "output_type": "execute_result"
    }
   ],
   "source": [
    "String[-3::-2]"
   ]
  },
  {
   "cell_type": "markdown",
   "id": "2c7caa52",
   "metadata": {},
   "source": [
    "Ques : You have a non-empty string is given. In the String datatype we have some method using those method you need \n",
    "    to perform theis task. The task is you have complete line is given with some spaces so you need to perform all \n",
    "    the outputs which is describe here."
   ]
  },
  {
   "cell_type": "code",
   "execution_count": 19,
   "id": "6000190d",
   "metadata": {},
   "outputs": [
    {
     "name": "stdout",
     "output_type": "stream",
     "text": [
      "    Talk Is Cheap! Show me the code.      \n"
     ]
    }
   ],
   "source": [
    "S='    Talk Is Cheap! Show me the code.      ' \n",
    "print(S)"
   ]
  },
  {
   "cell_type": "code",
   "execution_count": 20,
   "id": "ca0a922e",
   "metadata": {},
   "outputs": [
    {
     "data": {
      "text/plain": [
       "'    Talk Is Cheap! Show Me The Code.      '"
      ]
     },
     "execution_count": 20,
     "metadata": {},
     "output_type": "execute_result"
    }
   ],
   "source": [
    "S.title()"
   ]
  },
  {
   "cell_type": "code",
   "execution_count": 21,
   "id": "d5068dd3",
   "metadata": {},
   "outputs": [
    {
     "data": {
      "text/plain": [
       "'    TALK IS CHEAP! SHOW ME THE CODE.      '"
      ]
     },
     "execution_count": 21,
     "metadata": {},
     "output_type": "execute_result"
    }
   ],
   "source": [
    "S.upper()"
   ]
  },
  {
   "cell_type": "code",
   "execution_count": 22,
   "id": "2d16afd0",
   "metadata": {},
   "outputs": [
    {
     "data": {
      "text/plain": [
       "'    talk is cheap! show me the code.      '"
      ]
     },
     "execution_count": 22,
     "metadata": {},
     "output_type": "execute_result"
    }
   ],
   "source": [
    "S.lower()"
   ]
  },
  {
   "cell_type": "code",
   "execution_count": 23,
   "id": "a8470fd8",
   "metadata": {},
   "outputs": [
    {
     "data": {
      "text/plain": [
       "'    talk is cheap! show me the code.      '"
      ]
     },
     "execution_count": 23,
     "metadata": {},
     "output_type": "execute_result"
    }
   ],
   "source": [
    "S.capitalize()"
   ]
  },
  {
   "cell_type": "code",
   "execution_count": 24,
   "id": "57c487f2",
   "metadata": {},
   "outputs": [
    {
     "data": {
      "text/plain": [
       "'Talk Is Cheap! Show me the code.'"
      ]
     },
     "execution_count": 24,
     "metadata": {},
     "output_type": "execute_result"
    }
   ],
   "source": [
    "S.strip()"
   ]
  },
  {
   "cell_type": "code",
   "execution_count": 25,
   "id": "b8f008be",
   "metadata": {},
   "outputs": [
    {
     "data": {
      "text/plain": [
       "'Talk Is Cheap! Show me the code.      '"
      ]
     },
     "execution_count": 25,
     "metadata": {},
     "output_type": "execute_result"
    }
   ],
   "source": [
    "S.lstrip()"
   ]
  },
  {
   "cell_type": "code",
   "execution_count": 26,
   "id": "7f2bf0c0",
   "metadata": {},
   "outputs": [
    {
     "data": {
      "text/plain": [
       "'    Talk Is Cheap! Show me the code.'"
      ]
     },
     "execution_count": 26,
     "metadata": {},
     "output_type": "execute_result"
    }
   ],
   "source": [
    "S.rstrip()"
   ]
  },
  {
   "cell_type": "code",
   "execution_count": 27,
   "id": "3d1e3560",
   "metadata": {},
   "outputs": [
    {
     "data": {
      "text/plain": [
       "'                            Talk Is Cheap! Show me the code.                              '"
      ]
     },
     "execution_count": 27,
     "metadata": {},
     "output_type": "execute_result"
    }
   ],
   "source": [
    "S.center(90)"
   ]
  },
  {
   "cell_type": "code",
   "execution_count": 30,
   "id": "14fd077e",
   "metadata": {},
   "outputs": [
    {
     "data": {
      "text/plain": [
       "'************************    TALK IS CHEAP! SHOW ME THE CODE.      ************************'"
      ]
     },
     "execution_count": 30,
     "metadata": {},
     "output_type": "execute_result"
    }
   ],
   "source": [
    "S.upper().center(90,\"*\")"
   ]
  },
  {
   "cell_type": "markdown",
   "id": "26a11b6e",
   "metadata": {},
   "source": [
    "Ques : Given an integer N print the following values for each integer i from 1 to N in these format.\n",
    "    1. Decimal\n",
    "    2. Octal\n",
    "    3. Hexadecimal (capitalized)\n",
    "    4. Binary\n",
    "The four values must be printed on a single line in the order specified above for each i from 1 to N. \n",
    "Each value should be space-padded to match the width of the binary value of N."
   ]
  },
  {
   "cell_type": "code",
   "execution_count": 43,
   "id": "1d67e1fa",
   "metadata": {},
   "outputs": [
    {
     "name": "stdout",
     "output_type": "stream",
     "text": [
      "         0         0         0         0\n",
      "         1         1         1         1\n",
      "         2         2         2        10\n",
      "         3         3         3        11\n",
      "         4         4         4       100\n",
      "         5         5         5       101\n",
      "         6         6         6       110\n",
      "         7         7         7       111\n",
      "         8        10         8      1000\n",
      "         9        11         9      1001\n",
      "        10        12         A      1010\n",
      "        11        13         B      1011\n",
      "        12        14         C      1100\n",
      "        13        15         D      1101\n",
      "        14        16         E      1110\n",
      "        15        17         F      1111\n",
      "        16        20        10     10000\n",
      "        17        21        11     10001\n",
      "        18        22        12     10010\n",
      "        19        23        13     10011\n",
      "        20        24        14     10100\n",
      "        21        25        15     10101\n",
      "        22        26        16     10110\n",
      "        23        27        17     10111\n",
      "        24        30        18     11000\n",
      "        25        31        19     11001\n",
      "        26        32        1A     11010\n",
      "        27        33        1B     11011\n",
      "        28        34        1C     11100\n",
      "        29        35        1D     11101\n",
      "        30        36        1E     11110\n",
      "        31        37        1F     11111\n",
      "        32        40        20    100000\n",
      "        33        41        21    100001\n",
      "        34        42        22    100010\n",
      "        35        43        23    100011\n",
      "        36        44        24    100100\n",
      "        37        45        25    100101\n",
      "        38        46        26    100110\n",
      "        39        47        27    100111\n",
      "        40        50        28    101000\n",
      "        41        51        29    101001\n",
      "        42        52        2A    101010\n",
      "        43        53        2B    101011\n",
      "        44        54        2C    101100\n",
      "        45        55        2D    101101\n",
      "        46        56        2E    101110\n",
      "        47        57        2F    101111\n",
      "        48        60        30    110000\n",
      "        49        61        31    110001\n"
     ]
    }
   ],
   "source": [
    "for i in range(50):\n",
    "     print(f\"{i:10}{i:10o}{i:10X}{i:10b}\")"
   ]
  },
  {
   "cell_type": "markdown",
   "id": "265f7b7d",
   "metadata": {},
   "source": [
    "Ques : This task is related to text preprocessing Which will help you to understand the text image processing. You have a\n",
    "    paragraph is given. Your task is to preform these setps for text preprocessing. \n",
    "    Tasks:\n",
    "        1. Remove all the comma (,) in this paragraph.\n",
    "        2. Remove all the dots (.) in this paragraph.\n",
    "        3. Remove all the stopwords like \"and\",\"a\",\"the\",\"in\",\"of\",\"is\",\"on\".\n",
    "        4. Print the remaining paragraph.\n"
   ]
  },
  {
   "cell_type": "code",
   "execution_count": 47,
   "id": "833caf0c",
   "metadata": {},
   "outputs": [
    {
     "name": "stdout",
     "output_type": "stream",
     "text": [
      "    I have three visions for India. In 3000 years of our history people from all over the world have come and invaded\n",
      "    us, captured our lands, conquered our minds. From Alexander onwards the Greeks, the Turks, the Moguls, the Portuguese,the\n",
      "    British, the French, the Dutch, all of them came and looted us, took over what was ours. Yet we have not done this to any \n",
      "    other nation. We have not conquered anyone. We have not grabbed their land, their culture and their history and tried to \n",
      "    enforce our way of life on them. Why? Because we respect the freedom of others. That is why my FIRST VISION is that of \n",
      "    FREEDOM. I believe that India got its first vision of this in 1857, when we started the war of Independence. It is this \n",
      "    freedom that we must protect and nurture and build on. If we are not free, no one will respect us.\n"
     ]
    }
   ],
   "source": [
    "paragraph=\"\"\"    I have three visions for India. In 3000 years of our history people from all over the world have come and invaded\n",
    "    us, captured our lands, conquered our minds. From Alexander onwards the Greeks, the Turks, the Moguls, the Portuguese,the\n",
    "    British, the French, the Dutch, all of them came and looted us, took over what was ours. Yet we have not done this to any \n",
    "    other nation. We have not conquered anyone. We have not grabbed their land, their culture and their history and tried to \n",
    "    enforce our way of life on them. Why? Because we respect the freedom of others. That is why my FIRST VISION is that of \n",
    "    FREEDOM. I believe that India got its first vision of this in 1857, when we started the war of Independence. It is this \n",
    "    freedom that we must protect and nurture and build on. If we are not free, no one will respect us.\"\"\"\n",
    "print(paragraph)"
   ]
  },
  {
   "cell_type": "code",
   "execution_count": 51,
   "id": "35414c8a",
   "metadata": {},
   "outputs": [
    {
     "name": "stdout",
     "output_type": "stream",
     "text": [
      "    I have three visions for India. In 3000 years of our history people from all over the world have come and invaded\n",
      "    us, captured our lands, conquered our minds. From Alexander onwards the Greeks, the Turks, the Moguls, the Portuguese,the\n",
      "    British, the French, the Dutch, all of them came and looted us, took over what was ours. Yet we have not done this to any \n",
      "    other nation. We have not conquered anyone. We have not grabbed their land, their culture and their history and tried to \n",
      "    enforce our way of life on them. Why? Because we respect the freedom of others. That is why my FIRST VISION is that of \n",
      "    FREEDOM. I believe that India got its first vision of this in 1857, when we started the war of Independence. It is this \n",
      "    freedom that we must protect and nurture and build on. If we are not free, no one will respect us.\n"
     ]
    }
   ],
   "source": [
    "paragraph.replace(\" , \",\" \")\n",
    "print(paragraph)"
   ]
  },
  {
   "cell_type": "code",
   "execution_count": 56,
   "id": "7508f59e",
   "metadata": {},
   "outputs": [
    {
     "name": "stdout",
     "output_type": "stream",
     "text": [
      "    I have three visions for India. In 3000 years of our history people from all over the world have come and invaded\n",
      "    us, captured our lands, conquered our minds. From Alexander onwards the Greeks, the Turks, the Moguls, the Portuguese,the\n",
      "    British, the French, the Dutch, all of them came and looted us, took over what was ours. Yet we have not done this to any \n",
      "    other nation. We have not conquered anyone. We have not grabbed their land, their culture and their history and tried to \n",
      "    enforce our way of life on them. Why? Because we respect the freedom of others. That is why my FIRST VISION is that of \n",
      "    FREEDOM. I believe that India got its first vision of this in 1857, when we started the war of Independence. It is this \n",
      "    freedom that we must protect and nurture and build on. If we are not free, no one will respect us.\n"
     ]
    }
   ],
   "source": [
    "paragraph.replace(\" and \",\" \")\n",
    "print(paragraph)"
   ]
  },
  {
   "cell_type": "code",
   "execution_count": null,
   "id": "c94ddce4",
   "metadata": {},
   "outputs": [],
   "source": []
  }
 ],
 "metadata": {
  "kernelspec": {
   "display_name": "Python 3 (ipykernel)",
   "language": "python",
   "name": "python3"
  },
  "language_info": {
   "codemirror_mode": {
    "name": "ipython",
    "version": 3
   },
   "file_extension": ".py",
   "mimetype": "text/x-python",
   "name": "python",
   "nbconvert_exporter": "python",
   "pygments_lexer": "ipython3",
   "version": "3.9.7"
  }
 },
 "nbformat": 4,
 "nbformat_minor": 5
}
