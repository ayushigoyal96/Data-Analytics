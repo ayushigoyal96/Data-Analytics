{
 "cells": [
  {
   "cell_type": "code",
   "execution_count": 1,
   "id": "dfeff894",
   "metadata": {},
   "outputs": [
    {
     "name": "stdout",
     "output_type": "stream",
     "text": [
      "Hello World\n"
     ]
    }
   ],
   "source": [
    "print(\"Hello World\")"
   ]
  },
  {
   "cell_type": "code",
   "execution_count": 2,
   "id": "7295aef8",
   "metadata": {},
   "outputs": [],
   "source": [
    "s=\"Hello World\""
   ]
  },
  {
   "cell_type": "code",
   "execution_count": 3,
   "id": "76793d20",
   "metadata": {},
   "outputs": [
    {
     "data": {
      "text/plain": [
       "'Hello World'"
      ]
     },
     "execution_count": 3,
     "metadata": {},
     "output_type": "execute_result"
    }
   ],
   "source": [
    "s"
   ]
  },
  {
   "cell_type": "code",
   "execution_count": 4,
   "id": "86c1714d",
   "metadata": {},
   "outputs": [
    {
     "data": {
      "text/plain": [
       "['In',\n",
       " 'Out',\n",
       " '_',\n",
       " '_3',\n",
       " '__',\n",
       " '___',\n",
       " '__builtin__',\n",
       " '__builtins__',\n",
       " '__doc__',\n",
       " '__loader__',\n",
       " '__name__',\n",
       " '__package__',\n",
       " '__spec__',\n",
       " '_dh',\n",
       " '_i',\n",
       " '_i1',\n",
       " '_i2',\n",
       " '_i3',\n",
       " '_i4',\n",
       " '_ih',\n",
       " '_ii',\n",
       " '_iii',\n",
       " '_oh',\n",
       " 'exit',\n",
       " 'get_ipython',\n",
       " 'quit',\n",
       " 's']"
      ]
     },
     "execution_count": 4,
     "metadata": {},
     "output_type": "execute_result"
    }
   ],
   "source": [
    "dir()"
   ]
  },
  {
   "cell_type": "code",
   "execution_count": 5,
   "id": "628051a3",
   "metadata": {},
   "outputs": [
    {
     "ename": "AttributeError",
     "evalue": "'str' object has no attribute 'dir'",
     "output_type": "error",
     "traceback": [
      "\u001b[1;31m---------------------------------------------------------------------------\u001b[0m",
      "\u001b[1;31mAttributeError\u001b[0m                            Traceback (most recent call last)",
      "\u001b[1;32m~\\AppData\\Local\\Temp/ipykernel_23716/821803962.py\u001b[0m in \u001b[0;36m<module>\u001b[1;34m\u001b[0m\n\u001b[1;32m----> 1\u001b[1;33m \u001b[0ms\u001b[0m\u001b[1;33m.\u001b[0m\u001b[0mdir\u001b[0m\u001b[1;33m(\u001b[0m\u001b[1;33m)\u001b[0m\u001b[1;33m\u001b[0m\u001b[1;33m\u001b[0m\u001b[0m\n\u001b[0m",
      "\u001b[1;31mAttributeError\u001b[0m: 'str' object has no attribute 'dir'"
     ]
    }
   ],
   "source": [
    "s.dir()"
   ]
  },
  {
   "cell_type": "code",
   "execution_count": null,
   "id": "8041ebe8",
   "metadata": {},
   "outputs": [],
   "source": [
    "help()"
   ]
  },
  {
   "cell_type": "code",
   "execution_count": null,
   "id": "946936f4",
   "metadata": {},
   "outputs": [],
   "source": [
    "a=10\n",
    "print (\"a\")\n"
   ]
  },
  {
   "cell_type": "code",
   "execution_count": null,
   "id": "9e2d2ad4",
   "metadata": {},
   "outputs": [],
   "source": [
    "print(\"a\")"
   ]
  },
  {
   "cell_type": "code",
   "execution_count": null,
   "id": "738fef6d",
   "metadata": {},
   "outputs": [],
   "source": [
    "type(a)"
   ]
  },
  {
   "cell_type": "code",
   "execution_count": null,
   "id": "519286ae",
   "metadata": {},
   "outputs": [],
   "source": [
    "a=10\n",
    "type(a)\n",
    "id(a)"
   ]
  },
  {
   "cell_type": "markdown",
   "id": "7b0bfa56",
   "metadata": {},
   "source": [
    "# String Methods"
   ]
  },
  {
   "cell_type": "code",
   "execution_count": null,
   "id": "c6c1cfa1",
   "metadata": {},
   "outputs": [],
   "source": [
    "s"
   ]
  },
  {
   "cell_type": "code",
   "execution_count": null,
   "id": "88565026",
   "metadata": {},
   "outputs": [],
   "source": [
    "s.capitalize()"
   ]
  },
  {
   "cell_type": "code",
   "execution_count": null,
   "id": "e21fd536",
   "metadata": {},
   "outputs": [],
   "source": [
    "s.lower()"
   ]
  },
  {
   "cell_type": "code",
   "execution_count": null,
   "id": "fd7b63eb",
   "metadata": {},
   "outputs": [],
   "source": [
    "s.upper()"
   ]
  },
  {
   "cell_type": "code",
   "execution_count": null,
   "id": "ae7706b6",
   "metadata": {},
   "outputs": [],
   "source": [
    "s.title()"
   ]
  },
  {
   "cell_type": "code",
   "execution_count": null,
   "id": "0b9025d3",
   "metadata": {},
   "outputs": [],
   "source": [
    "s.len()"
   ]
  },
  {
   "cell_type": "code",
   "execution_count": null,
   "id": "ed424a0e",
   "metadata": {},
   "outputs": [],
   "source": [
    "len()"
   ]
  },
  {
   "cell_type": "code",
   "execution_count": null,
   "id": "8cb2ae5c",
   "metadata": {},
   "outputs": [],
   "source": [
    "len(s)"
   ]
  },
  {
   "cell_type": "code",
   "execution_count": null,
   "id": "1bac2d59",
   "metadata": {},
   "outputs": [],
   "source": [
    "dir(s)"
   ]
  },
  {
   "cell_type": "code",
   "execution_count": null,
   "id": "befbee16",
   "metadata": {},
   "outputs": [],
   "source": [
    "s.casefold()"
   ]
  },
  {
   "cell_type": "code",
   "execution_count": null,
   "id": "c20447ef",
   "metadata": {},
   "outputs": [],
   "source": [
    "s.count()"
   ]
  },
  {
   "cell_type": "code",
   "execution_count": null,
   "id": "2c4db7a3",
   "metadata": {},
   "outputs": [],
   "source": [
    "s.count(s)"
   ]
  },
  {
   "cell_type": "code",
   "execution_count": null,
   "id": "2aab29dc",
   "metadata": {},
   "outputs": [],
   "source": [
    "s.count(h)"
   ]
  },
  {
   "cell_type": "code",
   "execution_count": null,
   "id": "c3644064",
   "metadata": {},
   "outputs": [],
   "source": [
    "print(s)"
   ]
  },
  {
   "cell_type": "code",
   "execution_count": null,
   "id": "e2d992ea",
   "metadata": {},
   "outputs": [],
   "source": [
    "s.strip()"
   ]
  },
  {
   "cell_type": "code",
   "execution_count": null,
   "id": "b386e30a",
   "metadata": {},
   "outputs": [],
   "source": [
    "s.index(\"7\")"
   ]
  },
  {
   "cell_type": "code",
   "execution_count": null,
   "id": "b597f323",
   "metadata": {},
   "outputs": [],
   "source": [
    "s.find(o)"
   ]
  },
  {
   "cell_type": "code",
   "execution_count": null,
   "id": "a19f37b5",
   "metadata": {},
   "outputs": [],
   "source": [
    "s.removeprefix(\"Hello \")"
   ]
  },
  {
   "cell_type": "code",
   "execution_count": null,
   "id": "391be239",
   "metadata": {},
   "outputs": [],
   "source": [
    "s.removesuffix(\" World\")"
   ]
  },
  {
   "cell_type": "code",
   "execution_count": null,
   "id": "9f277291",
   "metadata": {},
   "outputs": [],
   "source": [
    "s.strip()"
   ]
  },
  {
   "cell_type": "code",
   "execution_count": null,
   "id": "3cecaf48",
   "metadata": {},
   "outputs": [],
   "source": [
    "s.center(90)"
   ]
  },
  {
   "cell_type": "code",
   "execution_count": null,
   "id": "f5c82c8a",
   "metadata": {},
   "outputs": [],
   "source": [
    "s.rcenter()"
   ]
  },
  {
   "cell_type": "code",
   "execution_count": null,
   "id": "7403e375",
   "metadata": {},
   "outputs": [],
   "source": [
    "s.swapcase()"
   ]
  },
  {
   "cell_type": "code",
   "execution_count": null,
   "id": "6f5cd183",
   "metadata": {},
   "outputs": [],
   "source": [
    "s.split('-')"
   ]
  },
  {
   "cell_type": "code",
   "execution_count": null,
   "id": "4be1c5a9",
   "metadata": {},
   "outputs": [],
   "source": [
    "s.split('d')"
   ]
  },
  {
   "cell_type": "code",
   "execution_count": null,
   "id": "d4fd5022",
   "metadata": {},
   "outputs": [],
   "source": [
    "'-'.join(s)"
   ]
  },
  {
   "cell_type": "code",
   "execution_count": null,
   "id": "e9a0b5f3",
   "metadata": {},
   "outputs": [],
   "source": [
    "s.strip('*')"
   ]
  },
  {
   "cell_type": "code",
   "execution_count": null,
   "id": "10ed0fa8",
   "metadata": {},
   "outputs": [],
   "source": [
    "s.count('o')"
   ]
  },
  {
   "cell_type": "code",
   "execution_count": null,
   "id": "fd05b721",
   "metadata": {},
   "outputs": [],
   "source": [
    "s.endswith('r')"
   ]
  },
  {
   "cell_type": "code",
   "execution_count": null,
   "id": "3d630d65",
   "metadata": {},
   "outputs": [],
   "source": [
    "s.startswith('h')"
   ]
  },
  {
   "cell_type": "code",
   "execution_count": null,
   "id": "bcb3c3ef",
   "metadata": {},
   "outputs": [],
   "source": [
    "s.startswith('H')"
   ]
  },
  {
   "cell_type": "code",
   "execution_count": null,
   "id": "f9870b33",
   "metadata": {},
   "outputs": [],
   "source": [
    "s.count('h')"
   ]
  },
  {
   "cell_type": "code",
   "execution_count": null,
   "id": "c4d8c22b",
   "metadata": {},
   "outputs": [],
   "source": [
    "s.count('e')"
   ]
  },
  {
   "cell_type": "code",
   "execution_count": null,
   "id": "1ddc8d16",
   "metadata": {},
   "outputs": [],
   "source": [
    "s.count('l')"
   ]
  },
  {
   "cell_type": "code",
   "execution_count": null,
   "id": "de821277",
   "metadata": {},
   "outputs": [],
   "source": [
    "s.count('o')"
   ]
  },
  {
   "cell_type": "code",
   "execution_count": null,
   "id": "5e294b1a",
   "metadata": {},
   "outputs": [],
   "source": [
    "d=s.encode()"
   ]
  },
  {
   "cell_type": "code",
   "execution_count": null,
   "id": "be4b4928",
   "metadata": {},
   "outputs": [],
   "source": [
    "d.decode()"
   ]
  },
  {
   "cell_type": "code",
   "execution_count": null,
   "id": "0b5b0dcb",
   "metadata": {},
   "outputs": [],
   "source": [
    "s"
   ]
  },
  {
   "cell_type": "code",
   "execution_count": null,
   "id": "fc6c1e5b",
   "metadata": {},
   "outputs": [],
   "source": [
    "s[2:5]"
   ]
  },
  {
   "cell_type": "code",
   "execution_count": null,
   "id": "c02b02b6",
   "metadata": {},
   "outputs": [],
   "source": [
    "s[2:5:1]"
   ]
  },
  {
   "cell_type": "code",
   "execution_count": null,
   "id": "0cdf3fa3",
   "metadata": {},
   "outputs": [],
   "source": [
    "s.lstrip('')"
   ]
  },
  {
   "cell_type": "code",
   "execution_count": null,
   "id": "20f70998",
   "metadata": {},
   "outputs": [],
   "source": [
    "s.partition('e')"
   ]
  },
  {
   "cell_type": "code",
   "execution_count": null,
   "id": "b7a83816",
   "metadata": {},
   "outputs": [],
   "source": [
    "s.index('z')"
   ]
  },
  {
   "cell_type": "code",
   "execution_count": null,
   "id": "306fb21c",
   "metadata": {},
   "outputs": [],
   "source": [
    "s.find('ll')"
   ]
  },
  {
   "cell_type": "code",
   "execution_count": null,
   "id": "056fa087",
   "metadata": {},
   "outputs": [],
   "source": [
    "s.index('ll')"
   ]
  },
  {
   "cell_type": "code",
   "execution_count": null,
   "id": "ae4bf69b",
   "metadata": {},
   "outputs": [],
   "source": [
    "s.partition('l')"
   ]
  },
  {
   "cell_type": "code",
   "execution_count": null,
   "id": "0d3dafcf",
   "metadata": {},
   "outputs": [],
   "source": [
    "s.split('l')"
   ]
  },
  {
   "cell_type": "code",
   "execution_count": null,
   "id": "08bf2d40",
   "metadata": {},
   "outputs": [],
   "source": [
    "s.splitlines()"
   ]
  },
  {
   "cell_type": "code",
   "execution_count": null,
   "id": "56c87d57",
   "metadata": {},
   "outputs": [],
   "source": [
    "s.partition('d')"
   ]
  },
  {
   "cell_type": "code",
   "execution_count": null,
   "id": "356e6da8",
   "metadata": {},
   "outputs": [],
   "source": [
    "s.ljust(60)"
   ]
  },
  {
   "cell_type": "code",
   "execution_count": null,
   "id": "92705714",
   "metadata": {},
   "outputs": [],
   "source": [
    "s.rjust(50)"
   ]
  },
  {
   "cell_type": "code",
   "execution_count": null,
   "id": "4597e5d5",
   "metadata": {},
   "outputs": [],
   "source": [
    "s.center(90)"
   ]
  },
  {
   "cell_type": "code",
   "execution_count": null,
   "id": "ac0ce0e5",
   "metadata": {},
   "outputs": [],
   "source": [
    "s.ljust(50)"
   ]
  },
  {
   "cell_type": "code",
   "execution_count": null,
   "id": "5c267466",
   "metadata": {},
   "outputs": [],
   "source": [
    "s.rjust(70)"
   ]
  },
  {
   "cell_type": "code",
   "execution_count": null,
   "id": "db0e8e32",
   "metadata": {},
   "outputs": [],
   "source": [
    "s.strip('*')"
   ]
  },
  {
   "cell_type": "code",
   "execution_count": null,
   "id": "c341a954",
   "metadata": {},
   "outputs": [],
   "source": [
    "s.split('e')"
   ]
  },
  {
   "cell_type": "code",
   "execution_count": null,
   "id": "3f70bd68",
   "metadata": {},
   "outputs": [],
   "source": [
    "s.partition('e')"
   ]
  },
  {
   "cell_type": "code",
   "execution_count": null,
   "id": "088d67c6",
   "metadata": {},
   "outputs": [],
   "source": [
    "s"
   ]
  },
  {
   "cell_type": "code",
   "execution_count": 6,
   "id": "b4f53489",
   "metadata": {
    "scrolled": true
   },
   "outputs": [
    {
     "name": "stdout",
     "output_type": "stream",
     "text": [
      "******************************************************************************************\n",
      "------------------------------------------------------------------------------------------\n",
      "                                                  Marksheet                                                   \n",
      "------------------------------------------------------------------------------------------\n",
      "******************************************************************************************\n",
      "Enter your name--->hfefehijj\n",
      "Enter your roll no-->rfjrnfjkr\n",
      "Enter your class-->njnfjr\n",
      "English = 90\n",
      "Maths = 98\n",
      "HINDI = 87\n",
      "SST = 90\n",
      "Cs = 99\n",
      "Sc = 100\n",
      "PERCENTAGE = 94.0\n"
     ]
    }
   ],
   "source": [
    "print('*'*90)\n",
    "print('-'*90)\n",
    "s=\"Marksheet\"\n",
    "print(s.center(110))\n",
    "print('-'*90)\n",
    "print('*'*90)\n",
    "name = input(\"Enter your name--->\")\n",
    "rollno = input(\"Enter your roll no-->\")\n",
    "Class =input(\"Enter your class-->\")\n",
    "english =90\n",
    "maths =98\n",
    "hindi =87\n",
    "sst =90\n",
    "cs =99\n",
    "sc =100\n",
    "per =(english+maths+hindi+sst+cs+sc)/600*100\n",
    "print(\"english =\".title(),english)\n",
    "print(\"maths =\".capitalize(),maths)\n",
    "print(\"hindi =\".upper(),hindi)\n",
    "print(\"sst =\".upper(),sst)\n",
    "print(\"cs =\".title(),cs)\n",
    "print(\"sc =\".title(),sc)\n",
    "print(\"percentage =\".upper(),per)"
   ]
  },
  {
   "cell_type": "code",
   "execution_count": 8,
   "id": "de460494",
   "metadata": {},
   "outputs": [
    {
     "name": "stdout",
     "output_type": "stream",
     "text": [
      "Enter your name--->Ayushi\n",
      "Enter your roll no-->78\n",
      "Enter your class-->12\n",
      "----------Marksheet----------\n",
      "      Name = Ayushi\n",
      "      RollNo =78\n",
      "      Class = 12\n",
      "        \n",
      "      English =90\n",
      "      Maths = 98\n",
      "      Hindi = 87\n",
      "      Social Studies = 90\n",
      "      Computer Science = 99\n",
      "      Science = 100\n",
      "      Percentage= 94.0\n"
     ]
    }
   ],
   "source": [
    "name = input(\"Enter your name--->\")\n",
    "rollno = input(\"Enter your roll no-->\")\n",
    "Class =input(\"Enter your class-->\")\n",
    "english =90\n",
    "maths =98\n",
    "hindi =87\n",
    "sst =90\n",
    "cs =99\n",
    "sc =100\n",
    "per =(english+maths+hindi+sst+cs+sc)/600*100\n",
    "print(\"\"\"----------Marksheet----------\n",
    "      Name = {}\n",
    "      RollNo ={}\n",
    "      Class = {}\n",
    "        \n",
    "      English ={}\n",
    "      Maths = {}\n",
    "      Hindi = {}\n",
    "      Social Studies = {}\n",
    "      Computer Science = {}\n",
    "      Science = {}\n",
    "      Percentage= {}\"\"\".format(name,rollno,Class,english,maths,hindi,sst,cs,sc,per))"
   ]
  },
  {
   "cell_type": "code",
   "execution_count": 11,
   "id": "7c302fb5",
   "metadata": {},
   "outputs": [
    {
     "name": "stdout",
     "output_type": "stream",
     "text": [
      "Enter your name--->fheifjrk\n",
      "Enter your roll no-->vkjfkjnkjgn\n",
      "Enter your class-->kjfnkjn\n",
      "----------Marksheet----------\n",
      "      Name = fheifjrk\n",
      "      RollNo =vkjfkjnkjgn\n",
      "      Class = kjfnkjn\n",
      "        \n",
      "      English =90\n",
      "      Maths = 98\n",
      "      Hindi = 87\n",
      "      Social Studies = 90\n",
      "      Computer Science = 99\n",
      "      Science = 100\n",
      "      Percentage= 94.0\n"
     ]
    }
   ],
   "source": [
    "name = input(\"Enter your name--->\")\n",
    "rollno = input(\"Enter your roll no-->\")\n",
    "Class =input(\"Enter your class-->\")\n",
    "english =90\n",
    "maths =98\n",
    "hindi =87\n",
    "sst =90\n",
    "cs =99\n",
    "sc =100\n",
    "per =(english+maths+hindi+sst+cs+sc)/600*100\n",
    "print(f\"\"\"----------Marksheet----------\n",
    "      Name = {name}\n",
    "      RollNo ={rollno}\n",
    "      Class = {Class}\n",
    "        \n",
    "      English ={english}\n",
    "      Maths = {maths}\n",
    "      Hindi = {hindi}\n",
    "      Social Studies = {sst}\n",
    "      Computer Science = {cs}\n",
    "      Science = {sc}\n",
    "      Percentage= {per}\"\"\")"
   ]
  },
  {
   "cell_type": "code",
   "execution_count": null,
   "id": "a6362b9e",
   "metadata": {},
   "outputs": [],
   "source": []
  }
 ],
 "metadata": {
  "kernelspec": {
   "display_name": "Python 3 (ipykernel)",
   "language": "python",
   "name": "python3"
  },
  "language_info": {
   "codemirror_mode": {
    "name": "ipython",
    "version": 3
   },
   "file_extension": ".py",
   "mimetype": "text/x-python",
   "name": "python",
   "nbconvert_exporter": "python",
   "pygments_lexer": "ipython3",
   "version": "3.9.7"
  }
 },
 "nbformat": 4,
 "nbformat_minor": 5
}
