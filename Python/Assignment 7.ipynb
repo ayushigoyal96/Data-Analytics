{
 "cells": [
  {
   "cell_type": "code",
   "execution_count": 4,
   "id": "3adfe32b",
   "metadata": {},
   "outputs": [
    {
     "name": "stdout",
     "output_type": "stream",
     "text": [
      "Enter a number-->17\n",
      "17 is either not divisible by 5 or 11\n"
     ]
    }
   ],
   "source": [
    "num=int(input(\"Enter a number-->\"))\n",
    "if (num%5==0):\n",
    "    print(f\"{num} is divisible by 5\")\n",
    "elif (num%11==0):\n",
    "    print(f\"{num} is divisible by 11\")\n",
    "else:\n",
    "    print(f\"{num} is either not divisible by 5 or 11\")"
   ]
  },
  {
   "cell_type": "code",
   "execution_count": 14,
   "id": "5d8aa688",
   "metadata": {},
   "outputs": [
    {
     "name": "stdout",
     "output_type": "stream",
     "text": [
      "Enter a character-->4\n",
      "4 is not a alphabet\n"
     ]
    }
   ],
   "source": [
    "c=input(\"Enter a character-->\")\n",
    "if (c>=\"A\" and c<=\"Z\") or (c>=\"a\" and c<=\"z\"):\n",
    "    print(f\"{c} is alphabet\")\n",
    "else:\n",
    "    print(f\"{c} is not a alphabet\")"
   ]
  },
  {
   "cell_type": "code",
   "execution_count": 22,
   "id": "baa77be0",
   "metadata": {},
   "outputs": [
    {
     "name": "stdout",
     "output_type": "stream",
     "text": [
      "$\n",
      "It is a special character\n"
     ]
    }
   ],
   "source": [
    "a=input()\n",
    "if (a>=\"a\" and a<=\"z\") or (a>=\"A\" and a<=\"Z\"):\n",
    "    print(\"It is alaphabet\")\n",
    "elif (a>=\"1\" and a<=\"10\"):\n",
    "    print(\"It is a digit\")\n",
    "else:\n",
    "    print(\"It is a special character\")\n"
   ]
  },
  {
   "cell_type": "code",
   "execution_count": 29,
   "id": "2eab8b6c",
   "metadata": {},
   "outputs": [
    {
     "name": "stdout",
     "output_type": "stream",
     "text": [
      "Enter a character-->a\n",
      "It is a vowel\n"
     ]
    }
   ],
   "source": [
    "char=input(\"Enter a character-->\")\n",
    "if (char==\"a\" or char==\"e\" or char==\"i\" or char==\"o\" or char==\"u\"):\n",
    "    print(\"It is a vowel\")\n",
    "elif (char==\"A\" or char==\"E\" or char==\"I\" or char==\"O\" or char==\"U\"):\n",
    "    print(\"It is a vowel\")\n",
    "else:\n",
    "    print(\"It is a consonant\")"
   ]
  },
  {
   "cell_type": "code",
   "execution_count": 38,
   "id": "c1dd6cd6",
   "metadata": {},
   "outputs": [
    {
     "name": "stdout",
     "output_type": "stream",
     "text": [
      "Enter a character-->a\n",
      "It is a vowel\n"
     ]
    }
   ],
   "source": [
    "char=input(\"Enter a character-->\")\n",
    "c=\"a\",\"e\",\"i\",\"o\",\"u\"\n",
    "if char.casefold().strip() in c:\n",
    "    print(\"It is a vowel\")\n",
    "else:\n",
    "    print(\"It is a consonant\")"
   ]
  },
  {
   "cell_type": "code",
   "execution_count": 49,
   "id": "bd438161",
   "metadata": {},
   "outputs": [
    {
     "name": "stdout",
     "output_type": "stream",
     "text": [
      "Enter a character-->   A\n",
      "   A in lowercase\n"
     ]
    }
   ],
   "source": [
    "char=input(\"Enter a character-->\")\n",
    "if char>=\"A\" and char<=\"Z\":\n",
    "    print(f\"{char} in uppercase\")\n",
    "else:\n",
    "    print(f\"{char} in lowercase\")"
   ]
  },
  {
   "cell_type": "code",
   "execution_count": 58,
   "id": "70c0d5a8",
   "metadata": {},
   "outputs": [
    {
     "name": "stdout",
     "output_type": "stream",
     "text": [
      "Enter a character-->   a\n",
      "   a in lowercase\n"
     ]
    }
   ],
   "source": [
    "char=input(\"Enter a character-->\")\n",
    "if char.isupper():\n",
    "    print(f\"{char} in uppercase\")\n",
    "elif char.islower():\n",
    "    print(f\"{char} in lowercase\")\n",
    "else:\n",
    "    print(f\"{char} not in lower nor upper\")"
   ]
  },
  {
   "cell_type": "code",
   "execution_count": 65,
   "id": "c8c46b71",
   "metadata": {},
   "outputs": [
    {
     "name": "stdout",
     "output_type": "stream",
     "text": [
      "Enter first angle-->80\n",
      "Enter second angle-->20\n",
      "Enter third angle-->20\n",
      "It is not a traingle\n"
     ]
    }
   ],
   "source": [
    "a=int(input(\"Enter first angle-->\"))\n",
    "b=int(input(\"Enter second angle-->\"))\n",
    "c=int(input(\"Enter third angle-->\"))\n",
    "if (a+b+c)==180 and a!=0 and b!=0 and c!=0:\n",
    "    print(\"It is a triangle\")\n",
    "else:\n",
    "    print(\"It is not a traingle\")"
   ]
  },
  {
   "cell_type": "code",
   "execution_count": 72,
   "id": "d8709326",
   "metadata": {},
   "outputs": [
    {
     "name": "stdout",
     "output_type": "stream",
     "text": [
      "Enter first side-->7\n",
      "Enter second side-->10\n",
      "Enter third side-->23\n",
      "It is a triangle\n"
     ]
    }
   ],
   "source": [
    "s1=int(input(\"Enter first side-->\"))\n",
    "s2=int(input(\"Enter second side-->\"))\n",
    "s3=int(input(\"Enter third side-->\"))\n",
    "if s1+s2>s3:\n",
    "    print(\"It is a triangle\")\n",
    "elif s2+s3>s1:\n",
    "    print(\"It is a triangle\")\n",
    "elif s1+s3>s2:\n",
    "    print(\"It is a triangle\")\n",
    "else:\n",
    "    print(\"It is not a traingle\")"
   ]
  },
  {
   "cell_type": "code",
   "execution_count": 3,
   "id": "9ce4e0ec",
   "metadata": {},
   "outputs": [
    {
     "name": "stdout",
     "output_type": "stream",
     "text": [
      "Enter a week number (1-7)-->7\n",
      "Sunday\n"
     ]
    }
   ],
   "source": [
    "m=int(input(\"Enter a week number (1-7)-->\"))\n",
    "if m==1:\n",
    "    print(\"Monday\")\n",
    "elif m==2:\n",
    "    print(\"Tuesday\")\n",
    "elif m==3:\n",
    "    print(\"Wednesday\")\n",
    "elif m==4:\n",
    "    print(\"Thrusday\")\n",
    "elif m==5:\n",
    "    print(\"Friday\")\n",
    "elif m==6:\n",
    "    print(\"Saturday\")\n",
    "elif m==7:\n",
    "    print(\"Sunday\")\n",
    "else:\n",
    "    print(\"invalid number\")\n",
    "    "
   ]
  },
  {
   "cell_type": "code",
   "execution_count": 8,
   "id": "05ac81fd",
   "metadata": {},
   "outputs": [
    {
     "name": "stdout",
     "output_type": "stream",
     "text": [
      "Enter month number-->4\n",
      "Number of days-- 30\n"
     ]
    }
   ],
   "source": [
    "m_num=int(input(\"Enter month number-->\"))\n",
    "if m_num==1 or m_num==3 or m_num==5 or m_num==7 or m_num==8 or m_num==10 or m_num==12:\n",
    "    print(\"Number of days-- 31\")\n",
    "elif m_num==2:\n",
    "    print(\"Number of days-- 28 or 29\")\n",
    "else:\n",
    "    print(\"Number of days-- 30\")"
   ]
  },
  {
   "cell_type": "code",
   "execution_count": 11,
   "id": "f7dee40f",
   "metadata": {},
   "outputs": [
    {
     "name": "stdout",
     "output_type": "stream",
     "text": [
      "Enter the selling price:1100\n",
      "Enter the cost price:2000\n",
      "Loss 900\n"
     ]
    }
   ],
   "source": [
    "sp=int(input(\"Enter the selling price:\"))\n",
    "cp=int(input(\"Enter the cost price:\"))\n",
    "if sp==cp:\n",
    "    print(\"No Profit no Loss\")\n",
    "elif sp>cp:\n",
    "    print(\"Profit\",sp-cp)\n",
    "else:\n",
    "    print(\"Loss\",cp-sp)"
   ]
  },
  {
   "cell_type": "code",
   "execution_count": 12,
   "id": "f9d81117",
   "metadata": {},
   "outputs": [
    {
     "name": "stdout",
     "output_type": "stream",
     "text": [
      "Enter first side:12\n",
      "Enter second side:12\n",
      "Enter third side:34\n",
      "Isosceles Triangle\n"
     ]
    }
   ],
   "source": [
    "s1=int(input(\"Enter first side:\"))\n",
    "s2=int(input(\"Enter second side:\"))\n",
    "s3=int(input(\"Enter third side:\"))\n",
    "if s1==s2==s3:\n",
    "    print(\"Equilateral Triangle\")\n",
    "elif s1==s2 or s2==s3 or s1==s3:\n",
    "    print(\"Isosceles Triangle\")\n",
    "else:\n",
    "    print(\"Scalene Triangle\")"
   ]
  },
  {
   "cell_type": "code",
   "execution_count": 13,
   "id": "8114a3b2",
   "metadata": {},
   "outputs": [],
   "source": [
    "#Write a Python program to input basic salary of an employee and calculate its Gross salary according to following:  \n",
    "Basic Salary <= 10000 : HRA = 20%, DA = 80%  \n",
    "Basic Salary <= 20000 : HRA = 25%, DA = 90%  \n",
    "Basic Salary > 20000 : HRA = 30%, DA = 95% "
   ]
  },
  {
   "cell_type": "code",
   "execution_count": 26,
   "id": "ea91657e",
   "metadata": {},
   "outputs": [
    {
     "name": "stdout",
     "output_type": "stream",
     "text": [
      "Enter basic salary-->30000\n",
      "Gross salary is-- 67500.0\n"
     ]
    }
   ],
   "source": [
    "Basic_salary= int(input(\"Enter basic salary-->\"))\n",
    "if Basic_salary<=10000:\n",
    "    Gross_salary=Basic_salary+0.2*Basic_salary+0.8*Basic_salary\n",
    "    print(\"Gross salary is--\",Gross_salary)\n",
    "elif  Basic_salary<=20000:\n",
    "    Gross_salary=Basic_salary+0.25*Basic_salary+0.9*Basic_salary\n",
    "    print(\"Gross salary is--\",Gross_salary)\n",
    "elif Basic_salary>20000:\n",
    "    Gross_salary=Basic_salary+0.3*Basic_salary+0.95*Basic_salary\n",
    "    print(\"Gross salary is--\",Gross_salary)"
   ]
  },
  {
   "cell_type": "markdown",
   "id": "305eef6a",
   "metadata": {},
   "source": [
    "#Write a Python Program to input electricity unit charges and calculate total electricity bill according to the given condition:  \n",
    "For first 50 units Rs. 0.50/unit \n",
    "For next 100 units Rs. 0.75/unit \n",
    "For next 100 units Rs. 1.20/unit \n",
    "For unit above 250 Rs. 1.50/unit \n",
    "An additional surcharge of 20% is added to the bill "
   ]
  },
  {
   "cell_type": "code",
   "execution_count": 31,
   "id": "50dc1f74",
   "metadata": {},
   "outputs": [
    {
     "name": "stdout",
     "output_type": "stream",
     "text": [
      "Enter unit charges:500\n",
      "Total Electricity bill is---> 750.2\n"
     ]
    }
   ],
   "source": [
    "unit_chr=int(input(\"Enter unit charges:\"))\n",
    "if unit_chr<=50:\n",
    "    Total_bill=unit_chr*0.50\n",
    "elif unit_chr>50 and unit_chr<=100:\n",
    "    Total_bill=unit_chr*0.75\n",
    "elif unit_chr>100 and unit_chr<=200:\n",
    "    Total_bill=unit_chr*1.20\n",
    "elif unit_chr>250:\n",
    "    Total_bill=unit_chr*1.50\n",
    "Electricity_bill=Total_bill+0.20\n",
    "print(\"Total Electricity bill is--->\",Electricity_bill)"
   ]
  },
  {
   "cell_type": "code",
   "execution_count": 3,
   "id": "222ebfe7",
   "metadata": {},
   "outputs": [
    {
     "name": "stdout",
     "output_type": "stream",
     "text": [
      "['hello', 'my', 'name', 'is', 'ayushi']\n",
      "The first non-repeating character is--> o\n",
      "{'h': 2, 'e': 2, 'l': 2, 'o': 1, ' ': 4, 'm': 2, 'y': 2, 'n': 1, 'a': 2, 'i': 2, 's': 2, 'u': 1}\n"
     ]
    }
   ],
   "source": [
    "s=\"Hello my name is Ayushi\".lower()\n",
    "s1=s.split()\n",
    "#print(s1)\n",
    "d = {}.fromkeys(s,0) \n",
    "for i in range(len(s)):\n",
    "    if s[i] in d:\n",
    "        d[s[i]]+=1\n",
    "v = list(d.values())\n",
    "k = list(d.keys())\n",
    "for i in range(len(s)):\n",
    "    if v[i]==1:\n",
    "        print(\"The first non-repeating character is-->\",k[i])\n",
    "        break\n",
    "print(d)    "
   ]
  },
  {
   "cell_type": "markdown",
   "id": "0a983aee",
   "metadata": {},
   "source": [
    "Write a Python program to count total number of notes in given amount. "
   ]
  },
  {
   "cell_type": "code",
   "execution_count": 33,
   "id": "0d82c1ae",
   "metadata": {},
   "outputs": [
    {
     "name": "stdout",
     "output_type": "stream",
     "text": [
      "Enter an amount: 2500\n",
      " 2000 notes--> 1\n"
     ]
    }
   ],
   "source": [
    "amt=int(input(\"Enter an amount: \"))\n",
    "y=0\n",
    "z=0\n",
    "if amt>=2000:\n",
    "    x=amt//2000\n",
    "    y+=x\n",
    "    print(\" 2000 notes-->\",y)\n",
    "elif amt>=500:\n",
    "    a=amt//500\n",
    "    z+=a\n",
    "    print(\"500 notes-->\",z)\n",
    "    \n",
    "    "
   ]
  },
  {
   "cell_type": "code",
   "execution_count": 24,
   "id": "524192bc",
   "metadata": {},
   "outputs": [
    {
     "name": "stdout",
     "output_type": "stream",
     "text": [
      "sorted list--> [23, 4, 6, 8, 67, 87, 1, 99]\n"
     ]
    }
   ],
   "source": [
    "l=[67,23,4,6,8,99,87,1]\n",
    "for i in range(len(l)-1):\n",
    "    if l[i]>l[i+1]:\n",
    "        l[i],l[i+1]=l[i+1],l[i]\n",
    "print(\"sorted list-->\",l)"
   ]
  },
  {
   "cell_type": "code",
   "execution_count": 10,
   "id": "8531d354",
   "metadata": {},
   "outputs": [
    {
     "data": {
      "text/plain": [
       "[67, 23, 4, 6, 8, 99, 87, 1]"
      ]
     },
     "execution_count": 10,
     "metadata": {},
     "output_type": "execute_result"
    }
   ],
   "source": [
    "l"
   ]
  },
  {
   "cell_type": "code",
   "execution_count": 17,
   "id": "3e3680d3",
   "metadata": {},
   "outputs": [
    {
     "name": "stdout",
     "output_type": "stream",
     "text": [
      "[1, 4, 6, 8, 23, 67, 87, 99]\n"
     ]
    }
   ],
   "source": [
    "l.sort()\n",
    "print(l)"
   ]
  },
  {
   "cell_type": "code",
   "execution_count": null,
   "id": "f3659a95",
   "metadata": {},
   "outputs": [],
   "source": []
  }
 ],
 "metadata": {
  "kernelspec": {
   "display_name": "Python 3 (ipykernel)",
   "language": "python",
   "name": "python3"
  },
  "language_info": {
   "codemirror_mode": {
    "name": "ipython",
    "version": 3
   },
   "file_extension": ".py",
   "mimetype": "text/x-python",
   "name": "python",
   "nbconvert_exporter": "python",
   "pygments_lexer": "ipython3",
   "version": "3.9.7"
  }
 },
 "nbformat": 4,
 "nbformat_minor": 5
}
