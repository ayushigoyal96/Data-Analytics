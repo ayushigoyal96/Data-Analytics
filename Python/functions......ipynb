{
 "cells": [
  {
   "cell_type": "code",
   "execution_count": 3,
   "id": "673eb11f",
   "metadata": {},
   "outputs": [
    {
     "name": "stdout",
     "output_type": "stream",
     "text": [
      "A ----->a\n",
      "B ----->b\n",
      "C ----->c\n",
      "D ----->d\n",
      "E ----->e\n",
      "F ----->f\n",
      "G ----->g\n",
      "H ----->h\n",
      "I ----->i\n",
      "J ----->j\n",
      "K ----->k\n",
      "L ----->l\n",
      "M ----->m\n",
      "N ----->n\n",
      "O ----->o\n",
      "P ----->p\n",
      "Q ----->q\n",
      "R ----->r\n",
      "S ----->s\n",
      "T ----->t\n",
      "U ----->u\n",
      "V ----->v\n",
      "W ----->w\n",
      "X ----->x\n",
      "Y ----->y\n",
      "Z ----->z\n"
     ]
    }
   ],
   "source": [
    "d1=[chr(var) for var in range(65,91)]\n",
    "d2=[chr(var) for var in range(97,123)]\n",
    "for var in range(len(d1)):\n",
    "    print(f\"{d1[var]} ----->{d2[var]}\")\n"
   ]
  },
  {
   "cell_type": "code",
   "execution_count": 11,
   "id": "24a556c2",
   "metadata": {},
   "outputs": [
    {
     "name": "stdout",
     "output_type": "stream",
     "text": [
      "['abs', 'all', 'any', 'ascii', 'bin', 'bool', 'breakpoint', 'bytearray', 'bytes', 'callable', 'chr', 'classmethod', 'compile', 'complex', 'copyright', 'credits', 'delattr', 'dict', 'dir', 'display', 'divmod', 'enumerate', 'eval', 'exec', 'execfile', 'filter', 'float', 'format', 'frozenset', 'get_ipython', 'getattr', 'globals', 'hasattr', 'hash', 'help', 'hex', 'id', 'input', 'int', 'isinstance', 'issubclass', 'iter', 'len', 'license', 'list', 'locals', 'map', 'max', 'memoryview', 'min', 'next', 'object', 'oct', 'open', 'ord', 'pow', 'print', 'property', 'range', 'repr', 'reversed', 'round', 'runfile', 'set', 'setattr', 'slice', 'sorted', 'staticmethod', 'str', 'sum', 'super', 'tuple', 'type', 'vars', 'zip']\n"
     ]
    }
   ],
   "source": [
    "import builtins\n",
    "print(dir(builtins)[81:])"
   ]
  },
  {
   "cell_type": "code",
   "execution_count": 17,
   "id": "94d68424",
   "metadata": {},
   "outputs": [
    {
     "data": {
      "text/plain": [
       "45"
      ]
     },
     "execution_count": 17,
     "metadata": {},
     "output_type": "execute_result"
    }
   ],
   "source": [
    "abs(-45)"
   ]
  },
  {
   "cell_type": "code",
   "execution_count": 26,
   "id": "f8e6e4fa",
   "metadata": {},
   "outputs": [
    {
     "data": {
      "text/plain": [
       "False"
      ]
     },
     "execution_count": 26,
     "metadata": {},
     "output_type": "execute_result"
    }
   ],
   "source": [
    "a=23\n",
    "b=34\n",
    "c=76\n",
    "all([a<b,b<c,c==a])"
   ]
  },
  {
   "cell_type": "code",
   "execution_count": 35,
   "id": "a3cc630d",
   "metadata": {},
   "outputs": [
    {
     "data": {
      "text/plain": [
       "True"
      ]
     },
     "execution_count": 35,
     "metadata": {},
     "output_type": "execute_result"
    }
   ],
   "source": [
    "any([a<b,b<c,c==a])"
   ]
  },
  {
   "cell_type": "code",
   "execution_count": 36,
   "id": "40966430",
   "metadata": {},
   "outputs": [
    {
     "data": {
      "text/plain": [
       "'23'"
      ]
     },
     "execution_count": 36,
     "metadata": {},
     "output_type": "execute_result"
    }
   ],
   "source": [
    "ascii(23)"
   ]
  },
  {
   "cell_type": "code",
   "execution_count": null,
   "id": "9490246d",
   "metadata": {},
   "outputs": [],
   "source": []
  },
  {
   "cell_type": "code",
   "execution_count": null,
   "id": "1b975a83",
   "metadata": {},
   "outputs": [],
   "source": []
  },
  {
   "cell_type": "code",
   "execution_count": null,
   "id": "cc55d468",
   "metadata": {},
   "outputs": [],
   "source": []
  },
  {
   "cell_type": "code",
   "execution_count": null,
   "id": "0cfdb8ac",
   "metadata": {},
   "outputs": [],
   "source": []
  },
  {
   "cell_type": "code",
   "execution_count": null,
   "id": "845d7b8f",
   "metadata": {},
   "outputs": [],
   "source": []
  },
  {
   "cell_type": "code",
   "execution_count": null,
   "id": "d6cf9e05",
   "metadata": {},
   "outputs": [],
   "source": []
  },
  {
   "cell_type": "code",
   "execution_count": null,
   "id": "39a3e388",
   "metadata": {},
   "outputs": [],
   "source": []
  },
  {
   "cell_type": "code",
   "execution_count": null,
   "id": "aaa59b1a",
   "metadata": {},
   "outputs": [],
   "source": []
  },
  {
   "cell_type": "code",
   "execution_count": 1,
   "id": "cde95154",
   "metadata": {},
   "outputs": [
    {
     "name": "stdout",
     "output_type": "stream",
     "text": [
      "RAvi\n",
      "None\n",
      "None\n",
      "None\n",
      "None\n"
     ]
    }
   ],
   "source": [
    "print(print(print(print(print(\"RAvi\")))))"
   ]
  },
  {
   "cell_type": "code",
   "execution_count": null,
   "id": "8dfb0f36",
   "metadata": {},
   "outputs": [],
   "source": []
  },
  {
   "cell_type": "code",
   "execution_count": 4,
   "id": "24563c90",
   "metadata": {},
   "outputs": [
    {
     "data": {
      "text/plain": [
       "8"
      ]
     },
     "execution_count": 4,
     "metadata": {},
     "output_type": "execute_result"
    }
   ],
   "source": [
    "pow(2,3)"
   ]
  },
  {
   "cell_type": "code",
   "execution_count": 5,
   "id": "908dbc70",
   "metadata": {},
   "outputs": [
    {
     "data": {
      "text/plain": [
       "125"
      ]
     },
     "execution_count": 5,
     "metadata": {},
     "output_type": "execute_result"
    }
   ],
   "source": [
    "pow(5,3)"
   ]
  },
  {
   "cell_type": "code",
   "execution_count": 8,
   "id": "ddc9d7f4",
   "metadata": {},
   "outputs": [
    {
     "name": "stdout",
     "output_type": "stream",
     "text": [
      "'hello world'\n"
     ]
    }
   ],
   "source": [
    "print(repr(\"hello world\"))--->to represent terminal output"
   ]
  },
  {
   "cell_type": "code",
   "execution_count": 6,
   "id": "fa2cf04d",
   "metadata": {},
   "outputs": [
    {
     "name": "stdout",
     "output_type": "stream",
     "text": [
      "Hello world\n"
     ]
    }
   ],
   "source": [
    "print(\"Hello world\")"
   ]
  },
  {
   "cell_type": "code",
   "execution_count": null,
   "id": "48dd497c",
   "metadata": {},
   "outputs": [],
   "source": []
  },
  {
   "cell_type": "markdown",
   "id": "1007875d",
   "metadata": {},
   "source": [
    "# User Defined Function"
   ]
  },
  {
   "cell_type": "code",
   "execution_count": 12,
   "id": "cb82327a",
   "metadata": {},
   "outputs": [],
   "source": [
    "def fibbo(n):\n",
    "    n=int(input(\"Enter number of terms-->\"))\n",
    "    a=0\n",
    "    b=1\n",
    "    for i in range(n):\n",
    "        s=a+b\n",
    "        print(a)\n",
    "        a=b\n",
    "        b=s\n",
    "        \n",
    "    "
   ]
  },
  {
   "cell_type": "code",
   "execution_count": 10,
   "id": "f674e75f",
   "metadata": {},
   "outputs": [
    {
     "name": "stdout",
     "output_type": "stream",
     "text": [
      "Enter number of terms-->6\n",
      "0 1 1 2 3 5 "
     ]
    }
   ],
   "source": [
    "fibbo(6)"
   ]
  },
  {
   "cell_type": "code",
   "execution_count": 42,
   "id": "cfa84d70",
   "metadata": {},
   "outputs": [],
   "source": [
    "def prime(num):\n",
    "    c=0\n",
    "    for i in range(1,num+1):\n",
    "        if num%i==0:\n",
    "            c+=1\n",
    "    if c==2:\n",
    "        return True\n",
    "    else:\n",
    "        return False"
   ]
  },
  {
   "cell_type": "code",
   "execution_count": 44,
   "id": "725f619f",
   "metadata": {},
   "outputs": [
    {
     "data": {
      "text/plain": [
       "False"
      ]
     },
     "execution_count": 44,
     "metadata": {},
     "output_type": "execute_result"
    }
   ],
   "source": [
    "prime(4)"
   ]
  },
  {
   "cell_type": "code",
   "execution_count": 31,
   "id": "3f3730bf",
   "metadata": {},
   "outputs": [],
   "source": [
    "def fact(n):\n",
    "    f=1\n",
    "    for i in range(1,n+1):\n",
    "        f=f*i\n",
    "    print(f)\n",
    "        "
   ]
  },
  {
   "cell_type": "code",
   "execution_count": 34,
   "id": "a505ac78",
   "metadata": {},
   "outputs": [
    {
     "name": "stdout",
     "output_type": "stream",
     "text": [
      "24\n"
     ]
    }
   ],
   "source": [
    "fact(4)"
   ]
  },
  {
   "cell_type": "code",
   "execution_count": 1,
   "id": "d314834b",
   "metadata": {},
   "outputs": [],
   "source": [
    "#default arguments"
   ]
  },
  {
   "cell_type": "code",
   "execution_count": null,
   "id": "d256c393",
   "metadata": {},
   "outputs": [],
   "source": [
    "def result(*args):\n",
    "    s=0\n",
    "    for var in args:\n",
    "        s+=var\n",
    "        print(s)"
   ]
  },
  {
   "cell_type": "code",
   "execution_count": 38,
   "id": "b529516e",
   "metadata": {},
   "outputs": [],
   "source": [
    "def per_num(n):\n",
    "    s=0\n",
    "    for i in range(1,n):\n",
    "        if n%i==0:\n",
    "            s+=i\n",
    "            print(i)\n",
    "    if s==n:\n",
    "        print(\"number is perfect\")\n",
    "    else:\n",
    "        print(\"not perfect\")\n",
    "        "
   ]
  },
  {
   "cell_type": "code",
   "execution_count": 39,
   "id": "19304f88",
   "metadata": {},
   "outputs": [
    {
     "name": "stdout",
     "output_type": "stream",
     "text": [
      "1\n",
      "2\n",
      "3\n",
      "number is perfect\n"
     ]
    }
   ],
   "source": [
    "per_num(6)"
   ]
  },
  {
   "cell_type": "code",
   "execution_count": 21,
   "id": "1ccfe938",
   "metadata": {},
   "outputs": [],
   "source": [
    "def perfect_num(n):\n",
    "    s=0\n",
    "    for i in range(1,n):\n",
    "        if n%i==0:\n",
    "            s+=i\n",
    "            #print(i)\n",
    "    if s==n:\n",
    "        return True\n",
    "    else:\n",
    "        return False"
   ]
  },
  {
   "cell_type": "code",
   "execution_count": 23,
   "id": "4d277851",
   "metadata": {},
   "outputs": [
    {
     "data": {
      "text/plain": [
       "True"
      ]
     },
     "execution_count": 23,
     "metadata": {},
     "output_type": "execute_result"
    }
   ],
   "source": [
    "perfect_num(6)"
   ]
  },
  {
   "cell_type": "code",
   "execution_count": 24,
   "id": "5bdd15ff",
   "metadata": {},
   "outputs": [
    {
     "data": {
      "text/plain": [
       "False"
      ]
     },
     "execution_count": 24,
     "metadata": {},
     "output_type": "execute_result"
    }
   ],
   "source": [
    "perfect_num(5)"
   ]
  },
  {
   "cell_type": "code",
   "execution_count": 25,
   "id": "c5e4cdf8",
   "metadata": {},
   "outputs": [
    {
     "data": {
      "text/plain": [
       "True"
      ]
     },
     "execution_count": 25,
     "metadata": {},
     "output_type": "execute_result"
    }
   ],
   "source": [
    "perfect_num(28)"
   ]
  },
  {
   "cell_type": "code",
   "execution_count": 1,
   "id": "74616a65",
   "metadata": {},
   "outputs": [],
   "source": [
    "def max_num(a,b,c):\n",
    "    if (a>b and a>c):\n",
    "        print(\"a is greater\")\n",
    "    elif (b>c):\n",
    "        print(\"b is greater\")\n",
    "    else:\n",
    "        print(\"c is greater\")"
   ]
  },
  {
   "cell_type": "code",
   "execution_count": 2,
   "id": "e139601d",
   "metadata": {},
   "outputs": [
    {
     "name": "stdout",
     "output_type": "stream",
     "text": [
      "b is greater\n"
     ]
    }
   ],
   "source": [
    "max_num(3,8,6)"
   ]
  },
  {
   "cell_type": "code",
   "execution_count": 19,
   "id": "5dc46260",
   "metadata": {},
   "outputs": [],
   "source": [
    "def count(s=\"ayushi\"):\n",
    "    for i in range(len(s)):\n",
    "        print(s[i], \"---->\",s.count(s[i]))"
   ]
  },
  {
   "cell_type": "code",
   "execution_count": 20,
   "id": "93f3fcef",
   "metadata": {},
   "outputs": [
    {
     "name": "stdout",
     "output_type": "stream",
     "text": [
      "a ----> 1\n",
      "y ----> 1\n",
      "u ----> 1\n",
      "s ----> 1\n",
      "h ----> 1\n",
      "i ----> 1\n"
     ]
    }
   ],
   "source": [
    "count(\"ayushi\")"
   ]
  },
  {
   "cell_type": "code",
   "execution_count": 74,
   "id": "f5a8eaae",
   "metadata": {},
   "outputs": [],
   "source": [
    "def reverse(s=\"ayushi\"):\n",
    "    for i in range(len(s)-1,-1,-1):\n",
    "        print(s[i])\n",
    "    "
   ]
  },
  {
   "cell_type": "code",
   "execution_count": 73,
   "id": "dea906a2",
   "metadata": {},
   "outputs": [
    {
     "name": "stdout",
     "output_type": "stream",
     "text": [
      "i\n",
      "h\n",
      "s\n",
      "u\n",
      "y\n",
      "a\n"
     ]
    }
   ],
   "source": [
    "reverse(\"ayushi\")"
   ]
  },
  {
   "cell_type": "code",
   "execution_count": 82,
   "id": "2a94875a",
   "metadata": {},
   "outputs": [],
   "source": [
    "def prime(num):\n",
    "    c=0\n",
    "    for i in range(1,num+1):\n",
    "        if num%i==0:\n",
    "            c+=1\n",
    "    if c==2:\n",
    "        print(f\"{num} is prime\")\n",
    "    else:\n",
    "        print(f\"{num} is not prime\")\n",
    "            "
   ]
  },
  {
   "cell_type": "code",
   "execution_count": 83,
   "id": "211be769",
   "metadata": {},
   "outputs": [
    {
     "name": "stdout",
     "output_type": "stream",
     "text": [
      "2 is prime\n"
     ]
    }
   ],
   "source": [
    "prime(2)"
   ]
  },
  {
   "cell_type": "code",
   "execution_count": 84,
   "id": "08b2b1fe",
   "metadata": {},
   "outputs": [
    {
     "name": "stdout",
     "output_type": "stream",
     "text": [
      "6 is not prime\n"
     ]
    }
   ],
   "source": [
    "prime(6)"
   ]
  },
  {
   "cell_type": "code",
   "execution_count": 85,
   "id": "a65a0558",
   "metadata": {},
   "outputs": [
    {
     "name": "stdout",
     "output_type": "stream",
     "text": [
      "8 is not prime\n"
     ]
    }
   ],
   "source": [
    "prime(8)"
   ]
  },
  {
   "cell_type": "code",
   "execution_count": 86,
   "id": "451c64a7",
   "metadata": {},
   "outputs": [],
   "source": [
    "def prime_ranges(s,e):\n",
    "    for i in range(s,e+1):\n",
    "        if prime(i):\n",
    "            print(f\"{i}\",end=\",\")"
   ]
  },
  {
   "cell_type": "code",
   "execution_count": 87,
   "id": "b4b2dac4",
   "metadata": {},
   "outputs": [
    {
     "name": "stdout",
     "output_type": "stream",
     "text": [
      "1 is not prime\n",
      "2 is prime\n",
      "3 is prime\n",
      "4 is not prime\n",
      "5 is prime\n",
      "6 is not prime\n",
      "7 is prime\n",
      "8 is not prime\n",
      "9 is not prime\n",
      "10 is not prime\n",
      "11 is prime\n",
      "12 is not prime\n",
      "13 is prime\n",
      "14 is not prime\n",
      "15 is not prime\n",
      "16 is not prime\n",
      "17 is prime\n",
      "18 is not prime\n",
      "19 is prime\n",
      "20 is not prime\n",
      "21 is not prime\n",
      "22 is not prime\n",
      "23 is prime\n",
      "24 is not prime\n",
      "25 is not prime\n",
      "26 is not prime\n",
      "27 is not prime\n",
      "28 is not prime\n",
      "29 is prime\n",
      "30 is not prime\n",
      "31 is prime\n",
      "32 is not prime\n",
      "33 is not prime\n",
      "34 is not prime\n",
      "35 is not prime\n",
      "36 is not prime\n",
      "37 is prime\n",
      "38 is not prime\n",
      "39 is not prime\n",
      "40 is not prime\n",
      "41 is prime\n",
      "42 is not prime\n",
      "43 is prime\n",
      "44 is not prime\n",
      "45 is not prime\n",
      "46 is not prime\n",
      "47 is prime\n",
      "48 is not prime\n",
      "49 is not prime\n",
      "50 is not prime\n"
     ]
    }
   ],
   "source": [
    "prime_ranges(1,50)"
   ]
  },
  {
   "cell_type": "code",
   "execution_count": 32,
   "id": "4140afef",
   "metadata": {},
   "outputs": [],
   "source": [
    "def prime(num):\n",
    "    c=0\n",
    "    for i in range(1,num+1):\n",
    "        if num%i==0:\n",
    "            c+=1\n",
    "    if c==2:\n",
    "        return True\n",
    "    else:\n",
    "        return False"
   ]
  },
  {
   "cell_type": "code",
   "execution_count": 33,
   "id": "e38b73fe",
   "metadata": {},
   "outputs": [
    {
     "data": {
      "text/plain": [
       "False"
      ]
     },
     "execution_count": 33,
     "metadata": {},
     "output_type": "execute_result"
    }
   ],
   "source": [
    "prime(4)"
   ]
  },
  {
   "cell_type": "code",
   "execution_count": 49,
   "id": "ab72902b",
   "metadata": {},
   "outputs": [],
   "source": [
    "def prime_ranges(s,e):\n",
    "    for num in range(s,e+1):\n",
    "        if prime(num):\n",
    "            print(f\"{num}\", end=\"\\t\")"
   ]
  },
  {
   "cell_type": "code",
   "execution_count": 50,
   "id": "125d0cef",
   "metadata": {},
   "outputs": [
    {
     "name": "stdout",
     "output_type": "stream",
     "text": [
      "2\t3\t5\t7\t11\t13\t17\t19\t23\t29\t31\t37\t41\t43\t47\t"
     ]
    }
   ],
   "source": [
    "prime_ranges(1,50)"
   ]
  },
  {
   "cell_type": "code",
   "execution_count": 67,
   "id": "83abe463",
   "metadata": {},
   "outputs": [
    {
     "ename": "SyntaxError",
     "evalue": "positional argument follows keyword argument (Temp/ipykernel_28724/2422754380.py, line 3)",
     "output_type": "error",
     "traceback": [
      "\u001b[1;36m  File \u001b[1;32m\"C:\\Users\\ayush\\AppData\\Local\\Temp/ipykernel_28724/2422754380.py\"\u001b[1;36m, line \u001b[1;32m3\u001b[0m\n\u001b[1;33m    print(s[i] , end=\",\" ,type(s)\u001b[0m\n\u001b[1;37m                                 ^\u001b[0m\n\u001b[1;31mSyntaxError\u001b[0m\u001b[1;31m:\u001b[0m positional argument follows keyword argument\n"
     ]
    }
   ],
   "source": [
    "def str_reverse(s=\"hello\"):\n",
    "    for i in range(len(s)-1,-1,-1):\n",
    "        print(s[i] , end=\",\" ,type(s)"
   ]
  },
  {
   "cell_type": "code",
   "execution_count": 68,
   "id": "882ec8f7",
   "metadata": {},
   "outputs": [
    {
     "name": "stdout",
     "output_type": "stream",
     "text": [
      "n,o,h,t,y,P,"
     ]
    }
   ],
   "source": [
    "str_reverse(\"Python\")"
   ]
  },
  {
   "cell_type": "markdown",
   "id": "5bab3d74",
   "metadata": {},
   "source": [
    "# Special functions"
   ]
  },
  {
   "cell_type": "code",
   "execution_count": 88,
   "id": "5a878c42",
   "metadata": {},
   "outputs": [],
   "source": [
    "# Map\n",
    "# Filter\n",
    "# Reduce\n",
    "# Lambda"
   ]
  },
  {
   "cell_type": "markdown",
   "id": "67d2ac27",
   "metadata": {},
   "source": [
    "1. Map----> map(func(iterable))"
   ]
  },
  {
   "cell_type": "code",
   "execution_count": null,
   "id": "b3f2ae8d",
   "metadata": {},
   "outputs": [],
   "source": []
  }
 ],
 "metadata": {
  "kernelspec": {
   "display_name": "Python 3 (ipykernel)",
   "language": "python",
   "name": "python3"
  },
  "language_info": {
   "codemirror_mode": {
    "name": "ipython",
    "version": 3
   },
   "file_extension": ".py",
   "mimetype": "text/x-python",
   "name": "python",
   "nbconvert_exporter": "python",
   "pygments_lexer": "ipython3",
   "version": "3.9.7"
  }
 },
 "nbformat": 4,
 "nbformat_minor": 5
}
