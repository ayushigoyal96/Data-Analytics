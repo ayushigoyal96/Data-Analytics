{
 "cells": [
  {
   "cell_type": "code",
   "execution_count": 3,
   "id": "82d519ca",
   "metadata": {},
   "outputs": [
    {
     "name": "stdout",
     "output_type": "stream",
     "text": [
      "Fortran\n"
     ]
    }
   ],
   "source": [
    "if True:\n",
    "    if False:\n",
    "        if False:\n",
    "            if True:\n",
    "                print(\"Python\")\n",
    "                if True:\n",
    "                    print(\"C\")\n",
    "                elif True:\n",
    "                    print(\"C++\")\n",
    "                elif True:\n",
    "                    print('C#')\n",
    "                    if True:\n",
    "                        print(\"Ruby\")\n",
    "                    else:\n",
    "                        print(\"Perl\")\n",
    "                else:\n",
    "                    print(\"Java\")\n",
    "            elif True:\n",
    "                print(\"Swift\")\n",
    "            else:\n",
    "                print(\"JavaScript\")\n",
    "        elif False:\n",
    "            print(\"R\")\n",
    "        elif False:\n",
    "            print(\"Dot Net\")\n",
    "        else:\n",
    "            print(\"Julia\")\n",
    "    else:\n",
    "        print(\"Fortran\")\n",
    "elif False:\n",
    "    print(\"Kotlin\")\n",
    "else:\n",
    "    print(\"Cobol\")\n",
    "                "
   ]
  },
  {
   "cell_type": "markdown",
   "id": "114cc4c3",
   "metadata": {},
   "source": [
    "#  While loop"
   ]
  },
  {
   "cell_type": "markdown",
   "id": "eb891798",
   "metadata": {},
   "source": [
    "    #syntax\n",
    "\n",
    "    while condition:\n",
    "        statements...1\n",
    "        .............2\n",
    "        ............3\n",
    "        .............\n",
    "        .............\n",
    "        ............n"
   ]
  },
  {
   "cell_type": "code",
   "execution_count": null,
   "id": "3ed01dbe",
   "metadata": {},
   "outputs": [],
   "source": [
    "while True:\n",
    "    print(\"Hello World\") #infinite times"
   ]
  },
  {
   "cell_type": "code",
   "execution_count": 9,
   "id": "8e404f88",
   "metadata": {},
   "outputs": [
    {
     "name": "stdout",
     "output_type": "stream",
     "text": [
      "1 Hello World\n",
      "2 Hello World\n",
      "3 Hello World\n",
      "4 Hello World\n",
      "5 Hello World\n",
      "6 Hello World\n",
      "7 Hello World\n",
      "8 Hello World\n",
      "9 Hello World\n",
      "10 Hello World\n"
     ]
    }
   ],
   "source": [
    "c = 1\n",
    "while c<=10:\n",
    "    print(c,\"Hello World\")\n",
    "    c = c+1"
   ]
  },
  {
   "cell_type": "code",
   "execution_count": 8,
   "id": "e872e48f",
   "metadata": {},
   "outputs": [
    {
     "name": "stdout",
     "output_type": "stream",
     "text": [
      "11\n"
     ]
    }
   ],
   "source": [
    "print(c)"
   ]
  },
  {
   "cell_type": "code",
   "execution_count": 12,
   "id": "784a303f",
   "metadata": {},
   "outputs": [
    {
     "name": "stdout",
     "output_type": "stream",
     "text": [
      "Enter a  number -->5\n",
      "5 X 1 = 5\n",
      "5 X 2 = 10\n",
      "5 X 3 = 15\n",
      "5 X 4 = 20\n",
      "5 X 5 = 25\n",
      "5 X 6 = 30\n",
      "5 X 7 = 35\n",
      "5 X 8 = 40\n",
      "5 X 9 = 45\n",
      "5 X 10 = 50\n"
     ]
    }
   ],
   "source": [
    "num = int(input(\"Enter a  number -->\"))\n",
    "c = 1\n",
    "while c<=10:\n",
    "    print(f\"{num} X {c} = {num*c}\")\n",
    "    c+=1"
   ]
  },
  {
   "cell_type": "code",
   "execution_count": 18,
   "id": "6f151bd4",
   "metadata": {},
   "outputs": [],
   "source": [
    "l = [1,2,3,4,5,6,7,8,9,10,11,12,13,14,15,16,17,18]\n",
    "l1 = []\n",
    "c = 0\n",
    "while c<len(l):\n",
    "    l1.append(l[c]*5)\n",
    "    c+=1"
   ]
  },
  {
   "cell_type": "code",
   "execution_count": 19,
   "id": "1c9e2ae9",
   "metadata": {},
   "outputs": [
    {
     "data": {
      "text/plain": [
       "[5, 10, 15, 20, 25, 30, 35, 40, 45, 50, 55, 60, 65, 70, 75, 80, 85, 90]"
      ]
     },
     "execution_count": 19,
     "metadata": {},
     "output_type": "execute_result"
    }
   ],
   "source": [
    "l1"
   ]
  },
  {
   "cell_type": "code",
   "execution_count": null,
   "id": "3f900cac",
   "metadata": {},
   "outputs": [],
   "source": []
  }
 ],
 "metadata": {
  "kernelspec": {
   "display_name": "Python 3 (ipykernel)",
   "language": "python",
   "name": "python3"
  },
  "language_info": {
   "codemirror_mode": {
    "name": "ipython",
    "version": 3
   },
   "file_extension": ".py",
   "mimetype": "text/x-python",
   "name": "python",
   "nbconvert_exporter": "python",
   "pygments_lexer": "ipython3",
   "version": "3.9.7"
  }
 },
 "nbformat": 4,
 "nbformat_minor": 5
}
