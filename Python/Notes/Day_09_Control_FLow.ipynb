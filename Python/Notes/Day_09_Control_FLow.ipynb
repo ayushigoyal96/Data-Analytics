{
 "cells": [
  {
   "cell_type": "markdown",
   "id": "5020bb25",
   "metadata": {},
   "source": [
    "# Conditional Statements "
   ]
  },
  {
   "cell_type": "code",
   "execution_count": 3,
   "id": "246d155d",
   "metadata": {},
   "outputs": [
    {
     "name": "stdout",
     "output_type": "stream",
     "text": [
      "Enter your percentage -->75\n",
      "Danda or Chappal or Belan or Belt\n"
     ]
    }
   ],
   "source": [
    "per = float(input(\"Enter your percentage -->\"))\n",
    "if per>90:\n",
    "    print(\"PS 5\")\n",
    "else:\n",
    "    print(\"Danda or Chappal or Belan or Belt\")"
   ]
  },
  {
   "cell_type": "code",
   "execution_count": 4,
   "id": "e78314b4",
   "metadata": {},
   "outputs": [
    {
     "name": "stdout",
     "output_type": "stream",
     "text": [
      "Hello World\n",
      "Hi World\n"
     ]
    }
   ],
   "source": [
    "if \"Ravi\":\n",
    "    print(\"Hello World\") #inside if\n",
    "print(\"Hi World\") #outside if"
   ]
  },
  {
   "cell_type": "code",
   "execution_count": 5,
   "id": "70a07863",
   "metadata": {},
   "outputs": [
    {
     "name": "stdout",
     "output_type": "stream",
     "text": [
      "Hi World\n"
     ]
    }
   ],
   "source": [
    "if \"\":\n",
    "    print(\"Hello World\") #inside if\n",
    "print(\"Hi World\") #outside if"
   ]
  },
  {
   "cell_type": "code",
   "execution_count": 7,
   "id": "53dac317",
   "metadata": {},
   "outputs": [
    {
     "name": "stdout",
     "output_type": "stream",
     "text": [
      "Enter your percentage -->44\n",
      "Danda or Chappal or Belan or Belt\n"
     ]
    }
   ],
   "source": [
    "per = float(input(\"Enter your percentage -->\"))\n",
    "if per>90:\n",
    "    print(\"PS 5\")\n",
    "elif per>80:\n",
    "    print(\"Activa\")\n",
    "else:\n",
    "    print(\"Danda or Chappal or Belan or Belt\")"
   ]
  },
  {
   "cell_type": "code",
   "execution_count": 8,
   "id": "d3c28596",
   "metadata": {},
   "outputs": [],
   "source": [
    "#WAP to add two number"
   ]
  },
  {
   "cell_type": "code",
   "execution_count": 10,
   "id": "4af117bc",
   "metadata": {},
   "outputs": [
    {
     "name": "stdout",
     "output_type": "stream",
     "text": [
      "Enter value of a --> 6\n",
      "Enter value of b --> 9\n",
      "6 + 9 = 15\n"
     ]
    }
   ],
   "source": [
    "a,b = int(input(\"Enter value of a --> \")),int(input(\"Enter value of b --> \"))\n",
    "print(f\"{a} + {b} = {a+b}\")"
   ]
  },
  {
   "cell_type": "code",
   "execution_count": 11,
   "id": "15482164",
   "metadata": {},
   "outputs": [],
   "source": [
    "#WAP to find greater among two nos"
   ]
  },
  {
   "cell_type": "code",
   "execution_count": 13,
   "id": "138b1125",
   "metadata": {},
   "outputs": [
    {
     "name": "stdout",
     "output_type": "stream",
     "text": [
      "9\n",
      "2\n",
      "9 is Greater\n"
     ]
    }
   ],
   "source": [
    "a,b = int(input()),int(input())\n",
    "if a>b:\n",
    "    print(f\"{a} is Greater\")\n",
    "else:\n",
    "    print(f\"{b} is Greater\")"
   ]
  },
  {
   "cell_type": "code",
   "execution_count": 15,
   "id": "15db52ef",
   "metadata": {},
   "outputs": [
    {
     "name": "stdout",
     "output_type": "stream",
     "text": [
      "5\n",
      "5 is Odd\n"
     ]
    }
   ],
   "source": [
    "#WAP to check whether a given no is even or odd\n",
    "num  = int(input())\n",
    "if num%2:\n",
    "    print(f\"{num} is Odd\")\n",
    "else:\n",
    "    print(f\"{num} is Even\")"
   ]
  },
  {
   "cell_type": "code",
   "execution_count": 16,
   "id": "8afc07cf",
   "metadata": {},
   "outputs": [],
   "source": [
    "#WAP to find greatest among three nos"
   ]
  },
  {
   "cell_type": "code",
   "execution_count": null,
   "id": "7f42311f",
   "metadata": {},
   "outputs": [],
   "source": []
  }
 ],
 "metadata": {
  "kernelspec": {
   "display_name": "Python 3 (ipykernel)",
   "language": "python",
   "name": "python3"
  },
  "language_info": {
   "codemirror_mode": {
    "name": "ipython",
    "version": 3
   },
   "file_extension": ".py",
   "mimetype": "text/x-python",
   "name": "python",
   "nbconvert_exporter": "python",
   "pygments_lexer": "ipython3",
   "version": "3.9.7"
  }
 },
 "nbformat": 4,
 "nbformat_minor": 5
}
