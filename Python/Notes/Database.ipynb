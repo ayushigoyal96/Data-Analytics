{
 "cells": [
  {
   "cell_type": "markdown",
   "id": "e789c25f",
   "metadata": {},
   "source": [
    "# Database "
   ]
  },
  {
   "cell_type": "markdown",
   "id": "1c0f2c1c",
   "metadata": {},
   "source": [
    "It is a organized collection of data which can be easily accessed and managed.\n",
    "\n",
    "We can organize our data into tables, rows, columns and index.\n",
    "\n",
    "\n",
    "To manage database we use some software called DBMS - DataBase Management System\n",
    "\n",
    "The purpose of database is to operate a lage amount of data, we can store, retriece, an can manage data.\n",
    "\n",
    "\n",
    "\n",
    "#Evolution \n",
    "\n",
    "\n",
    "- File Based\n",
    "\n",
    "- Hierarchical Data Model\n",
    "\n",
    "- Network Data Model\n",
    "\n",
    "- Relational Database\n",
    "\n",
    "- Cloud Database\n",
    "\n",
    "- NoSQL Database\n",
    "\n",
    "- Object Oriented Databases\n",
    "\n",
    "\n",
    "Data\n",
    "\n",
    "- Structured Data\n",
    "\n",
    "- Semi-Structured \n",
    "\n",
    "- Unstructured Data\n",
    "\n",
    "\n",
    "#Stuctured Data\n",
    "\n",
    "    Table\n",
    "    \n",
    "    Name      Age             DOB              Current City           email\n",
    "    \n",
    "    Ravi      25             16/02/1997         Jaipur                ravi@grras.in\n",
    "    \n",
    "#Unstructured Data\n",
    "\n",
    "- Photos\n",
    "- Videos etc..\n",
    "\n",
    "#Semi-Structured\n",
    "\n",
    "- JSON\n",
    "- XML"
   ]
  },
  {
   "cell_type": "markdown",
   "id": "71528f5e",
   "metadata": {},
   "source": [
    "Unstructured Data --> NOSQL is used to manage unstructured data\n",
    "\n",
    "It provides a mehanism for storage and retrieval of data that is other than RDB or Relational Database.\n",
    "\n",
    "[HW > NO SQL - Merits and Demerits]\n"
   ]
  },
  {
   "cell_type": "markdown",
   "id": "7cde67c3",
   "metadata": {},
   "source": [
    "    RDBMS -> (Relational Database Mangement System)\n",
    "\n",
    "    It is represented as table that contains rows and columns\n",
    "\n",
    "    components of RDBMS- \n",
    "\n",
    "    o Table\n",
    "    o Record/Tuple/Row\n",
    "    o Attribute/Filed/Column\n",
    "    o Instace\n",
    "    o Schema\n",
    "    o Keys\n",
    "    \n",
    "    \n",
    "    ACID - Properties\n",
    "    \n",
    "    Atomicity - The transaction takes place at once or doen't happen at all\n",
    "    \n",
    "    Consistency - The database must be consistance before and after transation\n",
    "    \n",
    "    Isolation - Multiple Transation occur independently\n",
    "    \n",
    "    Durability - The Chances of a successful transaction occures even if the system failure occures"
   ]
  },
  {
   "cell_type": "code",
   "execution_count": null,
   "id": "df4d3370",
   "metadata": {},
   "outputs": [],
   "source": [
    "1000\n",
    "\n",
    "400 --> Naman\n",
    "200 --> Kartik\n",
    "100 --> Vipasha\n",
    "200 --> Aayushi\n",
    "100 --> Ankit"
   ]
  },
  {
   "cell_type": "markdown",
   "id": "2cde3b07",
   "metadata": {},
   "source": [
    "Types of Databases\n",
    "\n",
    "- Centralized Database\n",
    "- Distributed Database\n",
    "- NoSQL Database\n",
    "- Cloud Database\n",
    "- Relational Database\n",
    "- Network Database\n",
    "- Object Oriented Database\n",
    "- Hierarchical Database"
   ]
  },
  {
   "cell_type": "markdown",
   "id": "58492d8b",
   "metadata": {},
   "source": [
    "1. Table\n",
    "2. Column\n",
    "3. Row"
   ]
  },
  {
   "cell_type": "code",
   "execution_count": 4,
   "id": "b6785463",
   "metadata": {},
   "outputs": [],
   "source": [
    "#HW  --> DBMS VS FILE"
   ]
  },
  {
   "cell_type": "code",
   "execution_count": 5,
   "id": "9ab81110",
   "metadata": {},
   "outputs": [],
   "source": [
    "#HW  --> DBMS VS RDBMS"
   ]
  },
  {
   "cell_type": "code",
   "execution_count": null,
   "id": "a6f336f6",
   "metadata": {},
   "outputs": [],
   "source": []
  }
 ],
 "metadata": {
  "kernelspec": {
   "display_name": "Python 3 (ipykernel)",
   "language": "python",
   "name": "python3"
  },
  "language_info": {
   "codemirror_mode": {
    "name": "ipython",
    "version": 3
   },
   "file_extension": ".py",
   "mimetype": "text/x-python",
   "name": "python",
   "nbconvert_exporter": "python",
   "pygments_lexer": "ipython3",
   "version": "3.9.7"
  }
 },
 "nbformat": 4,
 "nbformat_minor": 5
}
