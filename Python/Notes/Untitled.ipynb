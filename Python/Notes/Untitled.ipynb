{
 "cells": [
  {
   "cell_type": "markdown",
   "id": "11db109d",
   "metadata": {},
   "source": [
    "## Format method of String"
   ]
  },
  {
   "cell_type": "code",
   "execution_count": 18,
   "id": "9576dc81",
   "metadata": {},
   "outputs": [
    {
     "name": "stdout",
     "output_type": "stream",
     "text": [
      "Enter Your name---->bhkjbjkhk\n",
      "Enter your Roll----->bhjjbjbj\n",
      "Enter your Class---->bhjbjb\n",
      "English= 67\n",
      "Maths= 55\n",
      "Hindi= 78\n",
      "Science= 88\n",
      "Sst= 68\n",
      "Percentage= 55.60000000000001\n"
     ]
    }
   ],
   "source": [
    "Name = input('Enter Your name---->')\n",
    "Roll = input('Enter your Roll----->')\n",
    "Class = input('Enter your Class---->')\n",
    "English=67\n",
    "Maths=55\n",
    "Hindi=78\n",
    "Science=88\n",
    "Sst=68\n",
    "Per=(English+Maths+Science+Sst)/500*100\n",
    "print(\"English=\",English)\n",
    "print(\"Maths=\",Maths)\n",
    "print(\"Hindi=\",Hindi)\n",
    "print(\"Science=\",Science)\n",
    "print(\"Sst=\",Sst)\n",
    "print(\"Percentage=\",Per)"
   ]
  },
  {
   "cell_type": "code",
   "execution_count": 31,
   "id": "7c68c456",
   "metadata": {},
   "outputs": [
    {
     "name": "stdout",
     "output_type": "stream",
     "text": [
      "Enter Your name---->asdfghjk\n",
      "Enter your Roll----->ertyu\n",
      "Enter your Class---->xcvbnm\n",
      "English={} Maths={} Hindi={} Science={} Sst=67\n",
      "Percentage=55.60000000000001\n"
     ]
    }
   ],
   "source": [
    "Name = input('Enter Your name---->')\n",
    "Roll = input('Enter your Roll----->')\n",
    "Class = input('Enter your Class---->')\n",
    "English=67\n",
    "Maths=55\n",
    "Hindi=78\n",
    "Science=88\n",
    "Sst=68\n",
    "Per=(English+Maths+Science+Sst)/500*100\n",
    "print(\"English={}\",\"Maths={}\",\"Hindi={}\",\"Science={}\",\"Sst={}\".format(English,Maths,Hindi,Science,Sst))\n",
    "print('Percentage={}'.format(Per))"
   ]
  },
  {
   "cell_type": "code",
   "execution_count": null,
   "id": "7fc3cee9",
   "metadata": {},
   "outputs": [],
   "source": []
  }
 ],
 "metadata": {
  "kernelspec": {
   "display_name": "Python 3 (ipykernel)",
   "language": "python",
   "name": "python3"
  },
  "language_info": {
   "codemirror_mode": {
    "name": "ipython",
    "version": 3
   },
   "file_extension": ".py",
   "mimetype": "text/x-python",
   "name": "python",
   "nbconvert_exporter": "python",
   "pygments_lexer": "ipython3",
   "version": "3.9.7"
  }
 },
 "nbformat": 4,
 "nbformat_minor": 5
}
