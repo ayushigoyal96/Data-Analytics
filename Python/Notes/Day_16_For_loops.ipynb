{
 "cells": [
  {
   "cell_type": "code",
   "execution_count": 3,
   "id": "c099118d",
   "metadata": {},
   "outputs": [
    {
     "name": "stdout",
     "output_type": "stream",
     "text": [
      "4\t53\t4\t76\t45\t7\t33\t65\t435\t324\t23\t4\t"
     ]
    }
   ],
   "source": [
    "l = [4,53,4,76,45,7,33,65,435,324,23,4]\n",
    "for var in range(len(l)):\n",
    "    print(l[var],end=\"\\t\")"
   ]
  },
  {
   "cell_type": "code",
   "execution_count": 6,
   "id": "5d51bd67",
   "metadata": {},
   "outputs": [],
   "source": [
    "for var in range(100,1):\n",
    "    print(var)"
   ]
  },
  {
   "cell_type": "code",
   "execution_count": 9,
   "id": "d35800aa",
   "metadata": {},
   "outputs": [
    {
     "name": "stdout",
     "output_type": "stream",
     "text": [
      "50\t51\t52\t53\t54\t55\t56\t57\t58\t59\t60\t"
     ]
    }
   ],
   "source": [
    "for var in range(50,61):\n",
    "    print(var,end=\"\\t\")"
   ]
  },
  {
   "cell_type": "code",
   "execution_count": 10,
   "id": "3aa893c4",
   "metadata": {},
   "outputs": [
    {
     "name": "stdout",
     "output_type": "stream",
     "text": [
      "Hi\n",
      "1\n",
      "2\n",
      "Hi\n",
      "5\n",
      "Hi\n",
      "7\n",
      "Hi\n",
      "10\n",
      "11\n",
      "Hi\n",
      "13\n"
     ]
    }
   ],
   "source": [
    "for var in range(15):\n",
    "    if var%3 == 0:\n",
    "        print(\"Hi\")\n",
    "    elif var%4 == 0:\n",
    "        continue\n",
    "    elif var == 14:\n",
    "        break\n",
    "    else:\n",
    "        print(var)"
   ]
  },
  {
   "cell_type": "code",
   "execution_count": 11,
   "id": "79ea26fa",
   "metadata": {},
   "outputs": [],
   "source": [
    "#List comprehension"
   ]
  },
  {
   "cell_type": "code",
   "execution_count": 12,
   "id": "949dfcaf",
   "metadata": {},
   "outputs": [
    {
     "data": {
      "text/plain": [
       "[1, 1, 1, 1, 1, 1, 1, 1, 1, 1]"
      ]
     },
     "execution_count": 12,
     "metadata": {},
     "output_type": "execute_result"
    }
   ],
   "source": [
    "[1,1,1,1,1,1,1,1,1,1]"
   ]
  },
  {
   "cell_type": "code",
   "execution_count": 13,
   "id": "e39ed0b2",
   "metadata": {},
   "outputs": [],
   "source": [
    "l = []\n",
    "for var in range(10):\n",
    "    l.append(1)"
   ]
  },
  {
   "cell_type": "code",
   "execution_count": 14,
   "id": "26e9e37f",
   "metadata": {},
   "outputs": [
    {
     "name": "stdout",
     "output_type": "stream",
     "text": [
      "[1, 1, 1, 1, 1, 1, 1, 1, 1, 1]\n"
     ]
    }
   ],
   "source": [
    "print(l)"
   ]
  },
  {
   "cell_type": "code",
   "execution_count": 15,
   "id": "aa1b5671",
   "metadata": {},
   "outputs": [],
   "source": [
    "#using list comprehension"
   ]
  },
  {
   "cell_type": "code",
   "execution_count": 17,
   "id": "b1013e36",
   "metadata": {},
   "outputs": [
    {
     "name": "stdout",
     "output_type": "stream",
     "text": [
      "[1, 1, 1, 1, 1, 1, 1, 1, 1, 1]\n"
     ]
    }
   ],
   "source": [
    "l = [1 for var in range(10)]\n",
    "print(l)"
   ]
  },
  {
   "cell_type": "code",
   "execution_count": 18,
   "id": "bd6c8395",
   "metadata": {},
   "outputs": [],
   "source": [
    "l1 = [0 for var in range(50)]"
   ]
  },
  {
   "cell_type": "code",
   "execution_count": 19,
   "id": "b6fe8d36",
   "metadata": {},
   "outputs": [
    {
     "name": "stdout",
     "output_type": "stream",
     "text": [
      "[0, 0, 0, 0, 0, 0, 0, 0, 0, 0, 0, 0, 0, 0, 0, 0, 0, 0, 0, 0, 0, 0, 0, 0, 0, 0, 0, 0, 0, 0, 0, 0, 0, 0, 0, 0, 0, 0, 0, 0, 0, 0, 0, 0, 0, 0, 0, 0, 0, 0]\n"
     ]
    }
   ],
   "source": [
    "print(l1)"
   ]
  },
  {
   "cell_type": "code",
   "execution_count": 21,
   "id": "8b2da4c2",
   "metadata": {},
   "outputs": [
    {
     "name": "stdout",
     "output_type": "stream",
     "text": [
      "[0, 1, 2, 3, 4, 5, 6, 7, 8, 9]\n"
     ]
    }
   ],
   "source": [
    "l3 = [var for var in range(10)]\n",
    "print(l3)"
   ]
  },
  {
   "cell_type": "code",
   "execution_count": 39,
   "id": "c72ffd1e",
   "metadata": {},
   "outputs": [],
   "source": [
    "l = [124,23,5,6,67,75,65,23,4,32,5,6786,654,543,25,675,7,785,643]"
   ]
  },
  {
   "cell_type": "code",
   "execution_count": 7,
   "id": "873ec1b5",
   "metadata": {},
   "outputs": [
    {
     "name": "stdout",
     "output_type": "stream",
     "text": [
      "124\n",
      "6\n",
      "4\n",
      "32\n",
      "6786\n",
      "654\n"
     ]
    }
   ],
   "source": [
    "l = [124,23,5,6,67,75,65,23,4,32,5,6786,654,543,25,675,7,785,643]\n",
    "for var in l:\n",
    "    if var%2==0:\n",
    "        print(var)"
   ]
  },
  {
   "cell_type": "code",
   "execution_count": 41,
   "id": "1963ddee",
   "metadata": {},
   "outputs": [
    {
     "data": {
      "text/plain": [
       "[124, 6, 4, 32, 6786, 654]"
      ]
     },
     "execution_count": 41,
     "metadata": {},
     "output_type": "execute_result"
    }
   ],
   "source": [
    "[var for var in l if var%2==0]"
   ]
  },
  {
   "cell_type": "code",
   "execution_count": 29,
   "id": "03369c11",
   "metadata": {},
   "outputs": [],
   "source": [
    "l = ['M','na','i','Ke']\n",
    "l1 = ['y','me','s','lly']"
   ]
  },
  {
   "cell_type": "code",
   "execution_count": 30,
   "id": "8c1b9ba3",
   "metadata": {},
   "outputs": [],
   "source": [
    "#output --> \"My name is Kelly\""
   ]
  },
  {
   "cell_type": "code",
   "execution_count": 31,
   "id": "22f8a0a9",
   "metadata": {},
   "outputs": [],
   "source": [
    "l3 = [l[var]+l1[var] for var in range(len(l))]"
   ]
  },
  {
   "cell_type": "code",
   "execution_count": 37,
   "id": "157cd6ac",
   "metadata": {},
   "outputs": [
    {
     "name": "stdout",
     "output_type": "stream",
     "text": [
      " \"My name is Kelly\"  <class 'str'>\n"
     ]
    }
   ],
   "source": [
    "s = \" \".join(l3)\n",
    "print(f' \"{s}\" ',type(s))"
   ]
  },
  {
   "cell_type": "code",
   "execution_count": 42,
   "id": "840c1bbe",
   "metadata": {},
   "outputs": [],
   "source": [
    "#if \n",
    "\n",
    "#syntax\n",
    "\n",
    "#[var for var in iterable if condition]\n",
    "\n",
    "\n",
    "#if else\n",
    "\n",
    "# True if condition else False"
   ]
  },
  {
   "cell_type": "code",
   "execution_count": 44,
   "id": "ec5a5ae9",
   "metadata": {},
   "outputs": [
    {
     "data": {
      "text/plain": [
       "'Ramawat'"
      ]
     },
     "execution_count": 44,
     "metadata": {},
     "output_type": "execute_result"
    }
   ],
   "source": [
    "a = 4\n",
    "b = 6\n",
    "\"Ravi\" if a>b else \"Ramawat\""
   ]
  },
  {
   "cell_type": "code",
   "execution_count": 45,
   "id": "24726abc",
   "metadata": {},
   "outputs": [
    {
     "data": {
      "text/plain": [
       "[124, 23, 5, 6, 67, 75, 65, 23, 4, 32, 5, 6786, 654, 543, 25, 675, 7, 785, 643]"
      ]
     },
     "execution_count": 45,
     "metadata": {},
     "output_type": "execute_result"
    }
   ],
   "source": [
    "l"
   ]
  },
  {
   "cell_type": "code",
   "execution_count": 48,
   "id": "4f34fc95",
   "metadata": {},
   "outputs": [
    {
     "name": "stdout",
     "output_type": "stream",
     "text": [
      "['even', 'Odd', 'Odd', 'even', 'Odd', 'Odd', 'Odd', 'Odd', 'even', 'even', 'Odd', 'even', 'even', 'Odd', 'Odd', 'Odd', 'Odd', 'Odd', 'Odd']\n"
     ]
    }
   ],
   "source": [
    "print([\"even\" if var%2==0 else \"Odd\" for var in l])"
   ]
  },
  {
   "cell_type": "code",
   "execution_count": null,
   "id": "06795165",
   "metadata": {},
   "outputs": [],
   "source": []
  }
 ],
 "metadata": {
  "kernelspec": {
   "display_name": "Python 3 (ipykernel)",
   "language": "python",
   "name": "python3"
  },
  "language_info": {
   "codemirror_mode": {
    "name": "ipython",
    "version": 3
   },
   "file_extension": ".py",
   "mimetype": "text/x-python",
   "name": "python",
   "nbconvert_exporter": "python",
   "pygments_lexer": "ipython3",
   "version": "3.9.7"
  }
 },
 "nbformat": 4,
 "nbformat_minor": 5
}
