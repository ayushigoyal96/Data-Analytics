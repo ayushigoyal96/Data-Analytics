{
 "cells": [
  {
   "cell_type": "code",
   "execution_count": 1,
   "id": "d6ad34ef",
   "metadata": {},
   "outputs": [],
   "source": [
    "#vowel or not"
   ]
  },
  {
   "cell_type": "code",
   "execution_count": 8,
   "id": "9e9efd12",
   "metadata": {},
   "outputs": [
    {
     "name": "stdout",
     "output_type": "stream",
     "text": [
      "Enter a char -->               a\n",
      "              a is Vowel\n"
     ]
    }
   ],
   "source": [
    "s = input(\"Enter a char --> \")\n",
    "v = ['a','e','i','o','u']\n",
    "if s.strip().lower() in v:\n",
    "    print(f\"{s} is Vowel\")\n",
    "else:\n",
    "    print(f\"{s} is Consonant\")"
   ]
  },
  {
   "cell_type": "code",
   "execution_count": 12,
   "id": "95042cce",
   "metadata": {},
   "outputs": [
    {
     "name": "stdout",
     "output_type": "stream",
     "text": [
      "H\n",
      "M\n",
      "n\n",
      "i\n",
      "R\n",
      "R\n"
     ]
    }
   ],
   "source": [
    "s = \"Hello My name is Ravi Ramawat\"\n",
    "s = s.split()\n",
    "c = 0\n",
    "while c<len(s):\n",
    "    print(s[c][0])\n",
    "    c+=1"
   ]
  },
  {
   "cell_type": "code",
   "execution_count": 20,
   "id": "0d47572d",
   "metadata": {},
   "outputs": [],
   "source": [
    "s = \"The quick brown fox jumps over the lazy dog\".lower()"
   ]
  },
  {
   "cell_type": "code",
   "execution_count": 21,
   "id": "bac378d3",
   "metadata": {},
   "outputs": [],
   "source": [
    "#WAP to print the first non repeating character"
   ]
  },
  {
   "cell_type": "code",
   "execution_count": 22,
   "id": "067b5700",
   "metadata": {},
   "outputs": [],
   "source": [
    "#WAP to print count each charater present in the above string"
   ]
  },
  {
   "cell_type": "code",
   "execution_count": 26,
   "id": "c2943850",
   "metadata": {},
   "outputs": [
    {
     "name": "stdout",
     "output_type": "stream",
     "text": [
      "t -->  2\th -->  2\te -->  3\t  -->  8\tq -->  1\tu -->  2\ti -->  1\tc -->  1\tk -->  1\t  -->  8\tb -->  1\tr -->  2\to -->  4\tw -->  1\tn -->  1\t  -->  8\tf -->  1\to -->  4\tx -->  1\t  -->  8\tj -->  1\tu -->  2\tm -->  1\tp -->  1\ts -->  1\t  -->  8\to -->  4\tv -->  1\te -->  3\tr -->  2\t  -->  8\tt -->  2\th -->  2\te -->  3\t  -->  8\tl -->  1\ta -->  1\tz -->  1\ty -->  1\t  -->  8\td -->  1\to -->  4\tg -->  1\t"
     ]
    }
   ],
   "source": [
    "c = 0\n",
    "while c<len(s):\n",
    "    print(s[c],\"--> \",s.count(s[c]),end=\"\\t\")\n",
    "    c+=1"
   ]
  },
  {
   "cell_type": "code",
   "execution_count": 42,
   "id": "1f41a8a4",
   "metadata": {},
   "outputs": [
    {
     "name": "stdout",
     "output_type": "stream",
     "text": [
      "The first non repeating character is -->  q\n",
      "{'t': 2, 'h': 2, 'e': 3, ' ': 8, 'q': 1, 'u': 2, 'i': 1, 'c': 1, 'k': 1, 'b': 1, 'r': 2, 'o': 4, 'w': 1, 'n': 1, 'f': 1, 'x': 1, 'j': 1, 'm': 1, 'p': 1, 's': 1, 'v': 1, 'l': 1, 'a': 1, 'z': 1, 'y': 1, 'd': 1, 'g': 1}\n"
     ]
    }
   ],
   "source": [
    "s = \"The quick brown fox jumps over the lazy dog\".lower()\n",
    "d = {}.fromkeys(s,0)\n",
    "c= 0 \n",
    "while c<len(s):\n",
    "    if s[c] in d:\n",
    "        d[s[c]] +=1\n",
    "    c+=1\n",
    "v = list(d.values())\n",
    "k = list(d.keys())\n",
    "c = 0\n",
    "while c<len(k):\n",
    "    if v[c] == 1:\n",
    "        print(\"The first non repeating character is --> \",k[c])\n",
    "        break\n",
    "    c+=1\n",
    "print(d)"
   ]
  },
  {
   "cell_type": "code",
   "execution_count": 31,
   "id": "72858e8c",
   "metadata": {},
   "outputs": [
    {
     "data": {
      "text/plain": [
       "2"
      ]
     },
     "execution_count": 31,
     "metadata": {},
     "output_type": "execute_result"
    }
   ],
   "source": [
    "d['t']"
   ]
  },
  {
   "cell_type": "code",
   "execution_count": 43,
   "id": "f5c76868",
   "metadata": {},
   "outputs": [],
   "source": [
    "color = ['red','green','blue','yellow']\n",
    "fruits = ['watermelon','mango','papaya','grapes']"
   ]
  },
  {
   "cell_type": "code",
   "execution_count": 45,
   "id": "49e5502e",
   "metadata": {},
   "outputs": [
    {
     "name": "stdout",
     "output_type": "stream",
     "text": [
      "red watermelon\n",
      "red mango\n",
      "red papaya\n",
      "red grapes\n",
      "green watermelon\n",
      "green mango\n",
      "green papaya\n",
      "green grapes\n",
      "blue watermelon\n",
      "blue mango\n",
      "blue papaya\n",
      "blue grapes\n",
      "yellow watermelon\n",
      "yellow mango\n",
      "yellow papaya\n",
      "yellow grapes\n"
     ]
    }
   ],
   "source": [
    "c = 0\n",
    "while c<len(color):\n",
    "    d = 0 \n",
    "    while d<len(fruits):\n",
    "        print(color[c],fruits[d])\n",
    "        d+=1\n",
    "    c+=1"
   ]
  },
  {
   "cell_type": "code",
   "execution_count": 46,
   "id": "46c3b953",
   "metadata": {},
   "outputs": [],
   "source": [
    "#fibonacci"
   ]
  },
  {
   "cell_type": "code",
   "execution_count": 1,
   "id": "8e707020",
   "metadata": {},
   "outputs": [
    {
     "name": "stdout",
     "output_type": "stream",
     "text": [
      "Enter number of terms --> 5\n",
      "0 1 1 2 3 "
     ]
    }
   ],
   "source": [
    "n = int(input(\"Enter number of terms --> \"))\n",
    "c = 1\n",
    "a = 0\n",
    "b = 1\n",
    "while c<=n:\n",
    "    s = a+b\n",
    "    print(a,end=\" \")\n",
    "    a = b\n",
    "    b = s\n",
    "    c+=1"
   ]
  },
  {
   "cell_type": "code",
   "execution_count": 54,
   "id": "5f923597",
   "metadata": {},
   "outputs": [],
   "source": [
    "#Prime"
   ]
  },
  {
   "cell_type": "code",
   "execution_count": 68,
   "id": "00f11168",
   "metadata": {},
   "outputs": [
    {
     "name": "stdout",
     "output_type": "stream",
     "text": [
      "Enter a number --> 1\n",
      "1 is Non Prime\n"
     ]
    }
   ],
   "source": [
    "num = int(input(\"Enter a number --> \"))\n",
    "c = 1\n",
    "count = 0\n",
    "while c<=num:\n",
    "    if num%c==0:\n",
    "        count+=1\n",
    "    c+=1\n",
    "if count==2:\n",
    "    print(f\"{num} is Prime\")\n",
    "else:\n",
    "    print(f\"{num} is Non Prime\")"
   ]
  },
  {
   "cell_type": "code",
   "execution_count": 79,
   "id": "aaad28e8",
   "metadata": {},
   "outputs": [
    {
     "name": "stdout",
     "output_type": "stream",
     "text": [
      "***************************************************************************************************\n",
      "---------------------------------------------------------------------------------------------------\n",
      "                                 Welcome to Rock, Paper & Scissors                                 \n",
      "---------------------------------------------------------------------------------------------------\n",
      "***************************************************************************************************\n",
      "Enter your name --> Ravi\n",
      "Plz enter your choice (r|p|s) --> p\n",
      "Ravi wins!!   com --> r\n",
      "Do you really want to continue ?? n\n",
      "ThankYou for Playing!!\n"
     ]
    }
   ],
   "source": [
    "from random import choice\n",
    "print(\"*\"*99)\n",
    "print(\"-\"*99)\n",
    "msg = \"Welcome to Rock, Paper & Scissors\"\n",
    "print(f\"{msg:^99}\")\n",
    "print(\"-\"*99)\n",
    "print(\"*\"*99)\n",
    "name = input(\"Enter your name --> \")\n",
    "win = [('p','r'),('s','p'),('r','s')]\n",
    "while True:\n",
    "    com = choice(['r','p','s'])\n",
    "    p = input(\"Plz enter your choice (r|p|s) --> \")\n",
    "    if (p,com) in win:\n",
    "        print(f'{name} wins!!   com --> {com}')\n",
    "    elif p == com:\n",
    "        print(f\"Match Draw!!!   com --> {com}\")\n",
    "    else:\n",
    "        print(f\"Computer Player Wins!!   com --> {com}\")\n",
    "    ch = input(\"Do you really want to continue ?? \").lower()\n",
    "    if ch == \"yes\" or ch == \"y\":\n",
    "        continue\n",
    "    else:\n",
    "        print(\"ThankYou for Playing!!\")\n",
    "        break\n"
   ]
  },
  {
   "cell_type": "code",
   "execution_count": 84,
   "id": "89808fc0",
   "metadata": {},
   "outputs": [
    {
     "name": "stdout",
     "output_type": "stream",
     "text": [
      "***************************************************************************************************\n",
      "---------------------------------------------------------------------------------------------------\n",
      "                                     Welcome to Guessing Game                                      \n",
      "---------------------------------------------------------------------------------------------------\n",
      "***************************************************************************************************\n",
      "Enter your name --> Aayushi\n",
      "Guess a number between (1-100) --> 77\n",
      "Kam socha kar!!!!\n",
      "Guess a number between (1-100) --> 57\n",
      "Kam socha kar!!!!\n",
      "Guess a number between (1-100) --> 49\n",
      "Aayushi Wins!!!          com --> 49\n"
     ]
    }
   ],
   "source": [
    "from random import randint\n",
    "print(\"*\"*99)\n",
    "print(\"-\"*99)\n",
    "msg = \"Welcome to Guessing Game\"\n",
    "print(f\"{msg:^99}\")\n",
    "print(\"-\"*99)\n",
    "print(\"*\"*99)\n",
    "name = input(\"Enter your name --> \")\n",
    "com = randint(1,100)\n",
    "c = 1\n",
    "while c<=5:\n",
    "    p = int(input(\"Guess a number between (1-100) --> \"))\n",
    "    if p<=100 and p>=0:\n",
    "        if p==com:\n",
    "            print(f\"{name} Wins!!!          com --> {com}\")\n",
    "            break\n",
    "        elif p>com:\n",
    "            print(\"Kam socha kar!!!!\")\n",
    "        else:\n",
    "            print(\"Soch Badi kar!!!!\")\n",
    "    else:\n",
    "        print(\"Out Of Bounds!!!\")\n",
    "    c+=1\n",
    "else:\n",
    "    print(f\"Computer Wins!!      com --> {com}\")"
   ]
  },
  {
   "cell_type": "code",
   "execution_count": null,
   "id": "ed020b5f",
   "metadata": {},
   "outputs": [],
   "source": []
  }
 ],
 "metadata": {
  "kernelspec": {
   "display_name": "Python 3 (ipykernel)",
   "language": "python",
   "name": "python3"
  },
  "language_info": {
   "codemirror_mode": {
    "name": "ipython",
    "version": 3
   },
   "file_extension": ".py",
   "mimetype": "text/x-python",
   "name": "python",
   "nbconvert_exporter": "python",
   "pygments_lexer": "ipython3",
   "version": "3.9.7"
  }
 },
 "nbformat": 4,
 "nbformat_minor": 5
}
