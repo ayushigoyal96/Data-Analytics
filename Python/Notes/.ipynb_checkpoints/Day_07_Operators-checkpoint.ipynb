{
 "cells": [
  {
   "cell_type": "code",
   "execution_count": 2,
   "id": "a55ea442",
   "metadata": {},
   "outputs": [
    {
     "name": "stdout",
     "output_type": "stream",
     "text": [
      "         0    0         0         0     \n",
      "         1    1         1         1     \n",
      "         2    10        2         2     \n",
      "         3    11        3         3     \n",
      "         4   100        4         4     \n",
      "         5   101        5         5     \n",
      "         6   110        6         6     \n",
      "         7   111        7         7     \n",
      "         8   1000       10        8     \n",
      "         9   1001       11        9     \n",
      "        10   1010       12        A     \n",
      "        11   1011       13        B     \n",
      "        12   1100       14        C     \n",
      "        13   1101       15        D     \n",
      "        14   1110       16        E     \n",
      "        15   1111       17        F     \n",
      "        16  10000       20        10    \n",
      "        17  10001       21        11    \n",
      "        18  10010       22        12    \n",
      "        19  10011       23        13    \n",
      "        20  10100       24        14    \n",
      "        21  10101       25        15    \n",
      "        22  10110       26        16    \n",
      "        23  10111       27        17    \n",
      "        24  11000       30        18    \n",
      "        25  11001       31        19    \n",
      "        26  11010       32        1A    \n",
      "        27  11011       33        1B    \n",
      "        28  11100       34        1C    \n",
      "        29  11101       35        1D    \n",
      "        30  11110       36        1E    \n",
      "        31  11111       37        1F    \n",
      "        32  100000      40        20    \n",
      "        33  100001      41        21    \n",
      "        34  100010      42        22    \n",
      "        35  100011      43        23    \n",
      "        36  100100      44        24    \n",
      "        37  100101      45        25    \n",
      "        38  100110      46        26    \n",
      "        39  100111      47        27    \n",
      "        40  101000      50        28    \n",
      "        41  101001      51        29    \n",
      "        42  101010      52        2A    \n",
      "        43  101011      53        2B    \n",
      "        44  101100      54        2C    \n",
      "        45  101101      55        2D    \n",
      "        46  101110      56        2E    \n",
      "        47  101111      57        2F    \n",
      "        48  110000      60        30    \n",
      "        49  110001      61        31    \n"
     ]
    }
   ],
   "source": [
    "for var in range(50):\n",
    "    print(f\"{var:>10d}{var:^10b}{var:^10o}{var:^10X}\")"
   ]
  },
  {
   "cell_type": "markdown",
   "id": "30ea2d99",
   "metadata": {},
   "source": [
    "# Operators in Python "
   ]
  },
  {
   "cell_type": "markdown",
   "id": "c14ed5ae",
   "metadata": {},
   "source": [
    "1. Arithmatic Operators\n",
    "2. Logical Operators\n",
    "3. Relational Operators\n",
    "4. Assignment Operators\n",
    "5. Membership Operators\n",
    "6. Identity Operators\n",
    "7. Bitwise Operators"
   ]
  },
  {
   "cell_type": "markdown",
   "id": "3c1585c3",
   "metadata": {},
   "source": [
    "###  Arithmatic Operators"
   ]
  },
  {
   "cell_type": "code",
   "execution_count": 21,
   "id": "52a2eeaa",
   "metadata": {},
   "outputs": [],
   "source": [
    "#they can be applied only on numbers"
   ]
  },
  {
   "cell_type": "markdown",
   "id": "5abc4a49",
   "metadata": {},
   "source": [
    "1. Addition +\n",
    "2. Subtraction -\n",
    "3. Multiplication *\n",
    "4. True Division /\n",
    "5. Floor Division //\n",
    "6. Remainder %\n",
    "7. Exponent **"
   ]
  },
  {
   "cell_type": "code",
   "execution_count": 22,
   "id": "db9f81fd",
   "metadata": {},
   "outputs": [
    {
     "name": "stdout",
     "output_type": "stream",
     "text": [
      "6\n"
     ]
    }
   ],
   "source": [
    "a =4\n",
    "b = 2\n",
    "print(a + b)"
   ]
  },
  {
   "cell_type": "code",
   "execution_count": 23,
   "id": "b1cc5bd1",
   "metadata": {},
   "outputs": [
    {
     "name": "stdout",
     "output_type": "stream",
     "text": [
      "20\n"
     ]
    }
   ],
   "source": [
    "a  = -3\n",
    "b = -23\n",
    "print(a-b)"
   ]
  },
  {
   "cell_type": "code",
   "execution_count": 24,
   "id": "2a4840a1",
   "metadata": {},
   "outputs": [
    {
     "name": "stdout",
     "output_type": "stream",
     "text": [
      "-18\n"
     ]
    }
   ],
   "source": [
    "a = 2\n",
    "b = -9\n",
    "print(a*b)"
   ]
  },
  {
   "cell_type": "code",
   "execution_count": 25,
   "id": "a2180b4e",
   "metadata": {},
   "outputs": [
    {
     "name": "stdout",
     "output_type": "stream",
     "text": [
      "1024\n"
     ]
    }
   ],
   "source": [
    "a = 2\n",
    "b = 10\n",
    "print(a**b)"
   ]
  },
  {
   "cell_type": "code",
   "execution_count": 26,
   "id": "97ab0e72",
   "metadata": {},
   "outputs": [
    {
     "data": {
      "text/plain": [
       "27"
      ]
     },
     "execution_count": 26,
     "metadata": {},
     "output_type": "execute_result"
    }
   ],
   "source": [
    "pow(3,3)"
   ]
  },
  {
   "cell_type": "code",
   "execution_count": 27,
   "id": "c5eb9f1b",
   "metadata": {},
   "outputs": [],
   "source": [
    "#true div or absolute"
   ]
  },
  {
   "cell_type": "code",
   "execution_count": 28,
   "id": "e61b6cca",
   "metadata": {},
   "outputs": [
    {
     "name": "stdout",
     "output_type": "stream",
     "text": [
      "3.3333333333333335\n"
     ]
    }
   ],
   "source": [
    "a = 10\n",
    "b = 3\n",
    "print(a/b)"
   ]
  },
  {
   "cell_type": "code",
   "execution_count": 29,
   "id": "55b25379",
   "metadata": {},
   "outputs": [
    {
     "name": "stdout",
     "output_type": "stream",
     "text": [
      "3\n"
     ]
    }
   ],
   "source": [
    "a = 10 #floor\n",
    "b = 3\n",
    "print(a//b)"
   ]
  },
  {
   "cell_type": "code",
   "execution_count": 31,
   "id": "bda399ea",
   "metadata": {},
   "outputs": [
    {
     "name": "stdout",
     "output_type": "stream",
     "text": [
      "87\n"
     ]
    }
   ],
   "source": [
    "a = 87 #remainder\n",
    "b = 94\n",
    "print(a%b)"
   ]
  },
  {
   "cell_type": "code",
   "execution_count": 32,
   "id": "cc089f54",
   "metadata": {},
   "outputs": [
    {
     "name": "stdout",
     "output_type": "stream",
     "text": [
      "7\n"
     ]
    }
   ],
   "source": [
    "print(b%a)"
   ]
  },
  {
   "cell_type": "markdown",
   "id": "e8973e2d",
   "metadata": {},
   "source": [
    "### Logical Operators "
   ]
  },
  {
   "cell_type": "markdown",
   "id": "a7ae0602",
   "metadata": {},
   "source": [
    "1. and\n",
    "2. or\n",
    "3. not"
   ]
  },
  {
   "cell_type": "code",
   "execution_count": 35,
   "id": "a23b30e5",
   "metadata": {},
   "outputs": [
    {
     "name": "stdout",
     "output_type": "stream",
     "text": [
      "A\tB\tAND\tOR\n",
      "0\t0\t0\t0\n",
      "0\t1\t0\t1\n",
      "1\t0\t0\t1\n",
      "1\t1\t1\t1\n"
     ]
    }
   ],
   "source": [
    "x = 0\n",
    "y = 1\n",
    "print(f\"A\\tB\\tAND\\tOR\")\n",
    "print(f\"{x}\\t{x}\\t{x and x}\\t{x or x}\")\n",
    "print(f\"{x}\\t{y}\\t{x and y}\\t{x or y}\")\n",
    "print(f\"{y}\\t{x}\\t{y and x}\\t{y or x}\")\n",
    "print(f\"{y}\\t{y}\\t{y and y}\\t{y or y}\")"
   ]
  },
  {
   "cell_type": "code",
   "execution_count": 36,
   "id": "10217052",
   "metadata": {},
   "outputs": [
    {
     "name": "stdout",
     "output_type": "stream",
     "text": [
      "A\tB\tAND\tOR\n",
      "False\tFalse\tFalse\tFalse\n",
      "False\tTrue\tFalse\tTrue\n",
      "True\tFalse\tFalse\tTrue\n",
      "True\tTrue\tTrue\tTrue\n"
     ]
    }
   ],
   "source": [
    "x = False\n",
    "y = True\n",
    "print(f\"A\\tB\\tAND\\tOR\")\n",
    "print(f\"{x}\\t{x}\\t{x and x}\\t{x or x}\")\n",
    "print(f\"{x}\\t{y}\\t{x and y}\\t{x or y}\")\n",
    "print(f\"{y}\\t{x}\\t{y and x}\\t{y or x}\")\n",
    "print(f\"{y}\\t{y}\\t{y and y}\\t{y or y}\")"
   ]
  },
  {
   "cell_type": "code",
   "execution_count": 40,
   "id": "02c07cf6",
   "metadata": {},
   "outputs": [
    {
     "name": "stdout",
     "output_type": "stream",
     "text": [
      "True\n"
     ]
    }
   ],
   "source": [
    "#relational operators\n",
    "a = 3\n",
    "b = 2\n",
    "c = 1\n",
    "print(a<b or b>c)"
   ]
  },
  {
   "cell_type": "code",
   "execution_count": 41,
   "id": "b0563ab5",
   "metadata": {},
   "outputs": [
    {
     "name": "stdout",
     "output_type": "stream",
     "text": [
      "True\n"
     ]
    }
   ],
   "source": [
    "print(a!=b)"
   ]
  },
  {
   "cell_type": "code",
   "execution_count": 42,
   "id": "28a15cc1",
   "metadata": {},
   "outputs": [
    {
     "name": "stdout",
     "output_type": "stream",
     "text": [
      "False\n"
     ]
    }
   ],
   "source": [
    "print(c==a)"
   ]
  },
  {
   "cell_type": "code",
   "execution_count": 43,
   "id": "932c6678",
   "metadata": {},
   "outputs": [
    {
     "name": "stdout",
     "output_type": "stream",
     "text": [
      "True\n"
     ]
    }
   ],
   "source": [
    "print(a == a)"
   ]
  },
  {
   "cell_type": "code",
   "execution_count": 45,
   "id": "5b0baecf",
   "metadata": {},
   "outputs": [
    {
     "name": "stdout",
     "output_type": "stream",
     "text": [
      "False\n"
     ]
    }
   ],
   "source": [
    "print(not a>b)"
   ]
  },
  {
   "cell_type": "code",
   "execution_count": 46,
   "id": "6c2d7fc4",
   "metadata": {},
   "outputs": [],
   "source": [
    "#assignment operators"
   ]
  },
  {
   "cell_type": "code",
   "execution_count": 47,
   "id": "ae8c5f5d",
   "metadata": {},
   "outputs": [
    {
     "name": "stdout",
     "output_type": "stream",
     "text": [
      "5\n"
     ]
    }
   ],
   "source": [
    "a = 5\n",
    "print(a)"
   ]
  },
  {
   "cell_type": "code",
   "execution_count": 48,
   "id": "4a429132",
   "metadata": {},
   "outputs": [
    {
     "name": "stdout",
     "output_type": "stream",
     "text": [
      "7\n"
     ]
    }
   ],
   "source": [
    "b = 7\n",
    "print(b)"
   ]
  },
  {
   "cell_type": "code",
   "execution_count": 49,
   "id": "1355a76d",
   "metadata": {},
   "outputs": [],
   "source": [
    "#short hand"
   ]
  },
  {
   "cell_type": "code",
   "execution_count": 50,
   "id": "f26a38c3",
   "metadata": {},
   "outputs": [
    {
     "name": "stdout",
     "output_type": "stream",
     "text": [
      "5\n"
     ]
    }
   ],
   "source": [
    "a =5\n",
    "a+4\n",
    "print(a)"
   ]
  },
  {
   "cell_type": "code",
   "execution_count": 52,
   "id": "ca2f0c9b",
   "metadata": {},
   "outputs": [
    {
     "name": "stdout",
     "output_type": "stream",
     "text": [
      "9\n"
     ]
    }
   ],
   "source": [
    "a =5\n",
    "a+=4  #a = a+4\n",
    "print(a)"
   ]
  },
  {
   "cell_type": "code",
   "execution_count": 53,
   "id": "c794a678",
   "metadata": {},
   "outputs": [],
   "source": [
    "a-=2"
   ]
  },
  {
   "cell_type": "code",
   "execution_count": 54,
   "id": "d0473f6a",
   "metadata": {},
   "outputs": [
    {
     "name": "stdout",
     "output_type": "stream",
     "text": [
      "7\n"
     ]
    }
   ],
   "source": [
    "print(a)"
   ]
  },
  {
   "cell_type": "code",
   "execution_count": 58,
   "id": "389dbd43",
   "metadata": {},
   "outputs": [],
   "source": [
    "#Membership Operators"
   ]
  },
  {
   "cell_type": "markdown",
   "id": "d5dc5504",
   "metadata": {},
   "source": [
    "1. in\n",
    "2. not in"
   ]
  },
  {
   "cell_type": "code",
   "execution_count": 60,
   "id": "0c57f17a",
   "metadata": {},
   "outputs": [],
   "source": [
    "l = [123,2,12,34,23,3,3]"
   ]
  },
  {
   "cell_type": "code",
   "execution_count": 61,
   "id": "f78eea9c",
   "metadata": {},
   "outputs": [
    {
     "data": {
      "text/plain": [
       "True"
      ]
     },
     "execution_count": 61,
     "metadata": {},
     "output_type": "execute_result"
    }
   ],
   "source": [
    "123 in l"
   ]
  },
  {
   "cell_type": "code",
   "execution_count": 62,
   "id": "43e03331",
   "metadata": {},
   "outputs": [
    {
     "data": {
      "text/plain": [
       "False"
      ]
     },
     "execution_count": 62,
     "metadata": {},
     "output_type": "execute_result"
    }
   ],
   "source": [
    "23 not in l"
   ]
  },
  {
   "cell_type": "code",
   "execution_count": 63,
   "id": "52252fa2",
   "metadata": {},
   "outputs": [
    {
     "data": {
      "text/plain": [
       "True"
      ]
     },
     "execution_count": 63,
     "metadata": {},
     "output_type": "execute_result"
    }
   ],
   "source": [
    "55 not in l"
   ]
  },
  {
   "cell_type": "markdown",
   "id": "51c6a95b",
   "metadata": {},
   "source": [
    "# Identity Operators "
   ]
  },
  {
   "cell_type": "markdown",
   "id": "eeddb7ab",
   "metadata": {},
   "source": [
    "1. is \n",
    "2. is not"
   ]
  },
  {
   "cell_type": "code",
   "execution_count": 65,
   "id": "91cdb4c0",
   "metadata": {},
   "outputs": [],
   "source": [
    "a = 5\n",
    "b = 5"
   ]
  },
  {
   "cell_type": "code",
   "execution_count": 66,
   "id": "2e7f5426",
   "metadata": {},
   "outputs": [
    {
     "data": {
      "text/plain": [
       "True"
      ]
     },
     "execution_count": 66,
     "metadata": {},
     "output_type": "execute_result"
    }
   ],
   "source": [
    "a is b"
   ]
  },
  {
   "cell_type": "code",
   "execution_count": 67,
   "id": "911c66d5",
   "metadata": {},
   "outputs": [
    {
     "data": {
      "text/plain": [
       "False"
      ]
     },
     "execution_count": 67,
     "metadata": {},
     "output_type": "execute_result"
    }
   ],
   "source": [
    "l = [1,2,3]\n",
    "l1 = [1,2,3]\n",
    "l is l1"
   ]
  },
  {
   "cell_type": "code",
   "execution_count": 68,
   "id": "aba26905",
   "metadata": {},
   "outputs": [
    {
     "name": "stdout",
     "output_type": "stream",
     "text": [
      "2488340801968\n"
     ]
    }
   ],
   "source": [
    "print(id(a))"
   ]
  },
  {
   "cell_type": "code",
   "execution_count": 69,
   "id": "37fea534",
   "metadata": {},
   "outputs": [
    {
     "name": "stdout",
     "output_type": "stream",
     "text": [
      "2488340801968\n"
     ]
    }
   ],
   "source": [
    "print(id(b))"
   ]
  },
  {
   "cell_type": "code",
   "execution_count": 72,
   "id": "a38df902",
   "metadata": {},
   "outputs": [
    {
     "data": {
      "text/plain": [
       "False"
      ]
     },
     "execution_count": 72,
     "metadata": {},
     "output_type": "execute_result"
    }
   ],
   "source": [
    "l1 == l #check value\n",
    "l is l1 #check id"
   ]
  },
  {
   "cell_type": "markdown",
   "id": "1ce7ad3b",
   "metadata": {},
   "source": [
    "# Bitwise"
   ]
  },
  {
   "cell_type": "code",
   "execution_count": null,
   "id": "bfa7d49a",
   "metadata": {},
   "outputs": [],
   "source": []
  },
  {
   "cell_type": "code",
   "execution_count": null,
   "id": "bdfa75a8",
   "metadata": {},
   "outputs": [],
   "source": []
  }
 ],
 "metadata": {
  "kernelspec": {
   "display_name": "Python 3 (ipykernel)",
   "language": "python",
   "name": "python3"
  },
  "language_info": {
   "codemirror_mode": {
    "name": "ipython",
    "version": 3
   },
   "file_extension": ".py",
   "mimetype": "text/x-python",
   "name": "python",
   "nbconvert_exporter": "python",
   "pygments_lexer": "ipython3",
   "version": "3.9.7"
  }
 },
 "nbformat": 4,
 "nbformat_minor": 5
}
