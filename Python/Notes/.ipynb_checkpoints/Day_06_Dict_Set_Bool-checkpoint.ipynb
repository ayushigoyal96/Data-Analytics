{
 "cells": [
  {
   "cell_type": "code",
   "execution_count": 1,
   "id": "d8a90b24",
   "metadata": {},
   "outputs": [
    {
     "name": "stdout",
     "output_type": "stream",
     "text": [
      "<class 'dict'> {}\n"
     ]
    }
   ],
   "source": [
    "d = {}\n",
    "print(type(d),d)"
   ]
  },
  {
   "cell_type": "code",
   "execution_count": 2,
   "id": "0882fc3f",
   "metadata": {},
   "outputs": [],
   "source": [
    "d= {'a':1}"
   ]
  },
  {
   "cell_type": "code",
   "execution_count": 3,
   "id": "dcc9c7f4",
   "metadata": {},
   "outputs": [
    {
     "name": "stdout",
     "output_type": "stream",
     "text": [
      "{'a': 1}\n"
     ]
    }
   ],
   "source": [
    "print(d)"
   ]
  },
  {
   "cell_type": "code",
   "execution_count": 4,
   "id": "914dc929",
   "metadata": {},
   "outputs": [],
   "source": [
    "d = {'A':1,'B':2,'C':3,'D':4,'E':5}"
   ]
  },
  {
   "cell_type": "code",
   "execution_count": 5,
   "id": "daf91d29",
   "metadata": {},
   "outputs": [
    {
     "name": "stdout",
     "output_type": "stream",
     "text": [
      "{'A': 1, 'B': 2, 'C': 3, 'D': 4, 'E': 5}\n"
     ]
    }
   ],
   "source": [
    "print(d)"
   ]
  },
  {
   "cell_type": "code",
   "execution_count": 6,
   "id": "29361f73",
   "metadata": {},
   "outputs": [],
   "source": [
    "d1 = {'Name':'Python',\n",
    "      'Purpose':'PL',\n",
    "      'Father':'Guido Van Rossum',\n",
    "      'Versions':[1,2,3],\n",
    "      'FrameWorks':['Django','Flask','Pyramid']}"
   ]
  },
  {
   "cell_type": "code",
   "execution_count": 7,
   "id": "f3f66b14",
   "metadata": {},
   "outputs": [
    {
     "name": "stdout",
     "output_type": "stream",
     "text": [
      "{'Name': 'Python', 'Purpose': 'PL', 'Father': 'Guido Van Rossum', 'Versions': [1, 2, 3], 'FrameWorks': ['Django', 'Flask', 'Pyramid']}\n"
     ]
    }
   ],
   "source": [
    "print(d1)"
   ]
  },
  {
   "cell_type": "code",
   "execution_count": 8,
   "id": "e767da90",
   "metadata": {},
   "outputs": [
    {
     "name": "stdout",
     "output_type": "stream",
     "text": [
      "<class 'dict'>\n"
     ]
    }
   ],
   "source": [
    "print(type(d1))"
   ]
  },
  {
   "cell_type": "code",
   "execution_count": 9,
   "id": "ef8b30c6",
   "metadata": {},
   "outputs": [
    {
     "data": {
      "text/plain": [
       "{'A': 1, 'B': 2, 'C': 3, 'D': 4, 'E': 5}"
      ]
     },
     "execution_count": 9,
     "metadata": {},
     "output_type": "execute_result"
    }
   ],
   "source": [
    "d"
   ]
  },
  {
   "cell_type": "code",
   "execution_count": 10,
   "id": "b7a72dac",
   "metadata": {},
   "outputs": [
    {
     "data": {
      "text/plain": [
       "{'Name': 'Python',\n",
       " 'Purpose': 'PL',\n",
       " 'Father': 'Guido Van Rossum',\n",
       " 'Versions': [1, 2, 3],\n",
       " 'FrameWorks': ['Django', 'Flask', 'Pyramid']}"
      ]
     },
     "execution_count": 10,
     "metadata": {},
     "output_type": "execute_result"
    }
   ],
   "source": [
    "d1"
   ]
  },
  {
   "cell_type": "markdown",
   "id": "de1621b0",
   "metadata": {},
   "source": [
    "#Properties of Dict\n",
    "- Non Sequential\n",
    "- UnOrdered\n",
    "- Mutable"
   ]
  },
  {
   "cell_type": "code",
   "execution_count": 12,
   "id": "658dfc63",
   "metadata": {},
   "outputs": [
    {
     "data": {
      "text/plain": [
       "{'A': 1, 'B': 2, 'C': 3, 'D': 4, 'E': 5}"
      ]
     },
     "execution_count": 12,
     "metadata": {},
     "output_type": "execute_result"
    }
   ],
   "source": [
    "d"
   ]
  },
  {
   "cell_type": "code",
   "execution_count": 13,
   "id": "df0c24df",
   "metadata": {},
   "outputs": [
    {
     "ename": "KeyError",
     "evalue": "0",
     "output_type": "error",
     "traceback": [
      "\u001b[1;31m---------------------------------------------------------------------------\u001b[0m",
      "\u001b[1;31mKeyError\u001b[0m                                  Traceback (most recent call last)",
      "\u001b[1;32m~\\AppData\\Local\\Temp/ipykernel_22320/1089268471.py\u001b[0m in \u001b[0;36m<module>\u001b[1;34m\u001b[0m\n\u001b[1;32m----> 1\u001b[1;33m \u001b[0md\u001b[0m\u001b[1;33m[\u001b[0m\u001b[1;36m0\u001b[0m\u001b[1;33m]\u001b[0m\u001b[1;33m\u001b[0m\u001b[1;33m\u001b[0m\u001b[0m\n\u001b[0m",
      "\u001b[1;31mKeyError\u001b[0m: 0"
     ]
    }
   ],
   "source": [
    "d[0]"
   ]
  },
  {
   "cell_type": "code",
   "execution_count": 14,
   "id": "afbe6b31",
   "metadata": {},
   "outputs": [
    {
     "data": {
      "text/plain": [
       "1"
      ]
     },
     "execution_count": 14,
     "metadata": {},
     "output_type": "execute_result"
    }
   ],
   "source": [
    "d['A']"
   ]
  },
  {
   "cell_type": "code",
   "execution_count": 15,
   "id": "c1e321ce",
   "metadata": {},
   "outputs": [
    {
     "data": {
      "text/plain": [
       "{'A': 1, 'B': 2, 'C': 3, 'D': 4, 'E': 5}"
      ]
     },
     "execution_count": 15,
     "metadata": {},
     "output_type": "execute_result"
    }
   ],
   "source": [
    "d"
   ]
  },
  {
   "cell_type": "code",
   "execution_count": 16,
   "id": "84a7be9f",
   "metadata": {},
   "outputs": [
    {
     "data": {
      "text/plain": [
       "4"
      ]
     },
     "execution_count": 16,
     "metadata": {},
     "output_type": "execute_result"
    }
   ],
   "source": [
    "d['D']"
   ]
  },
  {
   "cell_type": "code",
   "execution_count": 17,
   "id": "d863f5bb",
   "metadata": {},
   "outputs": [
    {
     "data": {
      "text/plain": [
       "5"
      ]
     },
     "execution_count": 17,
     "metadata": {},
     "output_type": "execute_result"
    }
   ],
   "source": [
    "d['E']"
   ]
  },
  {
   "cell_type": "code",
   "execution_count": 18,
   "id": "c65f43e2",
   "metadata": {},
   "outputs": [
    {
     "data": {
      "text/plain": [
       "{'Name': 'Python',\n",
       " 'Purpose': 'PL',\n",
       " 'Father': 'Guido Van Rossum',\n",
       " 'Versions': [1, 2, 3],\n",
       " 'FrameWorks': ['Django', 'Flask', 'Pyramid']}"
      ]
     },
     "execution_count": 18,
     "metadata": {},
     "output_type": "execute_result"
    }
   ],
   "source": [
    "d1"
   ]
  },
  {
   "cell_type": "code",
   "execution_count": 19,
   "id": "6b265f1e",
   "metadata": {},
   "outputs": [
    {
     "data": {
      "text/plain": [
       "'Django'"
      ]
     },
     "execution_count": 19,
     "metadata": {},
     "output_type": "execute_result"
    }
   ],
   "source": [
    "d1['FrameWorks'][0]"
   ]
  },
  {
   "cell_type": "code",
   "execution_count": 21,
   "id": "735ab734",
   "metadata": {},
   "outputs": [
    {
     "data": {
      "text/plain": [
       "[3, 2, 1]"
      ]
     },
     "execution_count": 21,
     "metadata": {},
     "output_type": "execute_result"
    }
   ],
   "source": [
    "d1['Versions'][::-1]"
   ]
  },
  {
   "cell_type": "code",
   "execution_count": 23,
   "id": "48b660b1",
   "metadata": {},
   "outputs": [
    {
     "data": {
      "text/plain": [
       "{'A': 1, 'B': 2, 'C': 3, 'D': 4, 'E': 5}"
      ]
     },
     "execution_count": 23,
     "metadata": {},
     "output_type": "execute_result"
    }
   ],
   "source": [
    "d"
   ]
  },
  {
   "cell_type": "code",
   "execution_count": 25,
   "id": "4dfb74fd",
   "metadata": {},
   "outputs": [],
   "source": [
    "d['E']=1"
   ]
  },
  {
   "cell_type": "code",
   "execution_count": 26,
   "id": "74ed47ac",
   "metadata": {},
   "outputs": [
    {
     "data": {
      "text/plain": [
       "{'A': 1, 'B': 2, 'C': 3, 'D': 4, 'E': 1}"
      ]
     },
     "execution_count": 26,
     "metadata": {},
     "output_type": "execute_result"
    }
   ],
   "source": [
    "d"
   ]
  },
  {
   "cell_type": "code",
   "execution_count": 27,
   "id": "b00348d1",
   "metadata": {},
   "outputs": [
    {
     "name": "stdout",
     "output_type": "stream",
     "text": [
      "{'A': 5, 'B': 7}\n"
     ]
    }
   ],
   "source": [
    "d2 = {'A':2,'B':3,'A':5,'B':7}\n",
    "print(d2)"
   ]
  },
  {
   "cell_type": "code",
   "execution_count": 28,
   "id": "9e719125",
   "metadata": {},
   "outputs": [],
   "source": [
    "# keys must be unique"
   ]
  },
  {
   "cell_type": "code",
   "execution_count": 29,
   "id": "eed1a005",
   "metadata": {},
   "outputs": [
    {
     "name": "stdout",
     "output_type": "stream",
     "text": [
      "['__class__', '__class_getitem__', '__contains__', '__delattr__', '__delitem__', '__dir__', '__doc__', '__eq__', '__format__', '__ge__', '__getattribute__', '__getitem__', '__gt__', '__hash__', '__init__', '__init_subclass__', '__ior__', '__iter__', '__le__', '__len__', '__lt__', '__ne__', '__new__', '__or__', '__reduce__', '__reduce_ex__', '__repr__', '__reversed__', '__ror__', '__setattr__', '__setitem__', '__sizeof__', '__str__', '__subclasshook__', 'clear', 'copy', 'fromkeys', 'get', 'items', 'keys', 'pop', 'popitem', 'setdefault', 'update', 'values']\n"
     ]
    }
   ],
   "source": [
    "print(dir(d))"
   ]
  },
  {
   "cell_type": "code",
   "execution_count": 30,
   "id": "21ac3b34",
   "metadata": {},
   "outputs": [],
   "source": [
    "l = dir(d)"
   ]
  },
  {
   "cell_type": "code",
   "execution_count": 33,
   "id": "98e22032",
   "metadata": {},
   "outputs": [
    {
     "name": "stdout",
     "output_type": "stream",
     "text": [
      "34\n"
     ]
    }
   ],
   "source": [
    "print(l.index('clear'))"
   ]
  },
  {
   "cell_type": "code",
   "execution_count": 5,
   "id": "460fa885",
   "metadata": {},
   "outputs": [
    {
     "ename": "NameError",
     "evalue": "name 'l' is not defined",
     "output_type": "error",
     "traceback": [
      "\u001b[1;31m---------------------------------------------------------------------------\u001b[0m",
      "\u001b[1;31mNameError\u001b[0m                                 Traceback (most recent call last)",
      "\u001b[1;32m~\\AppData\\Local\\Temp/ipykernel_26564/2334805784.py\u001b[0m in \u001b[0;36m<module>\u001b[1;34m\u001b[0m\n\u001b[1;32m----> 1\u001b[1;33m \u001b[0mprint\u001b[0m\u001b[1;33m(\u001b[0m\u001b[0ml\u001b[0m\u001b[1;33m[\u001b[0m\u001b[0ml\u001b[0m\u001b[1;33m.\u001b[0m\u001b[0mindex\u001b[0m\u001b[1;33m(\u001b[0m\u001b[1;34m'clear'\u001b[0m\u001b[1;33m)\u001b[0m\u001b[1;33m:\u001b[0m\u001b[1;33m:\u001b[0m\u001b[1;33m]\u001b[0m\u001b[1;33m)\u001b[0m\u001b[1;33m\u001b[0m\u001b[1;33m\u001b[0m\u001b[0m\n\u001b[0m",
      "\u001b[1;31mNameError\u001b[0m: name 'l' is not defined"
     ]
    }
   ],
   "source": [
    "print(l[l.index('clear')::])"
   ]
  },
  {
   "cell_type": "code",
   "execution_count": 37,
   "id": "22d87c4a",
   "metadata": {},
   "outputs": [],
   "source": [
    "f = d.copy()"
   ]
  },
  {
   "cell_type": "code",
   "execution_count": 38,
   "id": "4a638c69",
   "metadata": {},
   "outputs": [
    {
     "data": {
      "text/plain": [
       "{'A': 1, 'B': 2, 'C': 3, 'D': 4, 'E': 1}"
      ]
     },
     "execution_count": 38,
     "metadata": {},
     "output_type": "execute_result"
    }
   ],
   "source": [
    "f"
   ]
  },
  {
   "cell_type": "code",
   "execution_count": 39,
   "id": "3eee64fc",
   "metadata": {},
   "outputs": [
    {
     "data": {
      "text/plain": [
       "{'A': 1, 'B': 2, 'C': 3, 'D': 4, 'E': 1}"
      ]
     },
     "execution_count": 39,
     "metadata": {},
     "output_type": "execute_result"
    }
   ],
   "source": [
    "d"
   ]
  },
  {
   "cell_type": "code",
   "execution_count": 43,
   "id": "456cd878",
   "metadata": {},
   "outputs": [
    {
     "data": {
      "text/plain": [
       "{'P': 0, 'y': 0, 't': 0, 'h': 0, 'o': 0, 'n': 0}"
      ]
     },
     "execution_count": 43,
     "metadata": {},
     "output_type": "execute_result"
    }
   ],
   "source": [
    "{}.fromkeys(\"Python\",0)"
   ]
  },
  {
   "cell_type": "code",
   "execution_count": 44,
   "id": "e0158f34",
   "metadata": {},
   "outputs": [
    {
     "data": {
      "text/plain": [
       "{'Hi': None, 'hello': None, 'bye': None}"
      ]
     },
     "execution_count": 44,
     "metadata": {},
     "output_type": "execute_result"
    }
   ],
   "source": [
    "{}.fromkeys(['Hi','hello','bye'])"
   ]
  },
  {
   "cell_type": "code",
   "execution_count": 45,
   "id": "fe46b6ca",
   "metadata": {},
   "outputs": [
    {
     "data": {
      "text/plain": [
       "1"
      ]
     },
     "execution_count": 45,
     "metadata": {},
     "output_type": "execute_result"
    }
   ],
   "source": [
    "d['A']"
   ]
  },
  {
   "cell_type": "code",
   "execution_count": 46,
   "id": "4eb120bb",
   "metadata": {},
   "outputs": [
    {
     "data": {
      "text/plain": [
       "3"
      ]
     },
     "execution_count": 46,
     "metadata": {},
     "output_type": "execute_result"
    }
   ],
   "source": [
    "d.get('C')"
   ]
  },
  {
   "cell_type": "code",
   "execution_count": 49,
   "id": "0abd27c4",
   "metadata": {},
   "outputs": [
    {
     "data": {
      "text/plain": [
       "5"
      ]
     },
     "execution_count": 49,
     "metadata": {},
     "output_type": "execute_result"
    }
   ],
   "source": [
    "d.setdefault('Z',5)"
   ]
  },
  {
   "cell_type": "code",
   "execution_count": 50,
   "id": "6d0adde6",
   "metadata": {},
   "outputs": [
    {
     "data": {
      "text/plain": [
       "{'A': 1, 'B': 2, 'C': 3, 'D': 4, 'E': 1, 'Z': 5}"
      ]
     },
     "execution_count": 50,
     "metadata": {},
     "output_type": "execute_result"
    }
   ],
   "source": [
    "d"
   ]
  },
  {
   "cell_type": "code",
   "execution_count": 51,
   "id": "854f90be",
   "metadata": {},
   "outputs": [
    {
     "data": {
      "text/plain": [
       "dict_keys(['A', 'B', 'C', 'D', 'E', 'Z'])"
      ]
     },
     "execution_count": 51,
     "metadata": {},
     "output_type": "execute_result"
    }
   ],
   "source": [
    "d.keys()"
   ]
  },
  {
   "cell_type": "code",
   "execution_count": 52,
   "id": "d6258047",
   "metadata": {},
   "outputs": [
    {
     "data": {
      "text/plain": [
       "dict_values([1, 2, 3, 4, 1, 5])"
      ]
     },
     "execution_count": 52,
     "metadata": {},
     "output_type": "execute_result"
    }
   ],
   "source": [
    "d.values()"
   ]
  },
  {
   "cell_type": "code",
   "execution_count": 53,
   "id": "931ad377",
   "metadata": {},
   "outputs": [
    {
     "data": {
      "text/plain": [
       "dict_items([('A', 1), ('B', 2), ('C', 3), ('D', 4), ('E', 1), ('Z', 5)])"
      ]
     },
     "execution_count": 53,
     "metadata": {},
     "output_type": "execute_result"
    }
   ],
   "source": [
    "d.items()"
   ]
  },
  {
   "cell_type": "code",
   "execution_count": 54,
   "id": "7665fe08",
   "metadata": {},
   "outputs": [
    {
     "data": {
      "text/plain": [
       "{'A': 1, 'B': 2, 'C': 3, 'D': 4, 'E': 1, 'Z': 5}"
      ]
     },
     "execution_count": 54,
     "metadata": {},
     "output_type": "execute_result"
    }
   ],
   "source": [
    "d"
   ]
  },
  {
   "cell_type": "code",
   "execution_count": 55,
   "id": "acdb6008",
   "metadata": {},
   "outputs": [],
   "source": [
    "d.update([('Z',33),('C',5),('F',23)])"
   ]
  },
  {
   "cell_type": "code",
   "execution_count": 56,
   "id": "a090eaac",
   "metadata": {},
   "outputs": [
    {
     "data": {
      "text/plain": [
       "{'A': 1, 'B': 2, 'C': 5, 'D': 4, 'E': 1, 'Z': 33, 'F': 23}"
      ]
     },
     "execution_count": 56,
     "metadata": {},
     "output_type": "execute_result"
    }
   ],
   "source": [
    "d"
   ]
  },
  {
   "cell_type": "code",
   "execution_count": 58,
   "id": "e6c22b52",
   "metadata": {},
   "outputs": [
    {
     "data": {
      "text/plain": [
       "23"
      ]
     },
     "execution_count": 58,
     "metadata": {},
     "output_type": "execute_result"
    }
   ],
   "source": [
    "d.pop('F')"
   ]
  },
  {
   "cell_type": "code",
   "execution_count": 59,
   "id": "6a381a77",
   "metadata": {},
   "outputs": [
    {
     "data": {
      "text/plain": [
       "{'A': 1, 'B': 2, 'C': 5, 'D': 4, 'E': 1, 'Z': 33}"
      ]
     },
     "execution_count": 59,
     "metadata": {},
     "output_type": "execute_result"
    }
   ],
   "source": [
    "d"
   ]
  },
  {
   "cell_type": "code",
   "execution_count": 60,
   "id": "3f3df6f5",
   "metadata": {},
   "outputs": [
    {
     "data": {
      "text/plain": [
       "('Z', 33)"
      ]
     },
     "execution_count": 60,
     "metadata": {},
     "output_type": "execute_result"
    }
   ],
   "source": [
    "d.popitem()"
   ]
  },
  {
   "cell_type": "code",
   "execution_count": 61,
   "id": "b42ac0fa",
   "metadata": {},
   "outputs": [
    {
     "data": {
      "text/plain": [
       "{'A': 1, 'B': 2, 'C': 5, 'D': 4, 'E': 1}"
      ]
     },
     "execution_count": 61,
     "metadata": {},
     "output_type": "execute_result"
    }
   ],
   "source": [
    "d"
   ]
  },
  {
   "cell_type": "code",
   "execution_count": 62,
   "id": "c0938eb8",
   "metadata": {},
   "outputs": [],
   "source": [
    "#NESTED DICTIONARY"
   ]
  },
  {
   "cell_type": "code",
   "execution_count": 63,
   "id": "1c31adae",
   "metadata": {},
   "outputs": [],
   "source": [
    "d = {'Grras':{'Course':{'Python':{'Trainer':['Ravi Ramawat','Simran Grover','Sachin Yadav']},'Linux':{'Trainer':['Rajat Goyal','Yadvendra Singh']},'BA':{'Trainer':'Ravi Ramawat'},'Full Stack':{'Trainer':['Ravi','Shubham']}}}}"
   ]
  },
  {
   "cell_type": "code",
   "execution_count": 64,
   "id": "02de236c",
   "metadata": {},
   "outputs": [
    {
     "name": "stdout",
     "output_type": "stream",
     "text": [
      "{'Grras': {'Course': {'Python': {'Trainer': ['Ravi Ramawat', 'Simran Grover', 'Sachin Yadav']}, 'Linux': {'Trainer': ['Rajat Goyal', 'Yadvendra Singh']}, 'BA': {'Trainer': 'Ravi Ramawat'}, 'Full Stack': {'Trainer': ['Ravi', 'Shubham']}}}}\n"
     ]
    }
   ],
   "source": [
    "print(d)"
   ]
  },
  {
   "cell_type": "code",
   "execution_count": 65,
   "id": "f47d221e",
   "metadata": {},
   "outputs": [],
   "source": [
    "from pprint import pprint"
   ]
  },
  {
   "cell_type": "code",
   "execution_count": 66,
   "id": "9164fdac",
   "metadata": {},
   "outputs": [
    {
     "name": "stdout",
     "output_type": "stream",
     "text": [
      "{'Grras': {'Course': {'BA': {'Trainer': 'Ravi Ramawat'},\n",
      "                      'Full Stack': {'Trainer': ['Ravi', 'Shubham']},\n",
      "                      'Linux': {'Trainer': ['Rajat Goyal', 'Yadvendra Singh']},\n",
      "                      'Python': {'Trainer': ['Ravi Ramawat',\n",
      "                                             'Simran Grover',\n",
      "                                             'Sachin Yadav']}}}}\n"
     ]
    }
   ],
   "source": [
    "pprint(d)"
   ]
  },
  {
   "cell_type": "code",
   "execution_count": 67,
   "id": "d518aaee",
   "metadata": {},
   "outputs": [
    {
     "data": {
      "text/plain": [
       "dict_keys(['Grras'])"
      ]
     },
     "execution_count": 67,
     "metadata": {},
     "output_type": "execute_result"
    }
   ],
   "source": [
    "d.keys()"
   ]
  },
  {
   "cell_type": "code",
   "execution_count": 71,
   "id": "a91c89a2",
   "metadata": {},
   "outputs": [
    {
     "data": {
      "text/plain": [
       "{'Course': {'Python': {'Trainer': ['Ravi Ramawat',\n",
       "    'Simran Grover',\n",
       "    'Sachin Yadav']},\n",
       "  'Linux': {'Trainer': ['Rajat Goyal', 'Yadvendra Singh']},\n",
       "  'BA': {'Trainer': 'Ravi Ramawat'},\n",
       "  'Full Stack': {'Trainer': ['Ravi', 'Shubham']}}}"
      ]
     },
     "execution_count": 71,
     "metadata": {},
     "output_type": "execute_result"
    }
   ],
   "source": [
    "d['Grras']"
   ]
  },
  {
   "cell_type": "code",
   "execution_count": 74,
   "id": "345b15b9",
   "metadata": {},
   "outputs": [
    {
     "data": {
      "text/plain": [
       "'Simran Grover'"
      ]
     },
     "execution_count": 74,
     "metadata": {},
     "output_type": "execute_result"
    }
   ],
   "source": [
    "d['Grras']['Course']['Python']['Trainer'][1]"
   ]
  },
  {
   "cell_type": "code",
   "execution_count": 83,
   "id": "6e3d2ab4",
   "metadata": {},
   "outputs": [],
   "source": [
    "s = \"Hello hi in bye area bus a land bike island there inovation\""
   ]
  },
  {
   "cell_type": "code",
   "execution_count": 86,
   "id": "180cd8f4",
   "metadata": {},
   "outputs": [
    {
     "data": {
      "text/plain": [
       "'Hello hi bye area bus land bike island there inovation'"
      ]
     },
     "execution_count": 86,
     "metadata": {},
     "output_type": "execute_result"
    }
   ],
   "source": [
    "s.replace(' a ',' ').replace(' in ',' ')"
   ]
  },
  {
   "cell_type": "markdown",
   "id": "ceed25c9",
   "metadata": {},
   "source": [
    "# Set"
   ]
  },
  {
   "cell_type": "markdown",
   "id": "93fc034e",
   "metadata": {},
   "source": [
    "It is collection of well defined object"
   ]
  },
  {
   "cell_type": "code",
   "execution_count": 88,
   "id": "85360519",
   "metadata": {},
   "outputs": [
    {
     "name": "stdout",
     "output_type": "stream",
     "text": [
      "<class 'set'>\n"
     ]
    }
   ],
   "source": [
    "s = set({})\n",
    "print(type(s))"
   ]
  },
  {
   "cell_type": "code",
   "execution_count": 89,
   "id": "b4089d65",
   "metadata": {},
   "outputs": [
    {
     "name": "stdout",
     "output_type": "stream",
     "text": [
      "{1, 2, 3, 4, 5, 6, 7, 8, 33, 22}\n"
     ]
    }
   ],
   "source": [
    "s = {1,2,3,4,5,6,7,8,1,1,1,1,1,2,22,2,2,2,2,3,3,3,3,3,33}\n",
    "print(s)"
   ]
  },
  {
   "cell_type": "markdown",
   "id": "9eca4904",
   "metadata": {},
   "source": [
    "- Non Sequential\n",
    "- UnOrdered\n",
    "- Mutable"
   ]
  },
  {
   "cell_type": "code",
   "execution_count": 90,
   "id": "347b53c5",
   "metadata": {},
   "outputs": [],
   "source": [
    "s = {'Sun','Mon','Tue','Wed','Thu','Fri','Sat'}"
   ]
  },
  {
   "cell_type": "code",
   "execution_count": 91,
   "id": "3c87e25b",
   "metadata": {},
   "outputs": [
    {
     "name": "stdout",
     "output_type": "stream",
     "text": [
      "{'Mon', 'Fri', 'Tue', 'Sat', 'Thu', 'Sun', 'Wed'}\n"
     ]
    }
   ],
   "source": [
    "print(s)"
   ]
  },
  {
   "cell_type": "code",
   "execution_count": 92,
   "id": "bc11c64c",
   "metadata": {},
   "outputs": [
    {
     "ename": "TypeError",
     "evalue": "'set' object is not subscriptable",
     "output_type": "error",
     "traceback": [
      "\u001b[1;31m---------------------------------------------------------------------------\u001b[0m",
      "\u001b[1;31mTypeError\u001b[0m                                 Traceback (most recent call last)",
      "\u001b[1;32m~\\AppData\\Local\\Temp/ipykernel_22320/878419959.py\u001b[0m in \u001b[0;36m<module>\u001b[1;34m\u001b[0m\n\u001b[1;32m----> 1\u001b[1;33m \u001b[0ms\u001b[0m\u001b[1;33m[\u001b[0m\u001b[1;36m1\u001b[0m\u001b[1;33m]\u001b[0m\u001b[1;33m\u001b[0m\u001b[1;33m\u001b[0m\u001b[0m\n\u001b[0m",
      "\u001b[1;31mTypeError\u001b[0m: 'set' object is not subscriptable"
     ]
    }
   ],
   "source": [
    "s[1]"
   ]
  },
  {
   "cell_type": "code",
   "execution_count": 93,
   "id": "26224f09",
   "metadata": {},
   "outputs": [],
   "source": [
    "#venn diagrams"
   ]
  },
  {
   "cell_type": "code",
   "execution_count": 94,
   "id": "5fe75d32",
   "metadata": {},
   "outputs": [],
   "source": [
    "a = {1,2,3,4}\n",
    "b = {4,5,6,7}"
   ]
  },
  {
   "cell_type": "code",
   "execution_count": 95,
   "id": "d752e252",
   "metadata": {},
   "outputs": [
    {
     "data": {
      "text/plain": [
       "{1, 2, 3, 4, 5, 6, 7}"
      ]
     },
     "execution_count": 95,
     "metadata": {},
     "output_type": "execute_result"
    }
   ],
   "source": [
    "a.union(b)"
   ]
  },
  {
   "cell_type": "code",
   "execution_count": 96,
   "id": "41879fc2",
   "metadata": {},
   "outputs": [
    {
     "data": {
      "text/plain": [
       "{4}"
      ]
     },
     "execution_count": 96,
     "metadata": {},
     "output_type": "execute_result"
    }
   ],
   "source": [
    "a.intersection(b)"
   ]
  },
  {
   "cell_type": "code",
   "execution_count": 97,
   "id": "90122610",
   "metadata": {},
   "outputs": [
    {
     "data": {
      "text/plain": [
       "{1, 2, 3}"
      ]
     },
     "execution_count": 97,
     "metadata": {},
     "output_type": "execute_result"
    }
   ],
   "source": [
    "a.difference(b)"
   ]
  },
  {
   "cell_type": "code",
   "execution_count": 98,
   "id": "b02f7280",
   "metadata": {},
   "outputs": [
    {
     "data": {
      "text/plain": [
       "{1, 2, 3, 4}"
      ]
     },
     "execution_count": 98,
     "metadata": {},
     "output_type": "execute_result"
    }
   ],
   "source": [
    "a"
   ]
  },
  {
   "cell_type": "code",
   "execution_count": 99,
   "id": "d2e3f667",
   "metadata": {},
   "outputs": [
    {
     "data": {
      "text/plain": [
       "{4, 5, 6, 7}"
      ]
     },
     "execution_count": 99,
     "metadata": {},
     "output_type": "execute_result"
    }
   ],
   "source": [
    "b"
   ]
  },
  {
   "cell_type": "code",
   "execution_count": 100,
   "id": "f59a5fe7",
   "metadata": {},
   "outputs": [
    {
     "data": {
      "text/plain": [
       "{5, 6, 7}"
      ]
     },
     "execution_count": 100,
     "metadata": {},
     "output_type": "execute_result"
    }
   ],
   "source": [
    "b.difference(a)"
   ]
  },
  {
   "cell_type": "code",
   "execution_count": 101,
   "id": "81ea5cf4",
   "metadata": {},
   "outputs": [
    {
     "data": {
      "text/plain": [
       "{1, 2, 3, 5, 6, 7}"
      ]
     },
     "execution_count": 101,
     "metadata": {},
     "output_type": "execute_result"
    }
   ],
   "source": [
    "a.symmetric_difference(b)"
   ]
  },
  {
   "cell_type": "code",
   "execution_count": 102,
   "id": "f6f04c7c",
   "metadata": {},
   "outputs": [],
   "source": [
    "a.discard(4)"
   ]
  },
  {
   "cell_type": "code",
   "execution_count": 103,
   "id": "85403acd",
   "metadata": {},
   "outputs": [
    {
     "data": {
      "text/plain": [
       "{1, 2, 3}"
      ]
     },
     "execution_count": 103,
     "metadata": {},
     "output_type": "execute_result"
    }
   ],
   "source": [
    "a"
   ]
  },
  {
   "cell_type": "code",
   "execution_count": 104,
   "id": "c5e5aa47",
   "metadata": {},
   "outputs": [],
   "source": [
    "a.remove(3)"
   ]
  },
  {
   "cell_type": "code",
   "execution_count": 105,
   "id": "378096fe",
   "metadata": {},
   "outputs": [
    {
     "data": {
      "text/plain": [
       "{1, 2}"
      ]
     },
     "execution_count": 105,
     "metadata": {},
     "output_type": "execute_result"
    }
   ],
   "source": [
    "a"
   ]
  },
  {
   "cell_type": "code",
   "execution_count": 106,
   "id": "b70a0179",
   "metadata": {},
   "outputs": [],
   "source": [
    "a.add(99)"
   ]
  },
  {
   "cell_type": "code",
   "execution_count": 107,
   "id": "c21a8264",
   "metadata": {},
   "outputs": [
    {
     "data": {
      "text/plain": [
       "{1, 2, 99}"
      ]
     },
     "execution_count": 107,
     "metadata": {},
     "output_type": "execute_result"
    }
   ],
   "source": [
    "a"
   ]
  },
  {
   "cell_type": "code",
   "execution_count": 108,
   "id": "09df8bc3",
   "metadata": {},
   "outputs": [],
   "source": [
    "#immutable set --> frozen set"
   ]
  },
  {
   "cell_type": "code",
   "execution_count": 109,
   "id": "1bb8e9cb",
   "metadata": {},
   "outputs": [],
   "source": [
    "s = frozenset({1,2,3,4,5})"
   ]
  },
  {
   "cell_type": "code",
   "execution_count": 110,
   "id": "41df9b25",
   "metadata": {},
   "outputs": [
    {
     "data": {
      "text/plain": [
       "frozenset({1, 2, 3, 4, 5})"
      ]
     },
     "execution_count": 110,
     "metadata": {},
     "output_type": "execute_result"
    }
   ],
   "source": [
    "s"
   ]
  },
  {
   "cell_type": "markdown",
   "id": "bb3bcef8",
   "metadata": {},
   "source": [
    "# Boolean "
   ]
  },
  {
   "cell_type": "markdown",
   "id": "59ec2381",
   "metadata": {},
   "source": [
    "1. True\n",
    "2. False"
   ]
  }
 ],
 "metadata": {
  "kernelspec": {
   "display_name": "Python 3 (ipykernel)",
   "language": "python",
   "name": "python3"
  },
  "language_info": {
   "codemirror_mode": {
    "name": "ipython",
    "version": 3
   },
   "file_extension": ".py",
   "mimetype": "text/x-python",
   "name": "python",
   "nbconvert_exporter": "python",
   "pygments_lexer": "ipython3",
   "version": "3.9.7"
  }
 },
 "nbformat": 4,
 "nbformat_minor": 5
}
