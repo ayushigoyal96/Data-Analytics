{
 "cells": [
  {
   "cell_type": "code",
   "execution_count": 3,
   "id": "18543952",
   "metadata": {},
   "outputs": [
    {
     "name": "stdout",
     "output_type": "stream",
     "text": [
      "Enter no. of lines --> 5\n",
      "* \n",
      "* * \n",
      "* * * \n",
      "* * * * \n",
      "* * * * * \n"
     ]
    }
   ],
   "source": [
    "n = int(input(\"Enter no. of lines --> \"))\n",
    "i = 0\n",
    "while i<n:\n",
    "    j = 0\n",
    "    while j<=i:\n",
    "        print(\"*\",end=\" \")\n",
    "        j+=1\n",
    "    print()\n",
    "    i+=1"
   ]
  },
  {
   "cell_type": "markdown",
   "id": "1589a3d8",
   "metadata": {},
   "source": [
    "### For Loop "
   ]
  },
  {
   "cell_type": "code",
   "execution_count": 4,
   "id": "01b221f9",
   "metadata": {},
   "outputs": [
    {
     "name": "stdout",
     "output_type": "stream",
     "text": [
      "1\n",
      "0\n"
     ]
    }
   ],
   "source": [
    "n = int(input())\n",
    "print(1-n)"
   ]
  },
  {
   "cell_type": "markdown",
   "id": "5de630cf",
   "metadata": {},
   "source": [
    "    for var in iterable:\n",
    "        statement...1\n",
    "        .............\n",
    "        .............\n",
    "        .............\n",
    "        ............n"
   ]
  },
  {
   "cell_type": "code",
   "execution_count": 8,
   "id": "8f0a6839",
   "metadata": {},
   "outputs": [
    {
     "name": "stdout",
     "output_type": "stream",
     "text": [
      "PPPPPPPPPPPPPPPPPPPPPP\n",
      "yyyyyyyyyyyyyyyyyyyyyy\n",
      "tttttttttttttttttttttt\n",
      "hhhhhhhhhhhhhhhhhhhhhh\n",
      "oooooooooooooooooooooo\n",
      "nnnnnnnnnnnnnnnnnnnnnn\n"
     ]
    }
   ],
   "source": [
    "for i in \"Python\":\n",
    "    print(i*22)"
   ]
  },
  {
   "cell_type": "code",
   "execution_count": 9,
   "id": "874e960c",
   "metadata": {},
   "outputs": [
    {
     "name": "stdout",
     "output_type": "stream",
     "text": [
      "12\n",
      "312\n",
      "4\n",
      "32\n",
      "543\n",
      "6\n",
      "546\n",
      "53\n",
      "4\n",
      "123\n"
     ]
    }
   ],
   "source": [
    "l  = [12,312,4,32,543,6,546,53,4,123]\n",
    "for var in l:\n",
    "    print(var)"
   ]
  },
  {
   "cell_type": "code",
   "execution_count": 10,
   "id": "d3e03e55",
   "metadata": {},
   "outputs": [
    {
     "name": "stdout",
     "output_type": "stream",
     "text": [
      "Python is Awesome\n",
      "Python is Awesome\n",
      "Python is Awesome\n",
      "Python is Awesome\n",
      "Python is Awesome\n"
     ]
    }
   ],
   "source": [
    "for var in \"Naman\":\n",
    "    print(\"Python is Awesome\")"
   ]
  },
  {
   "cell_type": "code",
   "execution_count": 14,
   "id": "35197f2b",
   "metadata": {},
   "outputs": [
    {
     "name": "stdout",
     "output_type": "stream",
     "text": [
      "a --> 10\n",
      "b --> 20\n",
      "c --> 30\n",
      "d --> 40\n"
     ]
    }
   ],
   "source": [
    "d = {'a':10,'b':20,'c':30,'d':40}\n",
    "for var in d:\n",
    "    print(var,\"-->\", d[var])"
   ]
  },
  {
   "cell_type": "code",
   "execution_count": 15,
   "id": "ebac65f6",
   "metadata": {},
   "outputs": [
    {
     "name": "stdout",
     "output_type": "stream",
     "text": [
      "a --> 10\n",
      "b --> 20\n",
      "c --> 30\n",
      "d --> 40\n"
     ]
    }
   ],
   "source": [
    "d = {'a':10,'b':20,'c':30,'d':40}\n",
    "for key,value in d.items():\n",
    "    print(key,\"-->\", value)"
   ]
  },
  {
   "cell_type": "code",
   "execution_count": 16,
   "id": "04dbd288",
   "metadata": {},
   "outputs": [
    {
     "data": {
      "text/plain": [
       "dict_items([('a', 10), ('b', 20), ('c', 30), ('d', 40)])"
      ]
     },
     "execution_count": 16,
     "metadata": {},
     "output_type": "execute_result"
    }
   ],
   "source": [
    "d.items()"
   ]
  },
  {
   "cell_type": "code",
   "execution_count": 17,
   "id": "760ff365",
   "metadata": {},
   "outputs": [
    {
     "name": "stdout",
     "output_type": "stream",
     "text": [
      "Tue\n",
      "Thu\n",
      "Mon\n",
      "Wed\n",
      "Sat\n",
      "Fri\n",
      "Sun\n"
     ]
    }
   ],
   "source": [
    "s = {'Mon','Tue','Wed','Thu','Fri','Sat','Sun'}\n",
    "for var in s:\n",
    "    print(var)"
   ]
  },
  {
   "cell_type": "code",
   "execution_count": 18,
   "id": "208f32b5",
   "metadata": {},
   "outputs": [
    {
     "ename": "TypeError",
     "evalue": "'int' object is not iterable",
     "output_type": "error",
     "traceback": [
      "\u001b[1;31m---------------------------------------------------------------------------\u001b[0m",
      "\u001b[1;31mTypeError\u001b[0m                                 Traceback (most recent call last)",
      "\u001b[1;32m~\\AppData\\Local\\Temp/ipykernel_17820/2579551425.py\u001b[0m in \u001b[0;36m<module>\u001b[1;34m\u001b[0m\n\u001b[1;32m----> 1\u001b[1;33m \u001b[1;32mfor\u001b[0m \u001b[0mvar\u001b[0m \u001b[1;32min\u001b[0m \u001b[1;36m123\u001b[0m\u001b[1;33m:\u001b[0m\u001b[1;33m\u001b[0m\u001b[1;33m\u001b[0m\u001b[0m\n\u001b[0m\u001b[0;32m      2\u001b[0m     \u001b[0mprint\u001b[0m\u001b[1;33m(\u001b[0m\u001b[0mvar\u001b[0m\u001b[1;33m)\u001b[0m\u001b[1;33m\u001b[0m\u001b[1;33m\u001b[0m\u001b[0m\n",
      "\u001b[1;31mTypeError\u001b[0m: 'int' object is not iterable"
     ]
    }
   ],
   "source": [
    "for var in 123:\n",
    "    print(var)"
   ]
  },
  {
   "cell_type": "code",
   "execution_count": 2,
   "id": "5f0392e7",
   "metadata": {},
   "outputs": [
    {
     "name": "stdout",
     "output_type": "stream",
     "text": [
      "1 2 3 4 5 6 7 8 9 10 <class 'range'>\n"
     ]
    }
   ],
   "source": [
    "a = range(1,11)\n",
    "print(*a,type(a))"
   ]
  },
  {
   "cell_type": "code",
   "execution_count": 22,
   "id": "3b9363b8",
   "metadata": {},
   "outputs": [
    {
     "name": "stdout",
     "output_type": "stream",
     "text": [
      "1\t2\t3\t4\t5\t6\t7\t8\t9\t10\t"
     ]
    }
   ],
   "source": [
    "for var in a:\n",
    "    print(var,end=\"\\t\")"
   ]
  },
  {
   "cell_type": "code",
   "execution_count": 25,
   "id": "5b529b00",
   "metadata": {},
   "outputs": [
    {
     "name": "stdout",
     "output_type": "stream",
     "text": [
      "1 Hello World\t2 Hello World\t3 Hello World\t4 Hello World\t5 Hello World\t6 Hello World\t7 Hello World\t8 Hello World\t9 Hello World\t10 Hello World\t11 Hello World\t12 Hello World\t13 Hello World\t14 Hello World\t15 Hello World\t16 Hello World\t17 Hello World\t18 Hello World\t19 Hello World\t20 Hello World\t21 Hello World\t22 Hello World\t23 Hello World\t24 Hello World\t25 Hello World\t26 Hello World\t27 Hello World\t28 Hello World\t29 Hello World\t30 Hello World\t31 Hello World\t32 Hello World\t33 Hello World\t34 Hello World\t35 Hello World\t36 Hello World\t37 Hello World\t38 Hello World\t39 Hello World\t40 Hello World\t41 Hello World\t42 Hello World\t43 Hello World\t44 Hello World\t45 Hello World\t46 Hello World\t47 Hello World\t48 Hello World\t49 Hello World\t50 Hello World\t"
     ]
    }
   ],
   "source": [
    "for var in range(1,51):\n",
    "    print(var,\"Hello World\",end=\"\\t\")"
   ]
  },
  {
   "cell_type": "code",
   "execution_count": 26,
   "id": "ccb5bc41",
   "metadata": {},
   "outputs": [],
   "source": [
    "l = [123,1,32,5,346,2,4,12,4,235,2,3,4]"
   ]
  },
  {
   "cell_type": "code",
   "execution_count": 28,
   "id": "27e7fbc8",
   "metadata": {},
   "outputs": [
    {
     "name": "stdout",
     "output_type": "stream",
     "text": [
      "123\t1\t32\t5\t346\t2\t4\t12\t4\t235\t2\t3\t4\t"
     ]
    }
   ],
   "source": [
    "for var in l:\n",
    "    print(var,end=\"\\t\")"
   ]
  },
  {
   "cell_type": "code",
   "execution_count": 30,
   "id": "2acc7129",
   "metadata": {},
   "outputs": [
    {
     "name": "stdout",
     "output_type": "stream",
     "text": [
      "123\t1\t32\t5\t346\t2\t4\t12\t4\t235\t2\t3\t4\t"
     ]
    }
   ],
   "source": [
    "for var in range(len(l)):\n",
    "    print(l[var],end=\"\\t\")"
   ]
  },
  {
   "cell_type": "code",
   "execution_count": 31,
   "id": "31645671",
   "metadata": {},
   "outputs": [
    {
     "name": "stdout",
     "output_type": "stream",
     "text": [
      "100 99 98 97 96 95 94 93 92 91 90 89 88 87 86 85 84 83 82 81 80 79 78 77 76 75 74 73 72 71 70 69 68 67 66 65 64 63 62 61 60 59 58 57 56 55 54 53 52 51 50 49 48 47 46 45 44 43 42 41 40 39 38 37 36 35 34 33 32 31 30 29 28 27 26 25 24 23 22 21 20 19 18 17 16 15 14 13 12 11 10 9 8 7 6 5 4 3 2 1 0 "
     ]
    }
   ],
   "source": [
    "for var in range(100,-1,-1):\n",
    "    print(var,end=\" \")"
   ]
  },
  {
   "cell_type": "code",
   "execution_count": null,
   "id": "3801cc81",
   "metadata": {},
   "outputs": [],
   "source": []
  }
 ],
 "metadata": {
  "kernelspec": {
   "display_name": "Python 3 (ipykernel)",
   "language": "python",
   "name": "python3"
  },
  "language_info": {
   "codemirror_mode": {
    "name": "ipython",
    "version": 3
   },
   "file_extension": ".py",
   "mimetype": "text/x-python",
   "name": "python",
   "nbconvert_exporter": "python",
   "pygments_lexer": "ipython3",
   "version": "3.9.7"
  }
 },
 "nbformat": 4,
 "nbformat_minor": 5
}
