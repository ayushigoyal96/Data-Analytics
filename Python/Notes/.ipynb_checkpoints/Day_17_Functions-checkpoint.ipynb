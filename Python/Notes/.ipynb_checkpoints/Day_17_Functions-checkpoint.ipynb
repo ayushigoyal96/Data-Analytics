{
 "cells": [
  {
   "cell_type": "markdown",
   "id": "97a4267c",
   "metadata": {},
   "source": [
    "Defn :- It is a set of program which provides resuablility to our code"
   ]
  },
  {
   "cell_type": "code",
   "execution_count": 1,
   "id": "cb4a133c",
   "metadata": {},
   "outputs": [],
   "source": [
    "#Two Types"
   ]
  },
  {
   "cell_type": "markdown",
   "id": "e11d3f35",
   "metadata": {},
   "source": [
    "1. Pre-Definded Functions\n",
    "2. User_Defined Functions"
   ]
  },
  {
   "cell_type": "markdown",
   "id": "379ee652",
   "metadata": {},
   "source": [
    "# Pre-defined or Builtins "
   ]
  },
  {
   "cell_type": "code",
   "execution_count": 2,
   "id": "c8770ca5",
   "metadata": {},
   "outputs": [],
   "source": [
    "import builtins"
   ]
  },
  {
   "cell_type": "code",
   "execution_count": 4,
   "id": "6dd09791",
   "metadata": {},
   "outputs": [],
   "source": [
    "#print\n",
    "#input\n",
    "#id\n",
    "#type\n",
    "#int\n",
    "#float\n",
    "#str\n",
    "#dict\n",
    "#dir\n",
    "#set\n",
    "#list\n",
    "#tuple\n",
    "#bool\n",
    "#len\n",
    "#help"
   ]
  },
  {
   "cell_type": "code",
   "execution_count": 6,
   "id": "1ab6a3b1",
   "metadata": {},
   "outputs": [
    {
     "name": "stdout",
     "output_type": "stream",
     "text": [
      "['abs', 'all', 'any', 'ascii', 'bin', 'bool', 'breakpoint', 'bytearray', 'bytes', 'callable', 'chr', 'classmethod', 'compile', 'complex', 'copyright', 'credits', 'delattr', 'dict', 'dir', 'display', 'divmod', 'enumerate', 'eval', 'exec', 'execfile', 'filter', 'float', 'format', 'frozenset', 'get_ipython', 'getattr', 'globals', 'hasattr', 'hash', 'help', 'hex', 'id', 'input', 'int', 'isinstance', 'issubclass', 'iter', 'len', 'license', 'list', 'locals', 'map', 'max', 'memoryview', 'min', 'next', 'object', 'oct', 'open', 'ord', 'pow', 'print', 'property', 'range', 'repr', 'reversed', 'round', 'runfile', 'set', 'setattr', 'slice', 'sorted', 'staticmethod', 'str', 'sum', 'super', 'tuple', 'type', 'vars', 'zip']\n"
     ]
    }
   ],
   "source": [
    "print(dir(builtins)[81:])"
   ]
  },
  {
   "cell_type": "code",
   "execution_count": 41,
   "id": "b5fbf49f",
   "metadata": {},
   "outputs": [],
   "source": [
    "l = dir(builtins)[81:]"
   ]
  },
  {
   "cell_type": "code",
   "execution_count": 8,
   "id": "3ff0992a",
   "metadata": {},
   "outputs": [
    {
     "data": {
      "text/plain": [
       "22"
      ]
     },
     "execution_count": 8,
     "metadata": {},
     "output_type": "execute_result"
    }
   ],
   "source": [
    "abs(-22)"
   ]
  },
  {
   "cell_type": "code",
   "execution_count": 9,
   "id": "6f1b2a16",
   "metadata": {},
   "outputs": [
    {
     "data": {
      "text/plain": [
       "22"
      ]
     },
     "execution_count": 9,
     "metadata": {},
     "output_type": "execute_result"
    }
   ],
   "source": [
    "abs(22)"
   ]
  },
  {
   "cell_type": "code",
   "execution_count": 10,
   "id": "c94f75ae",
   "metadata": {},
   "outputs": [],
   "source": [
    "a = 3\n",
    "b = 99\n",
    "c = 22"
   ]
  },
  {
   "cell_type": "code",
   "execution_count": 14,
   "id": "89e47bb0",
   "metadata": {},
   "outputs": [
    {
     "data": {
      "text/plain": [
       "True"
      ]
     },
     "execution_count": 14,
     "metadata": {},
     "output_type": "execute_result"
    }
   ],
   "source": [
    "all([a<=b,b>=c,c==c,a!=b]) #if all true then true"
   ]
  },
  {
   "cell_type": "code",
   "execution_count": 17,
   "id": "667ceee6",
   "metadata": {},
   "outputs": [
    {
     "data": {
      "text/plain": [
       "True"
      ]
     },
     "execution_count": 17,
     "metadata": {},
     "output_type": "execute_result"
    }
   ],
   "source": [
    "any([a>=b,b<=c,c==c,a==b])  #if any true then true"
   ]
  },
  {
   "cell_type": "code",
   "execution_count": 18,
   "id": "cb33c461",
   "metadata": {},
   "outputs": [
    {
     "data": {
      "text/plain": [
       "'0b1010'"
      ]
     },
     "execution_count": 18,
     "metadata": {},
     "output_type": "execute_result"
    }
   ],
   "source": [
    "bin(10)"
   ]
  },
  {
   "cell_type": "code",
   "execution_count": 20,
   "id": "1d59dc91",
   "metadata": {},
   "outputs": [
    {
     "data": {
      "text/plain": [
       "'0x4d'"
      ]
     },
     "execution_count": 20,
     "metadata": {},
     "output_type": "execute_result"
    }
   ],
   "source": [
    "hex(77)"
   ]
  },
  {
   "cell_type": "code",
   "execution_count": 21,
   "id": "2e9cb083",
   "metadata": {},
   "outputs": [
    {
     "data": {
      "text/plain": [
       "'0o23417'"
      ]
     },
     "execution_count": 21,
     "metadata": {},
     "output_type": "execute_result"
    }
   ],
   "source": [
    "oct(9999)"
   ]
  },
  {
   "cell_type": "code",
   "execution_count": 22,
   "id": "77007106",
   "metadata": {},
   "outputs": [
    {
     "data": {
      "text/plain": [
       "False"
      ]
     },
     "execution_count": 22,
     "metadata": {},
     "output_type": "execute_result"
    }
   ],
   "source": [
    "bool(\"\")"
   ]
  },
  {
   "cell_type": "code",
   "execution_count": 23,
   "id": "7d46dc49",
   "metadata": {},
   "outputs": [
    {
     "data": {
      "text/plain": [
       "True"
      ]
     },
     "execution_count": 23,
     "metadata": {},
     "output_type": "execute_result"
    }
   ],
   "source": [
    "bool('Ravi')"
   ]
  },
  {
   "cell_type": "code",
   "execution_count": 24,
   "id": "6c6d2243",
   "metadata": {},
   "outputs": [
    {
     "data": {
      "text/plain": [
       "False"
      ]
     },
     "execution_count": 24,
     "metadata": {},
     "output_type": "execute_result"
    }
   ],
   "source": [
    "bool(0)"
   ]
  },
  {
   "cell_type": "code",
   "execution_count": 25,
   "id": "2c4dc8ed",
   "metadata": {},
   "outputs": [
    {
     "data": {
      "text/plain": [
       "'A'"
      ]
     },
     "execution_count": 25,
     "metadata": {},
     "output_type": "execute_result"
    }
   ],
   "source": [
    "chr(65)"
   ]
  },
  {
   "cell_type": "code",
   "execution_count": 26,
   "id": "18792294",
   "metadata": {},
   "outputs": [
    {
     "data": {
      "text/plain": [
       "'a'"
      ]
     },
     "execution_count": 26,
     "metadata": {},
     "output_type": "execute_result"
    }
   ],
   "source": [
    "chr(97)"
   ]
  },
  {
   "cell_type": "code",
   "execution_count": 28,
   "id": "bd81579b",
   "metadata": {},
   "outputs": [
    {
     "name": "stdout",
     "output_type": "stream",
     "text": [
      "['A', 'B', 'C', 'D', 'E', 'F', 'G', 'H', 'I', 'J', 'K', 'L', 'M', 'N', 'O', 'P', 'Q', 'R', 'S', 'T', 'U', 'V', 'W', 'X', 'Y', 'Z']\n"
     ]
    }
   ],
   "source": [
    "print([chr(var) for var in range(65,91)])"
   ]
  },
  {
   "cell_type": "code",
   "execution_count": 29,
   "id": "d7905f0f",
   "metadata": {},
   "outputs": [
    {
     "name": "stdout",
     "output_type": "stream",
     "text": [
      "['a', 'b', 'c', 'd', 'e', 'f', 'g', 'h', 'i', 'j', 'k', 'l', 'm', 'n', 'o', 'p', 'q', 'r', 's', 't', 'u', 'v', 'w', 'x', 'y', 'z']\n"
     ]
    }
   ],
   "source": [
    "print([chr(var) for var in range(97,123)])"
   ]
  },
  {
   "cell_type": "code",
   "execution_count": 36,
   "id": "0a651048",
   "metadata": {},
   "outputs": [
    {
     "name": "stdout",
     "output_type": "stream",
     "text": [
      "['क', 'ख', 'ग', 'घ', 'ङ', 'च', 'छ', 'ज', 'झ', 'ञ', 'ट', 'ठ', 'ड', 'ढ', 'ण', 'त', 'थ', 'द', 'ध', 'न', 'ऩ', 'प', 'फ', 'ब', 'भ', 'म', 'य', 'र', 'ऱ', 'ल', 'ळ', 'ऴ', 'व', 'श', 'ष', 'स', 'ह']\n"
     ]
    }
   ],
   "source": [
    "print([chr(var) for var in range(2325,2325+37)])"
   ]
  },
  {
   "cell_type": "code",
   "execution_count": 31,
   "id": "a1b2a26e",
   "metadata": {},
   "outputs": [
    {
     "data": {
      "text/plain": [
       "2325"
      ]
     },
     "execution_count": 31,
     "metadata": {},
     "output_type": "execute_result"
    }
   ],
   "source": [
    "ord(\"क\")"
   ]
  },
  {
   "cell_type": "code",
   "execution_count": 37,
   "id": "b84ccd73",
   "metadata": {},
   "outputs": [],
   "source": [
    "l = []\n",
    "for var in range(15000):\n",
    "    l.append(chr(var))"
   ]
  },
  {
   "cell_type": "code",
   "execution_count": 42,
   "id": "a6adc640",
   "metadata": {},
   "outputs": [],
   "source": [
    "#print(l)"
   ]
  },
  {
   "cell_type": "code",
   "execution_count": 39,
   "id": "a94ac80e",
   "metadata": {},
   "outputs": [
    {
     "data": {
      "text/plain": [
       "14999"
      ]
     },
     "execution_count": 39,
     "metadata": {},
     "output_type": "execute_result"
    }
   ],
   "source": [
    "ord('㪗')"
   ]
  },
  {
   "cell_type": "code",
   "execution_count": 44,
   "id": "97238806",
   "metadata": {},
   "outputs": [
    {
     "name": "stdout",
     "output_type": "stream",
     "text": [
      "['abs', 'all', 'any', 'ascii', 'bin', 'bool', 'breakpoint', 'bytearray', 'bytes', 'callable', 'chr', 'classmethod', 'compile', 'complex', 'copyright', 'credits', 'delattr', 'dict', 'dir', 'display', 'divmod', 'enumerate', 'eval', 'exec', 'execfile', 'filter', 'float', 'format', 'frozenset', 'get_ipython', 'getattr', 'globals', 'hasattr', 'hash', 'help', 'hex', 'id', 'input', 'int', 'isinstance', 'issubclass', 'iter', 'len', 'license', 'list', 'locals', 'map', 'max', 'memoryview', 'min', 'next', 'object', 'oct', 'open', 'ord', 'pow', 'print', 'property', 'range', 'repr', 'reversed', 'round', 'runfile', 'set', 'setattr', 'slice', 'sorted', 'staticmethod', 'str', 'sum', 'super', 'tuple', 'type', 'vars', 'zip']\n"
     ]
    }
   ],
   "source": [
    "print(l)"
   ]
  },
  {
   "cell_type": "code",
   "execution_count": 45,
   "id": "faf969f3",
   "metadata": {},
   "outputs": [
    {
     "data": {
      "text/plain": [
       "(3, 1)"
      ]
     },
     "execution_count": 45,
     "metadata": {},
     "output_type": "execute_result"
    }
   ],
   "source": [
    "divmod(10,3)"
   ]
  },
  {
   "cell_type": "code",
   "execution_count": 47,
   "id": "409fe083",
   "metadata": {},
   "outputs": [],
   "source": [
    "a = enumerate([\"Naman\",\"Anshul\",\"Ayushi\"])"
   ]
  },
  {
   "cell_type": "code",
   "execution_count": 48,
   "id": "69deef07",
   "metadata": {},
   "outputs": [
    {
     "name": "stdout",
     "output_type": "stream",
     "text": [
      "(0, 'Naman')\n",
      "(1, 'Anshul')\n",
      "(2, 'Ayushi')\n"
     ]
    }
   ],
   "source": [
    "for var in a:\n",
    "    print(var)"
   ]
  },
  {
   "cell_type": "code",
   "execution_count": 49,
   "id": "4d98da4b",
   "metadata": {},
   "outputs": [
    {
     "data": {
      "text/plain": [
       "[(0, 'Naman'), (1, 'Anshul'), (2, 'Ayushi')]"
      ]
     },
     "execution_count": 49,
     "metadata": {},
     "output_type": "execute_result"
    }
   ],
   "source": [
    "list(enumerate([\"Naman\",\"Anshul\",\"Ayushi\"]))"
   ]
  },
  {
   "cell_type": "code",
   "execution_count": 1,
   "id": "dd4c49d5",
   "metadata": {},
   "outputs": [
    {
     "name": "stdout",
     "output_type": "stream",
     "text": [
      "0 --> Naman <class 'enumerate'>\n",
      "1 --> Anshul <class 'enumerate'>\n",
      "2 --> Ayushi <class 'enumerate'>\n"
     ]
    }
   ],
   "source": [
    "a = enumerate([\"Naman\",\"Anshul\",\"Ayushi\"])\n",
    "for x,y in a:\n",
    "    print(f\"{x} --> {y}\",type(a))"
   ]
  },
  {
   "cell_type": "code",
   "execution_count": 51,
   "id": "7a7afc4d",
   "metadata": {},
   "outputs": [],
   "source": [
    "d = [chr(var) for var in range(65,91)]\n",
    "d1 = [chr(var) for var in range(97,123)]"
   ]
  },
  {
   "cell_type": "code",
   "execution_count": 57,
   "id": "997a0915",
   "metadata": {},
   "outputs": [],
   "source": [
    "dd = {}\n",
    "for var in range(len(d)):\n",
    "    dd.setdefault(d[var],d1[var])"
   ]
  },
  {
   "cell_type": "code",
   "execution_count": 59,
   "id": "6e4fd4dd",
   "metadata": {},
   "outputs": [
    {
     "name": "stdout",
     "output_type": "stream",
     "text": [
      "dict_items([('A', 'a'), ('B', 'b'), ('C', 'c'), ('D', 'd'), ('E', 'e'), ('F', 'f'), ('G', 'g'), ('H', 'h'), ('I', 'i'), ('J', 'j'), ('K', 'k'), ('L', 'l'), ('M', 'm'), ('N', 'n'), ('O', 'o'), ('P', 'p'), ('Q', 'q'), ('R', 'r'), ('S', 's'), ('T', 't'), ('U', 'u'), ('V', 'v'), ('W', 'w'), ('X', 'x'), ('Y', 'y'), ('Z', 'z')])\n"
     ]
    }
   ],
   "source": [
    "print(dd.items())"
   ]
  },
  {
   "cell_type": "code",
   "execution_count": 65,
   "id": "a0b9957d",
   "metadata": {},
   "outputs": [
    {
     "name": "stdout",
     "output_type": "stream",
     "text": [
      "{'A': 'a', 'B': 'b', 'C': 'c', 'D': 'd', 'E': 'e', 'F': 'f', 'G': 'g', 'H': 'h', 'I': 'i', 'J': 'j', 'K': 'k', 'L': 'l', 'M': 'm', 'N': 'n', 'O': 'o', 'P': 'p', 'Q': 'q', 'R': 'r', 'S': 's', 'T': 't', 'U': 'u', 'V': 'v', 'W': 'w', 'X': 'x', 'Y': 'y', 'Z': 'z'}\n"
     ]
    }
   ],
   "source": [
    "print(dict(zip(d,d1)))"
   ]
  },
  {
   "cell_type": "code",
   "execution_count": 72,
   "id": "d0405216",
   "metadata": {},
   "outputs": [],
   "source": [
    "l = [1,2,3,4]\n",
    "l1 = [5,6,7,8,9]\n",
    "l2 = [10,11,12,13,14,15]"
   ]
  },
  {
   "cell_type": "code",
   "execution_count": 68,
   "id": "3a394677",
   "metadata": {},
   "outputs": [],
   "source": [
    "a = zip(l,l1,l2)"
   ]
  },
  {
   "cell_type": "code",
   "execution_count": 69,
   "id": "6ee01c05",
   "metadata": {},
   "outputs": [
    {
     "name": "stdout",
     "output_type": "stream",
     "text": [
      "(1, 5, 10)\n",
      "(2, 6, 11)\n",
      "(3, 7, 12)\n",
      "(4, 8, 13)\n"
     ]
    }
   ],
   "source": [
    "for var in a:\n",
    "    print(var)"
   ]
  },
  {
   "cell_type": "code",
   "execution_count": 70,
   "id": "2f5be169",
   "metadata": {},
   "outputs": [
    {
     "data": {
      "text/plain": [
       "2"
      ]
     },
     "execution_count": 70,
     "metadata": {},
     "output_type": "execute_result"
    }
   ],
   "source": [
    "min([12,3,214,32,5,345,63,43,56,46,3,26,34,4,2])"
   ]
  },
  {
   "cell_type": "code",
   "execution_count": 71,
   "id": "e5a3fc60",
   "metadata": {},
   "outputs": [
    {
     "data": {
      "text/plain": [
       "546"
      ]
     },
     "execution_count": 71,
     "metadata": {},
     "output_type": "execute_result"
    }
   ],
   "source": [
    "max([12,43,25,43,546,45,7,545,43,5,345,4,54,54,5])"
   ]
  },
  {
   "cell_type": "code",
   "execution_count": 81,
   "id": "8916296c",
   "metadata": {},
   "outputs": [],
   "source": [
    "a = zip(l,l1,l2)"
   ]
  },
  {
   "cell_type": "code",
   "execution_count": 80,
   "id": "ea3e56a6",
   "metadata": {},
   "outputs": [
    {
     "name": "stdout",
     "output_type": "stream",
     "text": [
      "(1, 5, 10)\n",
      "(2, 6, 11)\n",
      "(3, 7, 12)\n",
      "(4, 8, 13)\n"
     ]
    }
   ],
   "source": [
    "for var in a:\n",
    "    print(var)"
   ]
  },
  {
   "cell_type": "code",
   "execution_count": 88,
   "id": "e0aa2ba4",
   "metadata": {},
   "outputs": [],
   "source": [
    "a = zip(l,l1,l2)"
   ]
  },
  {
   "cell_type": "code",
   "execution_count": 89,
   "id": "8521ffef",
   "metadata": {},
   "outputs": [
    {
     "name": "stdout",
     "output_type": "stream",
     "text": [
      "(1, 5, 10)\n",
      "(2, 6, 11)\n",
      "(3, 7, 12)\n",
      "(4, 8, 13)\n"
     ]
    },
    {
     "ename": "StopIteration",
     "evalue": "",
     "output_type": "error",
     "traceback": [
      "\u001b[1;31m---------------------------------------------------------------------------\u001b[0m",
      "\u001b[1;31mStopIteration\u001b[0m                             Traceback (most recent call last)",
      "\u001b[1;32m~\\AppData\\Local\\Temp/ipykernel_23548/1105316590.py\u001b[0m in \u001b[0;36m<module>\u001b[1;34m\u001b[0m\n\u001b[0;32m      1\u001b[0m \u001b[1;32mwhile\u001b[0m \u001b[1;32mTrue\u001b[0m\u001b[1;33m:\u001b[0m\u001b[1;33m\u001b[0m\u001b[1;33m\u001b[0m\u001b[0m\n\u001b[1;32m----> 2\u001b[1;33m     \u001b[0mprint\u001b[0m\u001b[1;33m(\u001b[0m\u001b[0mnext\u001b[0m\u001b[1;33m(\u001b[0m\u001b[0ma\u001b[0m\u001b[1;33m)\u001b[0m\u001b[1;33m)\u001b[0m\u001b[1;33m\u001b[0m\u001b[1;33m\u001b[0m\u001b[0m\n\u001b[0m",
      "\u001b[1;31mStopIteration\u001b[0m: "
     ]
    }
   ],
   "source": [
    "while True:\n",
    "    print(next(a))"
   ]
  }
 ],
 "metadata": {
  "kernelspec": {
   "display_name": "Python 3 (ipykernel)",
   "language": "python",
   "name": "python3"
  },
  "language_info": {
   "codemirror_mode": {
    "name": "ipython",
    "version": 3
   },
   "file_extension": ".py",
   "mimetype": "text/x-python",
   "name": "python",
   "nbconvert_exporter": "python",
   "pygments_lexer": "ipython3",
   "version": "3.9.7"
  }
 },
 "nbformat": 4,
 "nbformat_minor": 5
}
