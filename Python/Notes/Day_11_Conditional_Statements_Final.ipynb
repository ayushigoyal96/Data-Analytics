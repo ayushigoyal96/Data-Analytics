{
 "cells": [
  {
   "cell_type": "code",
   "execution_count": 1,
   "id": "7414652f",
   "metadata": {},
   "outputs": [],
   "source": [
    "#WAP to find greatest between 3 nos"
   ]
  },
  {
   "cell_type": "code",
   "execution_count": 3,
   "id": "f5852cff",
   "metadata": {},
   "outputs": [
    {
     "name": "stdout",
     "output_type": "stream",
     "text": [
      "Enter x --> 9\n",
      "Enter y --> 5\n",
      "Enter Z --> 3\n",
      "9 is Greatest\n"
     ]
    }
   ],
   "source": [
    "x,y,z = int(input(\"Enter x --> \")),int(input(\"Enter y --> \")),int(input(\"Enter Z --> \"))\n",
    "if x>y:\n",
    "    if x>z:\n",
    "        print(f\"{x} is Greatest\")\n",
    "    else:\n",
    "        print(f\"{z} is Greatest\")\n",
    "else:\n",
    "    if y>z:\n",
    "        print(f\"{y} is Greatest\")\n",
    "    else:\n",
    "        print(f\"{z} is Greatest\")\n",
    "    "
   ]
  },
  {
   "cell_type": "code",
   "execution_count": 10,
   "id": "c18f7390",
   "metadata": {},
   "outputs": [
    {
     "name": "stdout",
     "output_type": "stream",
     "text": [
      "Enter 1st number -->2\n",
      "Enter the Operator --> **\n",
      "Enter 2nd number --> 3\n",
      "2 ** 3 = 8\n"
     ]
    }
   ],
   "source": [
    "#CALC\n",
    "num1 = int(input(\"Enter 1st number -->\"))\n",
    "op = input(\"Enter the Operator --> \")\n",
    "num2 = int(input(\"Enter 2nd number --> \"))\n",
    "if op == \"+\":\n",
    "    print(f\"{num1} + {num2} = {num1+num2}\")\n",
    "elif op == \"-\":\n",
    "    print(f\"{num1} - {num2} = {num1-num2}\")\n",
    "elif op == \"*\":\n",
    "    print(f\"{num1} * {num2} = {num1*num2}\")\n",
    "elif op == \"**\":\n",
    "    print(f\"{num1} ** {num2} = {num1**num2}\")\n",
    "elif op == \"/\" or op == \"//\" or op == \"%\":\n",
    "    if num2 == 0:\n",
    "        print(\"Can't Divide a no by 0!!\")\n",
    "    elif op == \"/\":\n",
    "        print(f\"{num1} / {num2} = {num1/num2}\")\n",
    "    elif op == \"//\":\n",
    "        print(f\"{num1} // {num2} = {num1//num2}\")\n",
    "    else:\n",
    "        print(f\"{num1} % {num2}= {num1%num2}\")\n",
    "else:\n",
    "    print(\"Invalid Operator!!!\")\n",
    "    "
   ]
  },
  {
   "cell_type": "code",
   "execution_count": null,
   "id": "5a1ca191",
   "metadata": {},
   "outputs": [],
   "source": []
  }
 ],
 "metadata": {
  "kernelspec": {
   "display_name": "Python 3 (ipykernel)",
   "language": "python",
   "name": "python3"
  },
  "language_info": {
   "codemirror_mode": {
    "name": "ipython",
    "version": 3
   },
   "file_extension": ".py",
   "mimetype": "text/x-python",
   "name": "python",
   "nbconvert_exporter": "python",
   "pygments_lexer": "ipython3",
   "version": "3.9.7"
  }
 },
 "nbformat": 4,
 "nbformat_minor": 5
}
