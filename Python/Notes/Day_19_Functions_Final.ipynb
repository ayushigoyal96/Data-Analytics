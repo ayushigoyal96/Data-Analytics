{
 "cells": [
  {
   "cell_type": "code",
   "execution_count": 1,
   "id": "12da4608",
   "metadata": {},
   "outputs": [],
   "source": [
    "#recursion"
   ]
  },
  {
   "cell_type": "code",
   "execution_count": 2,
   "id": "3d769aa2",
   "metadata": {},
   "outputs": [],
   "source": [
    "def fact(num):\n",
    "    if num == 1:\n",
    "        return 1\n",
    "    else:\n",
    "        return fact(num-1)*num"
   ]
  },
  {
   "cell_type": "code",
   "execution_count": 3,
   "id": "d38d7797",
   "metadata": {},
   "outputs": [
    {
     "name": "stdout",
     "output_type": "stream",
     "text": [
      "120\n"
     ]
    }
   ],
   "source": [
    "print(fact(5))"
   ]
  },
  {
   "cell_type": "code",
   "execution_count": 6,
   "id": "94ef04a7",
   "metadata": {},
   "outputs": [],
   "source": [
    "def rev(s):\n",
    "    if len(s) == 1:\n",
    "        return s\n",
    "    else:\n",
    "        return rev(s[1:])+s[0]"
   ]
  },
  {
   "cell_type": "code",
   "execution_count": 7,
   "id": "b0ceaa57",
   "metadata": {},
   "outputs": [
    {
     "data": {
      "text/plain": [
       "'IVAR'"
      ]
     },
     "execution_count": 7,
     "metadata": {},
     "output_type": "execute_result"
    }
   ],
   "source": [
    "rev(\"RAVI\")"
   ]
  },
  {
   "cell_type": "markdown",
   "id": "bb334f01",
   "metadata": {},
   "source": [
    "# Special Functions "
   ]
  },
  {
   "cell_type": "code",
   "execution_count": 8,
   "id": "415c01f9",
   "metadata": {},
   "outputs": [],
   "source": [
    "#Map\n",
    "#reduce\n",
    "#filter"
   ]
  },
  {
   "cell_type": "code",
   "execution_count": 9,
   "id": "d2cb3c34",
   "metadata": {},
   "outputs": [],
   "source": [
    "#map"
   ]
  },
  {
   "cell_type": "markdown",
   "id": "1acf2f9c",
   "metadata": {},
   "source": [
    "    map(func, iterable)"
   ]
  },
  {
   "cell_type": "code",
   "execution_count": 11,
   "id": "c83808e3",
   "metadata": {},
   "outputs": [
    {
     "name": "stdout",
     "output_type": "stream",
     "text": [
      "Enter comma separated value --> 44 55 66 77 88\n",
      "[44, 55, 66, 77, 88]\n"
     ]
    }
   ],
   "source": [
    "print(list(map(int,input(\"Enter comma separated value --> \").split())))"
   ]
  },
  {
   "cell_type": "code",
   "execution_count": 17,
   "id": "84dbf13d",
   "metadata": {},
   "outputs": [
    {
     "name": "stdout",
     "output_type": "stream",
     "text": [
      "[5, 10, 15, 20, 25, 30, 35, 40, 45, 50]\n"
     ]
    }
   ],
   "source": [
    "l = list(map(lambda x: x*5,[var for var in range(1,11)]))\n",
    "print(l)"
   ]
  },
  {
   "cell_type": "code",
   "execution_count": 18,
   "id": "8b4b2e15",
   "metadata": {},
   "outputs": [],
   "source": [
    "def check(num):\n",
    "    if num%2==0:\n",
    "        return True\n",
    "    else:\n",
    "        return False"
   ]
  },
  {
   "cell_type": "code",
   "execution_count": 19,
   "id": "2621b32d",
   "metadata": {},
   "outputs": [
    {
     "name": "stdout",
     "output_type": "stream",
     "text": [
      "[False, True, False, True, False, True, False, True, False, True, False, True, False, True, False, True, False, True, False, True, False, True, False, True, False, True, False, True, False, True, False, True, False, True, False, True, False, True, False, True, False, True, False, True, False, True, False, True, False, True, False, True, False, True, False, True, False, True, False, True, False, True, False, True, False, True, False, True, False, True, False, True, False, True, False, True, False, True, False, True, False, True, False, True, False, True, False, True, False, True, False, True, False, True, False, True, False, True, False, True]\n"
     ]
    }
   ],
   "source": [
    "print(list(map(check,[var for var in range(1,101)])))"
   ]
  },
  {
   "cell_type": "code",
   "execution_count": 20,
   "id": "e57ee05e",
   "metadata": {},
   "outputs": [
    {
     "name": "stdout",
     "output_type": "stream",
     "text": [
      "[2, 4, 6, 8, 10, 12, 14, 16, 18, 20, 22, 24, 26, 28, 30, 32, 34, 36, 38, 40, 42, 44, 46, 48, 50, 52, 54, 56, 58, 60, 62, 64, 66, 68, 70, 72, 74, 76, 78, 80, 82, 84, 86, 88, 90, 92, 94, 96, 98, 100]\n"
     ]
    }
   ],
   "source": [
    "print(list(filter(check,[var for var in range(1,101)])))"
   ]
  },
  {
   "cell_type": "code",
   "execution_count": 21,
   "id": "abaf3e45",
   "metadata": {},
   "outputs": [],
   "source": [
    "from functools import reduce"
   ]
  },
  {
   "cell_type": "code",
   "execution_count": 22,
   "id": "4fda92a7",
   "metadata": {},
   "outputs": [],
   "source": [
    "def add(a,b):\n",
    "    return a+b"
   ]
  },
  {
   "cell_type": "code",
   "execution_count": 23,
   "id": "315daa72",
   "metadata": {},
   "outputs": [
    {
     "data": {
      "text/plain": [
       "55"
      ]
     },
     "execution_count": 23,
     "metadata": {},
     "output_type": "execute_result"
    }
   ],
   "source": [
    "reduce(add,[1,2,3,4,5,6,7,8,9,10])"
   ]
  },
  {
   "cell_type": "markdown",
   "id": "2c2a70c4",
   "metadata": {},
   "source": [
    "# Lambda Function "
   ]
  },
  {
   "cell_type": "markdown",
   "id": "b86bbad6",
   "metadata": {},
   "source": [
    "It is also known as Anonymous function because it has no name..it is also called one line function"
   ]
  },
  {
   "cell_type": "code",
   "execution_count": 2,
   "id": "9bcea0e6",
   "metadata": {},
   "outputs": [],
   "source": [
    "fun = lambda : \"Hello World\""
   ]
  },
  {
   "cell_type": "code",
   "execution_count": 3,
   "id": "c4f3408f",
   "metadata": {},
   "outputs": [
    {
     "name": "stdout",
     "output_type": "stream",
     "text": [
      "Hello World\n"
     ]
    }
   ],
   "source": [
    "print(fun())"
   ]
  },
  {
   "cell_type": "code",
   "execution_count": 27,
   "id": "59ad751c",
   "metadata": {},
   "outputs": [],
   "source": [
    "area = lambda l,b : f\"Area of Rectange is {l*b}\" "
   ]
  },
  {
   "cell_type": "code",
   "execution_count": 29,
   "id": "9e0d91ec",
   "metadata": {},
   "outputs": [
    {
     "name": "stdout",
     "output_type": "stream",
     "text": [
      "Area of Rectange is 24\n"
     ]
    }
   ],
   "source": [
    "print(area(3,8))"
   ]
  },
  {
   "cell_type": "code",
   "execution_count": 30,
   "id": "06a362e8",
   "metadata": {},
   "outputs": [],
   "source": [
    "fact = lambda num:1 if num==1 else fact(num-1)*num"
   ]
  },
  {
   "cell_type": "code",
   "execution_count": 31,
   "id": "59885932",
   "metadata": {},
   "outputs": [
    {
     "data": {
      "text/plain": [
       "120"
      ]
     },
     "execution_count": 31,
     "metadata": {},
     "output_type": "execute_result"
    }
   ],
   "source": [
    "fact(5)"
   ]
  },
  {
   "cell_type": "code",
   "execution_count": 32,
   "id": "5e0dc2c4",
   "metadata": {},
   "outputs": [],
   "source": [
    "from random import randint"
   ]
  },
  {
   "cell_type": "code",
   "execution_count": 33,
   "id": "16e5eca8",
   "metadata": {},
   "outputs": [
    {
     "data": {
      "text/plain": [
       "39"
      ]
     },
     "execution_count": 33,
     "metadata": {},
     "output_type": "execute_result"
    }
   ],
   "source": [
    "randint(4,50)"
   ]
  },
  {
   "cell_type": "code",
   "execution_count": 35,
   "id": "16aac3d1",
   "metadata": {},
   "outputs": [],
   "source": [
    "my_randint = lambda s,e,n: [randint(s,e) for var in range(n)]"
   ]
  },
  {
   "cell_type": "code",
   "execution_count": 38,
   "id": "409b081d",
   "metadata": {},
   "outputs": [
    {
     "name": "stdout",
     "output_type": "stream",
     "text": [
      "[6, 5, 9, 6, 6, 1, 7, 4, 2, 4, 7, 8, 9, 1, 6, 9, 7, 2, 1, 6, 6, 7, 1, 4, 8, 7, 5, 1, 5, 2, 6, 5, 3, 2, 5, 4, 7, 9, 2, 1, 8, 6, 8, 4, 7, 5, 6, 6, 1, 4, 10, 5, 5, 4, 3, 3, 5, 1, 5, 9, 9, 6, 3, 1, 10, 3, 10, 2, 5, 3, 5, 7, 9, 7, 4, 7, 4, 10, 2, 5, 4, 6, 8, 3, 6, 1, 10, 9, 6, 8, 10, 5, 5, 5, 8, 8, 7, 5, 2, 2]\n"
     ]
    }
   ],
   "source": [
    "print(my_randint(1,10,100))"
   ]
  },
  {
   "cell_type": "code",
   "execution_count": 39,
   "id": "a03702ea",
   "metadata": {},
   "outputs": [],
   "source": [
    "check = lambda num: \"Even\" if num%2==0 else \"ODD\""
   ]
  },
  {
   "cell_type": "code",
   "execution_count": 41,
   "id": "b95b4748",
   "metadata": {},
   "outputs": [
    {
     "data": {
      "text/plain": [
       "'ODD'"
      ]
     },
     "execution_count": 41,
     "metadata": {},
     "output_type": "execute_result"
    }
   ],
   "source": [
    "check(7)"
   ]
  },
  {
   "cell_type": "code",
   "execution_count": null,
   "id": "5e128fd5",
   "metadata": {},
   "outputs": [],
   "source": []
  }
 ],
 "metadata": {
  "kernelspec": {
   "display_name": "Python 3 (ipykernel)",
   "language": "python",
   "name": "python3"
  },
  "language_info": {
   "codemirror_mode": {
    "name": "ipython",
    "version": 3
   },
   "file_extension": ".py",
   "mimetype": "text/x-python",
   "name": "python",
   "nbconvert_exporter": "python",
   "pygments_lexer": "ipython3",
   "version": "3.9.7"
  }
 },
 "nbformat": 4,
 "nbformat_minor": 5
}
