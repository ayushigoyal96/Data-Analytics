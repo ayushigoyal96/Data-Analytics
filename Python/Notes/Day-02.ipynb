{
 "cells": [
  {
   "cell_type": "markdown",
   "id": "501b85eb",
   "metadata": {},
   "source": [
    "# Strings"
   ]
  },
  {
   "cell_type": "markdown",
   "id": "d6f73903",
   "metadata": {},
   "source": [
    "Properties of Strings\n",
    "\n",
    "1. Sequential\n",
    "2. Ordered\n",
    "3. Immutable"
   ]
  },
  {
   "cell_type": "code",
   "execution_count": 1,
   "id": "fb572b37",
   "metadata": {},
   "outputs": [],
   "source": [
    "s = \"Hello World\""
   ]
  },
  {
   "cell_type": "code",
   "execution_count": 2,
   "id": "1dd26f4b",
   "metadata": {},
   "outputs": [
    {
     "data": {
      "text/plain": [
       "'Zello World'"
      ]
     },
     "execution_count": 2,
     "metadata": {},
     "output_type": "execute_result"
    }
   ],
   "source": [
    "s.replace('H','Z')"
   ]
  },
  {
   "cell_type": "code",
   "execution_count": 3,
   "id": "eed6319e",
   "metadata": {},
   "outputs": [
    {
     "name": "stdout",
     "output_type": "stream",
     "text": [
      "Hello World\n"
     ]
    }
   ],
   "source": [
    "print(s)"
   ]
  },
  {
   "cell_type": "code",
   "execution_count": 4,
   "id": "fd517d4e",
   "metadata": {},
   "outputs": [
    {
     "data": {
      "text/plain": [
       "'Hello World'"
      ]
     },
     "execution_count": 4,
     "metadata": {},
     "output_type": "execute_result"
    }
   ],
   "source": [
    "s[::]"
   ]
  },
  {
   "cell_type": "code",
   "execution_count": 5,
   "id": "3f34bef3",
   "metadata": {},
   "outputs": [
    {
     "data": {
      "text/plain": [
       "'Hell'"
      ]
     },
     "execution_count": 5,
     "metadata": {},
     "output_type": "execute_result"
    }
   ],
   "source": [
    "s[0:4]"
   ]
  },
  {
   "cell_type": "code",
   "execution_count": 6,
   "id": "662963b6",
   "metadata": {},
   "outputs": [
    {
     "data": {
      "text/plain": [
       "'Hello'"
      ]
     },
     "execution_count": 6,
     "metadata": {},
     "output_type": "execute_result"
    }
   ],
   "source": [
    "s[0:5]"
   ]
  },
  {
   "cell_type": "code",
   "execution_count": 7,
   "id": "d6538b9f",
   "metadata": {},
   "outputs": [
    {
     "data": {
      "text/plain": [
       "'World'"
      ]
     },
     "execution_count": 7,
     "metadata": {},
     "output_type": "execute_result"
    }
   ],
   "source": [
    "s[6:11]"
   ]
  },
  {
   "cell_type": "code",
   "execution_count": 8,
   "id": "74412e7c",
   "metadata": {},
   "outputs": [
    {
     "data": {
      "text/plain": [
       "'World'"
      ]
     },
     "execution_count": 8,
     "metadata": {},
     "output_type": "execute_result"
    }
   ],
   "source": [
    "s[6:]"
   ]
  },
  {
   "cell_type": "code",
   "execution_count": 9,
   "id": "5561762e",
   "metadata": {},
   "outputs": [
    {
     "data": {
      "text/plain": [
       "'lo Wo'"
      ]
     },
     "execution_count": 9,
     "metadata": {},
     "output_type": "execute_result"
    }
   ],
   "source": [
    "s[3:-3]"
   ]
  },
  {
   "cell_type": "code",
   "execution_count": 10,
   "id": "5ba79a9d",
   "metadata": {},
   "outputs": [
    {
     "data": {
      "text/plain": [
       "'ello W'"
      ]
     },
     "execution_count": 10,
     "metadata": {},
     "output_type": "execute_result"
    }
   ],
   "source": [
    "s[-10:7]"
   ]
  },
  {
   "cell_type": "code",
   "execution_count": 11,
   "id": "4434b522",
   "metadata": {},
   "outputs": [
    {
     "data": {
      "text/plain": [
       "'Hello '"
      ]
     },
     "execution_count": 11,
     "metadata": {},
     "output_type": "execute_result"
    }
   ],
   "source": [
    "s[:-5]"
   ]
  },
  {
   "cell_type": "code",
   "execution_count": 12,
   "id": "0b62d318",
   "metadata": {},
   "outputs": [
    {
     "data": {
      "text/plain": [
       "'ld'"
      ]
     },
     "execution_count": 12,
     "metadata": {},
     "output_type": "execute_result"
    }
   ],
   "source": [
    "s[-2:]"
   ]
  },
  {
   "cell_type": "code",
   "execution_count": 15,
   "id": "df48df09",
   "metadata": {},
   "outputs": [
    {
     "data": {
      "text/plain": [
       "'ello World'"
      ]
     },
     "execution_count": 15,
     "metadata": {},
     "output_type": "execute_result"
    }
   ],
   "source": [
    "s[-10::1]"
   ]
  },
  {
   "cell_type": "code",
   "execution_count": 14,
   "id": "2a741773",
   "metadata": {},
   "outputs": [
    {
     "data": {
      "text/plain": [
       "'Hello World'"
      ]
     },
     "execution_count": 14,
     "metadata": {},
     "output_type": "execute_result"
    }
   ],
   "source": [
    "s[::1]"
   ]
  },
  {
   "cell_type": "code",
   "execution_count": 16,
   "id": "e841d27f",
   "metadata": {},
   "outputs": [
    {
     "data": {
      "text/plain": [
       "''"
      ]
     },
     "execution_count": 16,
     "metadata": {},
     "output_type": "execute_result"
    }
   ],
   "source": [
    "s[5:-6]"
   ]
  },
  {
   "cell_type": "code",
   "execution_count": 17,
   "id": "ba3ab3d5",
   "metadata": {},
   "outputs": [
    {
     "data": {
      "text/plain": [
       "'HloWrd'"
      ]
     },
     "execution_count": 17,
     "metadata": {},
     "output_type": "execute_result"
    }
   ],
   "source": [
    "s[::2]"
   ]
  },
  {
   "cell_type": "code",
   "execution_count": 18,
   "id": "5be2ebb8",
   "metadata": {},
   "outputs": [
    {
     "data": {
      "text/plain": [
       "'eood'"
      ]
     },
     "execution_count": 18,
     "metadata": {},
     "output_type": "execute_result"
    }
   ],
   "source": [
    "s[1::3]"
   ]
  },
  {
   "cell_type": "code",
   "execution_count": 19,
   "id": "e930cded",
   "metadata": {},
   "outputs": [
    {
     "data": {
      "text/plain": [
       "'loWr'"
      ]
     },
     "execution_count": 19,
     "metadata": {},
     "output_type": "execute_result"
    }
   ],
   "source": [
    "s[2:-2:2]"
   ]
  },
  {
   "cell_type": "code",
   "execution_count": 20,
   "id": "f1ea20d3",
   "metadata": {},
   "outputs": [
    {
     "data": {
      "text/plain": [
       "'HlW'"
      ]
     },
     "execution_count": 20,
     "metadata": {},
     "output_type": "execute_result"
    }
   ],
   "source": [
    "s[:-3:3]"
   ]
  },
  {
   "cell_type": "code",
   "execution_count": 21,
   "id": "9e91a6ad",
   "metadata": {},
   "outputs": [
    {
     "data": {
      "text/plain": [
       "'lo l'"
      ]
     },
     "execution_count": 21,
     "metadata": {},
     "output_type": "execute_result"
    }
   ],
   "source": [
    "s[-2:2:-2]"
   ]
  },
  {
   "cell_type": "code",
   "execution_count": 22,
   "id": "05b590c6",
   "metadata": {},
   "outputs": [
    {
     "data": {
      "text/plain": [
       "'r l'"
      ]
     },
     "execution_count": 22,
     "metadata": {},
     "output_type": "execute_result"
    }
   ],
   "source": [
    "s[-3::-3]"
   ]
  },
  {
   "cell_type": "code",
   "execution_count": 23,
   "id": "89a9830f",
   "metadata": {},
   "outputs": [
    {
     "data": {
      "text/plain": [
       "''"
      ]
     },
     "execution_count": 23,
     "metadata": {},
     "output_type": "execute_result"
    }
   ],
   "source": [
    "s[4:-2:-2]"
   ]
  },
  {
   "cell_type": "code",
   "execution_count": 24,
   "id": "b014d912",
   "metadata": {},
   "outputs": [],
   "source": [
    "#methods of string"
   ]
  },
  {
   "cell_type": "code",
   "execution_count": 25,
   "id": "f9bb69d0",
   "metadata": {},
   "outputs": [],
   "source": [
    "s = \"ravi ramawat\""
   ]
  },
  {
   "cell_type": "code",
   "execution_count": 26,
   "id": "4c15582b",
   "metadata": {},
   "outputs": [
    {
     "name": "stdout",
     "output_type": "stream",
     "text": [
      "<class 'str'>\n"
     ]
    }
   ],
   "source": [
    "print(type(s))"
   ]
  },
  {
   "cell_type": "code",
   "execution_count": 27,
   "id": "7c1c20ab",
   "metadata": {},
   "outputs": [
    {
     "name": "stdout",
     "output_type": "stream",
     "text": [
      "['__add__', '__class__', '__contains__', '__delattr__', '__dir__', '__doc__', '__eq__', '__format__', '__ge__', '__getattribute__', '__getitem__', '__getnewargs__', '__gt__', '__hash__', '__init__', '__init_subclass__', '__iter__', '__le__', '__len__', '__lt__', '__mod__', '__mul__', '__ne__', '__new__', '__reduce__', '__reduce_ex__', '__repr__', '__rmod__', '__rmul__', '__setattr__', '__sizeof__', '__str__', '__subclasshook__', 'capitalize', 'casefold', 'center', 'count', 'encode', 'endswith', 'expandtabs', 'find', 'format', 'format_map', 'index', 'isalnum', 'isalpha', 'isascii', 'isdecimal', 'isdigit', 'isidentifier', 'islower', 'isnumeric', 'isprintable', 'isspace', 'istitle', 'isupper', 'join', 'ljust', 'lower', 'lstrip', 'maketrans', 'partition', 'removeprefix', 'removesuffix', 'replace', 'rfind', 'rindex', 'rjust', 'rpartition', 'rsplit', 'rstrip', 'split', 'splitlines', 'startswith', 'strip', 'swapcase', 'title', 'translate', 'upper', 'zfill']\n"
     ]
    }
   ],
   "source": [
    "print(dir(s))"
   ]
  },
  {
   "cell_type": "code",
   "execution_count": 28,
   "id": "9a5f153a",
   "metadata": {},
   "outputs": [],
   "source": [
    "#__add__ --> magic methods"
   ]
  },
  {
   "cell_type": "code",
   "execution_count": 29,
   "id": "7c4e2455",
   "metadata": {},
   "outputs": [],
   "source": [
    "#capitalize --> methods"
   ]
  },
  {
   "cell_type": "code",
   "execution_count": 30,
   "id": "94aa0a95",
   "metadata": {},
   "outputs": [],
   "source": [
    "a = 4\n",
    "b = 2"
   ]
  },
  {
   "cell_type": "code",
   "execution_count": 31,
   "id": "791c8cd6",
   "metadata": {},
   "outputs": [
    {
     "name": "stdout",
     "output_type": "stream",
     "text": [
      "6\n"
     ]
    }
   ],
   "source": [
    "print(a+b)"
   ]
  },
  {
   "cell_type": "code",
   "execution_count": 32,
   "id": "bbfce518",
   "metadata": {},
   "outputs": [
    {
     "data": {
      "text/plain": [
       "6"
      ]
     },
     "execution_count": 32,
     "metadata": {},
     "output_type": "execute_result"
    }
   ],
   "source": [
    "a.__add__(b)"
   ]
  },
  {
   "cell_type": "code",
   "execution_count": 33,
   "id": "4569f27f",
   "metadata": {},
   "outputs": [],
   "source": [
    "a = \"1\"\n",
    "b = \"5\""
   ]
  },
  {
   "cell_type": "code",
   "execution_count": 34,
   "id": "aab09215",
   "metadata": {},
   "outputs": [
    {
     "name": "stdout",
     "output_type": "stream",
     "text": [
      "15\n"
     ]
    }
   ],
   "source": [
    "print(a+b)"
   ]
  },
  {
   "cell_type": "code",
   "execution_count": 35,
   "id": "bfa1f602",
   "metadata": {},
   "outputs": [
    {
     "data": {
      "text/plain": [
       "12"
      ]
     },
     "execution_count": 35,
     "metadata": {},
     "output_type": "execute_result"
    }
   ],
   "source": [
    "len(\"Ravi Ramawat\")"
   ]
  },
  {
   "cell_type": "code",
   "execution_count": 36,
   "id": "715bfd7a",
   "metadata": {},
   "outputs": [],
   "source": [
    "s = \"Ravi Ramawat\""
   ]
  },
  {
   "cell_type": "code",
   "execution_count": 37,
   "id": "8878a12b",
   "metadata": {},
   "outputs": [
    {
     "data": {
      "text/plain": [
       "12"
      ]
     },
     "execution_count": 37,
     "metadata": {},
     "output_type": "execute_result"
    }
   ],
   "source": [
    "s.__len__()"
   ]
  },
  {
   "cell_type": "code",
   "execution_count": 38,
   "id": "f8ae873b",
   "metadata": {},
   "outputs": [],
   "source": [
    "s = \"rAvI rAmAwaT\""
   ]
  },
  {
   "cell_type": "code",
   "execution_count": 39,
   "id": "afd409d5",
   "metadata": {},
   "outputs": [
    {
     "data": {
      "text/plain": [
       "'rAvI rAmAwaT'"
      ]
     },
     "execution_count": 39,
     "metadata": {},
     "output_type": "execute_result"
    }
   ],
   "source": [
    "s"
   ]
  },
  {
   "cell_type": "code",
   "execution_count": 40,
   "id": "01460490",
   "metadata": {},
   "outputs": [
    {
     "data": {
      "text/plain": [
       "'Ravi ramawat'"
      ]
     },
     "execution_count": 40,
     "metadata": {},
     "output_type": "execute_result"
    }
   ],
   "source": [
    "s.capitalize()"
   ]
  },
  {
   "cell_type": "code",
   "execution_count": 41,
   "id": "f7381169",
   "metadata": {},
   "outputs": [
    {
     "data": {
      "text/plain": [
       "'RAVI RAMAWAT'"
      ]
     },
     "execution_count": 41,
     "metadata": {},
     "output_type": "execute_result"
    }
   ],
   "source": [
    "s.upper()"
   ]
  },
  {
   "cell_type": "code",
   "execution_count": 42,
   "id": "e0b3446b",
   "metadata": {},
   "outputs": [
    {
     "data": {
      "text/plain": [
       "'ravi ramawat'"
      ]
     },
     "execution_count": 42,
     "metadata": {},
     "output_type": "execute_result"
    }
   ],
   "source": [
    "s.lower()"
   ]
  },
  {
   "cell_type": "code",
   "execution_count": 43,
   "id": "9a259c8c",
   "metadata": {},
   "outputs": [
    {
     "name": "stdout",
     "output_type": "stream",
     "text": [
      "rAvI rAmAwaT\n"
     ]
    }
   ],
   "source": [
    "print(s)"
   ]
  },
  {
   "cell_type": "code",
   "execution_count": 44,
   "id": "f546bb8a",
   "metadata": {},
   "outputs": [
    {
     "data": {
      "text/plain": [
       "'RaVi RaMaWAt'"
      ]
     },
     "execution_count": 44,
     "metadata": {},
     "output_type": "execute_result"
    }
   ],
   "source": [
    "s.swapcase()"
   ]
  },
  {
   "cell_type": "code",
   "execution_count": 45,
   "id": "e485e879",
   "metadata": {},
   "outputs": [
    {
     "data": {
      "text/plain": [
       "'Ravi Ramawat'"
      ]
     },
     "execution_count": 45,
     "metadata": {},
     "output_type": "execute_result"
    }
   ],
   "source": [
    "s.title()"
   ]
  },
  {
   "cell_type": "code",
   "execution_count": 48,
   "id": "463792be",
   "metadata": {},
   "outputs": [
    {
     "data": {
      "text/plain": [
       "' rAmAwaT'"
      ]
     },
     "execution_count": 48,
     "metadata": {},
     "output_type": "execute_result"
    }
   ],
   "source": [
    "s.removeprefix('rAvI')"
   ]
  },
  {
   "cell_type": "code",
   "execution_count": 49,
   "id": "24af50a8",
   "metadata": {},
   "outputs": [
    {
     "data": {
      "text/plain": [
       "'rAvI '"
      ]
     },
     "execution_count": 49,
     "metadata": {},
     "output_type": "execute_result"
    }
   ],
   "source": [
    "s.removesuffix('rAmAwaT')"
   ]
  },
  {
   "cell_type": "code",
   "execution_count": 50,
   "id": "6d1335d5",
   "metadata": {},
   "outputs": [
    {
     "data": {
      "text/plain": [
       "'r^vI r^m^waT'"
      ]
     },
     "execution_count": 50,
     "metadata": {},
     "output_type": "execute_result"
    }
   ],
   "source": [
    "s.replace('A','^')"
   ]
  },
  {
   "cell_type": "code",
   "execution_count": 51,
   "id": "cf59b450",
   "metadata": {},
   "outputs": [
    {
     "data": {
      "text/plain": [
       "'                                            rAvI rAmAwaT                                           '"
      ]
     },
     "execution_count": 51,
     "metadata": {},
     "output_type": "execute_result"
    }
   ],
   "source": [
    "s.center(99)"
   ]
  },
  {
   "cell_type": "code",
   "execution_count": 52,
   "id": "24506b22",
   "metadata": {},
   "outputs": [
    {
     "data": {
      "text/plain": [
       "'--------------------------------------------rAvI rAmAwaT-------------------------------------------'"
      ]
     },
     "execution_count": 52,
     "metadata": {},
     "output_type": "execute_result"
    }
   ],
   "source": [
    "s.center(99,'-')"
   ]
  },
  {
   "cell_type": "code",
   "execution_count": 53,
   "id": "1f329938",
   "metadata": {},
   "outputs": [
    {
     "data": {
      "text/plain": [
       "'rAvI rAmAwaT$$$$$$$$$$$$$$$$$$$$$$$$$$$$$$$$$$$$$$$$$$$$$$$$$$$$$$$$$$$$$$$$$$$$$$$$$$$$$$$$$$$$$$$'"
      ]
     },
     "execution_count": 53,
     "metadata": {},
     "output_type": "execute_result"
    }
   ],
   "source": [
    "s.ljust(99,'$')"
   ]
  },
  {
   "cell_type": "code",
   "execution_count": 54,
   "id": "baf21660",
   "metadata": {},
   "outputs": [
    {
     "data": {
      "text/plain": [
       "'^^^^^^^^^^^^^^^^^^^^^^^^^^^^^^^^^^^^^^^^^^^^^^^^^^^^^^^^^^^^^^^^^^^^^^^^^^^^^^^^^^^^^^^rAvI rAmAwaT'"
      ]
     },
     "execution_count": 54,
     "metadata": {},
     "output_type": "execute_result"
    }
   ],
   "source": [
    "s.rjust(99,'^')"
   ]
  },
  {
   "cell_type": "code",
   "execution_count": 56,
   "id": "bc8dcdb9",
   "metadata": {},
   "outputs": [
    {
     "data": {
      "text/plain": [
       "4"
      ]
     },
     "execution_count": 56,
     "metadata": {},
     "output_type": "execute_result"
    }
   ],
   "source": [
    "s.upper().count('A')"
   ]
  },
  {
   "cell_type": "code",
   "execution_count": 58,
   "id": "fe70e8e7",
   "metadata": {},
   "outputs": [
    {
     "data": {
      "text/plain": [
       "b'rAvI rAmAwaT'"
      ]
     },
     "execution_count": 58,
     "metadata": {},
     "output_type": "execute_result"
    }
   ],
   "source": [
    "s.encode() #string --> bytes"
   ]
  },
  {
   "cell_type": "code",
   "execution_count": 59,
   "id": "7965ab56",
   "metadata": {},
   "outputs": [
    {
     "data": {
      "text/plain": [
       "1"
      ]
     },
     "execution_count": 59,
     "metadata": {},
     "output_type": "execute_result"
    }
   ],
   "source": [
    "s.index('A')"
   ]
  },
  {
   "cell_type": "code",
   "execution_count": 60,
   "id": "ff8111f0",
   "metadata": {},
   "outputs": [
    {
     "data": {
      "text/plain": [
       "6"
      ]
     },
     "execution_count": 60,
     "metadata": {},
     "output_type": "execute_result"
    }
   ],
   "source": [
    "s.index('Am')"
   ]
  },
  {
   "cell_type": "code",
   "execution_count": 61,
   "id": "b169f8ab",
   "metadata": {},
   "outputs": [
    {
     "data": {
      "text/plain": [
       "8"
      ]
     },
     "execution_count": 61,
     "metadata": {},
     "output_type": "execute_result"
    }
   ],
   "source": [
    "s.index('Aw')"
   ]
  },
  {
   "cell_type": "code",
   "execution_count": 62,
   "id": "e23b941a",
   "metadata": {},
   "outputs": [
    {
     "data": {
      "text/plain": [
       "8"
      ]
     },
     "execution_count": 62,
     "metadata": {},
     "output_type": "execute_result"
    }
   ],
   "source": [
    "s.rindex('A')"
   ]
  },
  {
   "cell_type": "code",
   "execution_count": 63,
   "id": "c4e144a0",
   "metadata": {},
   "outputs": [
    {
     "data": {
      "text/plain": [
       "5"
      ]
     },
     "execution_count": 63,
     "metadata": {},
     "output_type": "execute_result"
    }
   ],
   "source": [
    "s.rindex('r')"
   ]
  },
  {
   "cell_type": "code",
   "execution_count": 64,
   "id": "74d79cce",
   "metadata": {},
   "outputs": [
    {
     "data": {
      "text/plain": [
       "0"
      ]
     },
     "execution_count": 64,
     "metadata": {},
     "output_type": "execute_result"
    }
   ],
   "source": [
    "s.index('r')"
   ]
  },
  {
   "cell_type": "code",
   "execution_count": 68,
   "id": "8187646d",
   "metadata": {},
   "outputs": [
    {
     "ename": "ValueError",
     "evalue": "substring not found",
     "output_type": "error",
     "traceback": [
      "\u001b[1;31m---------------------------------------------------------------------------\u001b[0m",
      "\u001b[1;31mValueError\u001b[0m                                Traceback (most recent call last)",
      "\u001b[1;32m~\\AppData\\Local\\Temp/ipykernel_9664/891189344.py\u001b[0m in \u001b[0;36m<module>\u001b[1;34m\u001b[0m\n\u001b[1;32m----> 1\u001b[1;33m \u001b[0ms\u001b[0m\u001b[1;33m.\u001b[0m\u001b[0mindex\u001b[0m\u001b[1;33m(\u001b[0m\u001b[1;34m'z'\u001b[0m\u001b[1;33m)\u001b[0m\u001b[1;33m\u001b[0m\u001b[1;33m\u001b[0m\u001b[0m\n\u001b[0m",
      "\u001b[1;31mValueError\u001b[0m: substring not found"
     ]
    }
   ],
   "source": [
    "s.index('z')"
   ]
  },
  {
   "cell_type": "code",
   "execution_count": 69,
   "id": "0de0c8a5",
   "metadata": {},
   "outputs": [
    {
     "data": {
      "text/plain": [
       "0"
      ]
     },
     "execution_count": 69,
     "metadata": {},
     "output_type": "execute_result"
    }
   ],
   "source": [
    "s.find('r')"
   ]
  },
  {
   "cell_type": "code",
   "execution_count": 70,
   "id": "1935d4a1",
   "metadata": {},
   "outputs": [
    {
     "data": {
      "text/plain": [
       "5"
      ]
     },
     "execution_count": 70,
     "metadata": {},
     "output_type": "execute_result"
    }
   ],
   "source": [
    "s.rfind('r')"
   ]
  },
  {
   "cell_type": "code",
   "execution_count": 71,
   "id": "b4b70ccd",
   "metadata": {},
   "outputs": [
    {
     "data": {
      "text/plain": [
       "-1"
      ]
     },
     "execution_count": 71,
     "metadata": {},
     "output_type": "execute_result"
    }
   ],
   "source": [
    "s.find('z')"
   ]
  },
  {
   "cell_type": "code",
   "execution_count": 1,
   "id": "29ce5279",
   "metadata": {},
   "outputs": [
    {
     "name": "stdout",
     "output_type": "stream",
     "text": [
      "Enter a string --> ayushi\n",
      "Substring to find -->b\n",
      "Substring not Found!!!!\n"
     ]
    }
   ],
   "source": [
    "s = input(\"Enter a string --> \")\n",
    "s1 = input(\"Substring to find -->\")\n",
    "r = s.find(s1)\n",
    "if r == -1:\n",
    "    print(\"Substring not Found!!!!\")\n",
    "else:\n",
    "    print(\"Substring Found!!!\")"
   ]
  },
  {
   "cell_type": "code",
   "execution_count": 75,
   "id": "bf059dce",
   "metadata": {},
   "outputs": [
    {
     "name": "stdout",
     "output_type": "stream",
     "text": [
      "Enter a string --> Ravi\n",
      "Substring to find -->z\n"
     ]
    },
    {
     "ename": "ValueError",
     "evalue": "substring not found",
     "output_type": "error",
     "traceback": [
      "\u001b[1;31m---------------------------------------------------------------------------\u001b[0m",
      "\u001b[1;31mValueError\u001b[0m                                Traceback (most recent call last)",
      "\u001b[1;32m~\\AppData\\Local\\Temp/ipykernel_9664/672780071.py\u001b[0m in \u001b[0;36m<module>\u001b[1;34m\u001b[0m\n\u001b[0;32m      1\u001b[0m \u001b[0ms\u001b[0m \u001b[1;33m=\u001b[0m \u001b[0minput\u001b[0m\u001b[1;33m(\u001b[0m\u001b[1;34m\"Enter a string --> \"\u001b[0m\u001b[1;33m)\u001b[0m\u001b[1;33m\u001b[0m\u001b[1;33m\u001b[0m\u001b[0m\n\u001b[0;32m      2\u001b[0m \u001b[0ms1\u001b[0m \u001b[1;33m=\u001b[0m \u001b[0minput\u001b[0m\u001b[1;33m(\u001b[0m\u001b[1;34m\"Substring to find -->\"\u001b[0m\u001b[1;33m)\u001b[0m\u001b[1;33m\u001b[0m\u001b[1;33m\u001b[0m\u001b[0m\n\u001b[1;32m----> 3\u001b[1;33m \u001b[0mr\u001b[0m \u001b[1;33m=\u001b[0m \u001b[0ms\u001b[0m\u001b[1;33m.\u001b[0m\u001b[0mindex\u001b[0m\u001b[1;33m(\u001b[0m\u001b[0ms1\u001b[0m\u001b[1;33m)\u001b[0m\u001b[1;33m\u001b[0m\u001b[1;33m\u001b[0m\u001b[0m\n\u001b[0m\u001b[0;32m      4\u001b[0m \u001b[1;32mif\u001b[0m \u001b[0mr\u001b[0m \u001b[1;33m==\u001b[0m \u001b[1;33m-\u001b[0m\u001b[1;36m1\u001b[0m\u001b[1;33m:\u001b[0m\u001b[1;33m\u001b[0m\u001b[1;33m\u001b[0m\u001b[0m\n\u001b[0;32m      5\u001b[0m     \u001b[0mprint\u001b[0m\u001b[1;33m(\u001b[0m\u001b[1;34m\"Substring not Found!!!!\"\u001b[0m\u001b[1;33m)\u001b[0m\u001b[1;33m\u001b[0m\u001b[1;33m\u001b[0m\u001b[0m\n",
      "\u001b[1;31mValueError\u001b[0m: substring not found"
     ]
    }
   ],
   "source": [
    "s = input(\"Enter a string --> \")\n",
    "s1 = input(\"Substring to find -->\")\n",
    "r = s.index(s1)\n",
    "if r == -1:\n",
    "    print(\"Substring not Found!!!!\")\n",
    "else:\n",
    "    print(\"Substring Found!!!\")"
   ]
  },
  {
   "cell_type": "code",
   "execution_count": 76,
   "id": "80a8f6ba",
   "metadata": {},
   "outputs": [
    {
     "data": {
      "text/plain": [
       "True"
      ]
     },
     "execution_count": 76,
     "metadata": {},
     "output_type": "execute_result"
    }
   ],
   "source": [
    "\"Ravi\".isalpha()"
   ]
  },
  {
   "cell_type": "code",
   "execution_count": 77,
   "id": "c72ef043",
   "metadata": {},
   "outputs": [
    {
     "data": {
      "text/plain": [
       "False"
      ]
     },
     "execution_count": 77,
     "metadata": {},
     "output_type": "execute_result"
    }
   ],
   "source": [
    "\"44fsadd\".isalpha()"
   ]
  },
  {
   "cell_type": "code",
   "execution_count": 78,
   "id": "74f741e6",
   "metadata": {},
   "outputs": [
    {
     "data": {
      "text/plain": [
       "True"
      ]
     },
     "execution_count": 78,
     "metadata": {},
     "output_type": "execute_result"
    }
   ],
   "source": [
    "\"334jnd\".isalnum()"
   ]
  },
  {
   "cell_type": "code",
   "execution_count": 79,
   "id": "64b7c136",
   "metadata": {},
   "outputs": [
    {
     "data": {
      "text/plain": [
       "True"
      ]
     },
     "execution_count": 79,
     "metadata": {},
     "output_type": "execute_result"
    }
   ],
   "source": [
    "\"5656\".isdigit()"
   ]
  },
  {
   "cell_type": "code",
   "execution_count": 80,
   "id": "31e8686c",
   "metadata": {},
   "outputs": [
    {
     "data": {
      "text/plain": [
       "False"
      ]
     },
     "execution_count": 80,
     "metadata": {},
     "output_type": "execute_result"
    }
   ],
   "source": [
    "\"44fdfd\".isidentifier()"
   ]
  },
  {
   "cell_type": "code",
   "execution_count": 81,
   "id": "cf1b537e",
   "metadata": {},
   "outputs": [],
   "source": [
    "s = \"                                        Hello World                                             \""
   ]
  },
  {
   "cell_type": "code",
   "execution_count": 82,
   "id": "d1488eed",
   "metadata": {},
   "outputs": [
    {
     "data": {
      "text/plain": [
       "'Hello World'"
      ]
     },
     "execution_count": 82,
     "metadata": {},
     "output_type": "execute_result"
    }
   ],
   "source": [
    "s.strip()"
   ]
  },
  {
   "cell_type": "code",
   "execution_count": 83,
   "id": "3b74fcc2",
   "metadata": {},
   "outputs": [],
   "source": [
    "g = s.replace(' ','*')"
   ]
  },
  {
   "cell_type": "code",
   "execution_count": 84,
   "id": "6d7e9664",
   "metadata": {},
   "outputs": [
    {
     "data": {
      "text/plain": [
       "'****************************************Hello*World*********************************************'"
      ]
     },
     "execution_count": 84,
     "metadata": {},
     "output_type": "execute_result"
    }
   ],
   "source": [
    "g"
   ]
  },
  {
   "cell_type": "code",
   "execution_count": 85,
   "id": "87a2c170",
   "metadata": {},
   "outputs": [
    {
     "data": {
      "text/plain": [
       "'Hello*World'"
      ]
     },
     "execution_count": 85,
     "metadata": {},
     "output_type": "execute_result"
    }
   ],
   "source": [
    "g.strip('*')"
   ]
  },
  {
   "cell_type": "code",
   "execution_count": 87,
   "id": "192bbdd0",
   "metadata": {},
   "outputs": [
    {
     "data": {
      "text/plain": [
       "'Hello*World*********************************************'"
      ]
     },
     "execution_count": 87,
     "metadata": {},
     "output_type": "execute_result"
    }
   ],
   "source": [
    "g.lstrip('*')"
   ]
  },
  {
   "cell_type": "code",
   "execution_count": 88,
   "id": "410708ac",
   "metadata": {},
   "outputs": [
    {
     "data": {
      "text/plain": [
       "'****************************************Hello*World'"
      ]
     },
     "execution_count": 88,
     "metadata": {},
     "output_type": "execute_result"
    }
   ],
   "source": [
    "g.rstrip('*')"
   ]
  },
  {
   "cell_type": "code",
   "execution_count": 89,
   "id": "9295af26",
   "metadata": {},
   "outputs": [
    {
     "data": {
      "text/plain": [
       "'                                        Hello World                                             '"
      ]
     },
     "execution_count": 89,
     "metadata": {},
     "output_type": "execute_result"
    }
   ],
   "source": [
    "s.expandtabs()"
   ]
  },
  {
   "cell_type": "code",
   "execution_count": 90,
   "id": "41ab8b54",
   "metadata": {},
   "outputs": [],
   "source": [
    "s = \"Hello\\tWorld\""
   ]
  },
  {
   "cell_type": "code",
   "execution_count": 94,
   "id": "a1d86b02",
   "metadata": {},
   "outputs": [
    {
     "name": "stdout",
     "output_type": "stream",
     "text": [
      "Hello                                             World\n"
     ]
    }
   ],
   "source": [
    "print(s.expandtabs(tabsize=50))"
   ]
  },
  {
   "cell_type": "code",
   "execution_count": 95,
   "id": "884f9620",
   "metadata": {},
   "outputs": [
    {
     "data": {
      "text/plain": [
       "True"
      ]
     },
     "execution_count": 95,
     "metadata": {},
     "output_type": "execute_result"
    }
   ],
   "source": [
    "s.endswith('d')"
   ]
  },
  {
   "cell_type": "code",
   "execution_count": 96,
   "id": "5093cc00",
   "metadata": {},
   "outputs": [
    {
     "data": {
      "text/plain": [
       "False"
      ]
     },
     "execution_count": 96,
     "metadata": {},
     "output_type": "execute_result"
    }
   ],
   "source": [
    "s.startswith('h')"
   ]
  },
  {
   "cell_type": "code",
   "execution_count": 97,
   "id": "820a8795",
   "metadata": {},
   "outputs": [
    {
     "data": {
      "text/plain": [
       "'Hello\\tWorld'"
      ]
     },
     "execution_count": 97,
     "metadata": {},
     "output_type": "execute_result"
    }
   ],
   "source": [
    "s"
   ]
  },
  {
   "cell_type": "code",
   "execution_count": 98,
   "id": "76b3025f",
   "metadata": {},
   "outputs": [],
   "source": [
    "#split"
   ]
  },
  {
   "cell_type": "code",
   "execution_count": 99,
   "id": "dae27da2",
   "metadata": {},
   "outputs": [],
   "source": [
    "s = \"I love my India\""
   ]
  },
  {
   "cell_type": "code",
   "execution_count": 101,
   "id": "5bd1cc99",
   "metadata": {},
   "outputs": [
    {
     "data": {
      "text/plain": [
       "['I', 'love', 'my', 'India']"
      ]
     },
     "execution_count": 101,
     "metadata": {},
     "output_type": "execute_result"
    }
   ],
   "source": [
    "s.split() #by defualt it will split from space"
   ]
  },
  {
   "cell_type": "code",
   "execution_count": 102,
   "id": "de8436bd",
   "metadata": {},
   "outputs": [
    {
     "data": {
      "text/plain": [
       "['I love my India']"
      ]
     },
     "execution_count": 102,
     "metadata": {},
     "output_type": "execute_result"
    }
   ],
   "source": [
    "s.split('r')"
   ]
  },
  {
   "cell_type": "code",
   "execution_count": 103,
   "id": "2607ef8c",
   "metadata": {},
   "outputs": [
    {
     "data": {
      "text/plain": [
       "['', ' love my ', 'ndia']"
      ]
     },
     "execution_count": 103,
     "metadata": {},
     "output_type": "execute_result"
    }
   ],
   "source": [
    "s.split('I')"
   ]
  },
  {
   "cell_type": "code",
   "execution_count": 104,
   "id": "40e0d20a",
   "metadata": {},
   "outputs": [],
   "source": [
    "s1 = \"\"\"Hello My name is Ravi.\n",
    "I am Here to tell you about Python\"\"\""
   ]
  },
  {
   "cell_type": "code",
   "execution_count": 106,
   "id": "81386725",
   "metadata": {},
   "outputs": [
    {
     "data": {
      "text/plain": [
       "['Hello My name is Ravi.', 'I am Here to tell you about Python']"
      ]
     },
     "execution_count": 106,
     "metadata": {},
     "output_type": "execute_result"
    }
   ],
   "source": [
    "s1.split('\\n')"
   ]
  },
  {
   "cell_type": "code",
   "execution_count": 107,
   "id": "0c554822",
   "metadata": {},
   "outputs": [
    {
     "data": {
      "text/plain": [
       "['Hello My name is Ravi.', 'I am Here to tell you about Python']"
      ]
     },
     "execution_count": 107,
     "metadata": {},
     "output_type": "execute_result"
    }
   ],
   "source": [
    "s1.splitlines()"
   ]
  },
  {
   "cell_type": "code",
   "execution_count": 108,
   "id": "36b2619f",
   "metadata": {},
   "outputs": [],
   "source": [
    "#join"
   ]
  },
  {
   "cell_type": "code",
   "execution_count": 111,
   "id": "d4841e21",
   "metadata": {},
   "outputs": [
    {
     "data": {
      "text/plain": [
       "'I-love-my-India'"
      ]
     },
     "execution_count": 111,
     "metadata": {},
     "output_type": "execute_result"
    }
   ],
   "source": [
    "\"-\".join(['I', 'love', 'my', 'India'])"
   ]
  },
  {
   "cell_type": "code",
   "execution_count": 112,
   "id": "6dac03e4",
   "metadata": {},
   "outputs": [
    {
     "data": {
      "text/plain": [
       "'I*love*my*India'"
      ]
     },
     "execution_count": 112,
     "metadata": {},
     "output_type": "execute_result"
    }
   ],
   "source": [
    "\"*\".join(['I', 'love', 'my', 'India'])"
   ]
  },
  {
   "cell_type": "code",
   "execution_count": null,
   "id": "dac3ed3f",
   "metadata": {},
   "outputs": [],
   "source": []
  }
 ],
 "metadata": {
  "kernelspec": {
   "display_name": "Python 3 (ipykernel)",
   "language": "python",
   "name": "python3"
  },
  "language_info": {
   "codemirror_mode": {
    "name": "ipython",
    "version": 3
   },
   "file_extension": ".py",
   "mimetype": "text/x-python",
   "name": "python",
   "nbconvert_exporter": "python",
   "pygments_lexer": "ipython3",
   "version": "3.9.7"
  }
 },
 "nbformat": 4,
 "nbformat_minor": 5
}
