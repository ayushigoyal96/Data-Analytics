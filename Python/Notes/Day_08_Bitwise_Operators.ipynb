{
 "cells": [
  {
   "cell_type": "code",
   "execution_count": 1,
   "id": "0131f8a3",
   "metadata": {},
   "outputs": [
    {
     "name": "stdout",
     "output_type": "stream",
     "text": [
      "(1, 2, 3, 4, 5) <class 'tuple'>\n"
     ]
    }
   ],
   "source": [
    "a = 1,2,3,4,5\n",
    "print(a,type(a))"
   ]
  },
  {
   "cell_type": "code",
   "execution_count": 2,
   "id": "abfa63df",
   "metadata": {},
   "outputs": [
    {
     "name": "stdout",
     "output_type": "stream",
     "text": [
      "2 <class 'int'>\n",
      "3 <class 'int'>\n"
     ]
    }
   ],
   "source": [
    "a,b = 2,3\n",
    "print(a,type(a))\n",
    "print(b,type(b))"
   ]
  },
  {
   "cell_type": "code",
   "execution_count": 3,
   "id": "ba147d85",
   "metadata": {},
   "outputs": [
    {
     "name": "stdout",
     "output_type": "stream",
     "text": [
      "([1, 2, 3], [4, 5, 6]) <class 'tuple'>\n"
     ]
    }
   ],
   "source": [
    "a = [1,2,3],[4,5,6]\n",
    "print(a,type(a))"
   ]
  },
  {
   "cell_type": "code",
   "execution_count": 16,
   "id": "5a681b4c",
   "metadata": {},
   "outputs": [],
   "source": [
    "a = ({1,2,3,4},)"
   ]
  },
  {
   "cell_type": "code",
   "execution_count": 17,
   "id": "25c6a44c",
   "metadata": {},
   "outputs": [
    {
     "name": "stdout",
     "output_type": "stream",
     "text": [
      "({1, 2, 3, 4},) <class 'tuple'>\n"
     ]
    }
   ],
   "source": [
    "print(a,type(a))"
   ]
  },
  {
   "cell_type": "code",
   "execution_count": 9,
   "id": "59e3b79c",
   "metadata": {},
   "outputs": [
    {
     "data": {
      "text/plain": [
       "({1, 2, 3, 4},)"
      ]
     },
     "execution_count": 9,
     "metadata": {},
     "output_type": "execute_result"
    }
   ],
   "source": [
    "a"
   ]
  },
  {
   "cell_type": "code",
   "execution_count": 15,
   "id": "e222b688",
   "metadata": {},
   "outputs": [
    {
     "name": "stdout",
     "output_type": "stream",
     "text": [
      "(4,) <class 'tuple'>\n"
     ]
    }
   ],
   "source": [
    "a = (4,)\n",
    "print(a,type(a))"
   ]
  },
  {
   "cell_type": "code",
   "execution_count": 19,
   "id": "05d55073",
   "metadata": {},
   "outputs": [
    {
     "data": {
      "text/plain": [
       "{1, 2, 3, 4}"
      ]
     },
     "execution_count": 19,
     "metadata": {},
     "output_type": "execute_result"
    }
   ],
   "source": [
    "a[0]"
   ]
  },
  {
   "cell_type": "markdown",
   "id": "7b3062c4",
   "metadata": {},
   "source": [
    "# Concatenation in Sequence "
   ]
  },
  {
   "cell_type": "code",
   "execution_count": 20,
   "id": "6e94f703",
   "metadata": {},
   "outputs": [],
   "source": [
    "s = \"Hello \"\n",
    "s1 = \"World\""
   ]
  },
  {
   "cell_type": "code",
   "execution_count": 21,
   "id": "69395d18",
   "metadata": {},
   "outputs": [
    {
     "name": "stdout",
     "output_type": "stream",
     "text": [
      "Hello World\n"
     ]
    }
   ],
   "source": [
    "print(s+s1)"
   ]
  },
  {
   "cell_type": "code",
   "execution_count": 22,
   "id": "9c5d9128",
   "metadata": {},
   "outputs": [
    {
     "name": "stdout",
     "output_type": "stream",
     "text": [
      "[5, 6, 7, 8, 1, 2, 3, 4]\n"
     ]
    }
   ],
   "source": [
    "l = [1,2,3,4]\n",
    "l1 = [5,6,7,8]\n",
    "print(l1+l)"
   ]
  },
  {
   "cell_type": "code",
   "execution_count": 23,
   "id": "637900aa",
   "metadata": {},
   "outputs": [],
   "source": [
    "l = [1,2,3,4,5]"
   ]
  },
  {
   "cell_type": "code",
   "execution_count": 25,
   "id": "d0d1c679",
   "metadata": {},
   "outputs": [
    {
     "data": {
      "text/plain": [
       "[5, 1, 2, 3, 4]"
      ]
     },
     "execution_count": 25,
     "metadata": {},
     "output_type": "execute_result"
    }
   ],
   "source": [
    "l[4:]+l[:4]"
   ]
  },
  {
   "cell_type": "code",
   "execution_count": 26,
   "id": "1d809725",
   "metadata": {},
   "outputs": [],
   "source": [
    "l = [44,66,33,99,54,34,23,78,56,34]\n",
    "teamA = l[::2]\n",
    "teamB = l[1::2]"
   ]
  },
  {
   "cell_type": "code",
   "execution_count": 27,
   "id": "d2f97f06",
   "metadata": {},
   "outputs": [
    {
     "name": "stdout",
     "output_type": "stream",
     "text": [
      "[44, 33, 54, 23, 56]\n"
     ]
    }
   ],
   "source": [
    "print(teamA)"
   ]
  },
  {
   "cell_type": "code",
   "execution_count": 28,
   "id": "0ca7eaf8",
   "metadata": {},
   "outputs": [
    {
     "name": "stdout",
     "output_type": "stream",
     "text": [
      "[66, 99, 34, 78, 34]\n"
     ]
    }
   ],
   "source": [
    "print(teamB)"
   ]
  },
  {
   "cell_type": "code",
   "execution_count": 29,
   "id": "bbb012c6",
   "metadata": {},
   "outputs": [
    {
     "name": "stdout",
     "output_type": "stream",
     "text": [
      "Team B Wins!!\n"
     ]
    }
   ],
   "source": [
    "x = sum(teamA)\n",
    "y = sum(teamB)\n",
    "if x>y:\n",
    "    print(\"Team A Wins!!\")\n",
    "elif x == y:\n",
    "    print(\"Match Draw!!\")\n",
    "else:\n",
    "    print('Team B Wins!!')"
   ]
  },
  {
   "cell_type": "code",
   "execution_count": 40,
   "id": "5e77c024",
   "metadata": {},
   "outputs": [
    {
     "name": "stdout",
     "output_type": "stream",
     "text": [
      "Enter the month number (1-12) --> 5\n",
      "Current Month -->  May\n",
      "Before Month -->  Jan Feb Mar Apr\n",
      "After Month --> Jun Jul Aug Sep Oct Nov Dec\n"
     ]
    }
   ],
   "source": [
    "l = ['Jan','Feb','Mar','Apr','May','Jun','Jul','Aug','Sep','Oct','Nov','Dec']\n",
    "month = int(input(\"Enter the month number (1-12) --> \")) \n",
    "print(\"Current Month --> \",l[month-1])\n",
    "print(\"Before Month --> \",*l[:month-1])\n",
    "print(\"After Month -->\",*l[month:])"
   ]
  },
  {
   "cell_type": "code",
   "execution_count": 34,
   "id": "66219877",
   "metadata": {},
   "outputs": [
    {
     "name": "stdout",
     "output_type": "stream",
     "text": [
      "Enter a number --> 4\n",
      "Enter another number --> 9\n",
      "4 + 9 = 13\n"
     ]
    }
   ],
   "source": [
    "a = int(input(\"Enter a number --> \"))\n",
    "b = int(input(\"Enter another number --> \"))\n",
    "print(f\"{a} + {b} = {a+b}\")"
   ]
  },
  {
   "cell_type": "code",
   "execution_count": 41,
   "id": "06f063fa",
   "metadata": {},
   "outputs": [],
   "source": [
    "#Bitwise operators"
   ]
  },
  {
   "cell_type": "markdown",
   "id": "47b83f01",
   "metadata": {},
   "source": [
    "    1. &\n",
    "    2. |\n",
    "    3. ^\n",
    "    4. >>\n",
    "    5. <<\n",
    "    6. ~"
   ]
  },
  {
   "cell_type": "code",
   "execution_count": 42,
   "id": "b4420c3f",
   "metadata": {},
   "outputs": [
    {
     "name": "stdout",
     "output_type": "stream",
     "text": [
      "0\n"
     ]
    }
   ],
   "source": [
    "print(16&8) #and"
   ]
  },
  {
   "cell_type": "code",
   "execution_count": 43,
   "id": "7ea36414",
   "metadata": {},
   "outputs": [
    {
     "name": "stdout",
     "output_type": "stream",
     "text": [
      "23\n"
     ]
    }
   ],
   "source": [
    "print(19|21) #OR"
   ]
  },
  {
   "cell_type": "code",
   "execution_count": 44,
   "id": "f5d92988",
   "metadata": {},
   "outputs": [
    {
     "data": {
      "text/plain": [
       "20"
      ]
     },
     "execution_count": 44,
     "metadata": {},
     "output_type": "execute_result"
    }
   ],
   "source": [
    "10<<1"
   ]
  },
  {
   "cell_type": "code",
   "execution_count": 45,
   "id": "27d8a6ce",
   "metadata": {},
   "outputs": [
    {
     "data": {
      "text/plain": [
       "80"
      ]
     },
     "execution_count": 45,
     "metadata": {},
     "output_type": "execute_result"
    }
   ],
   "source": [
    "10<<3"
   ]
  },
  {
   "cell_type": "code",
   "execution_count": 46,
   "id": "b47b9e94",
   "metadata": {},
   "outputs": [
    {
     "data": {
      "text/plain": [
       "50"
      ]
     },
     "execution_count": 46,
     "metadata": {},
     "output_type": "execute_result"
    }
   ],
   "source": [
    "400>>3"
   ]
  },
  {
   "cell_type": "code",
   "execution_count": 47,
   "id": "821a63e9",
   "metadata": {},
   "outputs": [
    {
     "data": {
      "text/plain": [
       "800"
      ]
     },
     "execution_count": 47,
     "metadata": {},
     "output_type": "execute_result"
    }
   ],
   "source": [
    "200<<2"
   ]
  },
  {
   "cell_type": "code",
   "execution_count": 48,
   "id": "9ad24699",
   "metadata": {},
   "outputs": [
    {
     "data": {
      "text/plain": [
       "37"
      ]
     },
     "execution_count": 48,
     "metadata": {},
     "output_type": "execute_result"
    }
   ],
   "source": [
    "75>>1"
   ]
  },
  {
   "cell_type": "code",
   "execution_count": 49,
   "id": "ec7ad470",
   "metadata": {},
   "outputs": [
    {
     "data": {
      "text/plain": [
       "140"
      ]
     },
     "execution_count": 49,
     "metadata": {},
     "output_type": "execute_result"
    }
   ],
   "source": [
    "35<<2"
   ]
  },
  {
   "cell_type": "code",
   "execution_count": 50,
   "id": "5f4165c3",
   "metadata": {},
   "outputs": [
    {
     "data": {
      "text/plain": [
       "8"
      ]
     },
     "execution_count": 50,
     "metadata": {},
     "output_type": "execute_result"
    }
   ],
   "source": [
    "35>>2"
   ]
  },
  {
   "cell_type": "code",
   "execution_count": 51,
   "id": "a29745cf",
   "metadata": {},
   "outputs": [
    {
     "data": {
      "text/plain": [
       "-6"
      ]
     },
     "execution_count": 51,
     "metadata": {},
     "output_type": "execute_result"
    }
   ],
   "source": [
    "~5"
   ]
  },
  {
   "cell_type": "code",
   "execution_count": 52,
   "id": "96aab126",
   "metadata": {},
   "outputs": [
    {
     "data": {
      "text/plain": [
       "8"
      ]
     },
     "execution_count": 52,
     "metadata": {},
     "output_type": "execute_result"
    }
   ],
   "source": [
    "~-9"
   ]
  },
  {
   "cell_type": "code",
   "execution_count": null,
   "id": "81100772",
   "metadata": {},
   "outputs": [],
   "source": []
  }
 ],
 "metadata": {
  "kernelspec": {
   "display_name": "Python 3 (ipykernel)",
   "language": "python",
   "name": "python3"
  },
  "language_info": {
   "codemirror_mode": {
    "name": "ipython",
    "version": 3
   },
   "file_extension": ".py",
   "mimetype": "text/x-python",
   "name": "python",
   "nbconvert_exporter": "python",
   "pygments_lexer": "ipython3",
   "version": "3.9.7"
  }
 },
 "nbformat": 4,
 "nbformat_minor": 5
}
