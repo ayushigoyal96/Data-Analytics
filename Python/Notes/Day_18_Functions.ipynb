{
 "cells": [
  {
   "cell_type": "code",
   "execution_count": 1,
   "id": "71ae391d",
   "metadata": {},
   "outputs": [
    {
     "name": "stdout",
     "output_type": "stream",
     "text": [
      "None\n"
     ]
    }
   ],
   "source": [
    "l = [12,3,235,34,6,346,457,45,754,6,34]\n",
    "a = l.append(99)\n",
    "print(a)"
   ]
  },
  {
   "cell_type": "code",
   "execution_count": 2,
   "id": "215b5423",
   "metadata": {},
   "outputs": [],
   "source": [
    "import builtins"
   ]
  },
  {
   "cell_type": "code",
   "execution_count": 4,
   "id": "7b8e291d",
   "metadata": {},
   "outputs": [
    {
     "name": "stdout",
     "output_type": "stream",
     "text": [
      "['abs', 'all', 'any', 'ascii', 'bin', 'bool', 'breakpoint', 'bytearray', 'bytes', 'callable', 'chr', 'classmethod', 'compile', 'complex', 'copyright', 'credits', 'delattr', 'dict', 'dir', 'display', 'divmod', 'enumerate', 'eval', 'exec', 'execfile', 'filter', 'float', 'format', 'frozenset', 'get_ipython', 'getattr', 'globals', 'hasattr', 'hash', 'help', 'hex', 'id', 'input', 'int', 'isinstance', 'issubclass', 'iter', 'len', 'license', 'list', 'locals', 'map', 'max', 'memoryview', 'min', 'next', 'object', 'oct', 'open', 'ord', 'pow', 'print', 'property', 'range', 'repr', 'reversed', 'round', 'runfile', 'set', 'setattr', 'slice', 'sorted', 'staticmethod', 'str', 'sum', 'super', 'tuple', 'type', 'vars', 'zip']\n"
     ]
    }
   ],
   "source": [
    "print(dir(builtins)[81:])"
   ]
  },
  {
   "cell_type": "code",
   "execution_count": 5,
   "id": "1b7a6abc",
   "metadata": {},
   "outputs": [
    {
     "data": {
      "text/plain": [
       "'Hello World'"
      ]
     },
     "execution_count": 5,
     "metadata": {},
     "output_type": "execute_result"
    }
   ],
   "source": [
    "'Hello World'"
   ]
  },
  {
   "cell_type": "code",
   "execution_count": 6,
   "id": "929777ec",
   "metadata": {},
   "outputs": [
    {
     "name": "stdout",
     "output_type": "stream",
     "text": [
      "Hello World\n"
     ]
    }
   ],
   "source": [
    "print(\"Hello World\")"
   ]
  },
  {
   "cell_type": "code",
   "execution_count": 7,
   "id": "baa8492c",
   "metadata": {},
   "outputs": [
    {
     "name": "stdout",
     "output_type": "stream",
     "text": [
      "'Hello World'\n"
     ]
    }
   ],
   "source": [
    "print(repr(\"Hello World\"))"
   ]
  },
  {
   "cell_type": "code",
   "execution_count": 8,
   "id": "f612fbc0",
   "metadata": {},
   "outputs": [],
   "source": [
    "l = [1,2,3,4353,24,23,54,325,24,365,23,4,34,5,34,5,345,3,4]"
   ]
  },
  {
   "cell_type": "code",
   "execution_count": 10,
   "id": "ff5e86ab",
   "metadata": {},
   "outputs": [
    {
     "data": {
      "text/plain": [
       "[4, 3, 345, 5, 34, 5, 34, 4, 23, 365, 24, 325, 54, 23, 24, 4353, 3, 2, 1]"
      ]
     },
     "execution_count": 10,
     "metadata": {},
     "output_type": "execute_result"
    }
   ],
   "source": [
    "list(reversed(l))"
   ]
  },
  {
   "cell_type": "code",
   "execution_count": 11,
   "id": "c1fcf764",
   "metadata": {},
   "outputs": [
    {
     "data": {
      "text/plain": [
       "[1, 2, 3, 4353, 24, 23, 54, 325, 24, 365, 23, 4, 34, 5, 34, 5, 345, 3, 4]"
      ]
     },
     "execution_count": 11,
     "metadata": {},
     "output_type": "execute_result"
    }
   ],
   "source": [
    "l"
   ]
  },
  {
   "cell_type": "code",
   "execution_count": 12,
   "id": "a08b561d",
   "metadata": {},
   "outputs": [
    {
     "data": {
      "text/plain": [
       "[1, 2, 3, 3, 4, 4, 5, 5, 23, 23, 24, 24, 34, 34, 54, 325, 345, 365, 4353]"
      ]
     },
     "execution_count": 12,
     "metadata": {},
     "output_type": "execute_result"
    }
   ],
   "source": [
    "sorted(l)"
   ]
  },
  {
   "cell_type": "code",
   "execution_count": 13,
   "id": "1d4c4d65",
   "metadata": {},
   "outputs": [
    {
     "data": {
      "text/plain": [
       "[4353, 365, 345, 325, 54, 34, 34, 24, 24, 23, 23, 5, 5, 4, 4, 3, 3, 2, 1]"
      ]
     },
     "execution_count": 13,
     "metadata": {},
     "output_type": "execute_result"
    }
   ],
   "source": [
    "sorted(l,reverse=True)"
   ]
  },
  {
   "cell_type": "code",
   "execution_count": 22,
   "id": "7de677ce",
   "metadata": {},
   "outputs": [
    {
     "data": {
      "text/plain": [
       "45"
      ]
     },
     "execution_count": 22,
     "metadata": {},
     "output_type": "execute_result"
    }
   ],
   "source": [
    "sum([1,2,3,4,5,6,7,8,9])"
   ]
  },
  {
   "cell_type": "code",
   "execution_count": 23,
   "id": "89fd5fe6",
   "metadata": {},
   "outputs": [
    {
     "data": {
      "text/plain": [
       "[4, 5, 6, 1, 2, 3]"
      ]
     },
     "execution_count": 23,
     "metadata": {},
     "output_type": "execute_result"
    }
   ],
   "source": [
    "sum([[1,2,3]],[4,5,6])"
   ]
  },
  {
   "cell_type": "markdown",
   "id": "d2cabe25",
   "metadata": {},
   "source": [
    "# User defined Functions "
   ]
  },
  {
   "cell_type": "code",
   "execution_count": 24,
   "id": "2e628a14",
   "metadata": {},
   "outputs": [],
   "source": [
    "def hello(): #defination\n",
    "    \"\"\"I am a hello Function!!!\n",
    "    I am used to Print Hello to stdout\"\"\"\n",
    "    print(\"Hello\")"
   ]
  },
  {
   "cell_type": "code",
   "execution_count": 26,
   "id": "c55558c9",
   "metadata": {},
   "outputs": [
    {
     "name": "stdout",
     "output_type": "stream",
     "text": [
      "Hello\n",
      "None\n"
     ]
    }
   ],
   "source": [
    "a = hello() #calling\n",
    "print(a) #return"
   ]
  },
  {
   "cell_type": "markdown",
   "id": "e42a9afb",
   "metadata": {},
   "source": [
    "1. Defination\n",
    "2. Calling\n",
    "3. Return"
   ]
  },
  {
   "cell_type": "code",
   "execution_count": 29,
   "id": "963e697c",
   "metadata": {},
   "outputs": [],
   "source": [
    "def hi():\n",
    "    return \"Hi World\""
   ]
  },
  {
   "cell_type": "code",
   "execution_count": 31,
   "id": "e1ac8599",
   "metadata": {},
   "outputs": [
    {
     "name": "stdout",
     "output_type": "stream",
     "text": [
      "Hi World\n"
     ]
    }
   ],
   "source": [
    "print(hi())"
   ]
  },
  {
   "cell_type": "markdown",
   "id": "136d4a58",
   "metadata": {},
   "source": [
    "#  Arguments or Parameters\n",
    "\n",
    "\n",
    "1. Positional Arguments\n",
    "2. Default Arguments\n",
    "3. Multiple Arguments\n",
    "4. Keyword Arguments"
   ]
  },
  {
   "cell_type": "markdown",
   "id": "ed9b143c",
   "metadata": {},
   "source": [
    "### Positional Arguments "
   ]
  },
  {
   "cell_type": "code",
   "execution_count": 35,
   "id": "f9912f94",
   "metadata": {},
   "outputs": [],
   "source": [
    "def heya(a,b,d,c):\n",
    "    print(f\"a --> {a}\")\n",
    "    print(f\"b --> {b}\")\n",
    "    print(f\"c --> {c}\")\n",
    "    print(f\"d --> {d}\")\n",
    "    return \"DONE\""
   ]
  },
  {
   "cell_type": "code",
   "execution_count": 36,
   "id": "f2ecf9d8",
   "metadata": {},
   "outputs": [
    {
     "name": "stdout",
     "output_type": "stream",
     "text": [
      "a --> 4\n",
      "b --> 7\n",
      "c --> 9\n",
      "d --> 2\n",
      "DONE\n"
     ]
    }
   ],
   "source": [
    "print(heya(4,7,2,9))"
   ]
  },
  {
   "cell_type": "code",
   "execution_count": 37,
   "id": "1c77846d",
   "metadata": {},
   "outputs": [],
   "source": [
    "def check(num):\n",
    "    if num%2:\n",
    "        return f\"{num} is Odd\"\n",
    "    else:\n",
    "        return f\"{num} is Even\""
   ]
  },
  {
   "cell_type": "code",
   "execution_count": 40,
   "id": "bff09c9b",
   "metadata": {},
   "outputs": [
    {
     "name": "stdout",
     "output_type": "stream",
     "text": [
      "5 is Odd\n"
     ]
    }
   ],
   "source": [
    "print(check(5))"
   ]
  },
  {
   "cell_type": "code",
   "execution_count": 41,
   "id": "2da13212",
   "metadata": {},
   "outputs": [],
   "source": [
    "def check(num):\n",
    "    if num%2:\n",
    "        return False\n",
    "    else:\n",
    "        return True"
   ]
  },
  {
   "cell_type": "code",
   "execution_count": 44,
   "id": "ecb063b1",
   "metadata": {},
   "outputs": [
    {
     "name": "stdout",
     "output_type": "stream",
     "text": [
      "Enter a number --> 9\n",
      "9 is Odd\n"
     ]
    }
   ],
   "source": [
    "num = int(input(\"Enter a number --> \"))\n",
    "if check(num):\n",
    "    print(f\"{num} is Even\")\n",
    "else:\n",
    "    print(f\"{num} is Odd\")"
   ]
  },
  {
   "cell_type": "code",
   "execution_count": 54,
   "id": "726bf57d",
   "metadata": {},
   "outputs": [],
   "source": [
    "def fibo(n):\n",
    "    a = 0\n",
    "    b = 1\n",
    "    for var in range(n):\n",
    "        print(a,end=\"\\t\")\n",
    "        b,a = a+b,b"
   ]
  },
  {
   "cell_type": "code",
   "execution_count": 55,
   "id": "e9e6643a",
   "metadata": {},
   "outputs": [
    {
     "name": "stdout",
     "output_type": "stream",
     "text": [
      "0\t1\t1\t2\t3\t5\t8\t13\t21\t34\t55\t89\t144\t233\t377\t"
     ]
    }
   ],
   "source": [
    "fibo(15)"
   ]
  },
  {
   "cell_type": "code",
   "execution_count": 56,
   "id": "3c491744",
   "metadata": {},
   "outputs": [],
   "source": [
    "def prime(num):\n",
    "    c = 0\n",
    "    for var in range(1,num+1):\n",
    "        if num%var == 0:\n",
    "            c+=1\n",
    "    if c==2:\n",
    "        return True\n",
    "    else:\n",
    "        return False"
   ]
  },
  {
   "cell_type": "code",
   "execution_count": 58,
   "id": "4c8c8a82",
   "metadata": {},
   "outputs": [
    {
     "data": {
      "text/plain": [
       "True"
      ]
     },
     "execution_count": 58,
     "metadata": {},
     "output_type": "execute_result"
    }
   ],
   "source": [
    "prime(2)"
   ]
  },
  {
   "cell_type": "code",
   "execution_count": 60,
   "id": "f58aa394",
   "metadata": {},
   "outputs": [
    {
     "data": {
      "text/plain": [
       "True"
      ]
     },
     "execution_count": 60,
     "metadata": {},
     "output_type": "execute_result"
    }
   ],
   "source": [
    "prime(61)"
   ]
  },
  {
   "cell_type": "code",
   "execution_count": 61,
   "id": "c3491541",
   "metadata": {},
   "outputs": [],
   "source": [
    "def prime_range(s,e):\n",
    "    for num in range(s,e+1):\n",
    "        if prime(num):\n",
    "            print(f\"{num}\",end=\"\\t\")"
   ]
  },
  {
   "cell_type": "code",
   "execution_count": 62,
   "id": "55663763",
   "metadata": {},
   "outputs": [
    {
     "name": "stdout",
     "output_type": "stream",
     "text": [
      "2\t3\t5\t7\t11\t13\t17\t19\t23\t29\t31\t37\t41\t43\t47\t53\t59\t61\t67\t71\t73\t79\t83\t89\t97\t101\t103\t107\t109\t113\t127\t131\t137\t139\t149\t151\t157\t163\t167\t173\t179\t181\t191\t193\t197\t199\t211\t223\t227\t229\t233\t239\t241\t251\t257\t263\t269\t271\t277\t281\t283\t293\t307\t311\t313\t317\t331\t337\t347\t349\t353\t359\t367\t373\t379\t383\t389\t397\t401\t409\t419\t421\t431\t433\t439\t443\t449\t457\t461\t463\t467\t479\t487\t491\t499\t503\t509\t521\t523\t541\t547\t557\t563\t569\t571\t577\t587\t593\t599\t601\t607\t613\t617\t619\t631\t641\t643\t647\t653\t659\t661\t673\t677\t683\t691\t701\t709\t719\t727\t733\t739\t743\t751\t757\t761\t769\t773\t787\t797\t809\t811\t821\t823\t827\t829\t839\t853\t857\t859\t863\t877\t881\t883\t887\t907\t911\t919\t929\t937\t941\t947\t953\t967\t971\t977\t983\t991\t997\t"
     ]
    }
   ],
   "source": [
    "prime_range(1,1000)"
   ]
  },
  {
   "cell_type": "code",
   "execution_count": 66,
   "id": "fc783d88",
   "metadata": {},
   "outputs": [
    {
     "data": {
      "text/plain": [
       "[('red', 'apple'),\n",
       " ('red', 'grapes'),\n",
       " ('red', 'guava'),\n",
       " ('blue', 'apple'),\n",
       " ('blue', 'grapes'),\n",
       " ('blue', 'guava'),\n",
       " ('green', 'apple'),\n",
       " ('green', 'grapes'),\n",
       " ('green', 'guava')]"
      ]
     },
     "execution_count": 66,
     "metadata": {},
     "output_type": "execute_result"
    }
   ],
   "source": [
    "x = ['red','blue','green']\n",
    "y = ['apple','grapes','guava']\n",
    "[(var1,var2) for var1 in x for var2 in y]"
   ]
  },
  {
   "cell_type": "code",
   "execution_count": 67,
   "id": "b473d1fb",
   "metadata": {},
   "outputs": [],
   "source": [
    "#default args"
   ]
  },
  {
   "cell_type": "code",
   "execution_count": 70,
   "id": "bf9548d0",
   "metadata": {},
   "outputs": [
    {
     "ename": "SyntaxError",
     "evalue": "non-default argument follows default argument (Temp/ipykernel_9908/2820973483.py, line 1)",
     "output_type": "error",
     "traceback": [
      "\u001b[1;36m  File \u001b[1;32m\"C:\\Users\\HP-PC\\AppData\\Local\\Temp/ipykernel_9908/2820973483.py\"\u001b[1;36m, line \u001b[1;32m1\u001b[0m\n\u001b[1;33m    def myfun(a=4,b,c):\u001b[0m\n\u001b[1;37m                    ^\u001b[0m\n\u001b[1;31mSyntaxError\u001b[0m\u001b[1;31m:\u001b[0m non-default argument follows default argument\n"
     ]
    }
   ],
   "source": [
    "def myfun(a=4,b,c):\n",
    "    print(\"a --> \",a)\n",
    "    print(\"b --> \",b)\n",
    "    print(\"c -->\",c)"
   ]
  },
  {
   "cell_type": "code",
   "execution_count": 69,
   "id": "66922bdf",
   "metadata": {},
   "outputs": [
    {
     "name": "stdout",
     "output_type": "stream",
     "text": [
      "a -->  3\n",
      "b -->  4\n",
      "c --> 5\n"
     ]
    }
   ],
   "source": [
    "myfun(4,5)"
   ]
  },
  {
   "cell_type": "code",
   "execution_count": 74,
   "id": "0ad0ada4",
   "metadata": {},
   "outputs": [],
   "source": [
    "def myfun(a,b=77,c=4):\n",
    "    print(\"a --> \",a)\n",
    "    print(\"b --> \",b)\n",
    "    print(\"c -->\",c)"
   ]
  },
  {
   "cell_type": "code",
   "execution_count": 78,
   "id": "9509763f",
   "metadata": {},
   "outputs": [
    {
     "name": "stdout",
     "output_type": "stream",
     "text": [
      "a -->  55\n",
      "b -->  77\n",
      "c --> 4\n"
     ]
    }
   ],
   "source": [
    "myfun(55)"
   ]
  },
  {
   "cell_type": "code",
   "execution_count": 89,
   "id": "ab7fe323",
   "metadata": {},
   "outputs": [],
   "source": [
    "def str_rev(s=\"Python\"):\n",
    "    for var in range(len(s)-1,-1,-1):\n",
    "        print(s[var],end=\"\")"
   ]
  },
  {
   "cell_type": "code",
   "execution_count": 92,
   "id": "98b2e3a5",
   "metadata": {},
   "outputs": [
    {
     "name": "stdout",
     "output_type": "stream",
     "text": [
      "ivaR"
     ]
    }
   ],
   "source": [
    "str_rev(\"Ravi\")"
   ]
  },
  {
   "cell_type": "code",
   "execution_count": 91,
   "id": "63e5dd4a",
   "metadata": {},
   "outputs": [
    {
     "name": "stdout",
     "output_type": "stream",
     "text": [
      "nohtyP"
     ]
    }
   ],
   "source": [
    "str_rev()"
   ]
  },
  {
   "cell_type": "code",
   "execution_count": 93,
   "id": "5a778b95",
   "metadata": {},
   "outputs": [],
   "source": [
    "#Multiple Arguments"
   ]
  },
  {
   "cell_type": "code",
   "execution_count": 96,
   "id": "e258f989",
   "metadata": {},
   "outputs": [],
   "source": [
    "def add(*args):\n",
    "    s = 0\n",
    "    for var in args:\n",
    "        s+=var\n",
    "    return s"
   ]
  },
  {
   "cell_type": "code",
   "execution_count": 97,
   "id": "971229ca",
   "metadata": {},
   "outputs": [
    {
     "data": {
      "text/plain": [
       "2238"
      ]
     },
     "execution_count": 97,
     "metadata": {},
     "output_type": "execute_result"
    }
   ],
   "source": [
    "add(435,34,645,6,4,33,23,4,2,35,436,5,6,43,523,4)"
   ]
  },
  {
   "cell_type": "code",
   "execution_count": 98,
   "id": "623fb399",
   "metadata": {},
   "outputs": [
    {
     "data": {
      "text/plain": [
       "2238"
      ]
     },
     "execution_count": 98,
     "metadata": {},
     "output_type": "execute_result"
    }
   ],
   "source": [
    "sum([435,34,645,6,4,33,23,4,2,35,436,5,6,43,523,4])"
   ]
  },
  {
   "cell_type": "code",
   "execution_count": 100,
   "id": "ba4861f0",
   "metadata": {},
   "outputs": [
    {
     "name": "stdout",
     "output_type": "stream",
     "text": [
      "Enter marks of Eng, Hindi, Maths, Gk, Science, SST -->99 88 98 97 90 87\n",
      "99 88 98 97 90 87\n"
     ]
    }
   ],
   "source": [
    "marks = input(\"Enter marks of Eng, Hindi, Maths, Gk, Science, SST -->\")\n",
    "print(marks)"
   ]
  },
  {
   "cell_type": "code",
   "execution_count": 104,
   "id": "b19822e4",
   "metadata": {},
   "outputs": [
    {
     "data": {
      "text/plain": [
       "['99', '88', '98', '97', '90', '87']"
      ]
     },
     "execution_count": 104,
     "metadata": {},
     "output_type": "execute_result"
    }
   ],
   "source": [
    "marks.split()"
   ]
  },
  {
   "cell_type": "code",
   "execution_count": 113,
   "id": "a3b24c06",
   "metadata": {},
   "outputs": [],
   "source": [
    "Eng, Hindi, Maths, Gk, Science, SST = map(int,['99', '88', '98', '97', '90', '87'])"
   ]
  },
  {
   "cell_type": "code",
   "execution_count": 115,
   "id": "366f41ce",
   "metadata": {},
   "outputs": [
    {
     "data": {
      "text/plain": [
       "87"
      ]
     },
     "execution_count": 115,
     "metadata": {},
     "output_type": "execute_result"
    }
   ],
   "source": [
    "SST"
   ]
  },
  {
   "cell_type": "code",
   "execution_count": 143,
   "id": "92c03613",
   "metadata": {},
   "outputs": [],
   "source": [
    "def result(*args):\n",
    "    s = 0\n",
    "    for var in args:\n",
    "        s+=var\n",
    "    #print(s)\n",
    "    return f\"Total marks --> {s} and Per --> {(s/(len(args)*100)):.2%}\""
   ]
  },
  {
   "cell_type": "code",
   "execution_count": 144,
   "id": "70a91ef0",
   "metadata": {},
   "outputs": [
    {
     "name": "stdout",
     "output_type": "stream",
     "text": [
      "Total marks --> 439 and Per --> 87.80%\n"
     ]
    }
   ],
   "source": [
    "print(result(99,88,97,67,88))"
   ]
  },
  {
   "cell_type": "code",
   "execution_count": 145,
   "id": "033e6e33",
   "metadata": {},
   "outputs": [],
   "source": [
    "#Keyword Args"
   ]
  },
  {
   "cell_type": "code",
   "execution_count": 1,
   "id": "c7c03cfb",
   "metadata": {},
   "outputs": [],
   "source": [
    "def myfun(**kwargs):\n",
    "    for k,v in kwargs.items():\n",
    "        print(f\"{k} --> {v}\")"
   ]
  },
  {
   "cell_type": "code",
   "execution_count": 2,
   "id": "cbd81691",
   "metadata": {},
   "outputs": [
    {
     "name": "stdout",
     "output_type": "stream",
     "text": [
      "a --> 5\n",
      "b --> 9\n",
      "Name --> Ravi\n",
      "Age --> 23\n"
     ]
    }
   ],
   "source": [
    "myfun(a=5,b=9,Name=\"Ravi\",Age = 23)"
   ]
  },
  {
   "cell_type": "code",
   "execution_count": 157,
   "id": "0a3f49fb",
   "metadata": {},
   "outputs": [],
   "source": [
    "s = {\"Name\":'Ravi','Course':'Python','Age':'27','Location':'Sikar'}"
   ]
  },
  {
   "cell_type": "code",
   "execution_count": 159,
   "id": "53b60bb6",
   "metadata": {},
   "outputs": [
    {
     "name": "stdout",
     "output_type": "stream",
     "text": [
      "Name --> Ravi\n",
      "Course --> Python\n",
      "Age --> 27\n",
      "Location --> Sikar\n"
     ]
    }
   ],
   "source": [
    "myfun(**s)"
   ]
  },
  {
   "cell_type": "code",
   "execution_count": 160,
   "id": "4ebf31d2",
   "metadata": {},
   "outputs": [],
   "source": [
    "def perfect(num):\n",
    "    s = 0\n",
    "    for var in range(1,num):\n",
    "        if num%var == 0:\n",
    "            s +=var\n",
    "    if s == num:\n",
    "        return True\n",
    "    else:\n",
    "        return False"
   ]
  },
  {
   "cell_type": "code",
   "execution_count": 161,
   "id": "ff6fbb1f",
   "metadata": {},
   "outputs": [
    {
     "data": {
      "text/plain": [
       "True"
      ]
     },
     "execution_count": 161,
     "metadata": {},
     "output_type": "execute_result"
    }
   ],
   "source": [
    "perfect(6)"
   ]
  },
  {
   "cell_type": "code",
   "execution_count": 162,
   "id": "b6281eb1",
   "metadata": {},
   "outputs": [
    {
     "data": {
      "text/plain": [
       "False"
      ]
     },
     "execution_count": 162,
     "metadata": {},
     "output_type": "execute_result"
    }
   ],
   "source": [
    "perfect(15)"
   ]
  },
  {
   "cell_type": "code",
   "execution_count": 163,
   "id": "5162300a",
   "metadata": {},
   "outputs": [
    {
     "data": {
      "text/plain": [
       "True"
      ]
     },
     "execution_count": 163,
     "metadata": {},
     "output_type": "execute_result"
    }
   ],
   "source": [
    "perfect(28)"
   ]
  },
  {
   "cell_type": "markdown",
   "id": "df6e7f09",
   "metadata": {},
   "source": [
    "# Scope "
   ]
  },
  {
   "cell_type": "code",
   "execution_count": 4,
   "id": "87a73856",
   "metadata": {},
   "outputs": [],
   "source": [
    "def outer():\n",
    "    x = 5\n",
    "    print(\"Value of X inside functions is -->\",x)"
   ]
  },
  {
   "cell_type": "code",
   "execution_count": 5,
   "id": "8954807f",
   "metadata": {},
   "outputs": [
    {
     "name": "stdout",
     "output_type": "stream",
     "text": [
      "Value of X inside functions is --> 5\n"
     ]
    },
    {
     "ename": "NameError",
     "evalue": "name 'x' is not defined",
     "output_type": "error",
     "traceback": [
      "\u001b[1;31m---------------------------------------------------------------------------\u001b[0m",
      "\u001b[1;31mNameError\u001b[0m                                 Traceback (most recent call last)",
      "\u001b[1;32m~\\AppData\\Local\\Temp/ipykernel_3960/346864929.py\u001b[0m in \u001b[0;36m<module>\u001b[1;34m\u001b[0m\n\u001b[0;32m      1\u001b[0m \u001b[0mouter\u001b[0m\u001b[1;33m(\u001b[0m\u001b[1;33m)\u001b[0m\u001b[1;33m\u001b[0m\u001b[1;33m\u001b[0m\u001b[0m\n\u001b[1;32m----> 2\u001b[1;33m \u001b[0mprint\u001b[0m\u001b[1;33m(\u001b[0m\u001b[1;34m\"Value of X outside function is -->\"\u001b[0m\u001b[1;33m,\u001b[0m\u001b[0mx\u001b[0m\u001b[1;33m)\u001b[0m\u001b[1;33m\u001b[0m\u001b[1;33m\u001b[0m\u001b[0m\n\u001b[0m",
      "\u001b[1;31mNameError\u001b[0m: name 'x' is not defined"
     ]
    }
   ],
   "source": [
    "outer()\n",
    "print(\"Value of X outside function is -->\",x)"
   ]
  },
  {
   "cell_type": "code",
   "execution_count": 6,
   "id": "1fdf53c0",
   "metadata": {},
   "outputs": [
    {
     "name": "stdout",
     "output_type": "stream",
     "text": [
      "Value of X inside functions is --> 6\n",
      "Value of X outside function is --> 6\n"
     ]
    }
   ],
   "source": [
    "x = 6\n",
    "def outer():\n",
    "    #x = 5\n",
    "    print(\"Value of X inside functions is -->\",x)\n",
    "outer()\n",
    "print(\"Value of X outside function is -->\",x)"
   ]
  },
  {
   "cell_type": "code",
   "execution_count": 7,
   "id": "a3ba63a5",
   "metadata": {},
   "outputs": [
    {
     "name": "stdout",
     "output_type": "stream",
     "text": [
      "Value of X inside functions is --> 5\n",
      "Value of X outside function is --> 6\n"
     ]
    }
   ],
   "source": [
    "x = 6\n",
    "def outer():\n",
    "    x = 5\n",
    "    print(\"Value of X inside functions is -->\",x)\n",
    "outer()\n",
    "print(\"Value of X outside function is -->\",x)"
   ]
  },
  {
   "cell_type": "code",
   "execution_count": 8,
   "id": "7b484ffe",
   "metadata": {},
   "outputs": [
    {
     "ename": "UnboundLocalError",
     "evalue": "local variable 'x' referenced before assignment",
     "output_type": "error",
     "traceback": [
      "\u001b[1;31m---------------------------------------------------------------------------\u001b[0m",
      "\u001b[1;31mUnboundLocalError\u001b[0m                         Traceback (most recent call last)",
      "\u001b[1;32m~\\AppData\\Local\\Temp/ipykernel_3960/2122481673.py\u001b[0m in \u001b[0;36m<module>\u001b[1;34m\u001b[0m\n\u001b[0;32m      3\u001b[0m     \u001b[0mx\u001b[0m \u001b[1;33m+=\u001b[0m \u001b[1;36m5\u001b[0m\u001b[1;33m\u001b[0m\u001b[1;33m\u001b[0m\u001b[0m\n\u001b[0;32m      4\u001b[0m     \u001b[0mprint\u001b[0m\u001b[1;33m(\u001b[0m\u001b[1;34m\"Value of X inside functions is -->\"\u001b[0m\u001b[1;33m,\u001b[0m\u001b[0mx\u001b[0m\u001b[1;33m)\u001b[0m\u001b[1;33m\u001b[0m\u001b[1;33m\u001b[0m\u001b[0m\n\u001b[1;32m----> 5\u001b[1;33m \u001b[0mouter\u001b[0m\u001b[1;33m(\u001b[0m\u001b[1;33m)\u001b[0m\u001b[1;33m\u001b[0m\u001b[1;33m\u001b[0m\u001b[0m\n\u001b[0m\u001b[0;32m      6\u001b[0m \u001b[0mprint\u001b[0m\u001b[1;33m(\u001b[0m\u001b[1;34m\"Value of X outside function is -->\"\u001b[0m\u001b[1;33m,\u001b[0m\u001b[0mx\u001b[0m\u001b[1;33m)\u001b[0m\u001b[1;33m\u001b[0m\u001b[1;33m\u001b[0m\u001b[0m\n",
      "\u001b[1;32m~\\AppData\\Local\\Temp/ipykernel_3960/2122481673.py\u001b[0m in \u001b[0;36mouter\u001b[1;34m()\u001b[0m\n\u001b[0;32m      1\u001b[0m \u001b[0mx\u001b[0m \u001b[1;33m=\u001b[0m \u001b[1;36m6\u001b[0m\u001b[1;33m\u001b[0m\u001b[1;33m\u001b[0m\u001b[0m\n\u001b[0;32m      2\u001b[0m \u001b[1;32mdef\u001b[0m \u001b[0mouter\u001b[0m\u001b[1;33m(\u001b[0m\u001b[1;33m)\u001b[0m\u001b[1;33m:\u001b[0m\u001b[1;33m\u001b[0m\u001b[1;33m\u001b[0m\u001b[0m\n\u001b[1;32m----> 3\u001b[1;33m     \u001b[0mx\u001b[0m \u001b[1;33m+=\u001b[0m \u001b[1;36m5\u001b[0m\u001b[1;33m\u001b[0m\u001b[1;33m\u001b[0m\u001b[0m\n\u001b[0m\u001b[0;32m      4\u001b[0m     \u001b[0mprint\u001b[0m\u001b[1;33m(\u001b[0m\u001b[1;34m\"Value of X inside functions is -->\"\u001b[0m\u001b[1;33m,\u001b[0m\u001b[0mx\u001b[0m\u001b[1;33m)\u001b[0m\u001b[1;33m\u001b[0m\u001b[1;33m\u001b[0m\u001b[0m\n\u001b[0;32m      5\u001b[0m \u001b[0mouter\u001b[0m\u001b[1;33m(\u001b[0m\u001b[1;33m)\u001b[0m\u001b[1;33m\u001b[0m\u001b[1;33m\u001b[0m\u001b[0m\n",
      "\u001b[1;31mUnboundLocalError\u001b[0m: local variable 'x' referenced before assignment"
     ]
    }
   ],
   "source": [
    "x = 6\n",
    "def outer():\n",
    "    x += 5\n",
    "    print(\"Value of X inside functions is -->\",x)\n",
    "outer()\n",
    "print(\"Value of X outside function is -->\",x)"
   ]
  },
  {
   "cell_type": "code",
   "execution_count": 9,
   "id": "20065840",
   "metadata": {},
   "outputs": [
    {
     "name": "stdout",
     "output_type": "stream",
     "text": [
      "Value of X inside functions is --> 11\n",
      "Value of X outside function is --> 11\n"
     ]
    }
   ],
   "source": [
    "x = 6\n",
    "def outer():\n",
    "    global x\n",
    "    x += 5\n",
    "    print(\"Value of X inside functions is -->\",x)\n",
    "outer()\n",
    "print(\"Value of X outside function is -->\",x)"
   ]
  },
  {
   "cell_type": "code",
   "execution_count": null,
   "id": "eead0009",
   "metadata": {},
   "outputs": [],
   "source": [
    "      "
   ]
  }
 ],
 "metadata": {
  "kernelspec": {
   "display_name": "Python 3 (ipykernel)",
   "language": "python",
   "name": "python3"
  },
  "language_info": {
   "codemirror_mode": {
    "name": "ipython",
    "version": 3
   },
   "file_extension": ".py",
   "mimetype": "text/x-python",
   "name": "python",
   "nbconvert_exporter": "python",
   "pygments_lexer": "ipython3",
   "version": "3.9.7"
  }
 },
 "nbformat": 4,
 "nbformat_minor": 5
}
