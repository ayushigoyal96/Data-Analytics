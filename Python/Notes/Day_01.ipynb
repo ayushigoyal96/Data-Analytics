{
 "cells": [
  {
   "cell_type": "code",
   "execution_count": 3,
   "id": "f98347f5",
   "metadata": {},
   "outputs": [
    {
     "name": "stdout",
     "output_type": "stream",
     "text": [
      "Hello World\n"
     ]
    }
   ],
   "source": [
    "print(\"Hello World\") #This is a print statement"
   ]
  },
  {
   "cell_type": "markdown",
   "id": "0467a2ca",
   "metadata": {},
   "source": [
    "# Comments in Python"
   ]
  },
  {
   "cell_type": "markdown",
   "id": "8674f90e",
   "metadata": {},
   "source": [
    "Comments in Python are simple sentence(not code) which are used to understand the code.m"
   ]
  },
  {
   "cell_type": "markdown",
   "id": "5e60f953",
   "metadata": {},
   "source": [
    "- Single Line Comment\n",
    "- Multiple line Comment"
   ]
  },
  {
   "cell_type": "code",
   "execution_count": 4,
   "id": "07d28f27",
   "metadata": {},
   "outputs": [],
   "source": [
    "#This is single line comment"
   ]
  },
  {
   "cell_type": "code",
   "execution_count": 5,
   "id": "edb20df6",
   "metadata": {},
   "outputs": [
    {
     "ename": "SyntaxError",
     "evalue": "invalid syntax (Temp/ipykernel_16340/479160450.py, line 2)",
     "output_type": "error",
     "traceback": [
      "\u001b[1;36m  File \u001b[1;32m\"C:\\Users\\HP-PC\\AppData\\Local\\Temp/ipykernel_16340/479160450.py\"\u001b[1;36m, line \u001b[1;32m2\u001b[0m\n\u001b[1;33m    single line\u001b[0m\n\u001b[1;37m           ^\u001b[0m\n\u001b[1;31mSyntaxError\u001b[0m\u001b[1;31m:\u001b[0m invalid syntax\n"
     ]
    }
   ],
   "source": [
    "#we can't use \n",
    "single line \n",
    "comment in multiple\n",
    "line"
   ]
  },
  {
   "cell_type": "code",
   "execution_count": 6,
   "id": "be86fcfa",
   "metadata": {},
   "outputs": [
    {
     "data": {
      "text/plain": [
       "'This \\nis \\nmultiple\\nline \\ncomment'"
      ]
     },
     "execution_count": 6,
     "metadata": {},
     "output_type": "execute_result"
    }
   ],
   "source": [
    "\"\"\"This \n",
    "is \n",
    "multiple\n",
    "line \n",
    "comment\"\"\""
   ]
  },
  {
   "cell_type": "markdown",
   "id": "1d3dd653",
   "metadata": {},
   "source": [
    "#  Input / Output"
   ]
  },
  {
   "cell_type": "code",
   "execution_count": 17,
   "id": "5613ef33",
   "metadata": {},
   "outputs": [
    {
     "name": "stdout",
     "output_type": "stream",
     "text": [
      "'Hello My name is Ravi Ramawat'\n"
     ]
    }
   ],
   "source": [
    "print(repr(\"Hello My name is Ravi Ramawat\")) #Standard Output"
   ]
  },
  {
   "cell_type": "code",
   "execution_count": 10,
   "id": "38de1b67",
   "metadata": {},
   "outputs": [
    {
     "data": {
      "text/plain": [
       "'Hello hi bye bye'"
      ]
     },
     "execution_count": 10,
     "metadata": {},
     "output_type": "execute_result"
    }
   ],
   "source": [
    "\"Hello hi bye bye\" #Terminal Output"
   ]
  },
  {
   "cell_type": "code",
   "execution_count": 13,
   "id": "7052918a",
   "metadata": {},
   "outputs": [],
   "source": [
    "a = 5\n",
    "b = 6\n",
    "c = 7"
   ]
  },
  {
   "cell_type": "code",
   "execution_count": 15,
   "id": "2d890a8b",
   "metadata": {},
   "outputs": [
    {
     "name": "stdout",
     "output_type": "stream",
     "text": [
      "5\n",
      "6\n",
      "7\n"
     ]
    }
   ],
   "source": [
    "print(a)\n",
    "print(b)\n",
    "print(c)"
   ]
  },
  {
   "cell_type": "code",
   "execution_count": 16,
   "id": "daaca4ab",
   "metadata": {},
   "outputs": [],
   "source": [
    "#input"
   ]
  },
  {
   "cell_type": "code",
   "execution_count": 20,
   "id": "22e72a81",
   "metadata": {},
   "outputs": [
    {
     "name": "stdout",
     "output_type": "stream",
     "text": [
      "Enter your name --> Ravi\n"
     ]
    }
   ],
   "source": [
    "n = input(\"Enter your name --> \")"
   ]
  },
  {
   "cell_type": "code",
   "execution_count": 21,
   "id": "1e133206",
   "metadata": {},
   "outputs": [
    {
     "name": "stdout",
     "output_type": "stream",
     "text": [
      "Ravi\n"
     ]
    }
   ],
   "source": [
    "print(n)"
   ]
  },
  {
   "cell_type": "markdown",
   "id": "30facb2b",
   "metadata": {},
   "source": [
    "# Identifiers"
   ]
  },
  {
   "cell_type": "code",
   "execution_count": 23,
   "id": "b2a9757e",
   "metadata": {},
   "outputs": [],
   "source": [
    "#variable -> It is a name given to a memory location which can contain some value of specific type."
   ]
  },
  {
   "cell_type": "code",
   "execution_count": 24,
   "id": "e74bed4e",
   "metadata": {},
   "outputs": [],
   "source": [
    "#Keyword -> Reserved words which has some specific meaning are Keywords"
   ]
  },
  {
   "cell_type": "code",
   "execution_count": 29,
   "id": "36bbd14f",
   "metadata": {},
   "outputs": [
    {
     "name": "stdout",
     "output_type": "stream",
     "text": [
      "\n",
      "Here is a list of the Python keywords.  Enter any keyword to get more help.\n",
      "\n",
      "False               break               for                 not\n",
      "None                class               from                or\n",
      "True                continue            global              pass\n",
      "__peg_parser__      def                 if                  raise\n",
      "and                 del                 import              return\n",
      "as                  elif                in                  try\n",
      "assert              else                is                  while\n",
      "async               except              lambda              with\n",
      "await               finally             nonlocal            yield\n",
      "\n"
     ]
    }
   ],
   "source": [
    "help('keywords')"
   ]
  },
  {
   "cell_type": "code",
   "execution_count": 30,
   "id": "0ea3f0bb",
   "metadata": {},
   "outputs": [
    {
     "name": "stdout",
     "output_type": "stream",
     "text": [
      "5\n"
     ]
    }
   ],
   "source": [
    "_ = 5\n",
    "print(_)"
   ]
  },
  {
   "cell_type": "code",
   "execution_count": 31,
   "id": "da16e9e5",
   "metadata": {},
   "outputs": [],
   "source": [
    "_123Hello = 44"
   ]
  },
  {
   "cell_type": "code",
   "execution_count": 33,
   "id": "91609a7a",
   "metadata": {},
   "outputs": [
    {
     "name": "stdout",
     "output_type": "stream",
     "text": [
      "44\n"
     ]
    }
   ],
   "source": [
    "print(_123Hello) #rule1"
   ]
  },
  {
   "cell_type": "code",
   "execution_count": 35,
   "id": "aabe94d0",
   "metadata": {},
   "outputs": [
    {
     "ename": "SyntaxError",
     "evalue": "invalid syntax (Temp/ipykernel_16340/1039801753.py, line 1)",
     "output_type": "error",
     "traceback": [
      "\u001b[1;36m  File \u001b[1;32m\"C:\\Users\\HP-PC\\AppData\\Local\\Temp/ipykernel_16340/1039801753.py\"\u001b[1;36m, line \u001b[1;32m1\u001b[0m\n\u001b[1;33m    4hi = 33 #rule2\u001b[0m\n\u001b[1;37m     ^\u001b[0m\n\u001b[1;31mSyntaxError\u001b[0m\u001b[1;31m:\u001b[0m invalid syntax\n"
     ]
    }
   ],
   "source": [
    "4hi = 33 #rule2"
   ]
  },
  {
   "cell_type": "code",
   "execution_count": 38,
   "id": "521680e0",
   "metadata": {},
   "outputs": [
    {
     "ename": "SyntaxError",
     "evalue": "invalid syntax (Temp/ipykernel_16340/1157939927.py, line 1)",
     "output_type": "error",
     "traceback": [
      "\u001b[1;36m  File \u001b[1;32m\"C:\\Users\\HP-PC\\AppData\\Local\\Temp/ipykernel_16340/1157939927.py\"\u001b[1;36m, line \u001b[1;32m1\u001b[0m\n\u001b[1;33m    hello world = 5 #rule 3\u001b[0m\n\u001b[1;37m          ^\u001b[0m\n\u001b[1;31mSyntaxError\u001b[0m\u001b[1;31m:\u001b[0m invalid syntax\n"
     ]
    }
   ],
   "source": [
    "hello world = 5 #rule 3"
   ]
  },
  {
   "cell_type": "code",
   "execution_count": 39,
   "id": "066450fb",
   "metadata": {},
   "outputs": [
    {
     "name": "stdout",
     "output_type": "stream",
     "text": [
      "5\n"
     ]
    }
   ],
   "source": [
    "hello_world = 5\n",
    "print(hello_world)"
   ]
  },
  {
   "cell_type": "code",
   "execution_count": 41,
   "id": "25eef87a",
   "metadata": {},
   "outputs": [
    {
     "ename": "SyntaxError",
     "evalue": "cannot assign to operator (Temp/ipykernel_16340/2560243427.py, line 1)",
     "output_type": "error",
     "traceback": [
      "\u001b[1;36m  File \u001b[1;32m\"C:\\Users\\HP-PC\\AppData\\Local\\Temp/ipykernel_16340/2560243427.py\"\u001b[1;36m, line \u001b[1;32m1\u001b[0m\n\u001b[1;33m    d&3 = 22 #rule 4\u001b[0m\n\u001b[1;37m    ^\u001b[0m\n\u001b[1;31mSyntaxError\u001b[0m\u001b[1;31m:\u001b[0m cannot assign to operator\n"
     ]
    }
   ],
   "source": [
    "d&3 = 22 #rule 4"
   ]
  },
  {
   "cell_type": "code",
   "execution_count": 43,
   "id": "6846b021",
   "metadata": {},
   "outputs": [
    {
     "ename": "SyntaxError",
     "evalue": "invalid syntax (Temp/ipykernel_16340/3268131038.py, line 1)",
     "output_type": "error",
     "traceback": [
      "\u001b[1;36m  File \u001b[1;32m\"C:\\Users\\HP-PC\\AppData\\Local\\Temp/ipykernel_16340/3268131038.py\"\u001b[1;36m, line \u001b[1;32m1\u001b[0m\n\u001b[1;33m    for = 55 #rule 5\u001b[0m\n\u001b[1;37m        ^\u001b[0m\n\u001b[1;31mSyntaxError\u001b[0m\u001b[1;31m:\u001b[0m invalid syntax\n"
     ]
    }
   ],
   "source": [
    "for = 55 #rule 5"
   ]
  },
  {
   "cell_type": "code",
   "execution_count": 44,
   "id": "d43dae50",
   "metadata": {},
   "outputs": [
    {
     "name": "stdout",
     "output_type": "stream",
     "text": [
      "<class 'int'>\n"
     ]
    }
   ],
   "source": [
    "a = 77\n",
    "print(type(a))"
   ]
  },
  {
   "cell_type": "markdown",
   "id": "da7b01dc",
   "metadata": {},
   "source": [
    "# Data Type"
   ]
  },
  {
   "cell_type": "markdown",
   "id": "75695559",
   "metadata": {},
   "source": [
    "- Numbers\n",
    "    - Integer\n",
    "    - Float\n",
    "    - Complex\n",
    "- Sequence\n",
    "    - Strings\n",
    "    - List\n",
    "    - Tuple\n",
    "- Dictionary\n",
    "- Set\n",
    "- Boolean"
   ]
  },
  {
   "cell_type": "markdown",
   "id": "dc186dee",
   "metadata": {},
   "source": [
    "# Numbers"
   ]
  },
  {
   "cell_type": "code",
   "execution_count": 45,
   "id": "60111b14",
   "metadata": {},
   "outputs": [],
   "source": [
    "#Integers"
   ]
  },
  {
   "cell_type": "code",
   "execution_count": 47,
   "id": "87ef42d8",
   "metadata": {},
   "outputs": [
    {
     "name": "stdout",
     "output_type": "stream",
     "text": [
      "12432434 0 -124235432532532532\n",
      "<class 'int'> <class 'int'> <class 'int'>\n"
     ]
    }
   ],
   "source": [
    "a =12432434\n",
    "b = 0\n",
    "c = -124235432532532532\n",
    "print(a,b,c)\n",
    "print(type(a),type(b),type(c))"
   ]
  },
  {
   "cell_type": "code",
   "execution_count": 48,
   "id": "912220fc",
   "metadata": {},
   "outputs": [
    {
     "name": "stdout",
     "output_type": "stream",
     "text": [
      "12432434.235235 0.3523 -1242.3543253253254\n",
      "<class 'float'> <class 'float'> <class 'float'>\n"
     ]
    }
   ],
   "source": [
    "a =12432434.235235\n",
    "b = 0.3523\n",
    "c = -1242.35432532532532\n",
    "print(a,b,c)\n",
    "print(type(a),type(b),type(c))"
   ]
  },
  {
   "cell_type": "code",
   "execution_count": 49,
   "id": "4ec8fa8c",
   "metadata": {},
   "outputs": [],
   "source": [
    "#complex numbers"
   ]
  },
  {
   "cell_type": "code",
   "execution_count": 50,
   "id": "f830471e",
   "metadata": {},
   "outputs": [
    {
     "name": "stdout",
     "output_type": "stream",
     "text": [
      "(3-2j) <class 'complex'>\n",
      "(4+2j) <class 'complex'>\n"
     ]
    }
   ],
   "source": [
    "a = 3-2j\n",
    "b = 4+2J\n",
    "print(a,type(a))\n",
    "print(b,type(b))"
   ]
  },
  {
   "cell_type": "markdown",
   "id": "6a338c39",
   "metadata": {},
   "source": [
    "# Sequence "
   ]
  },
  {
   "cell_type": "markdown",
   "id": "0860d54e",
   "metadata": {},
   "source": [
    "### Strings "
   ]
  },
  {
   "cell_type": "code",
   "execution_count": 52,
   "id": "36236eb1",
   "metadata": {},
   "outputs": [
    {
     "name": "stdout",
     "output_type": "stream",
     "text": [
      " <class 'str'>\n"
     ]
    }
   ],
   "source": [
    "s = '' #empty string\n",
    "print(s,type(s))"
   ]
  },
  {
   "cell_type": "code",
   "execution_count": 53,
   "id": "6128fd04",
   "metadata": {},
   "outputs": [],
   "source": [
    "s1 = \"Ravi\" #single line\n",
    "s2 = 'Ramawat' #single line\n",
    "s3 = \"\"\"Ravi\"\"\" #multi line\n",
    "s4 = '''Ramawat''' #multi line"
   ]
  },
  {
   "cell_type": "code",
   "execution_count": 55,
   "id": "0908194e",
   "metadata": {},
   "outputs": [
    {
     "name": "stdout",
     "output_type": "stream",
     "text": [
      "Ravi <class 'str'>\n",
      "Ramawat <class 'str'>\n",
      "Ravi <class 'str'>\n",
      "Ramawat <class 'str'>\n"
     ]
    }
   ],
   "source": [
    "print(s1,type(s1))\n",
    "print(s2,type(s2))\n",
    "print(s3,type(s3))\n",
    "print(s4,type(s4))"
   ]
  },
  {
   "cell_type": "code",
   "execution_count": 56,
   "id": "c07ae1d0",
   "metadata": {},
   "outputs": [],
   "source": [
    "s = 'this is single line string'"
   ]
  },
  {
   "cell_type": "code",
   "execution_count": 57,
   "id": "e4bf0e37",
   "metadata": {},
   "outputs": [
    {
     "ename": "SyntaxError",
     "evalue": "EOL while scanning string literal (Temp/ipykernel_16340/4091516921.py, line 1)",
     "output_type": "error",
     "traceback": [
      "\u001b[1;36m  File \u001b[1;32m\"C:\\Users\\HP-PC\\AppData\\Local\\Temp/ipykernel_16340/4091516921.py\"\u001b[1;36m, line \u001b[1;32m1\u001b[0m\n\u001b[1;33m    s1 = 'we cannot\u001b[0m\n\u001b[1;37m                    ^\u001b[0m\n\u001b[1;31mSyntaxError\u001b[0m\u001b[1;31m:\u001b[0m EOL while scanning string literal\n"
     ]
    }
   ],
   "source": [
    "s1 = 'we cannot \n",
    "write this string in \n",
    "multiple line'"
   ]
  },
  {
   "cell_type": "code",
   "execution_count": 58,
   "id": "2ca773d2",
   "metadata": {},
   "outputs": [
    {
     "ename": "SyntaxError",
     "evalue": "EOL while scanning string literal (Temp/ipykernel_16340/3431045861.py, line 1)",
     "output_type": "error",
     "traceback": [
      "\u001b[1;36m  File \u001b[1;32m\"C:\\Users\\HP-PC\\AppData\\Local\\Temp/ipykernel_16340/3431045861.py\"\u001b[1;36m, line \u001b[1;32m1\u001b[0m\n\u001b[1;33m    s1 = \"we cannot\u001b[0m\n\u001b[1;37m                    ^\u001b[0m\n\u001b[1;31mSyntaxError\u001b[0m\u001b[1;31m:\u001b[0m EOL while scanning string literal\n"
     ]
    }
   ],
   "source": [
    "s1 = \"we cannot \n",
    "write this string in \n",
    "multiple line\""
   ]
  },
  {
   "cell_type": "code",
   "execution_count": 59,
   "id": "ff4c6c15",
   "metadata": {},
   "outputs": [],
   "source": [
    "letter = \"\"\"To Principal,\n",
    "Vidya Bharti Public School,\n",
    "Sikar,\n",
    "Rajasthan\n",
    "Pin - 332004,\n",
    "    Dear Sir/Madam,\n",
    "    -------------------------------------------------------\n",
    "    -------------------------------------------------------\n",
    "    -------------------------------------------------------\n",
    "    -------------------------------------------------------\n",
    "    Your Faithfully,\n",
    "    Naman Ajmera\"\"\""
   ]
  },
  {
   "cell_type": "code",
   "execution_count": 60,
   "id": "aa77f0a6",
   "metadata": {},
   "outputs": [
    {
     "name": "stdout",
     "output_type": "stream",
     "text": [
      "To Principal,\n",
      "Vidya Bharti Public School,\n",
      "Sikar,\n",
      "Rajasthan\n",
      "Pin - 332004,\n",
      "    Dear Sir/Madam,\n",
      "    -------------------------------------------------------\n",
      "    -------------------------------------------------------\n",
      "    -------------------------------------------------------\n",
      "    -------------------------------------------------------\n",
      "    Your Faithfully,\n",
      "    Naman Ajmera\n"
     ]
    }
   ],
   "source": [
    "print(letter)"
   ]
  },
  {
   "cell_type": "markdown",
   "id": "bfd0a509",
   "metadata": {},
   "source": [
    "Properties of String\n",
    "\n",
    "- Sequential\n",
    "- Ordered\n",
    "- Immutable"
   ]
  },
  {
   "cell_type": "code",
   "execution_count": 62,
   "id": "7075f7b4",
   "metadata": {},
   "outputs": [],
   "source": [
    "s = \"Hello World\""
   ]
  },
  {
   "cell_type": "code",
   "execution_count": 63,
   "id": "7e56875f",
   "metadata": {},
   "outputs": [
    {
     "data": {
      "text/plain": [
       "'H'"
      ]
     },
     "execution_count": 63,
     "metadata": {},
     "output_type": "execute_result"
    }
   ],
   "source": [
    "s[0]"
   ]
  },
  {
   "cell_type": "code",
   "execution_count": 64,
   "id": "9a8a90ff",
   "metadata": {},
   "outputs": [
    {
     "data": {
      "text/plain": [
       "' '"
      ]
     },
     "execution_count": 64,
     "metadata": {},
     "output_type": "execute_result"
    }
   ],
   "source": [
    "s[5]"
   ]
  },
  {
   "cell_type": "code",
   "execution_count": 65,
   "id": "0179d754",
   "metadata": {},
   "outputs": [
    {
     "data": {
      "text/plain": [
       "'l'"
      ]
     },
     "execution_count": 65,
     "metadata": {},
     "output_type": "execute_result"
    }
   ],
   "source": [
    "s[9]"
   ]
  },
  {
   "cell_type": "code",
   "execution_count": 66,
   "id": "02f6fe33",
   "metadata": {},
   "outputs": [
    {
     "data": {
      "text/plain": [
       "'d'"
      ]
     },
     "execution_count": 66,
     "metadata": {},
     "output_type": "execute_result"
    }
   ],
   "source": [
    "s[10]"
   ]
  },
  {
   "cell_type": "code",
   "execution_count": 67,
   "id": "0a25c26a",
   "metadata": {},
   "outputs": [
    {
     "ename": "IndexError",
     "evalue": "string index out of range",
     "output_type": "error",
     "traceback": [
      "\u001b[1;31m---------------------------------------------------------------------------\u001b[0m",
      "\u001b[1;31mIndexError\u001b[0m                                Traceback (most recent call last)",
      "\u001b[1;32m~\\AppData\\Local\\Temp/ipykernel_16340/1734129449.py\u001b[0m in \u001b[0;36m<module>\u001b[1;34m\u001b[0m\n\u001b[1;32m----> 1\u001b[1;33m \u001b[0ms\u001b[0m\u001b[1;33m[\u001b[0m\u001b[1;36m11\u001b[0m\u001b[1;33m]\u001b[0m\u001b[1;33m\u001b[0m\u001b[1;33m\u001b[0m\u001b[0m\n\u001b[0m",
      "\u001b[1;31mIndexError\u001b[0m: string index out of range"
     ]
    }
   ],
   "source": [
    "s[11]"
   ]
  },
  {
   "cell_type": "code",
   "execution_count": 68,
   "id": "4325e576",
   "metadata": {},
   "outputs": [
    {
     "data": {
      "text/plain": [
       "'d'"
      ]
     },
     "execution_count": 68,
     "metadata": {},
     "output_type": "execute_result"
    }
   ],
   "source": [
    "s[-1]"
   ]
  },
  {
   "cell_type": "code",
   "execution_count": 69,
   "id": "44e3983f",
   "metadata": {},
   "outputs": [
    {
     "data": {
      "text/plain": [
       "' '"
      ]
     },
     "execution_count": 69,
     "metadata": {},
     "output_type": "execute_result"
    }
   ],
   "source": [
    "s[-6]"
   ]
  },
  {
   "cell_type": "code",
   "execution_count": null,
   "id": "5c8c6f91",
   "metadata": {},
   "outputs": [],
   "source": []
  }
 ],
 "metadata": {
  "kernelspec": {
   "display_name": "Python 3 (ipykernel)",
   "language": "python",
   "name": "python3"
  },
  "language_info": {
   "codemirror_mode": {
    "name": "ipython",
    "version": 3
   },
   "file_extension": ".py",
   "mimetype": "text/x-python",
   "name": "python",
   "nbconvert_exporter": "python",
   "pygments_lexer": "ipython3",
   "version": "3.9.7"
  }
 },
 "nbformat": 4,
 "nbformat_minor": 5
}
