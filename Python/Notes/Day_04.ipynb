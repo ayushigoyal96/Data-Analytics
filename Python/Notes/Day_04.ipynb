{
 "cells": [
  {
   "cell_type": "markdown",
   "id": "12ca28b4",
   "metadata": {},
   "source": [
    "# List "
   ]
  },
  {
   "cell_type": "markdown",
   "id": "218be718",
   "metadata": {},
   "source": [
    "On the basis of type\n",
    "- Homogenous List\n",
    "- Heterogenous List"
   ]
  },
  {
   "cell_type": "code",
   "execution_count": 1,
   "id": "2cbd75dc",
   "metadata": {},
   "outputs": [],
   "source": [
    "l = [1,23,14,3,4,32,5,32,4,32,4,32,4,325,4432,5,32] #homogenous\n",
    "l1 = [21,432,4,32,434.34,34.34,34.343,\"Kartik Aryan\",\"Naman Tendulkar\"] # Heterogenous List"
   ]
  },
  {
   "cell_type": "code",
   "execution_count": 2,
   "id": "9a286fa4",
   "metadata": {},
   "outputs": [
    {
     "name": "stdout",
     "output_type": "stream",
     "text": [
      "[1, 23, 14, 3, 4, 32, 5, 32, 4, 32, 4, 32, 4, 325, 4432, 5, 32]\n",
      "[21, 432, 4, 32, 434.34, 34.34, 34.343, 'Kartik Aryan', 'Naman Tendulkar']\n"
     ]
    }
   ],
   "source": [
    "print(l)\n",
    "print(l1)"
   ]
  },
  {
   "cell_type": "markdown",
   "id": "6b5aef6a",
   "metadata": {},
   "source": [
    "On the basis of dimension\n",
    "- 1D\n",
    "- 2D\n",
    "- 3D"
   ]
  },
  {
   "cell_type": "code",
   "execution_count": 4,
   "id": "7f5f2622",
   "metadata": {},
   "outputs": [],
   "source": [
    "l1  = [1,2,3]\n",
    "l2 = [\n",
    "    [1,2,3],\n",
    "    [4,5,6],\n",
    "    [7,8,9],\n",
    "]\n",
    "l3 = [\n",
    "    [\n",
    "    [1,2,3],\n",
    "    [4,5,6],\n",
    "    [6,7,8],\n",
    "],\n",
    "    [\n",
    "    [1,2,3],\n",
    "    [4,5,6],\n",
    "    [6,7,8],\n",
    "    ]\n",
    "]"
   ]
  },
  {
   "cell_type": "code",
   "execution_count": 5,
   "id": "1098f20f",
   "metadata": {},
   "outputs": [
    {
     "name": "stdout",
     "output_type": "stream",
     "text": [
      "[1, 2, 3]\n",
      "[[1, 2, 3], [4, 5, 6], [7, 8, 9]]\n",
      "[[[1, 2, 3], [4, 5, 6], [6, 7, 8]], [[1, 2, 3], [4, 5, 6], [6, 7, 8]]]\n"
     ]
    }
   ],
   "source": [
    "print(l1)\n",
    "print(l2)\n",
    "print(l3)"
   ]
  },
  {
   "cell_type": "markdown",
   "id": "88ecae30",
   "metadata": {},
   "source": [
    "Properties of List\n",
    "- Sequential\n",
    "- Ordered\n",
    "- Mutable"
   ]
  },
  {
   "cell_type": "code",
   "execution_count": 6,
   "id": "739343f5",
   "metadata": {},
   "outputs": [],
   "source": [
    "l = [1,2,3]"
   ]
  },
  {
   "cell_type": "code",
   "execution_count": 7,
   "id": "c3fb6b72",
   "metadata": {},
   "outputs": [],
   "source": [
    "l[1] = \"Ravi\""
   ]
  },
  {
   "cell_type": "code",
   "execution_count": 8,
   "id": "89c869eb",
   "metadata": {},
   "outputs": [
    {
     "data": {
      "text/plain": [
       "[1, 'Ravi', 3]"
      ]
     },
     "execution_count": 8,
     "metadata": {},
     "output_type": "execute_result"
    }
   ],
   "source": [
    "l"
   ]
  },
  {
   "cell_type": "code",
   "execution_count": 9,
   "id": "2d114bc2",
   "metadata": {},
   "outputs": [
    {
     "name": "stdout",
     "output_type": "stream",
     "text": [
      "[1, 'Ravi', 3]\n"
     ]
    }
   ],
   "source": [
    "print(l)"
   ]
  },
  {
   "cell_type": "code",
   "execution_count": 11,
   "id": "918b1459",
   "metadata": {},
   "outputs": [],
   "source": [
    "l = [1,2,2,3,4,32,4,32,4]"
   ]
  },
  {
   "cell_type": "code",
   "execution_count": 12,
   "id": "51c62a35",
   "metadata": {},
   "outputs": [
    {
     "name": "stdout",
     "output_type": "stream",
     "text": [
      "[4, 32, 4, 32, 4, 3, 2, 2, 1]\n"
     ]
    }
   ],
   "source": [
    "print(l[::-1])"
   ]
  },
  {
   "cell_type": "code",
   "execution_count": 13,
   "id": "d5b84b25",
   "metadata": {},
   "outputs": [
    {
     "data": {
      "text/plain": [
       "[1, 2, 2, 3, 4, 32, 4, 32, 4]"
      ]
     },
     "execution_count": 13,
     "metadata": {},
     "output_type": "execute_result"
    }
   ],
   "source": [
    "l"
   ]
  },
  {
   "cell_type": "code",
   "execution_count": 14,
   "id": "aa54c824",
   "metadata": {},
   "outputs": [
    {
     "name": "stdout",
     "output_type": "stream",
     "text": [
      "[2, 1]\n"
     ]
    }
   ],
   "source": [
    "print(l[2::-2])"
   ]
  },
  {
   "cell_type": "code",
   "execution_count": 15,
   "id": "8f97b55a",
   "metadata": {},
   "outputs": [
    {
     "data": {
      "text/plain": [
       "[4]"
      ]
     },
     "execution_count": 15,
     "metadata": {},
     "output_type": "execute_result"
    }
   ],
   "source": [
    "l[:-3:-3]"
   ]
  },
  {
   "cell_type": "code",
   "execution_count": 16,
   "id": "a4e4d31b",
   "metadata": {},
   "outputs": [
    {
     "data": {
      "text/plain": [
       "[4, 32, 4, 32, 4, 3, 2, 2, 1]"
      ]
     },
     "execution_count": 16,
     "metadata": {},
     "output_type": "execute_result"
    }
   ],
   "source": [
    "l[-1::-1]"
   ]
  },
  {
   "cell_type": "code",
   "execution_count": 17,
   "id": "df5708db",
   "metadata": {},
   "outputs": [
    {
     "data": {
      "text/plain": [
       "[4, 4]"
      ]
     },
     "execution_count": 17,
     "metadata": {},
     "output_type": "execute_result"
    }
   ],
   "source": [
    "l[-3:2:-2]"
   ]
  },
  {
   "cell_type": "code",
   "execution_count": 19,
   "id": "8aabac05",
   "metadata": {},
   "outputs": [
    {
     "data": {
      "text/plain": [
       "[2, 4, 4]"
      ]
     },
     "execution_count": 19,
     "metadata": {},
     "output_type": "execute_result"
    }
   ],
   "source": [
    "l[2:-2:2]"
   ]
  },
  {
   "cell_type": "code",
   "execution_count": 20,
   "id": "d6c6d87a",
   "metadata": {},
   "outputs": [
    {
     "data": {
      "text/plain": [
       "[4, 4]"
      ]
     },
     "execution_count": 20,
     "metadata": {},
     "output_type": "execute_result"
    }
   ],
   "source": [
    "l[-3::2]"
   ]
  },
  {
   "cell_type": "code",
   "execution_count": 21,
   "id": "a001c502",
   "metadata": {},
   "outputs": [
    {
     "data": {
      "text/plain": [
       "[1, 2, 2, 3, 4]"
      ]
     },
     "execution_count": 21,
     "metadata": {},
     "output_type": "execute_result"
    }
   ],
   "source": [
    "l[:-4:]"
   ]
  },
  {
   "cell_type": "code",
   "execution_count": 22,
   "id": "bf85c676",
   "metadata": {},
   "outputs": [
    {
     "data": {
      "text/plain": [
       "[4]"
      ]
     },
     "execution_count": 22,
     "metadata": {},
     "output_type": "execute_result"
    }
   ],
   "source": [
    "l[8:-2:-3]"
   ]
  },
  {
   "cell_type": "code",
   "execution_count": null,
   "id": "bc85b260",
   "metadata": {},
   "outputs": [],
   "source": []
  }
 ],
 "metadata": {
  "kernelspec": {
   "display_name": "Python 3 (ipykernel)",
   "language": "python",
   "name": "python3"
  },
  "language_info": {
   "codemirror_mode": {
    "name": "ipython",
    "version": 3
   },
   "file_extension": ".py",
   "mimetype": "text/x-python",
   "name": "python",
   "nbconvert_exporter": "python",
   "pygments_lexer": "ipython3",
   "version": "3.9.7"
  }
 },
 "nbformat": 4,
 "nbformat_minor": 5
}
