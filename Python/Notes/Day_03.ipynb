{
 "cells": [
  {
   "cell_type": "code",
   "execution_count": 7,
   "id": "e34bb9bc",
   "metadata": {},
   "outputs": [
    {
     "name": "stdout",
     "output_type": "stream",
     "text": [
      "Enter your name --> Ravi\n",
      "Enter your Roll No --> 01\n",
      "Enter your Class --> II\n",
      "***************************************************************************************************\n",
      "---------------------------------------------------------------------------------------------------\n",
      "                                             Marksheet                                             \n",
      "---------------------------------------------------------------------------------------------------\n",
      "***************************************************************************************************\n",
      "English --> 90\n",
      "Maths --> 98\n",
      "Science --> 100\n",
      "Hindi --> 87\n",
      "Social Studies --> 90\n",
      "Computer Science --> 99\n"
     ]
    }
   ],
   "source": [
    "name = input(\"Enter your name --> \")\n",
    "roll = input(\"Enter your Roll No --> \")\n",
    "cls = input(\"Enter your Class --> \")\n",
    "eng = 90\n",
    "maths = 98\n",
    "hindi = 87\n",
    "sst = 90\n",
    "cs = 99\n",
    "sc = 100\n",
    "per = (eng+maths+hindi+sst+sc+cs)/600*100\n",
    "print(\"*\"*99)\n",
    "print(\"-\"*99)\n",
    "print(\"Marksheet\".center(99))\n",
    "print(\"-\"*99)\n",
    "print(\"*\"*99)\n",
    "print(\"English -->\",eng)\n",
    "print(\"Maths -->\",maths)\n",
    "print(\"Science -->\",sc)\n",
    "print(\"Hindi -->\",hindi)\n",
    "print(\"Social Studies -->\",sst)\n",
    "print(\"Computer Science -->\",cs)"
   ]
  },
  {
   "cell_type": "code",
   "execution_count": 8,
   "id": "de5a9919",
   "metadata": {},
   "outputs": [
    {
     "name": "stdout",
     "output_type": "stream",
     "text": [
      "Enter your name --> Ravi\n",
      "Enter your Roll No --> 01\n",
      "Enter your Class --> III\n",
      "$---Marksheet---$\n",
      "\n",
      "Name --> Ravi\n",
      "Roll No --> 01\n",
      "Class --> III\n",
      "\n",
      "\n",
      "English --> 90\n",
      "Maths --> 98\n",
      "Hindi --> 87\n",
      "Social Studies --> 90\n",
      "Computer Science --> 99\n",
      "Science --> 100\n"
     ]
    }
   ],
   "source": [
    "name = input(\"Enter your name --> \")\n",
    "roll = input(\"Enter your Roll No --> \")\n",
    "cls = input(\"Enter your Class --> \")\n",
    "eng = 90\n",
    "maths = 98\n",
    "hindi = 87\n",
    "sst = 90\n",
    "cs = 99\n",
    "sc = 100\n",
    "per = (eng+maths+hindi+sst+sc+cs)/600*100\n",
    "\n",
    "print(\"\"\"$---Marksheet---$\n",
    "\n",
    "Name --> {}\n",
    "Roll No --> {}\n",
    "Class --> {}\n",
    "\n",
    "\n",
    "English --> {}\n",
    "Maths --> {}\n",
    "Hindi --> {}\n",
    "Social Studies --> {}\n",
    "Computer Science --> {}\n",
    "Science --> {}\"\"\".format(name,roll,cls,eng,maths,hindi,sst,cs,sc))"
   ]
  },
  {
   "cell_type": "code",
   "execution_count": 9,
   "id": "231a5261",
   "metadata": {},
   "outputs": [
    {
     "name": "stdout",
     "output_type": "stream",
     "text": [
      "Enter your name --> Ravi\n",
      "Enter your Roll No --> 01\n",
      "Enter your Class --> IV\n",
      "$---Marksheet---$\n",
      "\n",
      "Name --> Ravi\n",
      "Roll No --> 01\n",
      "Class --> IV\n",
      "\n",
      "\n",
      "English --> 100\n",
      "Maths --> 99\n",
      "Hindi --> 90\n",
      "Social Studies --> 87\n",
      "Computer Science --> 98\n",
      "Science --> 90\n"
     ]
    }
   ],
   "source": [
    "name = input(\"Enter your name --> \")\n",
    "roll = input(\"Enter your Roll No --> \")\n",
    "cls = input(\"Enter your Class --> \")\n",
    "eng = 90\n",
    "maths = 98\n",
    "hindi = 87\n",
    "sst = 90\n",
    "cs = 99\n",
    "sc = 100\n",
    "per = (eng+maths+hindi+sst+sc+cs)/600*100\n",
    "\n",
    "print(\"\"\"$---Marksheet---$\n",
    "\n",
    "Name --> {0}\n",
    "Roll No --> {1}\n",
    "Class --> {2}\n",
    "\n",
    "\n",
    "English --> {8}\n",
    "Maths --> {7}\n",
    "Hindi --> {6}\n",
    "Social Studies --> {5}\n",
    "Computer Science --> {4}\n",
    "Science --> {3}\"\"\".format(name,roll,cls,eng,maths,hindi,sst,cs,sc))"
   ]
  },
  {
   "cell_type": "code",
   "execution_count": 11,
   "id": "57727ab1",
   "metadata": {},
   "outputs": [
    {
     "name": "stdout",
     "output_type": "stream",
     "text": [
      "Enter your name --> Ravi\n",
      "Enter your Roll No --> 01\n",
      "Enter your Class --> IX\n",
      "$---Marksheet---$\n",
      "\n",
      "Name --> Ravi\n",
      "Roll No --> 01\n",
      "Class --> IX\n",
      "\n",
      "\n",
      "English --> 90\n",
      "Maths --> 98\n",
      "Hindi --> 87\n",
      "Social Studies --> 90\n",
      "Computer Science --> 99\n",
      "Science --> 100\n"
     ]
    }
   ],
   "source": [
    "name = input(\"Enter your name --> \")\n",
    "roll = input(\"Enter your Roll No --> \")\n",
    "cls = input(\"Enter your Class --> \")\n",
    "eng = 90\n",
    "maths = 98\n",
    "hindi = 87\n",
    "sst = 90\n",
    "cs = 99\n",
    "sc = 100\n",
    "per = (eng+maths+hindi+sst+sc+cs)/600*100\n",
    "\n",
    "print(f\"\"\"$---Marksheet---$\n",
    "\n",
    "Name --> {name}\n",
    "Roll No --> {roll}\n",
    "Class --> {cls}\n",
    "\n",
    "\n",
    "English --> {eng}\n",
    "Maths --> {maths}\n",
    "Hindi --> {hindi}\n",
    "Social Studies --> {sst}\n",
    "Computer Science --> {cs}\n",
    "Science --> {sc}\"\"\")"
   ]
  },
  {
   "cell_type": "code",
   "execution_count": 27,
   "id": "2f9ee8b9",
   "metadata": {},
   "outputs": [
    {
     "name": "stdout",
     "output_type": "stream",
     "text": [
      "0              0              0              0              \n",
      "1              1              1              1              \n",
      "2              10             2              2              \n",
      "3              11             3              3              \n",
      "4              100            4              4              \n",
      "5              101            5              5              \n",
      "6              110            6              6              \n",
      "7              111            7              7              \n",
      "8              1000           10             8              \n",
      "9              1001           11             9              \n",
      "10             1010           12             A              \n",
      "11             1011           13             B              \n",
      "12             1100           14             C              \n",
      "13             1101           15             D              \n",
      "14             1110           16             E              \n",
      "15             1111           17             F              \n",
      "16             10000          20             10             \n",
      "17             10001          21             11             \n",
      "18             10010          22             12             \n",
      "19             10011          23             13             \n",
      "20             10100          24             14             \n",
      "21             10101          25             15             \n",
      "22             10110          26             16             \n",
      "23             10111          27             17             \n",
      "24             11000          30             18             \n",
      "25             11001          31             19             \n",
      "26             11010          32             1A             \n",
      "27             11011          33             1B             \n",
      "28             11100          34             1C             \n",
      "29             11101          35             1D             \n",
      "30             11110          36             1E             \n",
      "31             11111          37             1F             \n",
      "32             100000         40             20             \n",
      "33             100001         41             21             \n",
      "34             100010         42             22             \n",
      "35             100011         43             23             \n",
      "36             100100         44             24             \n",
      "37             100101         45             25             \n",
      "38             100110         46             26             \n",
      "39             100111         47             27             \n",
      "40             101000         50             28             \n",
      "41             101001         51             29             \n",
      "42             101010         52             2A             \n",
      "43             101011         53             2B             \n",
      "44             101100         54             2C             \n",
      "45             101101         55             2D             \n",
      "46             101110         56             2E             \n",
      "47             101111         57             2F             \n",
      "48             110000         60             30             \n",
      "49             110001         61             31             \n"
     ]
    }
   ],
   "source": [
    "for var in range(50):\n",
    "    print(f\"{var:<15}{var:<15b}{var:<15o}{var:<15X}\")"
   ]
  },
  {
   "cell_type": "code",
   "execution_count": null,
   "id": "ca09c141",
   "metadata": {},
   "outputs": [],
   "source": []
  }
 ],
 "metadata": {
  "kernelspec": {
   "display_name": "Python 3 (ipykernel)",
   "language": "python",
   "name": "python3"
  },
  "language_info": {
   "codemirror_mode": {
    "name": "ipython",
    "version": 3
   },
   "file_extension": ".py",
   "mimetype": "text/x-python",
   "name": "python",
   "nbconvert_exporter": "python",
   "pygments_lexer": "ipython3",
   "version": "3.9.7"
  }
 },
 "nbformat": 4,
 "nbformat_minor": 5
}
