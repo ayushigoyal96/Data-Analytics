{
 "cells": [
  {
   "cell_type": "code",
   "execution_count": 8,
   "id": "944a5a5f",
   "metadata": {},
   "outputs": [
    {
     "name": "stdout",
     "output_type": "stream",
     "text": [
      "Enter a year --> 1900\n",
      "1900 is Common Year\n"
     ]
    }
   ],
   "source": [
    "year = int(input(\"Enter a year --> \"))\n",
    "if year%100 == 0:\n",
    "    #print(\"True\")\n",
    "    if year%400 ==0:\n",
    "        print(f\"{year} is Leap Year\")\n",
    "    else:\n",
    "        print(f\"{year} is Common Year\")\n",
    "else:\n",
    "    if year%4==0:\n",
    "        print(f\"{year} is Leap Year\")\n",
    "    else:\n",
    "        print(f\"{year} is Common Year\")"
   ]
  },
  {
   "cell_type": "code",
   "execution_count": 13,
   "id": "1d8a5e62",
   "metadata": {},
   "outputs": [
    {
     "name": "stdout",
     "output_type": "stream",
     "text": [
      "Enter a year --> 2000\n",
      "2000 is Leap Year\n"
     ]
    }
   ],
   "source": [
    "year = int(input(\"Enter a year --> \"))\n",
    "if (year%100!=0 and year%4==0) or year%400==0:\n",
    "    print(f\"{year} is Leap Year\")\n",
    "else:\n",
    "    print(f\"{year} is Common Year\")"
   ]
  },
  {
   "cell_type": "code",
   "execution_count": null,
   "id": "869643e2",
   "metadata": {},
   "outputs": [],
   "source": [
    "\n",
    "\n"
   ]
  }
 ],
 "metadata": {
  "kernelspec": {
   "display_name": "Python 3 (ipykernel)",
   "language": "python",
   "name": "python3"
  },
  "language_info": {
   "codemirror_mode": {
    "name": "ipython",
    "version": 3
   },
   "file_extension": ".py",
   "mimetype": "text/x-python",
   "name": "python",
   "nbconvert_exporter": "python",
   "pygments_lexer": "ipython3",
   "version": "3.9.7"
  }
 },
 "nbformat": 4,
 "nbformat_minor": 5
}
